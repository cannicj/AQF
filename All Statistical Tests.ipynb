{
 "cells": [
  {
   "cell_type": "code",
   "execution_count": 940,
   "id": "f78d97cc",
   "metadata": {},
   "outputs": [],
   "source": [
    "import pandas as pd\n",
    "import numpy as np\n",
    "import matplotlib.pyplot as plt\n",
    "import os\n",
    "import datetime\n",
    "import math\n",
    "import statsmodels.api as sm\n",
    "from statsmodels import regression, stats\n",
    "import statsmodels\n",
    "import scipy\n",
    "\n",
    "from sklearn.preprocessing import StandardScaler\n",
    "from sklearn.decomposition import PCA\n",
    "from sklearn.preprocessing import MinMaxScaler\n",
    "\n",
    "from scipy.stats import chisquare"
   ]
  },
  {
   "cell_type": "code",
   "execution_count": 941,
   "id": "13adbd23",
   "metadata": {},
   "outputs": [],
   "source": [
    "DATA_PATH = '/Users/juliusraschke/Documents/Quantitative Finance/Summer Semester 2/Advanced Quant Finance/Data'"
   ]
  },
  {
   "cell_type": "markdown",
   "id": "e484695c",
   "metadata": {},
   "source": [
    "### Load in VIX Term Structure"
   ]
  },
  {
   "cell_type": "code",
   "execution_count": 942,
   "id": "5fa0e835",
   "metadata": {},
   "outputs": [],
   "source": [
    "VIX_TS = pd.read_csv(DATA_PATH + '/vixts.csv',skiprows=4)\n",
    "\n",
    "VIX_TS = VIX_TS.rename({'Date':'DATE','VIX_1^2':'1 month','VIX_2^2':'2 month','VIX_3^2':'3 month','VIX_6^2':'6 month',\n",
    "               'VIX_9^2':'9 month','VIX_12^2':'12 month'},axis=1)"
   ]
  },
  {
   "cell_type": "code",
   "execution_count": 943,
   "id": "e67c52f0",
   "metadata": {},
   "outputs": [],
   "source": [
    "def DATE_STR(num):\n",
    "    num_str = str(num)\n",
    "    date_str = num_str[-2:]+'/'+num_str[4:-2]+'/'+num_str[0:4]\n",
    "    \n",
    "    return date_str \n",
    "\n",
    "VIX_TS['DATE'] = VIX_TS['DATE'].apply(DATE_STR)\n",
    "VIX_TS['DATE'] = pd.to_datetime(VIX_TS['DATE'],format = '%d/%m/%Y')"
   ]
  },
  {
   "cell_type": "markdown",
   "id": "5a828286",
   "metadata": {},
   "source": [
    "### Load in VIX Future Returns"
   ]
  },
  {
   "cell_type": "code",
   "execution_count": 944,
   "id": "990de03f",
   "metadata": {},
   "outputs": [],
   "source": [
    "VIX_FUT = pd.read_csv(DATA_PATH + '/vixfut_ret.csv',skiprows=5)\n",
    "\n",
    "VIX_FUT = VIX_FUT.rename({'Date':'DATE','r_1^{VIX fut.}':'1 month','r_2^{VIX fut.}':'2 month','r_3^{VIX fut.}':'3 month',\n",
    "                         'r_4^{VIX fut.}':'4 month','r_5^{VIX fut.}':'5 month','r_6^{VIX fut.}':'6 month'},axis=1)"
   ]
  },
  {
   "cell_type": "code",
   "execution_count": 945,
   "id": "67030cab",
   "metadata": {},
   "outputs": [],
   "source": [
    "VIX_FUT['DATE'] = VIX_FUT['DATE'].apply(DATE_STR)\n",
    "VIX_FUT['DATE'] = pd.to_datetime(VIX_FUT['DATE'],format = '%d/%m/%Y')"
   ]
  },
  {
   "cell_type": "code",
   "execution_count": 946,
   "id": "7bf441df",
   "metadata": {},
   "outputs": [],
   "source": [
    "column_mapping = {\n",
    "    '1 month': 'V_F_R 1 month',\n",
    "    '2 month': 'V_F_R 2 month',\n",
    "    '3 month': 'V_F_R 3 month',\n",
    "    '4 month': 'V_F_R 6 month',\n",
    "    '5 month': 'V_F_R 9 month',\n",
    "    '6 month': 'V_F_R 12 month',\n",
    "}\n",
    "\n",
    "VIX_FUT.rename(columns=column_mapping, inplace=True)"
   ]
  },
  {
   "cell_type": "markdown",
   "id": "d40008bf",
   "metadata": {},
   "source": [
    "### Load in Variance Swap Returns"
   ]
  },
  {
   "cell_type": "code",
   "execution_count": 947,
   "id": "7c8b5142",
   "metadata": {},
   "outputs": [],
   "source": [
    "VAR_SWAPS = pd.read_csv(DATA_PATH + '/vswap_ret.csv',skiprows=5)\n",
    "\n",
    "VAR_SWAPS = VAR_SWAPS.rename({'Date':'DATE','r_1^{var. swap}':'1 month','r_2^{var. swap}':'2 month','r_3^{var. swap}':'3 month',\n",
    "                         'r_6^{var. swap}':'6 month','r_9^{var. swap}':'9 month','r_12^{var. swap}':'12 month'},axis=1)"
   ]
  },
  {
   "cell_type": "code",
   "execution_count": 948,
   "id": "b75579f6",
   "metadata": {},
   "outputs": [],
   "source": [
    "VAR_SWAPS['DATE'] = VAR_SWAPS['DATE'].apply(DATE_STR)\n",
    "VAR_SWAPS['DATE'] = pd.to_datetime(VAR_SWAPS['DATE'],format = '%d/%m/%Y')"
   ]
  },
  {
   "cell_type": "code",
   "execution_count": 949,
   "id": "695ae862",
   "metadata": {},
   "outputs": [],
   "source": [
    "column_mapping = {\n",
    "    '1 month': 'V_S_R 1 month',\n",
    "    '2 month': 'V_S_R 2 month',\n",
    "    '3 month': 'V_S_R 3 month',\n",
    "    '6 month': 'V_S_R 6 month',\n",
    "    '9 month': 'V_S_R 9 month',\n",
    "    '12 month': 'V_S_R 12 month',\n",
    "}\n",
    "\n",
    "VAR_SWAPS.rename(columns=column_mapping, inplace=True)"
   ]
  },
  {
   "cell_type": "markdown",
   "id": "f00392e3",
   "metadata": {},
   "source": [
    "### Load in Straddle Returns"
   ]
  },
  {
   "cell_type": "code",
   "execution_count": 950,
   "id": "983bb07e",
   "metadata": {},
   "outputs": [],
   "source": [
    "STRADDLE = pd.read_csv(DATA_PATH + '/straddle_ret.csv',skiprows=6)\n",
    "\n",
    "STRADDLE = STRADDLE.rename({'Date':'DATE',\n",
    "                            'r_1^{straddle}':'1 month Long','r_2^{straddle}':'2 month Long','r_3^{straddle}':'3 month Long',\n",
    "                            'r_6^{straddle}':'6 month Long','r_9^{straddle}':'9 month Long','r_12^{straddle}':'12 month Long',\n",
    "                            'r_1^{short straddle}':'1 month Short','r_2^{short straddle}':'2 month Short','r_3^{short straddle}':'3 month Short',\n",
    "                            'r_6^{short straddle}':'6 month Short','r_9^{short straddle}':'9 month Short','r_12^{short straddle}':'12 month Short',},axis=1)"
   ]
  },
  {
   "cell_type": "code",
   "execution_count": 951,
   "id": "c0ba05ee",
   "metadata": {},
   "outputs": [],
   "source": [
    "STRADDLE['DATE'] = STRADDLE['DATE'].apply(DATE_STR)\n",
    "STRADDLE['DATE'] = pd.to_datetime(STRADDLE['DATE'],format = '%d/%m/%Y')"
   ]
  },
  {
   "cell_type": "code",
   "execution_count": 952,
   "id": "6dee879e",
   "metadata": {},
   "outputs": [],
   "source": [
    "STRADDLE_LONG = STRADDLE[['DATE','1 month Long','2 month Long','3 month Long','6 month Long','9 month Long','12 month Long']]"
   ]
  },
  {
   "cell_type": "code",
   "execution_count": 953,
   "id": "0bdf788e",
   "metadata": {},
   "outputs": [
    {
     "name": "stderr",
     "output_type": "stream",
     "text": [
      "<ipython-input-953-1bc326bfab36>:10: SettingWithCopyWarning: \n",
      "A value is trying to be set on a copy of a slice from a DataFrame\n",
      "\n",
      "See the caveats in the documentation: https://pandas.pydata.org/pandas-docs/stable/user_guide/indexing.html#returning-a-view-versus-a-copy\n",
      "  STRADDLE_LONG.rename(columns=column_mapping, inplace=True)\n"
     ]
    }
   ],
   "source": [
    "column_mapping = {\n",
    "    '1 month Long': 'S_R 1 month',\n",
    "    '2 month Long': 'S_R 2 month',\n",
    "    '3 month Long': 'S_R 3 month',\n",
    "    '6 month Long': 'S_R 6 month',\n",
    "    '9 month Long': 'S_R 9 month',\n",
    "    '12 month Long': 'S_R 12 month',\n",
    "}\n",
    "\n",
    "STRADDLE_LONG.rename(columns=column_mapping, inplace=True)"
   ]
  },
  {
   "cell_type": "markdown",
   "id": "279bb483",
   "metadata": {},
   "source": [
    "### Load in Interest Rate Returns"
   ]
  },
  {
   "cell_type": "code",
   "execution_count": 954,
   "id": "711c118f",
   "metadata": {},
   "outputs": [],
   "source": [
    "df = pd.read_csv(DATA_PATH + '/IR.csv')"
   ]
  },
  {
   "cell_type": "code",
   "execution_count": 955,
   "id": "5e82fffb",
   "metadata": {},
   "outputs": [],
   "source": [
    "# Get rates for all days which are in the 300s\n",
    "filtered_df = df[(df['days'] >= 300) & (df['days'] < 400)].reset_index(drop=True)\n",
    "\n",
    "# Sort the DataFrame by 'dates' and 'days'\n",
    "df_sorted = filtered_df.sort_values(by=['date', 'days'])\n",
    "\n",
    "# Keep the rows with the closest 'days' value to 365 for each date\n",
    "IR_TS = df_sorted.groupby('date', group_keys=False).apply(lambda group: group.iloc[(group['days'] - 365).abs().argsort()[:1]])\n",
    "\n",
    "# Reset the index if needed\n",
    "IR_TS.reset_index(drop=True, inplace=True)"
   ]
  },
  {
   "cell_type": "code",
   "execution_count": 956,
   "id": "c75905cc",
   "metadata": {},
   "outputs": [],
   "source": [
    "IR_TS['Daily Rate'] = ((1+IR_TS['rate'])**(1/IR_TS['days']))-1\n",
    "IR_TS = IR_TS.drop(['rate','days'],axis=1)"
   ]
  },
  {
   "cell_type": "code",
   "execution_count": 957,
   "id": "a1006934",
   "metadata": {},
   "outputs": [],
   "source": [
    "IR_TS.rename(columns={'date': 'DATE'}, inplace=True)"
   ]
  },
  {
   "cell_type": "markdown",
   "id": "903fd369",
   "metadata": {},
   "source": [
    "### Created Merged Databases for returns"
   ]
  },
  {
   "cell_type": "code",
   "execution_count": 958,
   "id": "0a2b21b6",
   "metadata": {},
   "outputs": [],
   "source": [
    "IR_TS.set_index('DATE', inplace=True)\n",
    "VIX_TS.set_index('DATE', inplace=True)\n",
    "VAR_SWAPS.set_index('DATE', inplace=True)\n",
    "VIX_FUT.set_index('DATE', inplace=True)\n",
    "STRADDLE_LONG.set_index('DATE', inplace=True)"
   ]
  },
  {
   "cell_type": "code",
   "execution_count": 959,
   "id": "7d57d39b",
   "metadata": {},
   "outputs": [],
   "source": [
    "IR_TS.index = pd.to_datetime(IR_TS.index)\n",
    "VIX_TS.index = pd.to_datetime(VIX_TS.index)\n",
    "VAR_SWAPS.index = pd.to_datetime(VAR_SWAPS.index)\n",
    "VIX_FUT.index = pd.to_datetime(VIX_FUT.index)\n",
    "STRADDLE_LONG.index = pd.to_datetime(STRADDLE_LONG.index)"
   ]
  },
  {
   "cell_type": "code",
   "execution_count": 960,
   "id": "430082b8",
   "metadata": {},
   "outputs": [],
   "source": [
    "merged = pd.merge(VIX_TS,IR_TS, how='inner', left_index=True, right_index=True)"
   ]
  },
  {
   "cell_type": "code",
   "execution_count": 961,
   "id": "2f1bd83b",
   "metadata": {},
   "outputs": [],
   "source": [
    "VAR_SWAPS = VAR_SWAPS/100\n",
    "VIX_FUT = VIX_FUT/100\n",
    "STRADDLE_LONG = STRADDLE_LONG/100"
   ]
  },
  {
   "cell_type": "code",
   "execution_count": 962,
   "id": "b55525ea",
   "metadata": {},
   "outputs": [],
   "source": [
    "VAR_SWAPS_MERGED=pd.merge(merged,VAR_SWAPS, how='inner', left_index=True, right_index=True)\n",
    "VIX_FUT_MERGED=pd.merge(merged,VIX_FUT, how='inner', left_index=True, right_index=True)\n",
    "STRADDLE_MERGED=pd.merge(merged,STRADDLE_LONG, how='inner', left_index=True, right_index=True)"
   ]
  },
  {
   "cell_type": "markdown",
   "id": "f1cc2985",
   "metadata": {},
   "source": [
    "### Calculate Excess returns"
   ]
  },
  {
   "cell_type": "code",
   "execution_count": 963,
   "id": "d8728f41",
   "metadata": {},
   "outputs": [],
   "source": [
    "XS_VAR_SWAPS = VAR_SWAPS_MERGED.iloc[:, 7:]\n",
    "columns_to_subtract_from = ['V_S_R 1 month','V_S_R 2 month', 'V_S_R 3 month', 'V_S_R 6 month', 'V_S_R 9 month', 'V_S_R 12 month']\n",
    "\n",
    "# Iterate through the columns and subtract 'column_to_subtract' from each of them\n",
    "for col in columns_to_subtract_from:\n",
    "    XS_VAR_SWAPS[col] = XS_VAR_SWAPS[col] - VAR_SWAPS_MERGED['Daily Rate']"
   ]
  },
  {
   "cell_type": "code",
   "execution_count": 964,
   "id": "a1921f23",
   "metadata": {},
   "outputs": [],
   "source": [
    "XS_VIX_FUT = VIX_FUT_MERGED.iloc[:, 7:]\n",
    "columns_to_subtract_from = ['V_F_R 1 month','V_F_R 2 month', 'V_F_R 3 month', 'V_F_R 6 month', 'V_F_R 9 month', 'V_F_R 12 month']\n",
    "\n",
    "# Iterate through the columns and subtract 'column_to_subtract' from each of them\n",
    "for col in columns_to_subtract_from:\n",
    "    XS_VIX_FUT[col] = XS_VIX_FUT[col] - VIX_FUT_MERGED['Daily Rate']"
   ]
  },
  {
   "cell_type": "code",
   "execution_count": 965,
   "id": "c16bfb31",
   "metadata": {},
   "outputs": [],
   "source": [
    "XS_STRADDLE = STRADDLE_MERGED.iloc[:, 7:]\n",
    "columns_to_subtract_from = ['S_R 1 month','S_R 2 month', 'S_R 3 month', 'S_R 6 month', 'S_R 9 month', 'S_R 12 month']\n",
    "\n",
    "# Iterate through the columns and subtract 'column_to_subtract' from each of them\n",
    "for col in columns_to_subtract_from:\n",
    "    XS_STRADDLE[col] = XS_STRADDLE[col] - STRADDLE_MERGED['Daily Rate']"
   ]
  },
  {
   "cell_type": "markdown",
   "id": "4a628b2e",
   "metadata": {},
   "source": [
    "### Expectation Hypothesis Test"
   ]
  },
  {
   "cell_type": "markdown",
   "id": "d608b676",
   "metadata": {},
   "source": [
    "### Version 1"
   ]
  },
  {
   "cell_type": "code",
   "execution_count": 966,
   "id": "8e3801de",
   "metadata": {},
   "outputs": [],
   "source": [
    "VIX_TS.reset_index(drop=True, inplace=True)"
   ]
  },
  {
   "cell_type": "code",
   "execution_count": 967,
   "id": "0add00ad",
   "metadata": {},
   "outputs": [],
   "source": [
    "n_days = 21"
   ]
  },
  {
   "cell_type": "code",
   "execution_count": 968,
   "id": "51a9c881",
   "metadata": {},
   "outputs": [],
   "source": [
    "Y_1 = VIX_TS['1 month'][n_days:].reset_index(drop=True) - VIX_TS['2 month'][:-n_days]\n",
    "Y_2 = VIX_TS['2 month'][n_days:].reset_index(drop=True) - VIX_TS['3 month'][:-n_days]\n",
    "Y_3 = VIX_TS['3 month'][3*n_days:].reset_index(drop=True) - VIX_TS['6 month'][:-3*n_days]\n",
    "Y_4 = VIX_TS['6 month'][3*n_days:].reset_index(drop=True) - VIX_TS['9 month'][:-3*n_days]\n",
    "Y_5 = VIX_TS['9 month'][3*n_days:].reset_index(drop=True) - VIX_TS['12 month'][:-3*n_days]\n",
    "\n",
    "X_1 = (VIX_TS['2 month'][:-n_days] - VIX_TS['1 month'][:-n_days]).reset_index(drop=True)\n",
    "X_2 = ((1/2)*VIX_TS['3 month'][:-n_days] - VIX_TS['1 month'][:-n_days]).reset_index(drop=True)\n",
    "X_3 = (VIX_TS['6 month'][:-3*n_days] - VIX_TS['3 month'][:-3*n_days]).reset_index(drop=True)\n",
    "X_4 = ((1/2)*VIX_TS['9 month'][:-3*n_days] - VIX_TS['3 month'][:-3*n_days]).reset_index(drop=True)\n",
    "X_5 = ((1/3)*VIX_TS['12 month'][:-3*n_days] - VIX_TS['3 month'][:-3*n_days]).reset_index(drop=True)"
   ]
  },
  {
   "cell_type": "code",
   "execution_count": 969,
   "id": "16a7d766",
   "metadata": {},
   "outputs": [],
   "source": [
    "data_1 = {'b_1': X_1,\n",
    "        'b_2': X_2,\n",
    "        'c_1': VIX_TS['1 month'][:-n_days].reset_index(drop=True),\n",
    "       'c_2': VIX_TS['2 month'][:-n_days].reset_index(drop=True)}\n",
    "\n",
    "data_2 = {'b_3': X_3,\n",
    "        'b_4': X_4,\n",
    "        'b_5': X_5,\n",
    "       'c_3': VIX_TS['3 month'][:-3*n_days].reset_index(drop=True),\n",
    "       'c_4': VIX_TS['6 month'][:-3*n_days].reset_index(drop=True),\n",
    "       'c_5': VIX_TS['9 month'][:-3*n_days].reset_index(drop=True),}\n",
    "\n",
    "df_1 = pd.DataFrame(data_1)\n",
    "df_2 = pd.DataFrame(data_2)"
   ]
  },
  {
   "cell_type": "code",
   "execution_count": 970,
   "id": "0ac1b148",
   "metadata": {},
   "outputs": [
    {
     "name": "stdout",
     "output_type": "stream",
     "text": [
      "Regression coefficients (including intercept): const    0.012449\n",
      "b_1     -1.128694\n",
      "c_1     -0.262035\n",
      "dtype: float64\n",
      "Newey-West standard errors: [0.00322047 0.29395276 0.0710115 ]\n",
      "P-values for the expectation hypothesis (b=1): 0.0\n",
      "R-squared: 0.09010903632954614\n"
     ]
    },
    {
     "name": "stderr",
     "output_type": "stream",
     "text": [
      "/Users/juliusraschke/opt/anaconda3/lib/python3.8/site-packages/statsmodels/tsa/tsatools.py:142: FutureWarning: In a future version of pandas all arguments of concat except for the argument 'objs' will be keyword-only.\n",
      "  x = pd.concat(x[::order], 1)\n"
     ]
    }
   ],
   "source": [
    "X = df_1[['b_1','c_1']]\n",
    "Y = Y_1\n",
    "\n",
    "X = sm.add_constant(X)  # Add a constant (intercept) to the independent variables\n",
    "model = sm.OLS(Y, X).fit()\n",
    "\n",
    "# Calculate Newey West\n",
    "\n",
    "cov_mat = stats.sandwich_covariance.cov_hac(model)\n",
    "newey_west_se = np.sqrt(np.diag(cov_mat))\n",
    "\n",
    "# Get the regression coefficients, including the intercept\n",
    "coefficients = model.params\n",
    "\n",
    "# Calculate p-values for the expectation hypothesis (b=1)\n",
    "t_values = (coefficients[1]-1) / newey_west_se[1]\n",
    "\n",
    "#Calculate p-values\n",
    "p_values = 2 * scipy.stats.t.sf(abs(t_values), model.df_resid)\n",
    "\n",
    "# Calculate R-squared\n",
    "r_squared = model.rsquared\n",
    "\n",
    "# Output the results\n",
    "print(\"Regression coefficients (including intercept):\", coefficients)\n",
    "print(\"Newey-West standard errors:\", newey_west_se)\n",
    "print(\"P-values for the expectation hypothesis (b=1):\", p_values.round(3))\n",
    "print(\"R-squared:\", r_squared)"
   ]
  },
  {
   "cell_type": "markdown",
   "id": "0d30c69c",
   "metadata": {},
   "source": [
    "### Version 2"
   ]
  },
  {
   "cell_type": "code",
   "execution_count": 971,
   "id": "e1fcc742",
   "metadata": {},
   "outputs": [],
   "source": [
    "Y_1 = VIX_TS['1 month'][n_days:].reset_index(drop=True) - VIX_TS['1 month'][:-n_days]\n",
    "Y_2 = VIX_TS['2 month'][n_days:].reset_index(drop=True) - VIX_TS['2 month'][:-n_days]\n",
    "Y_3 = VIX_TS['3 month'][3*n_days:].reset_index(drop=True) - VIX_TS['3 month'][:-3*n_days]\n",
    "Y_4 = VIX_TS['6 month'][3*n_days:].reset_index(drop=True) - VIX_TS['6 month'][:-3*n_days]\n",
    "Y_5 = VIX_TS['9 month'][3*n_days:].reset_index(drop=True) - VIX_TS['9 month'][:-3*n_days]\n",
    "\n",
    "X_1 = (VIX_TS['2 month'][:-n_days] - VIX_TS['1 month'][:-n_days])+(VIX_TS['2 month'][:-n_days] - VIX_TS['1 month'][:-n_days])\n",
    "X_2 = (VIX_TS['3 month'][:-n_days] - VIX_TS['2 month'][:-n_days])+((1/2)*VIX_TS['3 month'][:-n_days] - VIX_TS['1 month'][:-n_days])\n",
    "X_3 = (VIX_TS['6 month'][:-3*n_days] - VIX_TS['3 month'][:-3*n_days])+(VIX_TS['6 month'][:-3*n_days] - VIX_TS['3 month'][:-3*n_days])\n",
    "X_4 = (VIX_TS['9 month'][:-3*n_days] - VIX_TS['6 month'][:-3*n_days])+((1/2)*VIX_TS['9 month'][:-3*n_days] - VIX_TS['3 month'][:-3*n_days])\n",
    "X_5 = (VIX_TS['12 month'][:-3*n_days] - VIX_TS['9 month'][:-3*n_days])+((1/3)*VIX_TS['12 month'][:-3*n_days] - VIX_TS['3 month'][:-3*n_days])"
   ]
  },
  {
   "cell_type": "code",
   "execution_count": 972,
   "id": "6d10c38e",
   "metadata": {},
   "outputs": [],
   "source": [
    "data_1 = {'b_1': X_1,\n",
    "        'b_2': X_2,\n",
    "        'c_1': VIX_TS['1 month'][:-n_days].reset_index(drop=True),\n",
    "       'c_2': VIX_TS['2 month'][:-n_days].reset_index(drop=True)}\n",
    "\n",
    "data_2 = {'b_3': X_3,\n",
    "        'b_4': X_4,\n",
    "        'b_5': X_5,\n",
    "       'c_3': VIX_TS['3 month'][:-3*n_days].reset_index(drop=True),\n",
    "       'c_4': VIX_TS['6 month'][:-3*n_days].reset_index(drop=True),\n",
    "       'c_5': VIX_TS['9 month'][:-3*n_days].reset_index(drop=True),}\n",
    "\n",
    "df_1 = pd.DataFrame(data_1)\n",
    "df_2 = pd.DataFrame(data_2)"
   ]
  },
  {
   "cell_type": "code",
   "execution_count": 973,
   "id": "35e60469",
   "metadata": {},
   "outputs": [
    {
     "name": "stderr",
     "output_type": "stream",
     "text": [
      "/Users/juliusraschke/opt/anaconda3/lib/python3.8/site-packages/statsmodels/tsa/tsatools.py:142: FutureWarning: In a future version of pandas all arguments of concat except for the argument 'objs' will be keyword-only.\n",
      "  x = pd.concat(x[::order], 1)\n"
     ]
    },
    {
     "name": "stdout",
     "output_type": "stream",
     "text": [
      "Regression coefficients (including intercept): const    0.012449\n",
      "b_1     -0.064347\n",
      "c_1     -0.262035\n",
      "dtype: float64\n",
      "Newey-West standard errors: [0.00322047 0.14697638 0.0710115 ]\n",
      "P-values for the expectation hypothesis (b=1): 0.0\n",
      "R-squared: 0.12436506789993929\n"
     ]
    }
   ],
   "source": [
    "X = df_1[['b_1','c_1']]\n",
    "Y = Y_1\n",
    "\n",
    "X = sm.add_constant(X)  # Add a constant (intercept) to the independent variables\n",
    "\n",
    "model = sm.OLS(Y, X).fit()\n",
    "\n",
    "# Calculate Newey West\n",
    "\n",
    "cov_mat = stats.sandwich_covariance.cov_hac(model)\n",
    "newey_west_se = np.sqrt(np.diag(cov_mat))\n",
    "\n",
    "# Get the regression coefficients, including the intercept\n",
    "coefficients = model.params\n",
    "\n",
    "# Calculate p-values for the expectation hypothesis (b=1)\n",
    "t_values = (coefficients[1]-1) / newey_west_se[1]\n",
    "\n",
    "#Calculate p-values\n",
    "p_values = 2 * scipy.stats.t.sf(abs(t_values), model.df_resid)\n",
    "\n",
    "# Calculate R-squared\n",
    "r_squared = model.rsquared\n",
    "\n",
    "# Output the results\n",
    "print(\"Regression coefficients (including intercept):\", coefficients)\n",
    "print(\"Newey-West standard errors:\", newey_west_se)\n",
    "print(\"P-values for the expectation hypothesis (b=1):\", p_values.round(3))\n",
    "print(\"R-squared:\", r_squared)"
   ]
  },
  {
   "cell_type": "markdown",
   "id": "a6b65f1e",
   "metadata": {},
   "source": [
    "### Converting daily to monthly data"
   ]
  },
  {
   "cell_type": "code",
   "execution_count": 974,
   "id": "bec40324",
   "metadata": {},
   "outputs": [],
   "source": [
    "cr_VAR_SWAPS = ((XS_VAR_SWAPS)+1).rolling(n_days).apply(np.prod)-1\n",
    "cr_VAR_SWAPS[:-(n_days-1):] = cr_VAR_SWAPS[(n_days-1)::]\n",
    "cr_VAR_SWAPS = cr_VAR_SWAPS[:-(n_days-1):]\n",
    "\n",
    "cr_VIX_FUT = ((XS_VIX_FUT)+1).rolling(n_days).apply(np.prod)-1\n",
    "cr_VIX_FUT[:-(n_days-1):] = cr_VIX_FUT[(n_days-1)::]\n",
    "cr_VIX_FUT = cr_VIX_FUT[:-(n_days-1):]\n",
    "\n",
    "cr_STRADDLE = ((XS_STRADDLE)+1).rolling(n_days).apply(np.prod)-1\n",
    "cr_STRADDLE[:-(n_days-1):] = cr_STRADDLE[(n_days-1)::]\n",
    "cr_STRADDLE = cr_STRADDLE[:-(n_days-1):]"
   ]
  },
  {
   "cell_type": "markdown",
   "id": "3cb480b4",
   "metadata": {},
   "source": [
    "### Single Factor Test"
   ]
  },
  {
   "cell_type": "code",
   "execution_count": 975,
   "id": "f66a6a67",
   "metadata": {},
   "outputs": [],
   "source": [
    "pca1 = PCA()\n",
    "scaler = StandardScaler()"
   ]
  },
  {
   "cell_type": "markdown",
   "id": "536df13a",
   "metadata": {},
   "source": [
    "### S&P 500 variance Swap Returns"
   ]
  },
  {
   "cell_type": "code",
   "execution_count": 976,
   "id": "dce2022f",
   "metadata": {},
   "outputs": [],
   "source": [
    "X = VAR_SWAPS_MERGED.iloc[:,:6]\n",
    "X_trans = pca1.fit_transform(X)\n",
    "X_trans = pd.DataFrame(data=X_trans)\n",
    "scaled = scaler.fit_transform(X_trans)\n",
    "scaled_VS = pd.DataFrame(data=scaled)\n",
    "scaled_VS[['Level','Slope','Curve','PC4','PC5','PC6']] = scaled_VS[[0,1,2,3,4,5]]\n",
    "scaled_VS = scaled_VS.drop([0,1,2,3,4,5],axis=1)\n",
    "scaled_VS['Slope'] = -scaled_VS['Slope']"
   ]
  },
  {
   "cell_type": "markdown",
   "id": "e7ad7734",
   "metadata": {},
   "source": [
    "### Next day"
   ]
  },
  {
   "cell_type": "code",
   "execution_count": 977,
   "id": "ff3726a5",
   "metadata": {},
   "outputs": [],
   "source": [
    "XS_V_S = XS_VAR_SWAPS\n",
    "XS_V_S.reset_index(drop=False, inplace=True)"
   ]
  },
  {
   "cell_type": "code",
   "execution_count": 978,
   "id": "d60ce26d",
   "metadata": {},
   "outputs": [],
   "source": [
    "X = scaled_VS[:-1]\n",
    "Y = (XS_V_S['V_S_R 9 month'][1:]*10000).reset_index(drop=True)\n",
    "\n",
    "model = sm.OLS(Y, X).fit(cov_type='HAC',cov_kwds={'maxlags':0})"
   ]
  },
  {
   "cell_type": "markdown",
   "id": "80134072",
   "metadata": {},
   "source": [
    "### Next month"
   ]
  },
  {
   "cell_type": "code",
   "execution_count": 979,
   "id": "b2affd1c",
   "metadata": {},
   "outputs": [],
   "source": [
    "cr_V_S = cr_VAR_SWAPS\n",
    "cr_V_S.reset_index(drop=False, inplace=True)"
   ]
  },
  {
   "cell_type": "code",
   "execution_count": 980,
   "id": "af1b1758",
   "metadata": {},
   "outputs": [],
   "source": [
    "X = scaled_VS[:-n_days]\n",
    "Y = (cr_V_S['V_S_R 1 month'][1:]*100).reset_index(drop=True)\n",
    "\n",
    "model = sm.OLS(Y, X).fit(cov_type='HAC',cov_kwds={'maxlags':n_days})"
   ]
  },
  {
   "cell_type": "markdown",
   "id": "966c7ca1",
   "metadata": {},
   "source": [
    "### VIX Futures Returns"
   ]
  },
  {
   "cell_type": "code",
   "execution_count": 981,
   "id": "29e45b00",
   "metadata": {},
   "outputs": [],
   "source": [
    "X = VIX_FUT_MERGED.iloc[:,:6]\n",
    "X_trans = pca1.fit_transform(X)\n",
    "X_trans = pd.DataFrame(data=X_trans)\n",
    "scaled = scaler.fit_transform(X_trans)\n",
    "scaled_VF = pd.DataFrame(data=scaled)\n",
    "scaled_VF[['Level','Slope','Curve','PC4','PC5','PC6']] = scaled_VF[[0,1,2,3,4,5]]\n",
    "scaled_VF = scaled_VF.drop([0,1,2,3,4,5],axis=1)\n",
    "scaled_VF['Slope'] = -scaled_VF['Slope']"
   ]
  },
  {
   "cell_type": "markdown",
   "id": "b7521e98",
   "metadata": {},
   "source": [
    "### Next day"
   ]
  },
  {
   "cell_type": "code",
   "execution_count": 982,
   "id": "c9b092f4",
   "metadata": {},
   "outputs": [],
   "source": [
    "XS_V_F = XS_VIX_FUT\n",
    "XS_V_F.reset_index(drop=False, inplace=True)"
   ]
  },
  {
   "cell_type": "code",
   "execution_count": 983,
   "id": "1f3bd8cf",
   "metadata": {},
   "outputs": [],
   "source": [
    "X = scaled_VF[:-1]\n",
    "Y = (XS_V_F['V_F_R 9 month'][1:]*10000).reset_index(drop=True)\n",
    "\n",
    "model = sm.OLS(Y, X).fit(cov_type='HAC',cov_kwds={'maxlags':0})"
   ]
  },
  {
   "cell_type": "markdown",
   "id": "7c344af6",
   "metadata": {},
   "source": [
    "### Next month"
   ]
  },
  {
   "cell_type": "code",
   "execution_count": 984,
   "id": "fdc7dc70",
   "metadata": {},
   "outputs": [],
   "source": [
    "cr_V_F = cr_VIX_FUT\n",
    "cr_V_F.reset_index(drop=False, inplace=True)"
   ]
  },
  {
   "cell_type": "code",
   "execution_count": 985,
   "id": "8f3b4ecc",
   "metadata": {},
   "outputs": [],
   "source": [
    "X = scaled_VF[:-n_days]\n",
    "Y = (cr_V_F['V_F_R 1 month'][1:]*100).reset_index(drop=True)\n",
    "\n",
    "model = sm.OLS(Y, X).fit(cov_type='HAC',cov_kwds={'maxlags':n_days})"
   ]
  },
  {
   "cell_type": "markdown",
   "id": "8fac16fc",
   "metadata": {},
   "source": [
    "### Straddle Returns"
   ]
  },
  {
   "cell_type": "code",
   "execution_count": 986,
   "id": "1aea28c0",
   "metadata": {},
   "outputs": [],
   "source": [
    "X = STRADDLE_MERGED.iloc[:,:6]\n",
    "X_trans = pca1.fit_transform(X)\n",
    "X_trans = pd.DataFrame(data=X_trans)\n",
    "scaled = scaler.fit_transform(X_trans)\n",
    "scaled_S = pd.DataFrame(data=scaled)\n",
    "scaled_S[['Level','Slope','Curve','PC4','PC5','PC6']] = scaled_S[[0,1,2,3,4,5]]\n",
    "scaled_S = scaled_S.drop([0,1,2,3,4,5],axis=1)\n",
    "scaled_S['Slope'] = -scaled_S['Slope']"
   ]
  },
  {
   "cell_type": "markdown",
   "id": "538542e8",
   "metadata": {},
   "source": [
    "### Next day"
   ]
  },
  {
   "cell_type": "code",
   "execution_count": 987,
   "id": "ca984915",
   "metadata": {},
   "outputs": [],
   "source": [
    "XS_S = XS_STRADDLE\n",
    "XS_S.reset_index(drop=False, inplace=True)"
   ]
  },
  {
   "cell_type": "code",
   "execution_count": 988,
   "id": "fb1457ec",
   "metadata": {},
   "outputs": [],
   "source": [
    "X = scaled_S[:-1]\n",
    "Y = (XS_S['S_R 9 month'][1:]*10000).reset_index(drop=True)\n",
    "\n",
    "model = sm.OLS(Y, X).fit(cov_type='HAC',cov_kwds={'maxlags':0})"
   ]
  },
  {
   "cell_type": "markdown",
   "id": "03f24253",
   "metadata": {},
   "source": [
    "### Next month"
   ]
  },
  {
   "cell_type": "code",
   "execution_count": 989,
   "id": "aa11438b",
   "metadata": {},
   "outputs": [],
   "source": [
    "cr_S = cr_STRADDLE\n",
    "cr_S.reset_index(drop=False, inplace=True)"
   ]
  },
  {
   "cell_type": "code",
   "execution_count": 990,
   "id": "8c576c55",
   "metadata": {},
   "outputs": [],
   "source": [
    "X = scaled_S[:-n_days]\n",
    "Y = (cr_S['S_R 1 month'][1:]*100).reset_index(drop=True)\n",
    "\n",
    "model = sm.OLS(Y, X).fit(cov_type='HAC',cov_kwds={'maxlags':n_days})"
   ]
  },
  {
   "cell_type": "markdown",
   "id": "8578b3fc",
   "metadata": {},
   "source": [
    "### Economic Significance of Slope as a predictor"
   ]
  },
  {
   "cell_type": "code",
   "execution_count": 991,
   "id": "fe878a24",
   "metadata": {},
   "outputs": [
    {
     "data": {
      "text/html": [
       "<div>\n",
       "<style scoped>\n",
       "    .dataframe tbody tr th:only-of-type {\n",
       "        vertical-align: middle;\n",
       "    }\n",
       "\n",
       "    .dataframe tbody tr th {\n",
       "        vertical-align: top;\n",
       "    }\n",
       "\n",
       "    .dataframe thead th {\n",
       "        text-align: right;\n",
       "    }\n",
       "</style>\n",
       "<table border=\"1\" class=\"dataframe\">\n",
       "  <thead>\n",
       "    <tr style=\"text-align: right;\">\n",
       "      <th></th>\n",
       "      <th>V_S_R 1 month</th>\n",
       "      <th>V_S_R 2 month</th>\n",
       "      <th>V_S_R 3 month</th>\n",
       "      <th>V_S_R 6 month</th>\n",
       "      <th>V_S_R 9 month</th>\n",
       "      <th>V_S_R 12 month</th>\n",
       "    </tr>\n",
       "  </thead>\n",
       "  <tbody>\n",
       "    <tr>\n",
       "      <th>0</th>\n",
       "      <td>-0.572038</td>\n",
       "      <td>0.244345</td>\n",
       "      <td>0.386122</td>\n",
       "      <td>0.258562</td>\n",
       "      <td>0.221150</td>\n",
       "      <td>0.182670</td>\n",
       "    </tr>\n",
       "    <tr>\n",
       "      <th>1</th>\n",
       "      <td>-1.399156</td>\n",
       "      <td>-0.728917</td>\n",
       "      <td>-0.424027</td>\n",
       "      <td>-0.191416</td>\n",
       "      <td>-0.120554</td>\n",
       "      <td>-0.085899</td>\n",
       "    </tr>\n",
       "    <tr>\n",
       "      <th>2</th>\n",
       "      <td>-1.521182</td>\n",
       "      <td>-0.828034</td>\n",
       "      <td>-0.585539</td>\n",
       "      <td>-0.306919</td>\n",
       "      <td>-0.206864</td>\n",
       "      <td>-0.105189</td>\n",
       "    </tr>\n",
       "    <tr>\n",
       "      <th>3</th>\n",
       "      <td>-1.490982</td>\n",
       "      <td>-0.903713</td>\n",
       "      <td>-0.533069</td>\n",
       "      <td>-0.376865</td>\n",
       "      <td>-0.181283</td>\n",
       "      <td>-0.023935</td>\n",
       "    </tr>\n",
       "    <tr>\n",
       "      <th>4</th>\n",
       "      <td>-2.005382</td>\n",
       "      <td>-1.346360</td>\n",
       "      <td>-0.987533</td>\n",
       "      <td>-0.614128</td>\n",
       "      <td>-0.502718</td>\n",
       "      <td>-0.495175</td>\n",
       "    </tr>\n",
       "    <tr>\n",
       "      <th>Range</th>\n",
       "      <td>-1.433343</td>\n",
       "      <td>-1.590706</td>\n",
       "      <td>-1.373655</td>\n",
       "      <td>-0.872690</td>\n",
       "      <td>-0.723868</td>\n",
       "      <td>-0.677846</td>\n",
       "    </tr>\n",
       "  </tbody>\n",
       "</table>\n",
       "</div>"
      ],
      "text/plain": [
       "       V_S_R 1 month  V_S_R 2 month  V_S_R 3 month  V_S_R 6 month  \\\n",
       "0          -0.572038       0.244345       0.386122       0.258562   \n",
       "1          -1.399156      -0.728917      -0.424027      -0.191416   \n",
       "2          -1.521182      -0.828034      -0.585539      -0.306919   \n",
       "3          -1.490982      -0.903713      -0.533069      -0.376865   \n",
       "4          -2.005382      -1.346360      -0.987533      -0.614128   \n",
       "Range      -1.433343      -1.590706      -1.373655      -0.872690   \n",
       "\n",
       "       V_S_R 9 month  V_S_R 12 month  \n",
       "0           0.221150        0.182670  \n",
       "1          -0.120554       -0.085899  \n",
       "2          -0.206864       -0.105189  \n",
       "3          -0.181283       -0.023935  \n",
       "4          -0.502718       -0.495175  \n",
       "Range      -0.723868       -0.677846  "
      ]
     },
     "execution_count": 991,
     "metadata": {},
     "output_type": "execute_result"
    }
   ],
   "source": [
    "ES_VS = XS_VAR_SWAPS[1:].reset_index(drop=True)\n",
    "ES_VS['Slope_Quantile'] = pd.qcut(scaled_VS['Slope'], q=5, labels=False)[:-1]\n",
    "VS_Q_Ret = ES_VS.sort_values(by='Slope_Quantile').groupby('Slope_Quantile').mean(numeric_only=True)*100\n",
    "range_row = pd.DataFrame(VS_Q_Ret.min() - VS_Q_Ret.max()).T\n",
    "range_row.index = ['Range']\n",
    "VS_Q_Ret = pd.concat([VS_Q_Ret, range_row])\n",
    "VS_Q_Ret"
   ]
  },
  {
   "cell_type": "code",
   "execution_count": 992,
   "id": "5e8ec635",
   "metadata": {},
   "outputs": [
    {
     "data": {
      "text/html": [
       "<div>\n",
       "<style scoped>\n",
       "    .dataframe tbody tr th:only-of-type {\n",
       "        vertical-align: middle;\n",
       "    }\n",
       "\n",
       "    .dataframe tbody tr th {\n",
       "        vertical-align: top;\n",
       "    }\n",
       "\n",
       "    .dataframe thead th {\n",
       "        text-align: right;\n",
       "    }\n",
       "</style>\n",
       "<table border=\"1\" class=\"dataframe\">\n",
       "  <thead>\n",
       "    <tr style=\"text-align: right;\">\n",
       "      <th></th>\n",
       "      <th>V_F_R 1 month</th>\n",
       "      <th>V_F_R 2 month</th>\n",
       "      <th>V_F_R 3 month</th>\n",
       "      <th>V_F_R 6 month</th>\n",
       "      <th>V_F_R 9 month</th>\n",
       "      <th>V_F_R 12 month</th>\n",
       "    </tr>\n",
       "  </thead>\n",
       "  <tbody>\n",
       "    <tr>\n",
       "      <th>0</th>\n",
       "      <td>0.056242</td>\n",
       "      <td>0.027001</td>\n",
       "      <td>0.000456</td>\n",
       "      <td>0.094582</td>\n",
       "      <td>0.108885</td>\n",
       "      <td>0.027323</td>\n",
       "    </tr>\n",
       "    <tr>\n",
       "      <th>1</th>\n",
       "      <td>-0.262411</td>\n",
       "      <td>-0.243983</td>\n",
       "      <td>-0.257679</td>\n",
       "      <td>-0.207549</td>\n",
       "      <td>-0.179378</td>\n",
       "      <td>-0.211195</td>\n",
       "    </tr>\n",
       "    <tr>\n",
       "      <th>2</th>\n",
       "      <td>-0.201813</td>\n",
       "      <td>-0.223828</td>\n",
       "      <td>-0.208229</td>\n",
       "      <td>-0.162340</td>\n",
       "      <td>-0.138415</td>\n",
       "      <td>-0.050902</td>\n",
       "    </tr>\n",
       "    <tr>\n",
       "      <th>3</th>\n",
       "      <td>-0.140691</td>\n",
       "      <td>-0.127868</td>\n",
       "      <td>-0.087659</td>\n",
       "      <td>-0.008243</td>\n",
       "      <td>-0.027570</td>\n",
       "      <td>-0.095389</td>\n",
       "    </tr>\n",
       "    <tr>\n",
       "      <th>4</th>\n",
       "      <td>-0.506191</td>\n",
       "      <td>-0.524580</td>\n",
       "      <td>-0.326711</td>\n",
       "      <td>-0.337252</td>\n",
       "      <td>-0.284948</td>\n",
       "      <td>-0.227393</td>\n",
       "    </tr>\n",
       "    <tr>\n",
       "      <th>Range</th>\n",
       "      <td>-0.562433</td>\n",
       "      <td>-0.551580</td>\n",
       "      <td>-0.327167</td>\n",
       "      <td>-0.431833</td>\n",
       "      <td>-0.393833</td>\n",
       "      <td>-0.254716</td>\n",
       "    </tr>\n",
       "  </tbody>\n",
       "</table>\n",
       "</div>"
      ],
      "text/plain": [
       "       V_F_R 1 month  V_F_R 2 month  V_F_R 3 month  V_F_R 6 month  \\\n",
       "0           0.056242       0.027001       0.000456       0.094582   \n",
       "1          -0.262411      -0.243983      -0.257679      -0.207549   \n",
       "2          -0.201813      -0.223828      -0.208229      -0.162340   \n",
       "3          -0.140691      -0.127868      -0.087659      -0.008243   \n",
       "4          -0.506191      -0.524580      -0.326711      -0.337252   \n",
       "Range      -0.562433      -0.551580      -0.327167      -0.431833   \n",
       "\n",
       "       V_F_R 9 month  V_F_R 12 month  \n",
       "0           0.108885        0.027323  \n",
       "1          -0.179378       -0.211195  \n",
       "2          -0.138415       -0.050902  \n",
       "3          -0.027570       -0.095389  \n",
       "4          -0.284948       -0.227393  \n",
       "Range      -0.393833       -0.254716  "
      ]
     },
     "execution_count": 992,
     "metadata": {},
     "output_type": "execute_result"
    }
   ],
   "source": [
    "ES_VF = XS_VIX_FUT[1:].reset_index(drop=True)\n",
    "ES_VF['Slope_Quantile'] = pd.qcut(scaled_VF['Slope'], q=5, labels=False)[:-1]\n",
    "VF_Q_Ret = ES_VF.sort_values(by='Slope_Quantile').groupby('Slope_Quantile').mean(numeric_only=True)*100\n",
    "range_row = pd.DataFrame(VF_Q_Ret.min() - VF_Q_Ret.max()).T\n",
    "range_row.index = ['Range']\n",
    "VF_Q_Ret = pd.concat([VF_Q_Ret, range_row])\n",
    "VF_Q_Ret"
   ]
  },
  {
   "cell_type": "code",
   "execution_count": 993,
   "id": "9de4755d",
   "metadata": {},
   "outputs": [
    {
     "data": {
      "text/html": [
       "<div>\n",
       "<style scoped>\n",
       "    .dataframe tbody tr th:only-of-type {\n",
       "        vertical-align: middle;\n",
       "    }\n",
       "\n",
       "    .dataframe tbody tr th {\n",
       "        vertical-align: top;\n",
       "    }\n",
       "\n",
       "    .dataframe thead th {\n",
       "        text-align: right;\n",
       "    }\n",
       "</style>\n",
       "<table border=\"1\" class=\"dataframe\">\n",
       "  <thead>\n",
       "    <tr style=\"text-align: right;\">\n",
       "      <th></th>\n",
       "      <th>S_R 1 month</th>\n",
       "      <th>S_R 2 month</th>\n",
       "      <th>S_R 3 month</th>\n",
       "      <th>S_R 6 month</th>\n",
       "      <th>S_R 9 month</th>\n",
       "      <th>S_R 12 month</th>\n",
       "    </tr>\n",
       "  </thead>\n",
       "  <tbody>\n",
       "    <tr>\n",
       "      <th>0</th>\n",
       "      <td>0.305044</td>\n",
       "      <td>0.296308</td>\n",
       "      <td>0.352745</td>\n",
       "      <td>0.302683</td>\n",
       "      <td>0.249758</td>\n",
       "      <td>0.212182</td>\n",
       "    </tr>\n",
       "    <tr>\n",
       "      <th>1</th>\n",
       "      <td>-0.371854</td>\n",
       "      <td>-0.220060</td>\n",
       "      <td>-0.161207</td>\n",
       "      <td>-0.101416</td>\n",
       "      <td>-0.052046</td>\n",
       "      <td>-0.024807</td>\n",
       "    </tr>\n",
       "    <tr>\n",
       "      <th>2</th>\n",
       "      <td>-0.420836</td>\n",
       "      <td>-0.268379</td>\n",
       "      <td>-0.176329</td>\n",
       "      <td>-0.104973</td>\n",
       "      <td>-0.071581</td>\n",
       "      <td>-0.047470</td>\n",
       "    </tr>\n",
       "    <tr>\n",
       "      <th>3</th>\n",
       "      <td>-0.472459</td>\n",
       "      <td>-0.311763</td>\n",
       "      <td>-0.225431</td>\n",
       "      <td>-0.101285</td>\n",
       "      <td>-0.075660</td>\n",
       "      <td>-0.048131</td>\n",
       "    </tr>\n",
       "    <tr>\n",
       "      <th>4</th>\n",
       "      <td>-0.653321</td>\n",
       "      <td>-0.433354</td>\n",
       "      <td>-0.342363</td>\n",
       "      <td>-0.205976</td>\n",
       "      <td>-0.155590</td>\n",
       "      <td>-0.094904</td>\n",
       "    </tr>\n",
       "    <tr>\n",
       "      <th>Range</th>\n",
       "      <td>-0.958364</td>\n",
       "      <td>-0.729663</td>\n",
       "      <td>-0.695108</td>\n",
       "      <td>-0.508659</td>\n",
       "      <td>-0.405348</td>\n",
       "      <td>-0.307086</td>\n",
       "    </tr>\n",
       "  </tbody>\n",
       "</table>\n",
       "</div>"
      ],
      "text/plain": [
       "       S_R 1 month  S_R 2 month  S_R 3 month  S_R 6 month  S_R 9 month  \\\n",
       "0         0.305044     0.296308     0.352745     0.302683     0.249758   \n",
       "1        -0.371854    -0.220060    -0.161207    -0.101416    -0.052046   \n",
       "2        -0.420836    -0.268379    -0.176329    -0.104973    -0.071581   \n",
       "3        -0.472459    -0.311763    -0.225431    -0.101285    -0.075660   \n",
       "4        -0.653321    -0.433354    -0.342363    -0.205976    -0.155590   \n",
       "Range    -0.958364    -0.729663    -0.695108    -0.508659    -0.405348   \n",
       "\n",
       "       S_R 12 month  \n",
       "0          0.212182  \n",
       "1         -0.024807  \n",
       "2         -0.047470  \n",
       "3         -0.048131  \n",
       "4         -0.094904  \n",
       "Range     -0.307086  "
      ]
     },
     "execution_count": 993,
     "metadata": {},
     "output_type": "execute_result"
    }
   ],
   "source": [
    "ES_STRADDLE =XS_STRADDLE[1:].reset_index(drop=True)\n",
    "ES_STRADDLE['Slope_Quantile'] = pd.qcut(scaled_S['Slope'], q=5, labels=False)[:-1]\n",
    "S_Q_Ret = ES_STRADDLE.sort_values(by='Slope_Quantile').groupby('Slope_Quantile').mean(numeric_only=True)*100\n",
    "range_row = pd.DataFrame(S_Q_Ret.min() - S_Q_Ret.max()).T\n",
    "range_row.index = ['Range']\n",
    "S_Q_Ret = pd.concat([S_Q_Ret, range_row])\n",
    "S_Q_Ret"
   ]
  },
  {
   "cell_type": "markdown",
   "id": "51283762",
   "metadata": {},
   "source": [
    "### Removing Crisis"
   ]
  },
  {
   "cell_type": "code",
   "execution_count": 994,
   "id": "547cc54d",
   "metadata": {},
   "outputs": [],
   "source": [
    "CRASH_VS_I = [VAR_SWAPS_MERGED.index.get_loc('2008-01-02'),VAR_SWAPS_MERGED.index.get_loc('2009-12-31')]\n",
    "CRASH_VF_I = [VIX_FUT_MERGED.index.get_loc('2008-01-02'),VIX_FUT_MERGED.index.get_loc('2009-12-31')]\n",
    "CRASH_S_I = [STRADDLE_MERGED.index.get_loc('2008-01-02'),STRADDLE_MERGED.index.get_loc('2009-12-31')]"
   ]
  },
  {
   "cell_type": "code",
   "execution_count": 995,
   "id": "ae1336d0",
   "metadata": {},
   "outputs": [],
   "source": [
    "scaled_NC_VS = pd.concat([scaled_VS[:CRASH_VS_I[0]],scaled_VS[CRASH_VS_I[1]:]]) \n",
    "scaled_NC_VF = pd.concat([scaled_VF[:CRASH_VF_I[0]],scaled_VF[CRASH_VF_I[1]:]]) \n",
    "scaled_NC_S = pd.concat([scaled_S[:CRASH_S_I[0]],scaled_S[CRASH_S_I[1]:]]) "
   ]
  },
  {
   "cell_type": "code",
   "execution_count": 996,
   "id": "b953753b",
   "metadata": {},
   "outputs": [],
   "source": [
    "XS_NC_VS = pd.concat([XS_VAR_SWAPS[:CRASH_VS_I[0]],XS_VAR_SWAPS[CRASH_VS_I[1]:]]) \n",
    "XS_NC_VF = pd.concat([XS_VIX_FUT[:CRASH_VF_I[0]],XS_VIX_FUT[CRASH_VF_I[1]:]]) \n",
    "XS_NC_S = pd.concat([XS_STRADDLE[:CRASH_S_I[0]],XS_STRADDLE[CRASH_S_I[1]:]]) "
   ]
  },
  {
   "cell_type": "markdown",
   "id": "667a5854",
   "metadata": {},
   "source": [
    "### Robustness of Slope as a predictor"
   ]
  },
  {
   "cell_type": "markdown",
   "id": "8e1c4bb9",
   "metadata": {},
   "source": [
    "### Variance Swap"
   ]
  },
  {
   "cell_type": "markdown",
   "id": "d25f2923",
   "metadata": {},
   "source": [
    "### Next-month Returns"
   ]
  },
  {
   "cell_type": "code",
   "execution_count": 997,
   "id": "287f9a43",
   "metadata": {},
   "outputs": [],
   "source": [
    "m_ES_VS = cr_VAR_SWAPS\n",
    "m_ES_VS['Slope_Quantile'] = pd.qcut(scaled_VS['Slope'], q=5, labels=False)\n",
    "m_VS_Q_Ret = m_ES_VS.sort_values(by='Slope_Quantile').groupby('Slope_Quantile').mean(numeric_only=True)*100\n",
    "range_row = pd.DataFrame(m_VS_Q_Ret.min() - m_VS_Q_Ret.max()).T\n",
    "range_row.index = ['Next-Month Returns']\n",
    "m_VS_Q_Ret = pd.concat([m_VS_Q_Ret, range_row])"
   ]
  },
  {
   "cell_type": "code",
   "execution_count": 998,
   "id": "bb78aa24",
   "metadata": {},
   "outputs": [],
   "source": [
    "VS_Robustness = VS_Q_Ret.iloc[5:,:]\n",
    "VS_Robustness = pd.concat([VS_Robustness, m_VS_Q_Ret.iloc[5:,:]])"
   ]
  },
  {
   "cell_type": "markdown",
   "id": "df9a5029",
   "metadata": {},
   "source": [
    "### Crisis Removed"
   ]
  },
  {
   "cell_type": "code",
   "execution_count": 999,
   "id": "a9e46d8b",
   "metadata": {},
   "outputs": [],
   "source": [
    "NC_ES_VS = XS_NC_VS[1:].reset_index(drop=True)\n",
    "NC_ES_VS['Slope_Quantile'] = pd.qcut(scaled_NC_VS['Slope'], q=5, labels=False)\n",
    "NC_VS_Q_Ret = NC_ES_VS.sort_values(by='Slope_Quantile').groupby('Slope_Quantile').mean(numeric_only=True)*100\n",
    "range_row = pd.DataFrame(NC_VS_Q_Ret.min() - NC_VS_Q_Ret.max()).T\n",
    "range_row.index = ['Crisis Removed']\n",
    "NC_VS_Q_Ret = pd.concat([NC_VS_Q_Ret, range_row])"
   ]
  },
  {
   "cell_type": "code",
   "execution_count": 1000,
   "id": "f84647d0",
   "metadata": {},
   "outputs": [],
   "source": [
    "VS_Robustness = pd.concat([VS_Robustness, NC_VS_Q_Ret.iloc[5:,:]])"
   ]
  },
  {
   "cell_type": "markdown",
   "id": "dcd9f241",
   "metadata": {},
   "source": [
    "### Bottom 5% Slope removed"
   ]
  },
  {
   "cell_type": "code",
   "execution_count": 1001,
   "id": "b8195ea4",
   "metadata": {},
   "outputs": [],
   "source": [
    "ES_VS = XS_VAR_SWAPS[1:].reset_index(drop=True)\n",
    "ES_VS['Slope'] = scaled_VS['Slope']\n",
    "ES_VS['Slope_Quantile'] = pd.qcut(scaled_VS['Slope'], q=5, labels=False)\n",
    "ES_VS = ES_VS[ES_VS['Slope'] > ES_VS['Slope'].quantile(0.05)]\n",
    "ES_VS = ES_VS.drop('Slope',axis=1)\n",
    "BFIVE_VS_Q_Ret = ES_VS.sort_values(by='Slope_Quantile').groupby('Slope_Quantile').mean(numeric_only=True)*100\n",
    "range_row = pd.DataFrame(BFIVE_VS_Q_Ret.min() - BFIVE_VS_Q_Ret.max()).T\n",
    "range_row.index = ['Bottom 5% Slope removed']\n",
    "BFIVE_VS_Q_Ret = pd.concat([BFIVE_VS_Q_Ret, range_row])"
   ]
  },
  {
   "cell_type": "code",
   "execution_count": 1002,
   "id": "7ba1aee2",
   "metadata": {},
   "outputs": [],
   "source": [
    "VS_Robustness = pd.concat([VS_Robustness, BFIVE_VS_Q_Ret.iloc[5:,:]])"
   ]
  },
  {
   "cell_type": "markdown",
   "id": "9ed684f9",
   "metadata": {},
   "source": [
    "### Slope = VIX12 - VIX1"
   ]
  },
  {
   "cell_type": "code",
   "execution_count": 1003,
   "id": "0d066ce1",
   "metadata": {},
   "outputs": [],
   "source": [
    "NM_ES_VS = XS_VAR_SWAPS[1:].reset_index(drop=True)\n",
    "NM_ES_VS['Slope_Quantile'] = pd.qcut((VAR_SWAPS_MERGED['12 month'] - VAR_SWAPS_MERGED['1 month']), q=5, labels=False).reset_index(drop=True)\n",
    "NM_VS_Q_Ret = NM_ES_VS.sort_values(by='Slope_Quantile').groupby('Slope_Quantile').mean(numeric_only=True)*100\n",
    "range_row = pd.DataFrame(NM_VS_Q_Ret.min() - NM_VS_Q_Ret.max()).T\n",
    "range_row.index = ['Slope = VIX 12-VIX 1']\n",
    "NM_VS_Q_Ret = pd.concat([NM_VS_Q_Ret, range_row])"
   ]
  },
  {
   "cell_type": "code",
   "execution_count": 1004,
   "id": "7b174ff4",
   "metadata": {},
   "outputs": [],
   "source": [
    "VS_Robustness = pd.concat([VS_Robustness, NM_VS_Q_Ret.iloc[5:,:]])"
   ]
  },
  {
   "cell_type": "code",
   "execution_count": 1005,
   "id": "cbe91709",
   "metadata": {},
   "outputs": [
    {
     "data": {
      "text/html": [
       "<div>\n",
       "<style scoped>\n",
       "    .dataframe tbody tr th:only-of-type {\n",
       "        vertical-align: middle;\n",
       "    }\n",
       "\n",
       "    .dataframe tbody tr th {\n",
       "        vertical-align: top;\n",
       "    }\n",
       "\n",
       "    .dataframe thead th {\n",
       "        text-align: right;\n",
       "    }\n",
       "</style>\n",
       "<table border=\"1\" class=\"dataframe\">\n",
       "  <thead>\n",
       "    <tr style=\"text-align: right;\">\n",
       "      <th></th>\n",
       "      <th>V_S_R 1 month</th>\n",
       "      <th>V_S_R 2 month</th>\n",
       "      <th>V_S_R 3 month</th>\n",
       "      <th>V_S_R 6 month</th>\n",
       "      <th>V_S_R 9 month</th>\n",
       "      <th>V_S_R 12 month</th>\n",
       "    </tr>\n",
       "  </thead>\n",
       "  <tbody>\n",
       "    <tr>\n",
       "      <th>Range</th>\n",
       "      <td>-1.433343</td>\n",
       "      <td>-1.590706</td>\n",
       "      <td>-1.373655</td>\n",
       "      <td>-0.872690</td>\n",
       "      <td>-0.723868</td>\n",
       "      <td>-0.677846</td>\n",
       "    </tr>\n",
       "    <tr>\n",
       "      <th>Next-Month Returns</th>\n",
       "      <td>-35.525924</td>\n",
       "      <td>-33.029879</td>\n",
       "      <td>-27.574965</td>\n",
       "      <td>-17.765268</td>\n",
       "      <td>-14.299446</td>\n",
       "      <td>-10.653571</td>\n",
       "    </tr>\n",
       "    <tr>\n",
       "      <th>Crisis Removed</th>\n",
       "      <td>-1.213776</td>\n",
       "      <td>-1.304554</td>\n",
       "      <td>-1.093004</td>\n",
       "      <td>-0.791054</td>\n",
       "      <td>-0.710205</td>\n",
       "      <td>-0.657262</td>\n",
       "    </tr>\n",
       "    <tr>\n",
       "      <th>Bottom 5% Slope removed</th>\n",
       "      <td>-1.629203</td>\n",
       "      <td>-1.583190</td>\n",
       "      <td>-1.184340</td>\n",
       "      <td>-0.799831</td>\n",
       "      <td>-0.684337</td>\n",
       "      <td>-0.632386</td>\n",
       "    </tr>\n",
       "    <tr>\n",
       "      <th>Slope = VIX 12-VIX 1</th>\n",
       "      <td>-1.293989</td>\n",
       "      <td>-1.292387</td>\n",
       "      <td>-1.246605</td>\n",
       "      <td>-0.712265</td>\n",
       "      <td>-0.574801</td>\n",
       "      <td>-0.625708</td>\n",
       "    </tr>\n",
       "  </tbody>\n",
       "</table>\n",
       "</div>"
      ],
      "text/plain": [
       "                         V_S_R 1 month  V_S_R 2 month  V_S_R 3 month  \\\n",
       "Range                        -1.433343      -1.590706      -1.373655   \n",
       "Next-Month Returns          -35.525924     -33.029879     -27.574965   \n",
       "Crisis Removed               -1.213776      -1.304554      -1.093004   \n",
       "Bottom 5% Slope removed      -1.629203      -1.583190      -1.184340   \n",
       "Slope = VIX 12-VIX 1         -1.293989      -1.292387      -1.246605   \n",
       "\n",
       "                         V_S_R 6 month  V_S_R 9 month  V_S_R 12 month  \n",
       "Range                        -0.872690      -0.723868       -0.677846  \n",
       "Next-Month Returns          -17.765268     -14.299446      -10.653571  \n",
       "Crisis Removed               -0.791054      -0.710205       -0.657262  \n",
       "Bottom 5% Slope removed      -0.799831      -0.684337       -0.632386  \n",
       "Slope = VIX 12-VIX 1         -0.712265      -0.574801       -0.625708  "
      ]
     },
     "execution_count": 1005,
     "metadata": {},
     "output_type": "execute_result"
    }
   ],
   "source": [
    "VS_Robustness"
   ]
  },
  {
   "cell_type": "markdown",
   "id": "26d7da8e",
   "metadata": {},
   "source": [
    "### VIX Futures"
   ]
  },
  {
   "cell_type": "markdown",
   "id": "4c657ecf",
   "metadata": {},
   "source": [
    "### Next-month Returns"
   ]
  },
  {
   "cell_type": "code",
   "execution_count": 1006,
   "id": "4cb02e7e",
   "metadata": {},
   "outputs": [],
   "source": [
    "m_ES_VF = cr_VIX_FUT\n",
    "m_ES_VF['Slope_Quantile'] = pd.qcut(scaled_VF['Slope'], q=5, labels=False)\n",
    "m_VF_Q_Ret = m_ES_VF.sort_values(by='Slope_Quantile').groupby('Slope_Quantile').mean(numeric_only=True)*100\n",
    "range_row = pd.DataFrame(m_VF_Q_Ret.min() - m_VF_Q_Ret.max()).T\n",
    "range_row.index = ['Next-Month Returns']\n",
    "m_VF_Q_Ret = pd.concat([m_VF_Q_Ret, range_row])"
   ]
  },
  {
   "cell_type": "code",
   "execution_count": 1007,
   "id": "46f2be09",
   "metadata": {},
   "outputs": [],
   "source": [
    "VF_Robustness = VF_Q_Ret.iloc[5:,:]\n",
    "VF_Robustness = pd.concat([VF_Robustness, m_VF_Q_Ret.iloc[5:,:]])"
   ]
  },
  {
   "cell_type": "markdown",
   "id": "744ddd62",
   "metadata": {},
   "source": [
    "### Crisis Removed"
   ]
  },
  {
   "cell_type": "code",
   "execution_count": 1008,
   "id": "a661d127",
   "metadata": {},
   "outputs": [],
   "source": [
    "NC_ES_VF = XS_NC_VF[1:].reset_index(drop=True)\n",
    "NC_ES_VF['Slope_Quantile'] = pd.qcut(scaled_NC_VF['Slope'], q=5, labels=False)\n",
    "NC_VF_Q_Ret = NC_ES_VF.sort_values(by='Slope_Quantile').groupby('Slope_Quantile').mean(numeric_only=True)*100\n",
    "range_row = pd.DataFrame(NC_VF_Q_Ret.min() - NC_VF_Q_Ret.max()).T\n",
    "range_row.index = ['Crisis Removed']\n",
    "NC_VF_Q_Ret = pd.concat([NC_VF_Q_Ret, range_row])"
   ]
  },
  {
   "cell_type": "code",
   "execution_count": 1009,
   "id": "0d5d55bf",
   "metadata": {},
   "outputs": [],
   "source": [
    "VF_Robustness = pd.concat([VF_Robustness, NC_VF_Q_Ret.iloc[5:,:]])"
   ]
  },
  {
   "cell_type": "markdown",
   "id": "ad8427b3",
   "metadata": {},
   "source": [
    "### Bottom 5% Slope removed"
   ]
  },
  {
   "cell_type": "code",
   "execution_count": 1010,
   "id": "a765bd92",
   "metadata": {},
   "outputs": [],
   "source": [
    "ES_VF = XS_VIX_FUT[1:].reset_index(drop=True)\n",
    "ES_VF['Slope'] = scaled_VF['Slope']\n",
    "ES_VF['Slope_Quantile'] = pd.qcut(scaled_VF['Slope'], q=5, labels=False)\n",
    "ES_VF = ES_VF[ES_VF['Slope'] > ES_VF['Slope'].quantile(0.05)]\n",
    "ES_VF = ES_VF.drop('Slope',axis=1)\n",
    "BFIVE_VF_Q_Ret = ES_VF.sort_values(by='Slope_Quantile').groupby('Slope_Quantile').mean(numeric_only=True)*100\n",
    "range_row = pd.DataFrame(BFIVE_VF_Q_Ret.min() - BFIVE_VF_Q_Ret.max()).T\n",
    "range_row.index = ['Bottom 5% Slope removed']\n",
    "BFIVE_VF_Q_Ret = pd.concat([BFIVE_VF_Q_Ret, range_row])"
   ]
  },
  {
   "cell_type": "code",
   "execution_count": 1011,
   "id": "2cd2648f",
   "metadata": {},
   "outputs": [],
   "source": [
    "VF_Robustness = pd.concat([VF_Robustness, BFIVE_VF_Q_Ret.iloc[5:,:]])"
   ]
  },
  {
   "cell_type": "code",
   "execution_count": 1012,
   "id": "024b3a92",
   "metadata": {},
   "outputs": [
    {
     "data": {
      "text/html": [
       "<div>\n",
       "<style scoped>\n",
       "    .dataframe tbody tr th:only-of-type {\n",
       "        vertical-align: middle;\n",
       "    }\n",
       "\n",
       "    .dataframe tbody tr th {\n",
       "        vertical-align: top;\n",
       "    }\n",
       "\n",
       "    .dataframe thead th {\n",
       "        text-align: right;\n",
       "    }\n",
       "</style>\n",
       "<table border=\"1\" class=\"dataframe\">\n",
       "  <thead>\n",
       "    <tr style=\"text-align: right;\">\n",
       "      <th></th>\n",
       "      <th>V_F_R 1 month</th>\n",
       "      <th>V_F_R 2 month</th>\n",
       "      <th>V_F_R 3 month</th>\n",
       "      <th>V_F_R 6 month</th>\n",
       "      <th>V_F_R 9 month</th>\n",
       "      <th>V_F_R 12 month</th>\n",
       "    </tr>\n",
       "  </thead>\n",
       "  <tbody>\n",
       "    <tr>\n",
       "      <th>Range</th>\n",
       "      <td>-0.562433</td>\n",
       "      <td>-0.551580</td>\n",
       "      <td>-0.327167</td>\n",
       "      <td>-0.431833</td>\n",
       "      <td>-0.393833</td>\n",
       "      <td>-0.254716</td>\n",
       "    </tr>\n",
       "    <tr>\n",
       "      <th>Next-Month Returns</th>\n",
       "      <td>-13.217869</td>\n",
       "      <td>-12.878687</td>\n",
       "      <td>-7.776461</td>\n",
       "      <td>-9.887845</td>\n",
       "      <td>-8.765469</td>\n",
       "      <td>-6.539853</td>\n",
       "    </tr>\n",
       "    <tr>\n",
       "      <th>Crisis Removed</th>\n",
       "      <td>-0.328988</td>\n",
       "      <td>-0.273191</td>\n",
       "      <td>-0.207673</td>\n",
       "      <td>-0.214958</td>\n",
       "      <td>-0.177985</td>\n",
       "      <td>-0.252202</td>\n",
       "    </tr>\n",
       "    <tr>\n",
       "      <th>Bottom 5% Slope removed</th>\n",
       "      <td>-0.405200</td>\n",
       "      <td>-0.396712</td>\n",
       "      <td>-0.239052</td>\n",
       "      <td>-0.329009</td>\n",
       "      <td>-0.257379</td>\n",
       "      <td>-0.176491</td>\n",
       "    </tr>\n",
       "  </tbody>\n",
       "</table>\n",
       "</div>"
      ],
      "text/plain": [
       "                         V_F_R 1 month  V_F_R 2 month  V_F_R 3 month  \\\n",
       "Range                        -0.562433      -0.551580      -0.327167   \n",
       "Next-Month Returns          -13.217869     -12.878687      -7.776461   \n",
       "Crisis Removed               -0.328988      -0.273191      -0.207673   \n",
       "Bottom 5% Slope removed      -0.405200      -0.396712      -0.239052   \n",
       "\n",
       "                         V_F_R 6 month  V_F_R 9 month  V_F_R 12 month  \n",
       "Range                        -0.431833      -0.393833       -0.254716  \n",
       "Next-Month Returns           -9.887845      -8.765469       -6.539853  \n",
       "Crisis Removed               -0.214958      -0.177985       -0.252202  \n",
       "Bottom 5% Slope removed      -0.329009      -0.257379       -0.176491  "
      ]
     },
     "execution_count": 1012,
     "metadata": {},
     "output_type": "execute_result"
    }
   ],
   "source": [
    "VF_Robustness"
   ]
  },
  {
   "cell_type": "markdown",
   "id": "72b0d9e6",
   "metadata": {},
   "source": [
    "### Slope = VIX12 - VIX1"
   ]
  },
  {
   "cell_type": "code",
   "execution_count": 1013,
   "id": "31096fce",
   "metadata": {},
   "outputs": [],
   "source": [
    "NM_ES_VF = XS_VIX_FUT[1:].reset_index(drop=True)\n",
    "NM_ES_VF['Slope_Quantile'] = pd.qcut((VIX_FUT_MERGED['12 month'] - VIX_FUT_MERGED['1 month']), q=5, labels=False).reset_index(drop=True)\n",
    "NM_VF_Q_Ret = NM_ES_VF.sort_values(by='Slope_Quantile').groupby('Slope_Quantile').mean(numeric_only=True)*100\n",
    "range_row = pd.DataFrame(NM_VF_Q_Ret.min() - NM_VF_Q_Ret.max()).T\n",
    "range_row.index = ['Slope = VIX 12-VIX 1']\n",
    "NM_VF_Q_Ret = pd.concat([NM_VF_Q_Ret, range_row])"
   ]
  },
  {
   "cell_type": "code",
   "execution_count": 1014,
   "id": "aebe69fb",
   "metadata": {},
   "outputs": [],
   "source": [
    "VF_Robustness = pd.concat([VF_Robustness, NM_VF_Q_Ret.iloc[5:,:]])"
   ]
  },
  {
   "cell_type": "code",
   "execution_count": 1015,
   "id": "3c559d00",
   "metadata": {},
   "outputs": [
    {
     "data": {
      "text/html": [
       "<div>\n",
       "<style scoped>\n",
       "    .dataframe tbody tr th:only-of-type {\n",
       "        vertical-align: middle;\n",
       "    }\n",
       "\n",
       "    .dataframe tbody tr th {\n",
       "        vertical-align: top;\n",
       "    }\n",
       "\n",
       "    .dataframe thead th {\n",
       "        text-align: right;\n",
       "    }\n",
       "</style>\n",
       "<table border=\"1\" class=\"dataframe\">\n",
       "  <thead>\n",
       "    <tr style=\"text-align: right;\">\n",
       "      <th></th>\n",
       "      <th>V_F_R 1 month</th>\n",
       "      <th>V_F_R 2 month</th>\n",
       "      <th>V_F_R 3 month</th>\n",
       "      <th>V_F_R 6 month</th>\n",
       "      <th>V_F_R 9 month</th>\n",
       "      <th>V_F_R 12 month</th>\n",
       "    </tr>\n",
       "  </thead>\n",
       "  <tbody>\n",
       "    <tr>\n",
       "      <th>Range</th>\n",
       "      <td>-0.562433</td>\n",
       "      <td>-0.551580</td>\n",
       "      <td>-0.327167</td>\n",
       "      <td>-0.431833</td>\n",
       "      <td>-0.393833</td>\n",
       "      <td>-0.254716</td>\n",
       "    </tr>\n",
       "    <tr>\n",
       "      <th>Next-Month Returns</th>\n",
       "      <td>-13.217869</td>\n",
       "      <td>-12.878687</td>\n",
       "      <td>-7.776461</td>\n",
       "      <td>-9.887845</td>\n",
       "      <td>-8.765469</td>\n",
       "      <td>-6.539853</td>\n",
       "    </tr>\n",
       "    <tr>\n",
       "      <th>Crisis Removed</th>\n",
       "      <td>-0.328988</td>\n",
       "      <td>-0.273191</td>\n",
       "      <td>-0.207673</td>\n",
       "      <td>-0.214958</td>\n",
       "      <td>-0.177985</td>\n",
       "      <td>-0.252202</td>\n",
       "    </tr>\n",
       "    <tr>\n",
       "      <th>Bottom 5% Slope removed</th>\n",
       "      <td>-0.405200</td>\n",
       "      <td>-0.396712</td>\n",
       "      <td>-0.239052</td>\n",
       "      <td>-0.329009</td>\n",
       "      <td>-0.257379</td>\n",
       "      <td>-0.176491</td>\n",
       "    </tr>\n",
       "    <tr>\n",
       "      <th>Slope = VIX 12-VIX 1</th>\n",
       "      <td>-0.410109</td>\n",
       "      <td>-0.500155</td>\n",
       "      <td>-0.440284</td>\n",
       "      <td>-0.342576</td>\n",
       "      <td>-0.337151</td>\n",
       "      <td>-0.470074</td>\n",
       "    </tr>\n",
       "  </tbody>\n",
       "</table>\n",
       "</div>"
      ],
      "text/plain": [
       "                         V_F_R 1 month  V_F_R 2 month  V_F_R 3 month  \\\n",
       "Range                        -0.562433      -0.551580      -0.327167   \n",
       "Next-Month Returns          -13.217869     -12.878687      -7.776461   \n",
       "Crisis Removed               -0.328988      -0.273191      -0.207673   \n",
       "Bottom 5% Slope removed      -0.405200      -0.396712      -0.239052   \n",
       "Slope = VIX 12-VIX 1         -0.410109      -0.500155      -0.440284   \n",
       "\n",
       "                         V_F_R 6 month  V_F_R 9 month  V_F_R 12 month  \n",
       "Range                        -0.431833      -0.393833       -0.254716  \n",
       "Next-Month Returns           -9.887845      -8.765469       -6.539853  \n",
       "Crisis Removed               -0.214958      -0.177985       -0.252202  \n",
       "Bottom 5% Slope removed      -0.329009      -0.257379       -0.176491  \n",
       "Slope = VIX 12-VIX 1         -0.342576      -0.337151       -0.470074  "
      ]
     },
     "execution_count": 1015,
     "metadata": {},
     "output_type": "execute_result"
    }
   ],
   "source": [
    "VF_Robustness"
   ]
  },
  {
   "cell_type": "markdown",
   "id": "3d49e63a",
   "metadata": {},
   "source": [
    "### Straddle"
   ]
  },
  {
   "cell_type": "markdown",
   "id": "c33e956c",
   "metadata": {},
   "source": [
    "### Next-month Returns"
   ]
  },
  {
   "cell_type": "code",
   "execution_count": 1016,
   "id": "1f401d63",
   "metadata": {},
   "outputs": [],
   "source": [
    "m_ES_S = cr_STRADDLE\n",
    "m_ES_S['Slope_Quantile'] = pd.qcut(scaled_S['Slope'], q=5, labels=False)\n",
    "m_S_Q_Ret = m_ES_S.sort_values(by='Slope_Quantile').groupby('Slope_Quantile').mean(numeric_only=True)*100\n",
    "range_row = pd.DataFrame(m_S_Q_Ret.min() - m_S_Q_Ret.max()).T\n",
    "range_row.index = ['Next-Month Returns']\n",
    "m_S_Q_Ret = pd.concat([m_S_Q_Ret, range_row])"
   ]
  },
  {
   "cell_type": "code",
   "execution_count": 1017,
   "id": "ab7e3db6",
   "metadata": {},
   "outputs": [],
   "source": [
    "S_Robustness = S_Q_Ret.iloc[5:,:]\n",
    "S_Robustness = pd.concat([S_Robustness, m_S_Q_Ret.iloc[5:,:]])"
   ]
  },
  {
   "cell_type": "markdown",
   "id": "5a9a4650",
   "metadata": {},
   "source": [
    "### Crisis Removed"
   ]
  },
  {
   "cell_type": "code",
   "execution_count": 1018,
   "id": "818f668a",
   "metadata": {},
   "outputs": [],
   "source": [
    "NC_ES_S = XS_NC_S[1:].reset_index(drop=True)\n",
    "NC_ES_S['Slope_Quantile'] = pd.qcut(scaled_NC_S['Slope'], q=5, labels=False)\n",
    "NC_S_Q_Ret = NC_ES_S.sort_values(by='Slope_Quantile').groupby('Slope_Quantile').mean(numeric_only=True)*100\n",
    "range_row = pd.DataFrame(NC_S_Q_Ret.min() - NC_S_Q_Ret.max()).T\n",
    "range_row.index = ['Crisis Removed']\n",
    "NC_S_Q_Ret = pd.concat([NC_S_Q_Ret, range_row])"
   ]
  },
  {
   "cell_type": "code",
   "execution_count": 1019,
   "id": "e50ab5ee",
   "metadata": {},
   "outputs": [],
   "source": [
    "S_Robustness = pd.concat([S_Robustness, NC_S_Q_Ret.iloc[5:,:]])"
   ]
  },
  {
   "cell_type": "markdown",
   "id": "2f8134f0",
   "metadata": {},
   "source": [
    "### Bottom 5% Slope removed"
   ]
  },
  {
   "cell_type": "code",
   "execution_count": 1020,
   "id": "690eee6a",
   "metadata": {},
   "outputs": [],
   "source": [
    "ES_S = XS_STRADDLE[1:].reset_index(drop=True)\n",
    "ES_S['Slope'] = scaled_S['Slope']\n",
    "ES_S['Slope_Quantile'] = pd.qcut(scaled_S['Slope'], q=5, labels=False)\n",
    "ES_S = ES_S[ES_S['Slope'] > ES_S['Slope'].quantile(0.05)]\n",
    "ES_S = ES_S.drop('Slope',axis=1)\n",
    "BFIVE_S_Q_Ret = ES_S.sort_values(by='Slope_Quantile').groupby('Slope_Quantile').mean(numeric_only=True)*100\n",
    "range_row = pd.DataFrame(BFIVE_S_Q_Ret.min() - BFIVE_S_Q_Ret.max()).T\n",
    "range_row.index = ['Bottom 5% Slope removed']\n",
    "BFIVE_S_Q_Ret = pd.concat([BFIVE_S_Q_Ret, range_row])"
   ]
  },
  {
   "cell_type": "code",
   "execution_count": 1021,
   "id": "800392d2",
   "metadata": {},
   "outputs": [],
   "source": [
    "S_Robustness = pd.concat([S_Robustness, BFIVE_S_Q_Ret.iloc[5:,:]])"
   ]
  },
  {
   "cell_type": "markdown",
   "id": "5fe5e552",
   "metadata": {},
   "source": [
    "### Slope = VIX12 - VIX1"
   ]
  },
  {
   "cell_type": "code",
   "execution_count": 1022,
   "id": "afbc66bd",
   "metadata": {},
   "outputs": [],
   "source": [
    "NM_ES_S = XS_STRADDLE[1:].reset_index(drop=True)\n",
    "NM_ES_S['Slope_Quantile'] = pd.qcut((STRADDLE_MERGED['12 month'] - STRADDLE_MERGED['1 month']), q=5, labels=False).reset_index(drop=True)\n",
    "NM_S_Q_Ret = NM_ES_S.sort_values(by='Slope_Quantile').groupby('Slope_Quantile').mean(numeric_only=True)*100\n",
    "range_row = pd.DataFrame(NM_S_Q_Ret.min() - NM_S_Q_Ret.max()).T\n",
    "range_row.index = ['Slope = VIX 12-VIX 1']\n",
    "NM_S_Q_Ret = pd.concat([NM_S_Q_Ret, range_row])"
   ]
  },
  {
   "cell_type": "code",
   "execution_count": 1023,
   "id": "c34b71d9",
   "metadata": {},
   "outputs": [],
   "source": [
    "S_Robustness = pd.concat([S_Robustness, NM_S_Q_Ret.iloc[5:,:]])"
   ]
  },
  {
   "cell_type": "code",
   "execution_count": 1024,
   "id": "35ac892f",
   "metadata": {},
   "outputs": [
    {
     "data": {
      "text/html": [
       "<div>\n",
       "<style scoped>\n",
       "    .dataframe tbody tr th:only-of-type {\n",
       "        vertical-align: middle;\n",
       "    }\n",
       "\n",
       "    .dataframe tbody tr th {\n",
       "        vertical-align: top;\n",
       "    }\n",
       "\n",
       "    .dataframe thead th {\n",
       "        text-align: right;\n",
       "    }\n",
       "</style>\n",
       "<table border=\"1\" class=\"dataframe\">\n",
       "  <thead>\n",
       "    <tr style=\"text-align: right;\">\n",
       "      <th></th>\n",
       "      <th>S_R 1 month</th>\n",
       "      <th>S_R 2 month</th>\n",
       "      <th>S_R 3 month</th>\n",
       "      <th>S_R 6 month</th>\n",
       "      <th>S_R 9 month</th>\n",
       "      <th>S_R 12 month</th>\n",
       "    </tr>\n",
       "  </thead>\n",
       "  <tbody>\n",
       "    <tr>\n",
       "      <th>Range</th>\n",
       "      <td>-0.958364</td>\n",
       "      <td>-0.729663</td>\n",
       "      <td>-0.695108</td>\n",
       "      <td>-0.508659</td>\n",
       "      <td>-0.405348</td>\n",
       "      <td>-0.307086</td>\n",
       "    </tr>\n",
       "    <tr>\n",
       "      <th>Next-Month Returns</th>\n",
       "      <td>-18.394685</td>\n",
       "      <td>-13.368522</td>\n",
       "      <td>-12.541455</td>\n",
       "      <td>-8.882468</td>\n",
       "      <td>-7.542562</td>\n",
       "      <td>-6.218885</td>\n",
       "    </tr>\n",
       "    <tr>\n",
       "      <th>Crisis Removed</th>\n",
       "      <td>-0.815367</td>\n",
       "      <td>-0.629175</td>\n",
       "      <td>-0.580671</td>\n",
       "      <td>-0.462567</td>\n",
       "      <td>-0.344703</td>\n",
       "      <td>-0.292992</td>\n",
       "    </tr>\n",
       "    <tr>\n",
       "      <th>Bottom 5% Slope removed</th>\n",
       "      <td>-0.945486</td>\n",
       "      <td>-0.657269</td>\n",
       "      <td>-0.592211</td>\n",
       "      <td>-0.423229</td>\n",
       "      <td>-0.334038</td>\n",
       "      <td>-0.257097</td>\n",
       "    </tr>\n",
       "    <tr>\n",
       "      <th>Slope = VIX 12-VIX 1</th>\n",
       "      <td>-0.697666</td>\n",
       "      <td>-0.539523</td>\n",
       "      <td>-0.498109</td>\n",
       "      <td>-0.320465</td>\n",
       "      <td>-0.246951</td>\n",
       "      <td>-0.221521</td>\n",
       "    </tr>\n",
       "  </tbody>\n",
       "</table>\n",
       "</div>"
      ],
      "text/plain": [
       "                         S_R 1 month  S_R 2 month  S_R 3 month  S_R 6 month  \\\n",
       "Range                      -0.958364    -0.729663    -0.695108    -0.508659   \n",
       "Next-Month Returns        -18.394685   -13.368522   -12.541455    -8.882468   \n",
       "Crisis Removed             -0.815367    -0.629175    -0.580671    -0.462567   \n",
       "Bottom 5% Slope removed    -0.945486    -0.657269    -0.592211    -0.423229   \n",
       "Slope = VIX 12-VIX 1       -0.697666    -0.539523    -0.498109    -0.320465   \n",
       "\n",
       "                         S_R 9 month  S_R 12 month  \n",
       "Range                      -0.405348     -0.307086  \n",
       "Next-Month Returns         -7.542562     -6.218885  \n",
       "Crisis Removed             -0.344703     -0.292992  \n",
       "Bottom 5% Slope removed    -0.334038     -0.257097  \n",
       "Slope = VIX 12-VIX 1       -0.246951     -0.221521  "
      ]
     },
     "execution_count": 1024,
     "metadata": {},
     "output_type": "execute_result"
    }
   ],
   "source": [
    "S_Robustness"
   ]
  },
  {
   "cell_type": "markdown",
   "id": "807e5ec4",
   "metadata": {},
   "source": [
    "### Slope as an Incremental Predictor of Variance Asset Returns"
   ]
  },
  {
   "cell_type": "code",
   "execution_count": 1044,
   "id": "772a942d",
   "metadata": {},
   "outputs": [],
   "source": [
    "Y = XS_STRADDLE.iloc[:, 1:][1:].reset_index(drop=True)"
   ]
  },
  {
   "cell_type": "code",
   "execution_count": 1060,
   "id": "ffec0ae3",
   "metadata": {},
   "outputs": [],
   "source": [
    "X1 = scaled_S['Slope'][:-1]\n",
    "X2 = XS_STRADDLE.iloc[:, 1:][:-1]\n",
    "\n",
    "X4 = STRADDLE_MERGED.iloc[:,:6][:-1].reset_index(drop=True)"
   ]
  },
  {
   "cell_type": "code",
   "execution_count": null,
   "id": "2bee8abf",
   "metadata": {},
   "outputs": [],
   "source": []
  }
 ],
 "metadata": {
  "kernelspec": {
   "display_name": "Python 3",
   "language": "python",
   "name": "python3"
  },
  "language_info": {
   "codemirror_mode": {
    "name": "ipython",
    "version": 3
   },
   "file_extension": ".py",
   "mimetype": "text/x-python",
   "name": "python",
   "nbconvert_exporter": "python",
   "pygments_lexer": "ipython3",
   "version": "3.8.5"
  }
 },
 "nbformat": 4,
 "nbformat_minor": 5
}
