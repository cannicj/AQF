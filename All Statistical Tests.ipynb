{
 "cells": [
  {
   "cell_type": "code",
   "execution_count": 1,
   "id": "4d3528e3",
   "metadata": {},
   "outputs": [
    {
     "name": "stderr",
     "output_type": "stream",
     "text": [
      "/Users/juliusraschke/opt/anaconda3/lib/python3.8/site-packages/statsmodels/tsa/base/tsa_model.py:7: FutureWarning: pandas.Int64Index is deprecated and will be removed from pandas in a future version. Use pandas.Index with the appropriate dtype instead.\n",
      "  from pandas import (to_datetime, Int64Index, DatetimeIndex, Period,\n",
      "/Users/juliusraschke/opt/anaconda3/lib/python3.8/site-packages/statsmodels/tsa/base/tsa_model.py:7: FutureWarning: pandas.Float64Index is deprecated and will be removed from pandas in a future version. Use pandas.Index with the appropriate dtype instead.\n",
      "  from pandas import (to_datetime, Int64Index, DatetimeIndex, Period,\n"
     ]
    }
   ],
   "source": [
    "import pandas as pd\n",
    "import numpy as np\n",
    "import matplotlib.pyplot as plt\n",
    "import os\n",
    "import datetime\n",
    "import math\n",
    "import statsmodels.api as sm\n",
    "from statsmodels import regression, stats\n",
    "import statsmodels\n",
    "import scipy\n",
    "\n",
    "from sklearn.preprocessing import StandardScaler\n",
    "from sklearn.decomposition import PCA\n",
    "from sklearn.preprocessing import MinMaxScaler\n",
    "\n",
    "from scipy.stats import chisquare\n",
    "\n",
    "\n",
    "\n",
    "\n",
    "from numpy.random import seed\n",
    "from sklearn.model_selection import train_test_split\n",
    "from sklearn.neural_network import MLPRegressor\n",
    "from sklearn.metrics import mean_squared_error, silhouette_score\n",
    "\n"
   ]
  },
  {
   "cell_type": "code",
   "execution_count": 2,
   "id": "5c8d57e2",
   "metadata": {},
   "outputs": [],
   "source": [
    "DATA_PATH = '/Users/juliusraschke/Documents/Quantitative Finance/Summer Semester 2/Advanced Quant Finance/Data'"
   ]
  },
  {
   "cell_type": "markdown",
   "id": "6fbc6af1",
   "metadata": {},
   "source": [
    "### Load in VIX Term Structure"
   ]
  },
  {
   "cell_type": "code",
   "execution_count": 3,
   "id": "c483b23c",
   "metadata": {},
   "outputs": [],
   "source": [
    "VIX_TS = pd.read_csv(DATA_PATH + '/VIX_TS_CUSTOM.csv')\n",
    "\n",
    "VIX_TS = VIX_TS.rename({'Date':'DATE','VIX_1^2':'1 month','VIX_2^2':'2 month','VIX_3^2':'3 month','VIX_6^2':'6 month',\n",
    "               'VIX_9^2':'9 month','VIX_12^2':'12 month'},axis=1)\n",
    "\n",
    "VIX_TS['DATE'] = pd.to_datetime(VIX_TS['DATE'], format = '%d/%m/%Y')"
   ]
  },
  {
   "cell_type": "markdown",
   "id": "1580af7b",
   "metadata": {},
   "source": [
    "### Load in VIX Future Returns"
   ]
  },
  {
   "cell_type": "code",
   "execution_count": 4,
   "id": "ab91e59f",
   "metadata": {},
   "outputs": [
    {
     "name": "stderr",
     "output_type": "stream",
     "text": [
      "<ipython-input-4-eca8a35d4dd3>:2: FutureWarning: In a future version of pandas all arguments of DataFrame.drop except for the argument 'labels' will be keyword-only.\n",
      "  VIX_FUT = VIX_FUT.drop('Unnamed: 0',1)\n"
     ]
    }
   ],
   "source": [
    "VIX_FUT = pd.read_csv(DATA_PATH + '/OUR_VIX_FUT_RET_ENTIRE.csv')\n",
    "VIX_FUT = VIX_FUT.drop('Unnamed: 0',1)\n"
   ]
  },
  {
   "cell_type": "code",
   "execution_count": 5,
   "id": "839e3d91",
   "metadata": {},
   "outputs": [],
   "source": [
    "\n",
    "VIX_FUT = VIX_FUT.rename({'Date':'DATE','r_1^{VIX fut.}':'1 month','r_2^{VIX fut.}':'2 month','r_3^{VIX fut.}':'3 month',\n",
    "                         'r_4^{VIX fut.}':'4 month','r_5^{VIX fut.}':'5 month','r_6^{VIX fut.}':'6 month'},axis=1)"
   ]
  },
  {
   "cell_type": "code",
   "execution_count": 6,
   "id": "269a00f1",
   "metadata": {},
   "outputs": [],
   "source": [
    "column_mapping = {\n",
    "    '1 month': 'V_F_R 1 month',\n",
    "    '2 month': 'V_F_R 2 month',\n",
    "    '3 month': 'V_F_R 3 month',\n",
    "    '4 month': 'V_F_R 6 month',\n",
    "    '5 month': 'V_F_R 9 month',\n",
    "    '6 month': 'V_F_R 12 month',\n",
    "}\n",
    "\n",
    "VIX_FUT.rename(columns=column_mapping, inplace=True)"
   ]
  },
  {
   "cell_type": "markdown",
   "id": "4446670f",
   "metadata": {},
   "source": [
    "### Load in our Variance Swap Returns"
   ]
  },
  {
   "cell_type": "code",
   "execution_count": 7,
   "id": "2ebaf508",
   "metadata": {},
   "outputs": [
    {
     "name": "stderr",
     "output_type": "stream",
     "text": [
      "<ipython-input-7-52fd60118f46>:2: FutureWarning: In a future version of pandas all arguments of DataFrame.drop except for the argument 'labels' will be keyword-only.\n",
      "  VAR_SWAPS = VAR_SWAPS.drop('Unnamed: 0',1)\n"
     ]
    }
   ],
   "source": [
    "VAR_SWAPS = pd.read_csv(DATA_PATH + '/VAR_SWAP_RET_CUSTOM.csv')\n",
    "VAR_SWAPS = VAR_SWAPS.drop('Unnamed: 0',1)\n",
    "VAR_SWAPS = VAR_SWAPS.dropna()"
   ]
  },
  {
   "cell_type": "code",
   "execution_count": 8,
   "id": "6b5ba7b1",
   "metadata": {},
   "outputs": [],
   "source": [
    "VAR_SWAPS = VAR_SWAPS.rename({'Date':'DATE','1m':'1 month','2m':'2 month','3m':'3 month',\n",
    "                         '6m':'6 month','9m':'9 month','12m':'12 month'},axis=1)"
   ]
  },
  {
   "cell_type": "code",
   "execution_count": 9,
   "id": "4b8f5605",
   "metadata": {},
   "outputs": [],
   "source": [
    "column_mapping = {\n",
    "    '1 month': 'V_S_R 1 month',\n",
    "    '2 month': 'V_S_R 2 month',\n",
    "    '3 month': 'V_S_R 3 month',\n",
    "    '6 month': 'V_S_R 6 month',\n",
    "    '9 month': 'V_S_R 9 month',\n",
    "    '12 month': 'V_S_R 12 month',\n",
    "}\n",
    "\n",
    "VAR_SWAPS.rename(columns=column_mapping, inplace=True)"
   ]
  },
  {
   "cell_type": "markdown",
   "id": "37ba5b6c",
   "metadata": {},
   "source": [
    "### Load in alternative Swap Returns"
   ]
  },
  {
   "cell_type": "code",
   "execution_count": 2477,
   "id": "751f6474",
   "metadata": {},
   "outputs": [
    {
     "name": "stderr",
     "output_type": "stream",
     "text": [
      "<ipython-input-2477-0f0b29efc197>:2: FutureWarning: In a future version of pandas all arguments of DataFrame.drop except for the argument 'labels' will be keyword-only.\n",
      "  VAR_SWAPS = VAR_SWAPS.drop('Unnamed: 0',1)\n"
     ]
    }
   ],
   "source": [
    "VAR_SWAPS = pd.read_csv(DATA_PATH + '/VAR_SWAP_RET_BBG.csv')\n",
    "VAR_SWAPS = VAR_SWAPS.drop('Unnamed: 0',1)\n",
    "VAR_SWAPS = VAR_SWAPS.dropna()"
   ]
  },
  {
   "cell_type": "code",
   "execution_count": 2478,
   "id": "84afc418",
   "metadata": {},
   "outputs": [],
   "source": [
    "VAR_SWAPS = VAR_SWAPS.rename({'Date':'DATE','1m_BBG':'1 month','2m_BBG':'2 month','3m_BBG':'3 month',\n",
    "                         '6m_BBG':'6 month','9m_BBG':'9 month','12m_BBG':'12 month'},axis=1)"
   ]
  },
  {
   "cell_type": "code",
   "execution_count": 2479,
   "id": "3eeccf0b",
   "metadata": {},
   "outputs": [],
   "source": [
    "column_mapping = {\n",
    "    '1 month': 'V_S_R 1 month',\n",
    "    '2 month': 'V_S_R 2 month',\n",
    "    '3 month': 'V_S_R 3 month',\n",
    "    '6 month': 'V_S_R 6 month',\n",
    "    '9 month': 'V_S_R 9 month',\n",
    "    '12 month': 'V_S_R 12 month',\n",
    "}\n",
    "\n",
    "VAR_SWAPS.rename(columns=column_mapping, inplace=True)"
   ]
  },
  {
   "cell_type": "code",
   "execution_count": 2480,
   "id": "b9c11fab",
   "metadata": {},
   "outputs": [],
   "source": [
    "VAR_SWAPS = VAR_SWAPS[:2500]"
   ]
  },
  {
   "cell_type": "markdown",
   "id": "eea6205e",
   "metadata": {},
   "source": [
    "### Load in Straddle Returns"
   ]
  },
  {
   "cell_type": "code",
   "execution_count": 10,
   "id": "c4ff4392",
   "metadata": {},
   "outputs": [],
   "source": [
    "STRADDLE = pd.read_csv(DATA_PATH + '/straddle_returns_correct.csv')\n",
    "\n",
    "STRADDLE = STRADDLE.rename({'date':'DATE',\n",
    "                            'return_30':'1 month','return_60':'2 month','return_90':'3 month',\n",
    "                            'return_180':'6 month','return_270':'9 month','return_360':'12 month',\n",
    "                            },axis=1)\n",
    "\n",
    "STRADDLE_LONG = STRADDLE"
   ]
  },
  {
   "cell_type": "code",
   "execution_count": 11,
   "id": "6b623539",
   "metadata": {},
   "outputs": [],
   "source": [
    "column_mapping = {\n",
    "    '1 month': 'S_R 1 month',\n",
    "    '2 month': 'S_R 2 month',\n",
    "    '3 month': 'S_R 3 month',\n",
    "    '6 month': 'S_R 6 month',\n",
    "    '9 month': 'S_R 9 month',\n",
    "    '12 month': 'S_R 12 month',\n",
    "}\n",
    "\n",
    "STRADDLE_LONG.rename(columns=column_mapping, inplace=True)"
   ]
  },
  {
   "cell_type": "markdown",
   "id": "9c84d96d",
   "metadata": {},
   "source": [
    "### Get summary statistics for VIX_TS"
   ]
  },
  {
   "cell_type": "code",
   "execution_count": 12,
   "id": "38a8fa6a",
   "metadata": {},
   "outputs": [
    {
     "name": "stderr",
     "output_type": "stream",
     "text": [
      "<ipython-input-12-1a36c6aef8c0>:2: FutureWarning: The default value of numeric_only in DataFrame.quantile is deprecated. In a future version, it will default to False. Select only valid columns or specify the value of numeric_only to silence this warning.\n",
      "  VIX_TS.quantile(0.01)\n",
      "<ipython-input-12-1a36c6aef8c0>:3: FutureWarning: DataFrame.mean and DataFrame.median with numeric_only=None will include datetime64 and datetime64tz columns in a future version.\n",
      "  VIX_TS.median()\n"
     ]
    },
    {
     "data": {
      "text/plain": [
       "1 month     0.031879\n",
       "2 month     0.034022\n",
       "3 month     0.035288\n",
       "6 month     0.038493\n",
       "9 month     0.040251\n",
       "12 month    0.040942\n",
       "dtype: float64"
      ]
     },
     "execution_count": 12,
     "metadata": {},
     "output_type": "execute_result"
    }
   ],
   "source": [
    "VIX_TS.describe\n",
    "VIX_TS.quantile(0.01)\n",
    "VIX_TS.median()"
   ]
  },
  {
   "cell_type": "markdown",
   "id": "e665d885",
   "metadata": {},
   "source": [
    "### VIX_TS PCA"
   ]
  },
  {
   "cell_type": "code",
   "execution_count": 13,
   "id": "8659a450",
   "metadata": {},
   "outputs": [
    {
     "name": "stdout",
     "output_type": "stream",
     "text": [
      "Components:\n",
      "[[ 0.53632223  0.47794522  0.43366676  0.34817237  0.30616177  0.28443091]\n",
      " [ 0.590623    0.21078547 -0.01793026 -0.33777433 -0.47101191 -0.52006609]\n",
      " [ 0.56227136 -0.39365363 -0.5703049  -0.10336025  0.18462831  0.39858387]\n",
      " [-0.20089877  0.6147487  -0.22228398 -0.59879547  0.00081283  0.41684156]\n",
      " [-0.08192512  0.44069467 -0.66097825  0.53212865  0.04451822 -0.27756343]\n",
      " [ 0.01737258  0.00684912 -0.00784512 -0.33508842  0.80519725 -0.4888383 ]]\n",
      "\n",
      "Variance Proportions:\n",
      "[9.64019017e-01 3.42489252e-02 1.39286802e-03 2.12802987e-04\n",
      " 1.02710122e-04 2.36768828e-05]\n"
     ]
    }
   ],
   "source": [
    "pca1 = PCA()\n",
    "X = VIX_TS.iloc[:,1:7]\n",
    "pca1.fit(X)\n",
    "print('Components:')\n",
    "print(pca1.components_)\n",
    "print('')\n",
    "print('Variance Proportions:')\n",
    "print(pca1.explained_variance_ratio_)\n",
    "SLOPE1 = pca1.transform(X)[:,1]\n",
    "\n",
    "pca = pca1.components_"
   ]
  },
  {
   "cell_type": "code",
   "execution_count": 14,
   "id": "31eaf14a",
   "metadata": {},
   "outputs": [
    {
     "name": "stdout",
     "output_type": "stream",
     "text": [
      "643.8368378861719\n",
      "22.873739358863247\n",
      "0.9302510911458216\n",
      "0.1421241697927066\n",
      "0.06859673794379725\n",
      "0.015813017281843488\n"
     ]
    },
    {
     "name": "stderr",
     "output_type": "stream",
     "text": [
      "<ipython-input-14-26b6029a49a1>:6: FutureWarning: The default value of numeric_only in DataFrame.var is deprecated. In a future version, it will default to False. In addition, specifying 'numeric_only=None' is deprecated. Select only valid columns or specify the value of numeric_only to silence this warning.\n",
      "  for value in X_trans.var():\n"
     ]
    }
   ],
   "source": [
    "X_trans = pca1.fit_transform(X)\n",
    "X_trans = pd.DataFrame(data=X_trans)\n",
    "X_trans['Date']=VIX_TS['DATE']\n",
    "X_trans = X_trans[['Date',0,1,2,3,4,5]]\n",
    "\n",
    "for value in X_trans.var():\n",
    "    print(value*100000)"
   ]
  },
  {
   "cell_type": "markdown",
   "id": "f9f82b0a",
   "metadata": {},
   "source": [
    "### Load in Interest Rate Returns"
   ]
  },
  {
   "cell_type": "code",
   "execution_count": 15,
   "id": "c8c25b0c",
   "metadata": {},
   "outputs": [],
   "source": [
    "df = pd.read_csv(DATA_PATH + '/IR.csv')"
   ]
  },
  {
   "cell_type": "code",
   "execution_count": 16,
   "id": "87f42b00",
   "metadata": {},
   "outputs": [],
   "source": [
    "# Get rates for all days which are in the 300s\n",
    "filtered_df = df[(df['days'] >= 300) & (df['days'] < 400)].reset_index(drop=True)\n",
    "\n",
    "# Sort the DataFrame by 'dates' and 'days'\n",
    "df_sorted = filtered_df.sort_values(by=['date', 'days'])\n",
    "\n",
    "# Keep the rows with the closest 'days' value to 365 for each date\n",
    "IR_TS = df_sorted.groupby('date', group_keys=False).apply(lambda group: group.iloc[(group['days'] - 365).abs().argsort()[:1]])\n",
    "\n",
    "# Reset the index if needed\n",
    "IR_TS.reset_index(drop=True, inplace=True)"
   ]
  },
  {
   "cell_type": "code",
   "execution_count": 17,
   "id": "b9a2f52e",
   "metadata": {},
   "outputs": [],
   "source": [
    "IR_TS['Daily Rate'] = ((1+IR_TS['rate'])**(1/IR_TS['days']))-1\n",
    "IR_TS = IR_TS.drop(['rate','days'],axis=1)"
   ]
  },
  {
   "cell_type": "code",
   "execution_count": 18,
   "id": "a9531fcc",
   "metadata": {},
   "outputs": [],
   "source": [
    "IR_TS.rename(columns={'date': 'DATE'}, inplace=True)"
   ]
  },
  {
   "cell_type": "markdown",
   "id": "7b6fbea9",
   "metadata": {},
   "source": [
    "### Created Merged Databases for returns"
   ]
  },
  {
   "cell_type": "code",
   "execution_count": 19,
   "id": "7fa8eea5",
   "metadata": {},
   "outputs": [],
   "source": [
    "IR_TS.set_index('DATE', inplace=True)\n",
    "VIX_TS.set_index('DATE', inplace=True)\n",
    "VAR_SWAPS.set_index('DATE', inplace=True)\n",
    "VIX_FUT.set_index('DATE', inplace=True)\n",
    "STRADDLE_LONG.set_index('DATE', inplace=True)"
   ]
  },
  {
   "cell_type": "code",
   "execution_count": 20,
   "id": "16027488",
   "metadata": {},
   "outputs": [],
   "source": [
    "IR_TS.index = pd.to_datetime(IR_TS.index)\n",
    "VIX_TS.index = pd.to_datetime(VIX_TS.index)\n",
    "VAR_SWAPS.index = pd.to_datetime(VAR_SWAPS.index)\n",
    "VIX_FUT.index = pd.to_datetime(VIX_FUT.index)\n",
    "STRADDLE_LONG.index = pd.to_datetime(STRADDLE_LONG.index)"
   ]
  },
  {
   "cell_type": "code",
   "execution_count": 21,
   "id": "5b9078c3",
   "metadata": {},
   "outputs": [],
   "source": [
    "merged = pd.merge(VIX_TS,IR_TS, how='inner', left_index=True, right_index=True)"
   ]
  },
  {
   "cell_type": "code",
   "execution_count": 22,
   "id": "18631f51",
   "metadata": {},
   "outputs": [],
   "source": [
    "VAR_SWAPS = VAR_SWAPS/100\n",
    "VIX_FUT = VIX_FUT/100\n",
    "STRADDLE_LONG = STRADDLE_LONG"
   ]
  },
  {
   "cell_type": "code",
   "execution_count": 23,
   "id": "285c5ef3",
   "metadata": {},
   "outputs": [],
   "source": [
    "VAR_SWAPS_MERGED=pd.merge(merged,VAR_SWAPS, how='inner', left_index=True, right_index=True)\n",
    "VIX_FUT_MERGED=pd.merge(merged,VIX_FUT, how='inner', left_index=True, right_index=True)\n",
    "STRADDLE_MERGED=pd.merge(merged,STRADDLE_LONG, how='inner', left_index=True, right_index=True)"
   ]
  },
  {
   "cell_type": "markdown",
   "id": "5f9c0fe9",
   "metadata": {},
   "source": [
    "### Calculate Excess returns"
   ]
  },
  {
   "cell_type": "code",
   "execution_count": 24,
   "id": "77649977",
   "metadata": {},
   "outputs": [],
   "source": [
    "XS_VAR_SWAPS = VAR_SWAPS_MERGED.iloc[:, 7:]\n",
    "columns_to_subtract_from = ['V_S_R 1 month','V_S_R 2 month', 'V_S_R 3 month', 'V_S_R 6 month', 'V_S_R 9 month', 'V_S_R 12 month']\n",
    "\n",
    "# Iterate through the columns and subtract 'column_to_subtract' from each of them\n",
    "for col in columns_to_subtract_from:\n",
    "    XS_VAR_SWAPS[col] = XS_VAR_SWAPS[col] - VAR_SWAPS_MERGED['Daily Rate']"
   ]
  },
  {
   "cell_type": "code",
   "execution_count": 25,
   "id": "0ae495db",
   "metadata": {},
   "outputs": [],
   "source": [
    "XS_VIX_FUT = VIX_FUT_MERGED.iloc[:, 7:]\n",
    "columns_to_subtract_from = ['V_F_R 1 month','V_F_R 2 month', 'V_F_R 3 month', 'V_F_R 6 month', 'V_F_R 9 month', 'V_F_R 12 month']\n",
    "\n",
    "# Iterate through the columns and subtract 'column_to_subtract' from each of them\n",
    "for col in columns_to_subtract_from:\n",
    "    XS_VIX_FUT[col] = XS_VIX_FUT[col] - VIX_FUT_MERGED['Daily Rate']"
   ]
  },
  {
   "cell_type": "code",
   "execution_count": 26,
   "id": "6dec6756",
   "metadata": {},
   "outputs": [],
   "source": [
    "XS_STRADDLE = STRADDLE_MERGED.iloc[:, 7:]\n",
    "columns_to_subtract_from = ['S_R 1 month','S_R 2 month', 'S_R 3 month', 'S_R 6 month', 'S_R 9 month', 'S_R 12 month']\n",
    "\n",
    "# Iterate through the columns and subtract 'column_to_subtract' from each of them\n",
    "for col in columns_to_subtract_from:\n",
    "    XS_STRADDLE[col] = XS_STRADDLE[col] - STRADDLE_MERGED['Daily Rate']"
   ]
  },
  {
   "cell_type": "markdown",
   "id": "bfe5a95c",
   "metadata": {},
   "source": [
    "### Variance Assets Excess return summary"
   ]
  },
  {
   "cell_type": "code",
   "execution_count": 27,
   "id": "bdb43168",
   "metadata": {},
   "outputs": [
    {
     "data": {
      "text/plain": [
       "V_S_R 1 month     2.899152\n",
       "V_S_R 2 month     2.330483\n",
       "V_S_R 3 month     2.037821\n",
       "V_S_R 6 month     1.907296\n",
       "V_S_R 9 month     1.772701\n",
       "V_S_R 12 month    1.734289\n",
       "dtype: float64"
      ]
     },
     "execution_count": 27,
     "metadata": {},
     "output_type": "execute_result"
    }
   ],
   "source": [
    "XS_VAR_SWAPS.describe()\n",
    "XS_VAR_SWAPS.skew()"
   ]
  },
  {
   "cell_type": "code",
   "execution_count": 28,
   "id": "d987879d",
   "metadata": {},
   "outputs": [
    {
     "data": {
      "text/plain": [
       "V_F_R 1 month    -0.135308\n",
       "V_F_R 2 month    -0.861374\n",
       "V_F_R 3 month    -4.473292\n",
       "V_F_R 6 month    -7.132690\n",
       "V_F_R 9 month    -8.187459\n",
       "V_F_R 12 month   -7.713339\n",
       "dtype: float64"
      ]
     },
     "execution_count": 28,
     "metadata": {},
     "output_type": "execute_result"
    }
   ],
   "source": [
    "XS_VIX_FUT.describe()\n",
    "XS_VIX_FUT.skew()"
   ]
  },
  {
   "cell_type": "code",
   "execution_count": 29,
   "id": "296ea435",
   "metadata": {},
   "outputs": [
    {
     "data": {
      "text/plain": [
       "S_R 1 month     3.465697\n",
       "S_R 2 month     3.087170\n",
       "S_R 3 month     2.673082\n",
       "S_R 6 month     2.614973\n",
       "S_R 9 month     2.308061\n",
       "S_R 12 month    1.941775\n",
       "dtype: float64"
      ]
     },
     "execution_count": 29,
     "metadata": {},
     "output_type": "execute_result"
    }
   ],
   "source": [
    "XS_STRADDLE.describe()\n",
    "XS_STRADDLE.skew()"
   ]
  },
  {
   "cell_type": "markdown",
   "id": "b1015ef9",
   "metadata": {},
   "source": [
    "### Expectation Hypothesis Test"
   ]
  },
  {
   "cell_type": "markdown",
   "id": "45f09ec6",
   "metadata": {},
   "source": [
    "### Version 1"
   ]
  },
  {
   "cell_type": "code",
   "execution_count": 30,
   "id": "361c1127",
   "metadata": {},
   "outputs": [],
   "source": [
    "VIX_TS.reset_index(drop=True, inplace=True)"
   ]
  },
  {
   "cell_type": "code",
   "execution_count": 31,
   "id": "e3418827",
   "metadata": {},
   "outputs": [],
   "source": [
    "n_days = 21"
   ]
  },
  {
   "cell_type": "code",
   "execution_count": 32,
   "id": "f1cf48a3",
   "metadata": {},
   "outputs": [],
   "source": [
    "Y_1 = VIX_TS['1 month'][n_days:].reset_index(drop=True) - VIX_TS['2 month'][:-n_days]\n",
    "Y_2 = VIX_TS['2 month'][n_days:].reset_index(drop=True) - VIX_TS['3 month'][:-n_days]\n",
    "Y_3 = VIX_TS['3 month'][3*n_days:].reset_index(drop=True) - VIX_TS['6 month'][:-3*n_days]\n",
    "Y_4 = VIX_TS['6 month'][3*n_days:].reset_index(drop=True) - VIX_TS['9 month'][:-3*n_days]\n",
    "Y_5 = VIX_TS['9 month'][3*n_days:].reset_index(drop=True) - VIX_TS['12 month'][:-3*n_days]\n",
    "\n",
    "X_1 = (VIX_TS['2 month'][:-n_days] - VIX_TS['1 month'][:-n_days]).reset_index(drop=True)\n",
    "X_2 = ((1/2)*VIX_TS['3 month'][:-n_days] - VIX_TS['1 month'][:-n_days]).reset_index(drop=True)\n",
    "X_3 = (VIX_TS['6 month'][:-3*n_days] - VIX_TS['3 month'][:-3*n_days]).reset_index(drop=True)\n",
    "X_4 = ((1/2)*VIX_TS['9 month'][:-3*n_days] - VIX_TS['3 month'][:-3*n_days]).reset_index(drop=True)\n",
    "X_5 = ((1/3)*VIX_TS['12 month'][:-3*n_days] - VIX_TS['3 month'][:-3*n_days]).reset_index(drop=True)"
   ]
  },
  {
   "cell_type": "code",
   "execution_count": 33,
   "id": "762ce824",
   "metadata": {},
   "outputs": [],
   "source": [
    "data_1 = {'b_1': X_1,\n",
    "        'b_2': X_2,\n",
    "        'c_1': VIX_TS['1 month'][:-n_days].reset_index(drop=True),\n",
    "       'c_2': VIX_TS['2 month'][:-n_days].reset_index(drop=True)}\n",
    "\n",
    "data_2 = {'b_3': X_3,\n",
    "        'b_4': X_4,\n",
    "        'b_5': X_5,\n",
    "       'c_3': VIX_TS['3 month'][:-3*n_days].reset_index(drop=True),\n",
    "       'c_4': VIX_TS['6 month'][:-3*n_days].reset_index(drop=True),\n",
    "       'c_5': VIX_TS['9 month'][:-3*n_days].reset_index(drop=True),}\n",
    "\n",
    "df_1 = pd.DataFrame(data_1)\n",
    "df_2 = pd.DataFrame(data_2)"
   ]
  },
  {
   "cell_type": "code",
   "execution_count": 34,
   "id": "336d2ec0",
   "metadata": {},
   "outputs": [
    {
     "name": "stdout",
     "output_type": "stream",
     "text": [
      "Regression coefficients (including intercept): const    0.014353\n",
      "b_5     -0.083862\n",
      "c_5     -0.370879\n",
      "dtype: float64\n",
      "Newey-West standard errors: [0.00151606 0.09035461 0.08215647]\n",
      "P-values for the expectation hypothesis (b=1): 0.0\n",
      "R-squared: 0.13133920172422064\n"
     ]
    },
    {
     "name": "stderr",
     "output_type": "stream",
     "text": [
      "/Users/juliusraschke/opt/anaconda3/lib/python3.8/site-packages/statsmodels/tsa/tsatools.py:142: FutureWarning: In a future version of pandas all arguments of concat except for the argument 'objs' will be keyword-only.\n",
      "  x = pd.concat(x[::order], 1)\n"
     ]
    }
   ],
   "source": [
    "X = df_2[['b_5','c_5']]\n",
    "Y = Y_5\n",
    "\n",
    "X = sm.add_constant(X)  # Add a constant (intercept) to the independent variables\n",
    "model = sm.OLS(Y, X).fit()\n",
    "\n",
    "# Calculate Newey West\n",
    "\n",
    "cov_mat = stats.sandwich_covariance.cov_hac(model)\n",
    "newey_west_se = np.sqrt(np.diag(cov_mat))\n",
    "\n",
    "# Get the regression coefficients, including the intercept\n",
    "coefficients = model.params\n",
    "\n",
    "# Calculate p-values for the expectation hypothesis (b=1)\n",
    "t_values = (coefficients[1]-1) / newey_west_se[1]\n",
    "\n",
    "#Calculate p-values\n",
    "p_values = 2 * scipy.stats.t.sf(abs(t_values), model.df_resid)\n",
    "\n",
    "# Calculate R-squared\n",
    "r_squared = model.rsquared\n",
    "\n",
    "# Output the results\n",
    "print(\"Regression coefficients (including intercept):\", coefficients)\n",
    "print(\"Newey-West standard errors:\", newey_west_se)\n",
    "print(\"P-values for the expectation hypothesis (b=1):\", p_values.round(3))\n",
    "print(\"R-squared:\", r_squared)"
   ]
  },
  {
   "cell_type": "markdown",
   "id": "4549e304",
   "metadata": {},
   "source": [
    "### Version 2"
   ]
  },
  {
   "cell_type": "code",
   "execution_count": 35,
   "id": "51964c6d",
   "metadata": {},
   "outputs": [],
   "source": [
    "Y_1 = VIX_TS['1 month'][n_days:].reset_index(drop=True) - VIX_TS['1 month'][:-n_days]\n",
    "Y_2 = VIX_TS['2 month'][n_days:].reset_index(drop=True) - VIX_TS['2 month'][:-n_days]\n",
    "Y_3 = VIX_TS['3 month'][3*n_days:].reset_index(drop=True) - VIX_TS['3 month'][:-3*n_days]\n",
    "Y_4 = VIX_TS['6 month'][3*n_days:].reset_index(drop=True) - VIX_TS['6 month'][:-3*n_days]\n",
    "Y_5 = VIX_TS['9 month'][3*n_days:].reset_index(drop=True) - VIX_TS['9 month'][:-3*n_days]\n",
    "\n",
    "X_1 = (VIX_TS['2 month'][:-n_days] - VIX_TS['1 month'][:-n_days])+(VIX_TS['2 month'][:-n_days] - VIX_TS['1 month'][:-n_days])\n",
    "X_2 = (VIX_TS['3 month'][:-n_days] - VIX_TS['2 month'][:-n_days])+((1/2)*VIX_TS['3 month'][:-n_days] - VIX_TS['1 month'][:-n_days])\n",
    "X_3 = (VIX_TS['6 month'][:-3*n_days] - VIX_TS['3 month'][:-3*n_days])+(VIX_TS['6 month'][:-3*n_days] - VIX_TS['3 month'][:-3*n_days])\n",
    "X_4 = (VIX_TS['9 month'][:-3*n_days] - VIX_TS['6 month'][:-3*n_days])+((1/2)*VIX_TS['9 month'][:-3*n_days] - VIX_TS['3 month'][:-3*n_days])\n",
    "X_5 = (VIX_TS['12 month'][:-3*n_days] - VIX_TS['9 month'][:-3*n_days])+((1/3)*VIX_TS['12 month'][:-3*n_days] - VIX_TS['3 month'][:-3*n_days])"
   ]
  },
  {
   "cell_type": "code",
   "execution_count": 36,
   "id": "9aae878b",
   "metadata": {},
   "outputs": [],
   "source": [
    "data_1 = {'b_1': X_1,\n",
    "        'b_2': X_2,\n",
    "        'c_1': VIX_TS['1 month'][:-n_days].reset_index(drop=True),\n",
    "       'c_2': VIX_TS['2 month'][:-n_days].reset_index(drop=True)}\n",
    "\n",
    "data_2 = {'b_3': X_3,\n",
    "        'b_4': X_4,\n",
    "        'b_5': X_5,\n",
    "       'c_3': VIX_TS['3 month'][:-3*n_days].reset_index(drop=True),\n",
    "       'c_4': VIX_TS['6 month'][:-3*n_days].reset_index(drop=True),\n",
    "       'c_5': VIX_TS['9 month'][:-3*n_days].reset_index(drop=True),}\n",
    "\n",
    "df_1 = pd.DataFrame(data_1)\n",
    "df_2 = pd.DataFrame(data_2)"
   ]
  },
  {
   "cell_type": "code",
   "execution_count": 37,
   "id": "fd4f5bf1",
   "metadata": {},
   "outputs": [
    {
     "name": "stdout",
     "output_type": "stream",
     "text": [
      "Regression coefficients (including intercept): const    0.014685\n",
      "b_5      0.060630\n",
      "c_5     -0.280989\n",
      "dtype: float64\n",
      "Newey-West standard errors: [0.00155818 0.08102579 0.07730431]\n",
      "P-values for the expectation hypothesis (b=1): 0.0\n",
      "R-squared: 0.17567405125965097\n"
     ]
    },
    {
     "name": "stderr",
     "output_type": "stream",
     "text": [
      "/Users/juliusraschke/opt/anaconda3/lib/python3.8/site-packages/statsmodels/tsa/tsatools.py:142: FutureWarning: In a future version of pandas all arguments of concat except for the argument 'objs' will be keyword-only.\n",
      "  x = pd.concat(x[::order], 1)\n"
     ]
    }
   ],
   "source": [
    "X = df_2[['b_5','c_5']]\n",
    "Y = Y_5\n",
    "\n",
    "X = sm.add_constant(X)  # Add a constant (intercept) to the independent variables\n",
    "\n",
    "model = sm.OLS(Y, X).fit()\n",
    "\n",
    "# Calculate Newey West\n",
    "\n",
    "cov_mat = stats.sandwich_covariance.cov_hac(model)\n",
    "newey_west_se = np.sqrt(np.diag(cov_mat))\n",
    "\n",
    "# Get the regression coefficients, including the intercept\n",
    "coefficients = model.params\n",
    "\n",
    "# Calculate p-values for the expectation hypothesis (b=1)\n",
    "t_values = (coefficients[1]-1) / newey_west_se[1]\n",
    "\n",
    "#Calculate p-values\n",
    "p_values = 2 * scipy.stats.t.sf(abs(t_values), model.df_resid)\n",
    "\n",
    "# Calculate R-squared\n",
    "r_squared = model.rsquared\n",
    "\n",
    "# Output the results\n",
    "print(\"Regression coefficients (including intercept):\", coefficients)\n",
    "print(\"Newey-West standard errors:\", newey_west_se)\n",
    "print(\"P-values for the expectation hypothesis (b=1):\", p_values.round(3))\n",
    "print(\"R-squared:\", r_squared)"
   ]
  },
  {
   "cell_type": "markdown",
   "id": "dda2165a",
   "metadata": {},
   "source": [
    "### Converting daily to monthly data"
   ]
  },
  {
   "cell_type": "code",
   "execution_count": 38,
   "id": "563b2584",
   "metadata": {},
   "outputs": [],
   "source": [
    "cr_VAR_SWAPS = ((XS_VAR_SWAPS)+1).rolling(n_days).apply(np.prod)-1\n",
    "cr_VAR_SWAPS[:-(n_days-1):] = cr_VAR_SWAPS[(n_days-1)::]\n",
    "cr_VAR_SWAPS = cr_VAR_SWAPS[:-(n_days-1):]\n",
    "\n",
    "cr_VIX_FUT = ((XS_VIX_FUT)+1).rolling(n_days).apply(np.prod)-1\n",
    "cr_VIX_FUT[:-(n_days-1):] = cr_VIX_FUT[(n_days-1)::]\n",
    "cr_VIX_FUT = cr_VIX_FUT[:-(n_days-1):]\n",
    "\n",
    "cr_STRADDLE = ((XS_STRADDLE)+1).rolling(n_days).apply(np.prod)-1\n",
    "cr_STRADDLE[:-(n_days-1):] = cr_STRADDLE[(n_days-1)::]\n",
    "cr_STRADDLE = cr_STRADDLE[:-(n_days-1):]"
   ]
  },
  {
   "cell_type": "code",
   "execution_count": 39,
   "id": "58e80a33",
   "metadata": {},
   "outputs": [
    {
     "data": {
      "text/plain": [
       "V_S_R 1 month     16.530134\n",
       "V_S_R 2 month     16.932126\n",
       "V_S_R 3 month     15.745831\n",
       "V_S_R 6 month     13.235393\n",
       "V_S_R 9 month     10.688207\n",
       "V_S_R 12 month     9.624279\n",
       "dtype: float64"
      ]
     },
     "execution_count": 39,
     "metadata": {},
     "output_type": "execute_result"
    }
   ],
   "source": [
    "cr_VAR_SWAPS.describe()\n",
    "cr_VAR_SWAPS.skew()"
   ]
  },
  {
   "cell_type": "code",
   "execution_count": 40,
   "id": "d1582b5b",
   "metadata": {},
   "outputs": [
    {
     "data": {
      "text/plain": [
       "V_F_R 1 month     4.491419\n",
       "V_F_R 2 month     3.617976\n",
       "V_F_R 3 month     2.425840\n",
       "V_F_R 6 month     1.026697\n",
       "V_F_R 9 month    -0.259983\n",
       "V_F_R 12 month   -1.039753\n",
       "dtype: float64"
      ]
     },
     "execution_count": 40,
     "metadata": {},
     "output_type": "execute_result"
    }
   ],
   "source": [
    "cr_VIX_FUT.describe()\n",
    "cr_VIX_FUT.skew()"
   ]
  },
  {
   "cell_type": "code",
   "execution_count": 41,
   "id": "21757bac",
   "metadata": {},
   "outputs": [
    {
     "data": {
      "text/plain": [
       "S_R 1 month     5.509445\n",
       "S_R 2 month     6.189848\n",
       "S_R 3 month     5.014605\n",
       "S_R 6 month     4.393542\n",
       "S_R 9 month     3.427591\n",
       "S_R 12 month    2.856287\n",
       "dtype: float64"
      ]
     },
     "execution_count": 41,
     "metadata": {},
     "output_type": "execute_result"
    }
   ],
   "source": [
    "cr_STRADDLE.describe()\n",
    "cr_STRADDLE.skew()"
   ]
  },
  {
   "cell_type": "markdown",
   "id": "2df4ef1a",
   "metadata": {},
   "source": [
    "### Single Factor Test"
   ]
  },
  {
   "cell_type": "code",
   "execution_count": 42,
   "id": "3220140d",
   "metadata": {},
   "outputs": [],
   "source": [
    "pca1 = PCA()\n",
    "scaler = StandardScaler()"
   ]
  },
  {
   "cell_type": "markdown",
   "id": "c1ca7d35",
   "metadata": {},
   "source": [
    "### S&P 500 variance Swap Returns"
   ]
  },
  {
   "cell_type": "markdown",
   "id": "bc52e721",
   "metadata": {},
   "source": [
    "### PCA"
   ]
  },
  {
   "cell_type": "code",
   "execution_count": 43,
   "id": "5b58f7de",
   "metadata": {},
   "outputs": [],
   "source": [
    "X = VAR_SWAPS_MERGED.iloc[:,:6]\n",
    "X_trans = pca1.fit_transform(X)\n",
    "X_trans = pd.DataFrame(data=X_trans)\n",
    "scaled = scaler.fit_transform(X_trans)\n",
    "scaled_VS = pd.DataFrame(data=scaled)\n",
    "scaled_VS[['Level','Slope','Curve','PC4','PC5','PC6']] = scaled_VS[[0,1,2,3,4,5]]\n",
    "scaled_VS = scaled_VS.drop([0,1,2,3,4,5],axis=1)\n",
    "scaled_VS['Slope'] = -scaled_VS['Slope']"
   ]
  },
  {
   "cell_type": "markdown",
   "id": "553c45ae",
   "metadata": {},
   "source": [
    "### Next day"
   ]
  },
  {
   "cell_type": "code",
   "execution_count": 44,
   "id": "86473c41",
   "metadata": {},
   "outputs": [],
   "source": [
    "XS_V_S = XS_VAR_SWAPS\n",
    "XS_V_S.reset_index(drop=False, inplace=True)"
   ]
  },
  {
   "cell_type": "code",
   "execution_count": 45,
   "id": "d2a29cfc",
   "metadata": {},
   "outputs": [],
   "source": [
    "X = scaled_VS[:-1]\n",
    "Y = (XS_V_S['V_S_R 1 month'][1:]*10000).reset_index(drop=True)\n",
    "\n",
    "model = sm.OLS(Y, X).fit(cov_type='HAC',cov_kwds={'maxlags':0})"
   ]
  },
  {
   "cell_type": "code",
   "execution_count": 46,
   "id": "a42797a5",
   "metadata": {},
   "outputs": [
    {
     "data": {
      "text/html": [
       "<table class=\"simpletable\">\n",
       "<caption>OLS Regression Results</caption>\n",
       "<tr>\n",
       "  <th>Dep. Variable:</th>      <td>V_S_R 1 month</td>  <th>  R-squared (uncentered):</th>      <td>   0.006</td> \n",
       "</tr>\n",
       "<tr>\n",
       "  <th>Model:</th>                   <td>OLS</td>       <th>  Adj. R-squared (uncentered):</th> <td>   0.005</td> \n",
       "</tr>\n",
       "<tr>\n",
       "  <th>Method:</th>             <td>Least Squares</td>  <th>  F-statistic:       </th>          <td>   4.313</td> \n",
       "</tr>\n",
       "<tr>\n",
       "  <th>Date:</th>             <td>Sat, 02 Dec 2023</td> <th>  Prob (F-statistic):</th>          <td>0.000239</td> \n",
       "</tr>\n",
       "<tr>\n",
       "  <th>Time:</th>                 <td>15:17:59</td>     <th>  Log-Likelihood:    </th>          <td> -59493.</td> \n",
       "</tr>\n",
       "<tr>\n",
       "  <th>No. Observations:</th>      <td>  6819</td>      <th>  AIC:               </th>          <td>1.190e+05</td>\n",
       "</tr>\n",
       "<tr>\n",
       "  <th>Df Residuals:</th>          <td>  6813</td>      <th>  BIC:               </th>          <td>1.190e+05</td>\n",
       "</tr>\n",
       "<tr>\n",
       "  <th>Df Model:</th>              <td>     6</td>      <th>                     </th>              <td> </td>    \n",
       "</tr>\n",
       "<tr>\n",
       "  <th>Covariance Type:</th>         <td>HAC</td>       <th>                     </th>              <td> </td>    \n",
       "</tr>\n",
       "</table>\n",
       "<table class=\"simpletable\">\n",
       "<tr>\n",
       "    <td></td>       <th>coef</th>     <th>std err</th>      <th>z</th>      <th>P>|z|</th>  <th>[0.025</th>    <th>0.975]</th>  \n",
       "</tr>\n",
       "<tr>\n",
       "  <th>Level</th> <td>  -87.4205</td> <td>   22.371</td> <td>   -3.908</td> <td> 0.000</td> <td> -131.266</td> <td>  -43.575</td>\n",
       "</tr>\n",
       "<tr>\n",
       "  <th>Slope</th> <td>   25.2123</td> <td>   23.673</td> <td>    1.065</td> <td> 0.287</td> <td>  -21.186</td> <td>   71.611</td>\n",
       "</tr>\n",
       "<tr>\n",
       "  <th>Curve</th> <td>  -42.5654</td> <td>   21.570</td> <td>   -1.973</td> <td> 0.048</td> <td>  -84.842</td> <td>   -0.289</td>\n",
       "</tr>\n",
       "<tr>\n",
       "  <th>PC4</th>   <td>   59.4976</td> <td>   21.018</td> <td>    2.831</td> <td> 0.005</td> <td>   18.303</td> <td>  100.692</td>\n",
       "</tr>\n",
       "<tr>\n",
       "  <th>PC5</th>   <td>   -8.4924</td> <td>   21.510</td> <td>   -0.395</td> <td> 0.693</td> <td>  -50.651</td> <td>   33.666</td>\n",
       "</tr>\n",
       "<tr>\n",
       "  <th>PC6</th>   <td>  -10.2438</td> <td>   20.155</td> <td>   -0.508</td> <td> 0.611</td> <td>  -49.746</td> <td>   29.259</td>\n",
       "</tr>\n",
       "</table>\n",
       "<table class=\"simpletable\">\n",
       "<tr>\n",
       "  <th>Omnibus:</th>       <td>5027.067</td> <th>  Durbin-Watson:     </th>  <td>   2.111</td> \n",
       "</tr>\n",
       "<tr>\n",
       "  <th>Prob(Omnibus):</th>  <td> 0.000</td>  <th>  Jarque-Bera (JB):  </th> <td>284803.658</td>\n",
       "</tr>\n",
       "<tr>\n",
       "  <th>Skew:</th>           <td> 2.975</td>  <th>  Prob(JB):          </th>  <td>    0.00</td> \n",
       "</tr>\n",
       "<tr>\n",
       "  <th>Kurtosis:</th>       <td>34.097</td>  <th>  Cond. No.          </th>  <td>    1.00</td> \n",
       "</tr>\n",
       "</table><br/><br/>Notes:<br/>[1] R² is computed without centering (uncentered) since the model does not contain a constant.<br/>[2] Standard Errors are heteroscedasticity and autocorrelation robust (HAC) using 0 lags and without small sample correction"
      ],
      "text/plain": [
       "<class 'statsmodels.iolib.summary.Summary'>\n",
       "\"\"\"\n",
       "                                 OLS Regression Results                                \n",
       "=======================================================================================\n",
       "Dep. Variable:          V_S_R 1 month   R-squared (uncentered):                   0.006\n",
       "Model:                            OLS   Adj. R-squared (uncentered):              0.005\n",
       "Method:                 Least Squares   F-statistic:                              4.313\n",
       "Date:                Sat, 02 Dec 2023   Prob (F-statistic):                    0.000239\n",
       "Time:                        15:17:59   Log-Likelihood:                         -59493.\n",
       "No. Observations:                6819   AIC:                                  1.190e+05\n",
       "Df Residuals:                    6813   BIC:                                  1.190e+05\n",
       "Df Model:                           6                                                  \n",
       "Covariance Type:                  HAC                                                  \n",
       "==============================================================================\n",
       "                 coef    std err          z      P>|z|      [0.025      0.975]\n",
       "------------------------------------------------------------------------------\n",
       "Level        -87.4205     22.371     -3.908      0.000    -131.266     -43.575\n",
       "Slope         25.2123     23.673      1.065      0.287     -21.186      71.611\n",
       "Curve        -42.5654     21.570     -1.973      0.048     -84.842      -0.289\n",
       "PC4           59.4976     21.018      2.831      0.005      18.303     100.692\n",
       "PC5           -8.4924     21.510     -0.395      0.693     -50.651      33.666\n",
       "PC6          -10.2438     20.155     -0.508      0.611     -49.746      29.259\n",
       "==============================================================================\n",
       "Omnibus:                     5027.067   Durbin-Watson:                   2.111\n",
       "Prob(Omnibus):                  0.000   Jarque-Bera (JB):           284803.658\n",
       "Skew:                           2.975   Prob(JB):                         0.00\n",
       "Kurtosis:                      34.097   Cond. No.                         1.00\n",
       "==============================================================================\n",
       "\n",
       "Notes:\n",
       "[1] R² is computed without centering (uncentered) since the model does not contain a constant.\n",
       "[2] Standard Errors are heteroscedasticity and autocorrelation robust (HAC) using 0 lags and without small sample correction\n",
       "\"\"\""
      ]
     },
     "execution_count": 46,
     "metadata": {},
     "output_type": "execute_result"
    }
   ],
   "source": [
    "model.summary()"
   ]
  },
  {
   "cell_type": "code",
   "execution_count": 47,
   "id": "3bf99169",
   "metadata": {},
   "outputs": [
    {
     "name": "stdout",
     "output_type": "stream",
     "text": [
      "F-statistic: 8.099058694915644, P-value: 1.249232868481309e-07\n"
     ]
    },
    {
     "name": "stderr",
     "output_type": "stream",
     "text": [
      "/Users/juliusraschke/opt/anaconda3/lib/python3.8/site-packages/statsmodels/regression/linear_model.py:2167: InvalidTestWarning: F test for comparison is likely invalid with robust covariance, proceeding anyway\n",
      "  warnings.warn('F test for comparison is likely invalid with ' +\n"
     ]
    }
   ],
   "source": [
    "X_restricted = X[['Slope']]\n",
    "\n",
    "# Fit the restricted model\n",
    "model_restricted = sm.OLS(Y, X_restricted).fit(cov_type='HAC', cov_kwds={'maxlags': 0})\n",
    "\n",
    "# Perform the F-test (Chi-square test)\n",
    "f_test = model.compare_f_test(model_restricted)\n",
    "\n",
    "print(f\"F-statistic: {f_test[0]}, P-value: {f_test[1]}\")"
   ]
  },
  {
   "cell_type": "markdown",
   "id": "b3452f45",
   "metadata": {},
   "source": [
    "### Next month"
   ]
  },
  {
   "cell_type": "code",
   "execution_count": 48,
   "id": "7385bb57",
   "metadata": {},
   "outputs": [],
   "source": [
    "cr_V_S = cr_VAR_SWAPS\n",
    "cr_V_S.reset_index(drop=False, inplace=True)"
   ]
  },
  {
   "cell_type": "code",
   "execution_count": 49,
   "id": "96cd699c",
   "metadata": {},
   "outputs": [],
   "source": [
    "X = scaled_VS[:-n_days]\n",
    "Y = (cr_V_S['V_S_R 1 month'][1:]*100).reset_index(drop=True)\n",
    "\n",
    "model = sm.OLS(Y, X).fit(cov_type='HAC',cov_kwds={'maxlags':n_days})"
   ]
  },
  {
   "cell_type": "code",
   "execution_count": 50,
   "id": "8b6808c0",
   "metadata": {},
   "outputs": [
    {
     "data": {
      "text/html": [
       "<table class=\"simpletable\">\n",
       "<caption>OLS Regression Results</caption>\n",
       "<tr>\n",
       "  <th>Dep. Variable:</th>      <td>V_S_R 1 month</td>  <th>  R-squared (uncentered):</th>      <td>   0.024</td> \n",
       "</tr>\n",
       "<tr>\n",
       "  <th>Model:</th>                   <td>OLS</td>       <th>  Adj. R-squared (uncentered):</th> <td>   0.023</td> \n",
       "</tr>\n",
       "<tr>\n",
       "  <th>Method:</th>             <td>Least Squares</td>  <th>  F-statistic:       </th>          <td>   6.406</td> \n",
       "</tr>\n",
       "<tr>\n",
       "  <th>Date:</th>             <td>Sat, 02 Dec 2023</td> <th>  Prob (F-statistic):</th>          <td>9.64e-07</td> \n",
       "</tr>\n",
       "<tr>\n",
       "  <th>Time:</th>                 <td>15:17:59</td>     <th>  Log-Likelihood:    </th>          <td> -41348.</td> \n",
       "</tr>\n",
       "<tr>\n",
       "  <th>No. Observations:</th>      <td>  6799</td>      <th>  AIC:               </th>          <td>8.271e+04</td>\n",
       "</tr>\n",
       "<tr>\n",
       "  <th>Df Residuals:</th>          <td>  6793</td>      <th>  BIC:               </th>          <td>8.275e+04</td>\n",
       "</tr>\n",
       "<tr>\n",
       "  <th>Df Model:</th>              <td>     6</td>      <th>                     </th>              <td> </td>    \n",
       "</tr>\n",
       "<tr>\n",
       "  <th>Covariance Type:</th>         <td>HAC</td>       <th>                     </th>              <td> </td>    \n",
       "</tr>\n",
       "</table>\n",
       "<table class=\"simpletable\">\n",
       "<tr>\n",
       "    <td></td>       <th>coef</th>     <th>std err</th>      <th>z</th>      <th>P>|z|</th>  <th>[0.025</th>    <th>0.975]</th>  \n",
       "</tr>\n",
       "<tr>\n",
       "  <th>Level</th> <td>  -13.5504</td> <td>    3.322</td> <td>   -4.079</td> <td> 0.000</td> <td>  -20.061</td> <td>   -7.040</td>\n",
       "</tr>\n",
       "<tr>\n",
       "  <th>Slope</th> <td>   -1.6349</td> <td>    3.319</td> <td>   -0.493</td> <td> 0.622</td> <td>   -8.140</td> <td>    4.870</td>\n",
       "</tr>\n",
       "<tr>\n",
       "  <th>Curve</th> <td>    0.6119</td> <td>    2.742</td> <td>    0.223</td> <td> 0.823</td> <td>   -4.762</td> <td>    5.985</td>\n",
       "</tr>\n",
       "<tr>\n",
       "  <th>PC4</th>   <td>    7.3609</td> <td>    2.113</td> <td>    3.483</td> <td> 0.000</td> <td>    3.219</td> <td>   11.503</td>\n",
       "</tr>\n",
       "<tr>\n",
       "  <th>PC5</th>   <td>   -3.7670</td> <td>    1.874</td> <td>   -2.010</td> <td> 0.044</td> <td>   -7.440</td> <td>   -0.094</td>\n",
       "</tr>\n",
       "<tr>\n",
       "  <th>PC6</th>   <td>    4.0456</td> <td>    3.676</td> <td>    1.100</td> <td> 0.271</td> <td>   -3.160</td> <td>   11.251</td>\n",
       "</tr>\n",
       "</table>\n",
       "<table class=\"simpletable\">\n",
       "<tr>\n",
       "  <th>Omnibus:</th>       <td>13812.681</td> <th>  Durbin-Watson:     </th>   <td>   0.183</td>  \n",
       "</tr>\n",
       "<tr>\n",
       "  <th>Prob(Omnibus):</th>  <td> 0.000</td>   <th>  Jarque-Bera (JB):  </th> <td>48562107.470</td>\n",
       "</tr>\n",
       "<tr>\n",
       "  <th>Skew:</th>           <td>16.774</td>   <th>  Prob(JB):          </th>   <td>    0.00</td>  \n",
       "</tr>\n",
       "<tr>\n",
       "  <th>Kurtosis:</th>       <td>415.669</td>  <th>  Cond. No.          </th>   <td>    1.00</td>  \n",
       "</tr>\n",
       "</table><br/><br/>Notes:<br/>[1] R² is computed without centering (uncentered) since the model does not contain a constant.<br/>[2] Standard Errors are heteroscedasticity and autocorrelation robust (HAC) using 21 lags and without small sample correction"
      ],
      "text/plain": [
       "<class 'statsmodels.iolib.summary.Summary'>\n",
       "\"\"\"\n",
       "                                 OLS Regression Results                                \n",
       "=======================================================================================\n",
       "Dep. Variable:          V_S_R 1 month   R-squared (uncentered):                   0.024\n",
       "Model:                            OLS   Adj. R-squared (uncentered):              0.023\n",
       "Method:                 Least Squares   F-statistic:                              6.406\n",
       "Date:                Sat, 02 Dec 2023   Prob (F-statistic):                    9.64e-07\n",
       "Time:                        15:17:59   Log-Likelihood:                         -41348.\n",
       "No. Observations:                6799   AIC:                                  8.271e+04\n",
       "Df Residuals:                    6793   BIC:                                  8.275e+04\n",
       "Df Model:                           6                                                  \n",
       "Covariance Type:                  HAC                                                  \n",
       "==============================================================================\n",
       "                 coef    std err          z      P>|z|      [0.025      0.975]\n",
       "------------------------------------------------------------------------------\n",
       "Level        -13.5504      3.322     -4.079      0.000     -20.061      -7.040\n",
       "Slope         -1.6349      3.319     -0.493      0.622      -8.140       4.870\n",
       "Curve          0.6119      2.742      0.223      0.823      -4.762       5.985\n",
       "PC4            7.3609      2.113      3.483      0.000       3.219      11.503\n",
       "PC5           -3.7670      1.874     -2.010      0.044      -7.440      -0.094\n",
       "PC6            4.0456      3.676      1.100      0.271      -3.160      11.251\n",
       "==============================================================================\n",
       "Omnibus:                    13812.681   Durbin-Watson:                   0.183\n",
       "Prob(Omnibus):                  0.000   Jarque-Bera (JB):         48562107.470\n",
       "Skew:                          16.774   Prob(JB):                         0.00\n",
       "Kurtosis:                     415.669   Cond. No.                         1.00\n",
       "==============================================================================\n",
       "\n",
       "Notes:\n",
       "[1] R² is computed without centering (uncentered) since the model does not contain a constant.\n",
       "[2] Standard Errors are heteroscedasticity and autocorrelation robust (HAC) using 21 lags and without small sample correction\n",
       "\"\"\""
      ]
     },
     "execution_count": 50,
     "metadata": {},
     "output_type": "execute_result"
    }
   ],
   "source": [
    "model.summary()"
   ]
  },
  {
   "cell_type": "markdown",
   "id": "4c80fd03",
   "metadata": {},
   "source": [
    "### VIX Futures Returns"
   ]
  },
  {
   "cell_type": "markdown",
   "id": "4fd3c96c",
   "metadata": {},
   "source": [
    "### PCA"
   ]
  },
  {
   "cell_type": "code",
   "execution_count": 51,
   "id": "3ae466b6",
   "metadata": {},
   "outputs": [],
   "source": [
    "X = VIX_FUT_MERGED.iloc[:,:6]\n",
    "X_trans = pca1.fit_transform(X)\n",
    "X_trans = pd.DataFrame(data=X_trans)\n",
    "scaled = scaler.fit_transform(X_trans)\n",
    "scaled_VF = pd.DataFrame(data=scaled)\n",
    "scaled_VF[['Level','Slope','Curve','PC4','PC5','PC6']] = scaled_VF[[0,1,2,3,4,5]]\n",
    "scaled_VF = scaled_VF.drop([0,1,2,3,4,5],axis=1)\n",
    "scaled_VF['Slope'] = -scaled_VF['Slope']"
   ]
  },
  {
   "cell_type": "markdown",
   "id": "68694947",
   "metadata": {},
   "source": [
    "### Next day"
   ]
  },
  {
   "cell_type": "code",
   "execution_count": 52,
   "id": "88ff9eb6",
   "metadata": {},
   "outputs": [],
   "source": [
    "XS_V_F = XS_VIX_FUT"
   ]
  },
  {
   "cell_type": "code",
   "execution_count": 53,
   "id": "585ce42f",
   "metadata": {
    "scrolled": true
   },
   "outputs": [
    {
     "name": "stdout",
     "output_type": "stream",
     "text": [
      "Chi-squared statistic: [[0.74981978]], P-value: 0.980122989713167\n"
     ]
    }
   ],
   "source": [
    "X = scaled_VF[:-1]\n",
    "Y = (XS_V_F['V_F_R 12 month'][1:]*10000).reset_index(drop=True)\n",
    "\n",
    "model = sm.OLS(Y, X).fit(cov_type='HAC',cov_kwds={'maxlags':0})\n",
    "\n",
    "# Get the names of all parameters\n",
    "params = model.params.index\n",
    "\n",
    "# Create an R matrix for the Wald test\n",
    "# Exclude 'const' and 'Curve' from the hypothesis\n",
    "R = np.zeros((len(params)-1, len(params)))\n",
    "row = 0\n",
    "for i, param in enumerate(params):\n",
    "    if param not in ['Slope']:\n",
    "        R[row, i] = 1\n",
    "        row += 1\n",
    "\n",
    "# Perform the Wald Test (Chi-square test)\n",
    "wald_test = model.wald_test(R)\n",
    "\n",
    "print(f\"Chi-squared statistic: {wald_test.statistic}, P-value: {wald_test.pvalue}\")"
   ]
  },
  {
   "cell_type": "code",
   "execution_count": 54,
   "id": "cebe2f98",
   "metadata": {},
   "outputs": [
    {
     "data": {
      "text/html": [
       "<table class=\"simpletable\">\n",
       "<caption>OLS Regression Results</caption>\n",
       "<tr>\n",
       "  <th>Dep. Variable:</th>     <td>V_F_R 12 month</td>  <th>  R-squared (uncentered):</th>      <td>   0.001</td> \n",
       "</tr>\n",
       "<tr>\n",
       "  <th>Model:</th>                   <td>OLS</td>       <th>  Adj. R-squared (uncentered):</th> <td>  -0.000</td> \n",
       "</tr>\n",
       "<tr>\n",
       "  <th>Method:</th>             <td>Least Squares</td>  <th>  F-statistic:       </th>          <td>  0.4861</td> \n",
       "</tr>\n",
       "<tr>\n",
       "  <th>Date:</th>             <td>Sat, 02 Dec 2023</td> <th>  Prob (F-statistic):</th>           <td> 0.819</td>  \n",
       "</tr>\n",
       "<tr>\n",
       "  <th>Time:</th>                 <td>15:18:07</td>     <th>  Log-Likelihood:    </th>          <td> -33165.</td> \n",
       "</tr>\n",
       "<tr>\n",
       "  <th>No. Observations:</th>      <td>  4750</td>      <th>  AIC:               </th>          <td>6.634e+04</td>\n",
       "</tr>\n",
       "<tr>\n",
       "  <th>Df Residuals:</th>          <td>  4744</td>      <th>  BIC:               </th>          <td>6.638e+04</td>\n",
       "</tr>\n",
       "<tr>\n",
       "  <th>Df Model:</th>              <td>     6</td>      <th>                     </th>              <td> </td>    \n",
       "</tr>\n",
       "<tr>\n",
       "  <th>Covariance Type:</th>         <td>HAC</td>       <th>                     </th>              <td> </td>    \n",
       "</tr>\n",
       "</table>\n",
       "<table class=\"simpletable\">\n",
       "<tr>\n",
       "    <td></td>       <th>coef</th>     <th>std err</th>      <th>z</th>      <th>P>|z|</th>  <th>[0.025</th>    <th>0.975]</th>  \n",
       "</tr>\n",
       "<tr>\n",
       "  <th>Level</th> <td>   -0.1737</td> <td>    5.481</td> <td>   -0.032</td> <td> 0.975</td> <td>  -10.916</td> <td>   10.568</td>\n",
       "</tr>\n",
       "<tr>\n",
       "  <th>Slope</th> <td>   -5.9570</td> <td>    6.387</td> <td>   -0.933</td> <td> 0.351</td> <td>  -18.475</td> <td>    6.561</td>\n",
       "</tr>\n",
       "<tr>\n",
       "  <th>Curve</th> <td>   -0.0991</td> <td>    5.680</td> <td>   -0.017</td> <td> 0.986</td> <td>  -11.232</td> <td>   11.034</td>\n",
       "</tr>\n",
       "<tr>\n",
       "  <th>PC4</th>   <td>    2.4104</td> <td>    4.656</td> <td>    0.518</td> <td> 0.605</td> <td>   -6.715</td> <td>   11.535</td>\n",
       "</tr>\n",
       "<tr>\n",
       "  <th>PC5</th>   <td>    3.9093</td> <td>    5.750</td> <td>    0.680</td> <td> 0.497</td> <td>   -7.361</td> <td>   15.179</td>\n",
       "</tr>\n",
       "<tr>\n",
       "  <th>PC6</th>   <td>    0.2039</td> <td>    3.875</td> <td>    0.053</td> <td> 0.958</td> <td>   -7.391</td> <td>    7.799</td>\n",
       "</tr>\n",
       "</table>\n",
       "<table class=\"simpletable\">\n",
       "<tr>\n",
       "  <th>Omnibus:</th>       <td>6869.913</td> <th>  Durbin-Watson:     </th>   <td>   2.270</td>  \n",
       "</tr>\n",
       "<tr>\n",
       "  <th>Prob(Omnibus):</th>  <td> 0.000</td>  <th>  Jarque-Bera (JB):  </th> <td>19419084.989</td>\n",
       "</tr>\n",
       "<tr>\n",
       "  <th>Skew:</th>           <td>-7.746</td>  <th>  Prob(JB):          </th>   <td>    0.00</td>  \n",
       "</tr>\n",
       "<tr>\n",
       "  <th>Kurtosis:</th>       <td>315.854</td> <th>  Cond. No.          </th>   <td>    1.00</td>  \n",
       "</tr>\n",
       "</table><br/><br/>Notes:<br/>[1] R² is computed without centering (uncentered) since the model does not contain a constant.<br/>[2] Standard Errors are heteroscedasticity and autocorrelation robust (HAC) using 0 lags and without small sample correction"
      ],
      "text/plain": [
       "<class 'statsmodels.iolib.summary.Summary'>\n",
       "\"\"\"\n",
       "                                 OLS Regression Results                                \n",
       "=======================================================================================\n",
       "Dep. Variable:         V_F_R 12 month   R-squared (uncentered):                   0.001\n",
       "Model:                            OLS   Adj. R-squared (uncentered):             -0.000\n",
       "Method:                 Least Squares   F-statistic:                             0.4861\n",
       "Date:                Sat, 02 Dec 2023   Prob (F-statistic):                       0.819\n",
       "Time:                        15:18:07   Log-Likelihood:                         -33165.\n",
       "No. Observations:                4750   AIC:                                  6.634e+04\n",
       "Df Residuals:                    4744   BIC:                                  6.638e+04\n",
       "Df Model:                           6                                                  \n",
       "Covariance Type:                  HAC                                                  \n",
       "==============================================================================\n",
       "                 coef    std err          z      P>|z|      [0.025      0.975]\n",
       "------------------------------------------------------------------------------\n",
       "Level         -0.1737      5.481     -0.032      0.975     -10.916      10.568\n",
       "Slope         -5.9570      6.387     -0.933      0.351     -18.475       6.561\n",
       "Curve         -0.0991      5.680     -0.017      0.986     -11.232      11.034\n",
       "PC4            2.4104      4.656      0.518      0.605      -6.715      11.535\n",
       "PC5            3.9093      5.750      0.680      0.497      -7.361      15.179\n",
       "PC6            0.2039      3.875      0.053      0.958      -7.391       7.799\n",
       "==============================================================================\n",
       "Omnibus:                     6869.913   Durbin-Watson:                   2.270\n",
       "Prob(Omnibus):                  0.000   Jarque-Bera (JB):         19419084.989\n",
       "Skew:                          -7.746   Prob(JB):                         0.00\n",
       "Kurtosis:                     315.854   Cond. No.                         1.00\n",
       "==============================================================================\n",
       "\n",
       "Notes:\n",
       "[1] R² is computed without centering (uncentered) since the model does not contain a constant.\n",
       "[2] Standard Errors are heteroscedasticity and autocorrelation robust (HAC) using 0 lags and without small sample correction\n",
       "\"\"\""
      ]
     },
     "execution_count": 54,
     "metadata": {},
     "output_type": "execute_result"
    }
   ],
   "source": [
    "model.summary()"
   ]
  },
  {
   "cell_type": "markdown",
   "id": "7d2d9770",
   "metadata": {},
   "source": [
    "### Next month"
   ]
  },
  {
   "cell_type": "code",
   "execution_count": 55,
   "id": "1f47b13a",
   "metadata": {},
   "outputs": [],
   "source": [
    "cr_V_F = cr_VIX_FUT"
   ]
  },
  {
   "cell_type": "code",
   "execution_count": 56,
   "id": "4d66e159",
   "metadata": {},
   "outputs": [
    {
     "name": "stdout",
     "output_type": "stream",
     "text": [
      "Chi-squared statistic: [[13.67462221]], P-value: 0.01781386006236348\n"
     ]
    }
   ],
   "source": [
    "X = scaled_VF[:-n_days]\n",
    "Y = (cr_V_F['V_F_R 12 month'][1:]*100).reset_index(drop=True)\n",
    "\n",
    "model = sm.OLS(Y, X).fit(cov_type='HAC',cov_kwds={'maxlags':n_days})\n",
    "\n",
    "# Get the names of all parameters\n",
    "params = model.params.index\n",
    "\n",
    "# Create an R matrix for the Wald test\n",
    "# Exclude 'const' and 'Curve' from the hypothesis\n",
    "R = np.zeros((len(params)-1, len(params)))\n",
    "row = 0\n",
    "for i, param in enumerate(params):\n",
    "    if param not in ['Slope']:\n",
    "        R[row, i] = 1\n",
    "        row += 1\n",
    "\n",
    "# Perform the Wald Test (Chi-square test)\n",
    "wald_test = model.wald_test(R)\n",
    "\n",
    "print(f\"Chi-squared statistic: {wald_test.statistic}, P-value: {wald_test.pvalue}\")"
   ]
  },
  {
   "cell_type": "code",
   "execution_count": 57,
   "id": "95efb10a",
   "metadata": {},
   "outputs": [
    {
     "data": {
      "text/html": [
       "<table class=\"simpletable\">\n",
       "<caption>OLS Regression Results</caption>\n",
       "<tr>\n",
       "  <th>Dep. Variable:</th>     <td>V_F_R 12 month</td>  <th>  R-squared (uncentered):</th>      <td>   0.039</td> \n",
       "</tr>\n",
       "<tr>\n",
       "  <th>Model:</th>                   <td>OLS</td>       <th>  Adj. R-squared (uncentered):</th> <td>   0.038</td> \n",
       "</tr>\n",
       "<tr>\n",
       "  <th>Method:</th>             <td>Least Squares</td>  <th>  F-statistic:       </th>          <td>   3.855</td> \n",
       "</tr>\n",
       "<tr>\n",
       "  <th>Date:</th>             <td>Sat, 02 Dec 2023</td> <th>  Prob (F-statistic):</th>          <td>0.000769</td> \n",
       "</tr>\n",
       "<tr>\n",
       "  <th>Time:</th>                 <td>15:18:23</td>     <th>  Log-Likelihood:    </th>          <td> -17857.</td> \n",
       "</tr>\n",
       "<tr>\n",
       "  <th>No. Observations:</th>      <td>  4730</td>      <th>  AIC:               </th>          <td>3.573e+04</td>\n",
       "</tr>\n",
       "<tr>\n",
       "  <th>Df Residuals:</th>          <td>  4724</td>      <th>  BIC:               </th>          <td>3.576e+04</td>\n",
       "</tr>\n",
       "<tr>\n",
       "  <th>Df Model:</th>              <td>     6</td>      <th>                     </th>              <td> </td>    \n",
       "</tr>\n",
       "<tr>\n",
       "  <th>Covariance Type:</th>         <td>HAC</td>       <th>                     </th>              <td> </td>    \n",
       "</tr>\n",
       "</table>\n",
       "<table class=\"simpletable\">\n",
       "<tr>\n",
       "    <td></td>       <th>coef</th>     <th>std err</th>      <th>z</th>      <th>P>|z|</th>  <th>[0.025</th>    <th>0.975]</th>  \n",
       "</tr>\n",
       "<tr>\n",
       "  <th>Level</th> <td>    0.0667</td> <td>    0.490</td> <td>    0.136</td> <td> 0.892</td> <td>   -0.894</td> <td>    1.027</td>\n",
       "</tr>\n",
       "<tr>\n",
       "  <th>Slope</th> <td>   -1.7616</td> <td>    0.577</td> <td>   -3.052</td> <td> 0.002</td> <td>   -2.893</td> <td>   -0.630</td>\n",
       "</tr>\n",
       "<tr>\n",
       "  <th>Curve</th> <td>    0.7041</td> <td>    0.432</td> <td>    1.630</td> <td> 0.103</td> <td>   -0.143</td> <td>    1.551</td>\n",
       "</tr>\n",
       "<tr>\n",
       "  <th>PC4</th>   <td>    0.4317</td> <td>    0.368</td> <td>    1.172</td> <td> 0.241</td> <td>   -0.290</td> <td>    1.153</td>\n",
       "</tr>\n",
       "<tr>\n",
       "  <th>PC5</th>   <td>    0.8557</td> <td>    0.331</td> <td>    2.584</td> <td> 0.010</td> <td>    0.207</td> <td>    1.505</td>\n",
       "</tr>\n",
       "<tr>\n",
       "  <th>PC6</th>   <td>   -0.0647</td> <td>    0.475</td> <td>   -0.136</td> <td> 0.892</td> <td>   -0.995</td> <td>    0.865</td>\n",
       "</tr>\n",
       "</table>\n",
       "<table class=\"simpletable\">\n",
       "<tr>\n",
       "  <th>Omnibus:</th>       <td>2325.733</td> <th>  Durbin-Watson:     </th>  <td>   0.143</td> \n",
       "</tr>\n",
       "<tr>\n",
       "  <th>Prob(Omnibus):</th>  <td> 0.000</td>  <th>  Jarque-Bera (JB):  </th> <td>194182.939</td>\n",
       "</tr>\n",
       "<tr>\n",
       "  <th>Skew:</th>           <td>-1.453</td>  <th>  Prob(JB):          </th>  <td>    0.00</td> \n",
       "</tr>\n",
       "<tr>\n",
       "  <th>Kurtosis:</th>       <td>34.254</td>  <th>  Cond. No.          </th>  <td>    1.00</td> \n",
       "</tr>\n",
       "</table><br/><br/>Notes:<br/>[1] R² is computed without centering (uncentered) since the model does not contain a constant.<br/>[2] Standard Errors are heteroscedasticity and autocorrelation robust (HAC) using 21 lags and without small sample correction"
      ],
      "text/plain": [
       "<class 'statsmodels.iolib.summary.Summary'>\n",
       "\"\"\"\n",
       "                                 OLS Regression Results                                \n",
       "=======================================================================================\n",
       "Dep. Variable:         V_F_R 12 month   R-squared (uncentered):                   0.039\n",
       "Model:                            OLS   Adj. R-squared (uncentered):              0.038\n",
       "Method:                 Least Squares   F-statistic:                              3.855\n",
       "Date:                Sat, 02 Dec 2023   Prob (F-statistic):                    0.000769\n",
       "Time:                        15:18:23   Log-Likelihood:                         -17857.\n",
       "No. Observations:                4730   AIC:                                  3.573e+04\n",
       "Df Residuals:                    4724   BIC:                                  3.576e+04\n",
       "Df Model:                           6                                                  \n",
       "Covariance Type:                  HAC                                                  \n",
       "==============================================================================\n",
       "                 coef    std err          z      P>|z|      [0.025      0.975]\n",
       "------------------------------------------------------------------------------\n",
       "Level          0.0667      0.490      0.136      0.892      -0.894       1.027\n",
       "Slope         -1.7616      0.577     -3.052      0.002      -2.893      -0.630\n",
       "Curve          0.7041      0.432      1.630      0.103      -0.143       1.551\n",
       "PC4            0.4317      0.368      1.172      0.241      -0.290       1.153\n",
       "PC5            0.8557      0.331      2.584      0.010       0.207       1.505\n",
       "PC6           -0.0647      0.475     -0.136      0.892      -0.995       0.865\n",
       "==============================================================================\n",
       "Omnibus:                     2325.733   Durbin-Watson:                   0.143\n",
       "Prob(Omnibus):                  0.000   Jarque-Bera (JB):           194182.939\n",
       "Skew:                          -1.453   Prob(JB):                         0.00\n",
       "Kurtosis:                      34.254   Cond. No.                         1.00\n",
       "==============================================================================\n",
       "\n",
       "Notes:\n",
       "[1] R² is computed without centering (uncentered) since the model does not contain a constant.\n",
       "[2] Standard Errors are heteroscedasticity and autocorrelation robust (HAC) using 21 lags and without small sample correction\n",
       "\"\"\""
      ]
     },
     "execution_count": 57,
     "metadata": {},
     "output_type": "execute_result"
    }
   ],
   "source": [
    "model.summary()"
   ]
  },
  {
   "cell_type": "markdown",
   "id": "59b5fb84",
   "metadata": {},
   "source": [
    "### Straddle Returns"
   ]
  },
  {
   "cell_type": "markdown",
   "id": "bbd152d1",
   "metadata": {},
   "source": [
    "### PCA"
   ]
  },
  {
   "cell_type": "code",
   "execution_count": 58,
   "id": "ace8b7ab",
   "metadata": {},
   "outputs": [],
   "source": [
    "X = STRADDLE_MERGED.iloc[:,:6]\n",
    "X_trans = pca1.fit_transform(X)\n",
    "X_trans = pd.DataFrame(data=X_trans)\n",
    "scaled = scaler.fit_transform(X_trans)\n",
    "scaled_S = pd.DataFrame(data=scaled)\n",
    "scaled_S[['Level','Slope','Curve','PC4','PC5','PC6']] = scaled_S[[0,1,2,3,4,5]]\n",
    "scaled_S = scaled_S.drop([0,1,2,3,4,5],axis=1)\n",
    "scaled_S['Slope'] = -scaled_S['Slope']"
   ]
  },
  {
   "cell_type": "markdown",
   "id": "0182a2e0",
   "metadata": {},
   "source": [
    "### Next day"
   ]
  },
  {
   "cell_type": "code",
   "execution_count": 59,
   "id": "efda4e1b",
   "metadata": {},
   "outputs": [],
   "source": [
    "XS_S = XS_STRADDLE"
   ]
  },
  {
   "cell_type": "code",
   "execution_count": 60,
   "id": "684cb310",
   "metadata": {},
   "outputs": [
    {
     "name": "stdout",
     "output_type": "stream",
     "text": [
      "Chi-squared statistic: [[3.77365575]], P-value: 0.582442049715624\n"
     ]
    }
   ],
   "source": [
    "X = scaled_S[:-1]\n",
    "Y = (XS_S['S_R 12 month'][1:]*10000).reset_index(drop=True)\n",
    "\n",
    "model = sm.OLS(Y, X).fit(cov_type='HAC',cov_kwds={'maxlags':0})\n",
    "\n",
    "# Get the names of all parameters\n",
    "params = model.params.index\n",
    "\n",
    "# Create an R matrix for the Wald test\n",
    "# Exclude 'const' and 'Curve' from the hypothesis\n",
    "R = np.zeros((len(params)-1, len(params)))\n",
    "row = 0\n",
    "for i, param in enumerate(params):\n",
    "    if param not in ['Slope']:\n",
    "        R[row, i] = 1\n",
    "        row += 1\n",
    "\n",
    "# Perform the Wald Test (Chi-square test)\n",
    "wald_test = model.wald_test(R)\n",
    "\n",
    "print(f\"Chi-squared statistic: {wald_test.statistic}, P-value: {wald_test.pvalue}\")"
   ]
  },
  {
   "cell_type": "code",
   "execution_count": 61,
   "id": "c2439d21",
   "metadata": {
    "scrolled": true
   },
   "outputs": [
    {
     "data": {
      "text/html": [
       "<table class=\"simpletable\">\n",
       "<caption>OLS Regression Results</caption>\n",
       "<tr>\n",
       "  <th>Dep. Variable:</th>      <td>S_R 12 month</td>   <th>  R-squared (uncentered):</th>      <td>   0.006</td> \n",
       "</tr>\n",
       "<tr>\n",
       "  <th>Model:</th>                   <td>OLS</td>       <th>  Adj. R-squared (uncentered):</th> <td>   0.005</td> \n",
       "</tr>\n",
       "<tr>\n",
       "  <th>Method:</th>             <td>Least Squares</td>  <th>  F-statistic:       </th>          <td>   4.520</td> \n",
       "</tr>\n",
       "<tr>\n",
       "  <th>Date:</th>             <td>Sat, 02 Dec 2023</td> <th>  Prob (F-statistic):</th>          <td>0.000140</td> \n",
       "</tr>\n",
       "<tr>\n",
       "  <th>Time:</th>                 <td>15:18:25</td>     <th>  Log-Likelihood:    </th>          <td> -44397.</td> \n",
       "</tr>\n",
       "<tr>\n",
       "  <th>No. Observations:</th>      <td>  6815</td>      <th>  AIC:               </th>          <td>8.881e+04</td>\n",
       "</tr>\n",
       "<tr>\n",
       "  <th>Df Residuals:</th>          <td>  6809</td>      <th>  BIC:               </th>          <td>8.885e+04</td>\n",
       "</tr>\n",
       "<tr>\n",
       "  <th>Df Model:</th>              <td>     6</td>      <th>                     </th>              <td> </td>    \n",
       "</tr>\n",
       "<tr>\n",
       "  <th>Covariance Type:</th>         <td>HAC</td>       <th>                     </th>              <td> </td>    \n",
       "</tr>\n",
       "</table>\n",
       "<table class=\"simpletable\">\n",
       "<tr>\n",
       "    <td></td>       <th>coef</th>     <th>std err</th>      <th>z</th>      <th>P>|z|</th>  <th>[0.025</th>    <th>0.975]</th>  \n",
       "</tr>\n",
       "<tr>\n",
       "  <th>Level</th> <td>   -0.1342</td> <td>    4.029</td> <td>   -0.033</td> <td> 0.973</td> <td>   -8.031</td> <td>    7.762</td>\n",
       "</tr>\n",
       "<tr>\n",
       "  <th>Slope</th> <td>  -12.0341</td> <td>    4.133</td> <td>   -2.912</td> <td> 0.004</td> <td>  -20.134</td> <td>   -3.934</td>\n",
       "</tr>\n",
       "<tr>\n",
       "  <th>Curve</th> <td>   -1.6847</td> <td>    3.823</td> <td>   -0.441</td> <td> 0.659</td> <td>   -9.177</td> <td>    5.808</td>\n",
       "</tr>\n",
       "<tr>\n",
       "  <th>PC4</th>   <td>   -3.7700</td> <td>    3.082</td> <td>   -1.223</td> <td> 0.221</td> <td>   -9.811</td> <td>    2.271</td>\n",
       "</tr>\n",
       "<tr>\n",
       "  <th>PC5</th>   <td>   -1.7959</td> <td>    3.770</td> <td>   -0.476</td> <td> 0.634</td> <td>   -9.184</td> <td>    5.592</td>\n",
       "</tr>\n",
       "<tr>\n",
       "  <th>PC6</th>   <td>    1.8901</td> <td>    2.907</td> <td>    0.650</td> <td> 0.516</td> <td>   -3.807</td> <td>    7.588</td>\n",
       "</tr>\n",
       "</table>\n",
       "<table class=\"simpletable\">\n",
       "<tr>\n",
       "  <th>Omnibus:</th>       <td>3412.026</td> <th>  Durbin-Watson:     </th> <td>   1.950</td> \n",
       "</tr>\n",
       "<tr>\n",
       "  <th>Prob(Omnibus):</th>  <td> 0.000</td>  <th>  Jarque-Bera (JB):  </th> <td>98374.583</td>\n",
       "</tr>\n",
       "<tr>\n",
       "  <th>Skew:</th>           <td> 1.818</td>  <th>  Prob(JB):          </th> <td>    0.00</td> \n",
       "</tr>\n",
       "<tr>\n",
       "  <th>Kurtosis:</th>       <td>21.254</td>  <th>  Cond. No.          </th> <td>    1.00</td> \n",
       "</tr>\n",
       "</table><br/><br/>Notes:<br/>[1] R² is computed without centering (uncentered) since the model does not contain a constant.<br/>[2] Standard Errors are heteroscedasticity and autocorrelation robust (HAC) using 0 lags and without small sample correction"
      ],
      "text/plain": [
       "<class 'statsmodels.iolib.summary.Summary'>\n",
       "\"\"\"\n",
       "                                 OLS Regression Results                                \n",
       "=======================================================================================\n",
       "Dep. Variable:           S_R 12 month   R-squared (uncentered):                   0.006\n",
       "Model:                            OLS   Adj. R-squared (uncentered):              0.005\n",
       "Method:                 Least Squares   F-statistic:                              4.520\n",
       "Date:                Sat, 02 Dec 2023   Prob (F-statistic):                    0.000140\n",
       "Time:                        15:18:25   Log-Likelihood:                         -44397.\n",
       "No. Observations:                6815   AIC:                                  8.881e+04\n",
       "Df Residuals:                    6809   BIC:                                  8.885e+04\n",
       "Df Model:                           6                                                  \n",
       "Covariance Type:                  HAC                                                  \n",
       "==============================================================================\n",
       "                 coef    std err          z      P>|z|      [0.025      0.975]\n",
       "------------------------------------------------------------------------------\n",
       "Level         -0.1342      4.029     -0.033      0.973      -8.031       7.762\n",
       "Slope        -12.0341      4.133     -2.912      0.004     -20.134      -3.934\n",
       "Curve         -1.6847      3.823     -0.441      0.659      -9.177       5.808\n",
       "PC4           -3.7700      3.082     -1.223      0.221      -9.811       2.271\n",
       "PC5           -1.7959      3.770     -0.476      0.634      -9.184       5.592\n",
       "PC6            1.8901      2.907      0.650      0.516      -3.807       7.588\n",
       "==============================================================================\n",
       "Omnibus:                     3412.026   Durbin-Watson:                   1.950\n",
       "Prob(Omnibus):                  0.000   Jarque-Bera (JB):            98374.583\n",
       "Skew:                           1.818   Prob(JB):                         0.00\n",
       "Kurtosis:                      21.254   Cond. No.                         1.00\n",
       "==============================================================================\n",
       "\n",
       "Notes:\n",
       "[1] R² is computed without centering (uncentered) since the model does not contain a constant.\n",
       "[2] Standard Errors are heteroscedasticity and autocorrelation robust (HAC) using 0 lags and without small sample correction\n",
       "\"\"\""
      ]
     },
     "execution_count": 61,
     "metadata": {},
     "output_type": "execute_result"
    }
   ],
   "source": [
    "model.summary()"
   ]
  },
  {
   "cell_type": "markdown",
   "id": "56276fe6",
   "metadata": {},
   "source": [
    "### Next month"
   ]
  },
  {
   "cell_type": "code",
   "execution_count": 62,
   "id": "1f6fced6",
   "metadata": {},
   "outputs": [],
   "source": [
    "cr_S = cr_STRADDLE\n",
    "cr_S.reset_index(drop=False, inplace=True)"
   ]
  },
  {
   "cell_type": "code",
   "execution_count": 63,
   "id": "3ef7cd1d",
   "metadata": {},
   "outputs": [
    {
     "name": "stdout",
     "output_type": "stream",
     "text": [
      "Chi-squared statistic: [[3.57213216]], P-value: 0.6125023237791027\n"
     ]
    }
   ],
   "source": [
    "X = scaled_S[:-n_days]\n",
    "Y = (cr_S['S_R 12 month'][1:]*100).reset_index(drop=True)\n",
    "\n",
    "model = sm.OLS(Y, X).fit(cov_type='HAC',cov_kwds={'maxlags':n_days})\n",
    "\n",
    "# Get the names of all parameters\n",
    "params = model.params.index\n",
    "\n",
    "# Create an R matrix for the Wald test\n",
    "# Exclude 'const' and 'Curve' from the hypothesis\n",
    "R = np.zeros((len(params)-1, len(params)))\n",
    "row = 0\n",
    "for i, param in enumerate(params):\n",
    "    if param not in ['Slope']:\n",
    "        R[row, i] = 1\n",
    "        row += 1\n",
    "\n",
    "# Perform the Wald Test (Chi-square test)\n",
    "wald_test = model.wald_test(R)\n",
    "\n",
    "print(f\"Chi-squared statistic: {wald_test.statistic}, P-value: {wald_test.pvalue}\")"
   ]
  },
  {
   "cell_type": "code",
   "execution_count": 64,
   "id": "803b9000",
   "metadata": {},
   "outputs": [
    {
     "data": {
      "text/html": [
       "<table class=\"simpletable\">\n",
       "<caption>OLS Regression Results</caption>\n",
       "<tr>\n",
       "  <th>Dep. Variable:</th>      <td>S_R 12 month</td>   <th>  R-squared (uncentered):</th>      <td>   0.078</td> \n",
       "</tr>\n",
       "<tr>\n",
       "  <th>Model:</th>                   <td>OLS</td>       <th>  Adj. R-squared (uncentered):</th> <td>   0.077</td> \n",
       "</tr>\n",
       "<tr>\n",
       "  <th>Method:</th>             <td>Least Squares</td>  <th>  F-statistic:       </th>          <td>   8.390</td> \n",
       "</tr>\n",
       "<tr>\n",
       "  <th>Date:</th>             <td>Sat, 02 Dec 2023</td> <th>  Prob (F-statistic):</th>          <td>4.34e-09</td> \n",
       "</tr>\n",
       "<tr>\n",
       "  <th>Time:</th>                 <td>15:18:26</td>     <th>  Log-Likelihood:    </th>          <td> -24813.</td> \n",
       "</tr>\n",
       "<tr>\n",
       "  <th>No. Observations:</th>      <td>  6795</td>      <th>  AIC:               </th>          <td>4.964e+04</td>\n",
       "</tr>\n",
       "<tr>\n",
       "  <th>Df Residuals:</th>          <td>  6789</td>      <th>  BIC:               </th>          <td>4.968e+04</td>\n",
       "</tr>\n",
       "<tr>\n",
       "  <th>Df Model:</th>              <td>     6</td>      <th>                     </th>              <td> </td>    \n",
       "</tr>\n",
       "<tr>\n",
       "  <th>Covariance Type:</th>         <td>HAC</td>       <th>                     </th>              <td> </td>    \n",
       "</tr>\n",
       "</table>\n",
       "<table class=\"simpletable\">\n",
       "<tr>\n",
       "    <td></td>       <th>coef</th>     <th>std err</th>      <th>z</th>      <th>P>|z|</th>  <th>[0.025</th>    <th>0.975]</th>  \n",
       "</tr>\n",
       "<tr>\n",
       "  <th>Level</th> <td>   -0.0955</td> <td>    0.432</td> <td>   -0.221</td> <td> 0.825</td> <td>   -0.943</td> <td>    0.752</td>\n",
       "</tr>\n",
       "<tr>\n",
       "  <th>Slope</th> <td>   -2.5949</td> <td>    0.433</td> <td>   -5.987</td> <td> 0.000</td> <td>   -3.444</td> <td>   -1.745</td>\n",
       "</tr>\n",
       "<tr>\n",
       "  <th>Curve</th> <td>    0.0721</td> <td>    0.394</td> <td>    0.183</td> <td> 0.855</td> <td>   -0.700</td> <td>    0.844</td>\n",
       "</tr>\n",
       "<tr>\n",
       "  <th>PC4</th>   <td>   -0.2934</td> <td>    0.385</td> <td>   -0.761</td> <td> 0.447</td> <td>   -1.049</td> <td>    0.462</td>\n",
       "</tr>\n",
       "<tr>\n",
       "  <th>PC5</th>   <td>   -0.2250</td> <td>    0.319</td> <td>   -0.705</td> <td> 0.481</td> <td>   -0.851</td> <td>    0.401</td>\n",
       "</tr>\n",
       "<tr>\n",
       "  <th>PC6</th>   <td>    0.6467</td> <td>    0.442</td> <td>    1.463</td> <td> 0.143</td> <td>   -0.219</td> <td>    1.513</td>\n",
       "</tr>\n",
       "</table>\n",
       "<table class=\"simpletable\">\n",
       "<tr>\n",
       "  <th>Omnibus:</th>       <td>4588.879</td> <th>  Durbin-Watson:     </th>  <td>   0.094</td> \n",
       "</tr>\n",
       "<tr>\n",
       "  <th>Prob(Omnibus):</th>  <td> 0.000</td>  <th>  Jarque-Bera (JB):  </th> <td>134741.047</td>\n",
       "</tr>\n",
       "<tr>\n",
       "  <th>Skew:</th>           <td> 2.816</td>  <th>  Prob(JB):          </th>  <td>    0.00</td> \n",
       "</tr>\n",
       "<tr>\n",
       "  <th>Kurtosis:</th>       <td>24.076</td>  <th>  Cond. No.          </th>  <td>    1.00</td> \n",
       "</tr>\n",
       "</table><br/><br/>Notes:<br/>[1] R² is computed without centering (uncentered) since the model does not contain a constant.<br/>[2] Standard Errors are heteroscedasticity and autocorrelation robust (HAC) using 21 lags and without small sample correction"
      ],
      "text/plain": [
       "<class 'statsmodels.iolib.summary.Summary'>\n",
       "\"\"\"\n",
       "                                 OLS Regression Results                                \n",
       "=======================================================================================\n",
       "Dep. Variable:           S_R 12 month   R-squared (uncentered):                   0.078\n",
       "Model:                            OLS   Adj. R-squared (uncentered):              0.077\n",
       "Method:                 Least Squares   F-statistic:                              8.390\n",
       "Date:                Sat, 02 Dec 2023   Prob (F-statistic):                    4.34e-09\n",
       "Time:                        15:18:26   Log-Likelihood:                         -24813.\n",
       "No. Observations:                6795   AIC:                                  4.964e+04\n",
       "Df Residuals:                    6789   BIC:                                  4.968e+04\n",
       "Df Model:                           6                                                  \n",
       "Covariance Type:                  HAC                                                  \n",
       "==============================================================================\n",
       "                 coef    std err          z      P>|z|      [0.025      0.975]\n",
       "------------------------------------------------------------------------------\n",
       "Level         -0.0955      0.432     -0.221      0.825      -0.943       0.752\n",
       "Slope         -2.5949      0.433     -5.987      0.000      -3.444      -1.745\n",
       "Curve          0.0721      0.394      0.183      0.855      -0.700       0.844\n",
       "PC4           -0.2934      0.385     -0.761      0.447      -1.049       0.462\n",
       "PC5           -0.2250      0.319     -0.705      0.481      -0.851       0.401\n",
       "PC6            0.6467      0.442      1.463      0.143      -0.219       1.513\n",
       "==============================================================================\n",
       "Omnibus:                     4588.879   Durbin-Watson:                   0.094\n",
       "Prob(Omnibus):                  0.000   Jarque-Bera (JB):           134741.047\n",
       "Skew:                           2.816   Prob(JB):                         0.00\n",
       "Kurtosis:                      24.076   Cond. No.                         1.00\n",
       "==============================================================================\n",
       "\n",
       "Notes:\n",
       "[1] R² is computed without centering (uncentered) since the model does not contain a constant.\n",
       "[2] Standard Errors are heteroscedasticity and autocorrelation robust (HAC) using 21 lags and without small sample correction\n",
       "\"\"\""
      ]
     },
     "execution_count": 64,
     "metadata": {},
     "output_type": "execute_result"
    }
   ],
   "source": [
    "model.summary()"
   ]
  },
  {
   "cell_type": "markdown",
   "id": "fcb34e70",
   "metadata": {},
   "source": [
    "### Economic Significance of Slope as a predictor"
   ]
  },
  {
   "cell_type": "code",
   "execution_count": 65,
   "id": "20b35f83",
   "metadata": {},
   "outputs": [],
   "source": [
    "def std_error_range(data):\n",
    "    a = data.iloc[:1,:]**2\n",
    "    a = a.reset_index(drop=True)\n",
    "    b = data.iloc[4:,:]**2\n",
    "    b = b.reset_index(drop=True)\n",
    "    return np.sqrt(a+b)"
   ]
  },
  {
   "cell_type": "code",
   "execution_count": 66,
   "id": "e7b86958",
   "metadata": {},
   "outputs": [
    {
     "data": {
      "text/html": [
       "<div>\n",
       "<style scoped>\n",
       "    .dataframe tbody tr th:only-of-type {\n",
       "        vertical-align: middle;\n",
       "    }\n",
       "\n",
       "    .dataframe tbody tr th {\n",
       "        vertical-align: top;\n",
       "    }\n",
       "\n",
       "    .dataframe thead th {\n",
       "        text-align: right;\n",
       "    }\n",
       "</style>\n",
       "<table border=\"1\" class=\"dataframe\">\n",
       "  <thead>\n",
       "    <tr style=\"text-align: right;\">\n",
       "      <th></th>\n",
       "      <th>V_S_R 1 month</th>\n",
       "      <th>V_S_R 2 month</th>\n",
       "      <th>V_S_R 3 month</th>\n",
       "      <th>V_S_R 6 month</th>\n",
       "      <th>V_S_R 9 month</th>\n",
       "      <th>V_S_R 12 month</th>\n",
       "    </tr>\n",
       "  </thead>\n",
       "  <tbody>\n",
       "    <tr>\n",
       "      <th>0</th>\n",
       "      <td>0.143824</td>\n",
       "      <td>0.254507</td>\n",
       "      <td>0.251221</td>\n",
       "      <td>0.207801</td>\n",
       "      <td>0.185636</td>\n",
       "      <td>0.164947</td>\n",
       "    </tr>\n",
       "    <tr>\n",
       "      <th>1</th>\n",
       "      <td>1.561576</td>\n",
       "      <td>0.918996</td>\n",
       "      <td>0.716891</td>\n",
       "      <td>0.445428</td>\n",
       "      <td>0.318274</td>\n",
       "      <td>0.261375</td>\n",
       "    </tr>\n",
       "    <tr>\n",
       "      <th>2</th>\n",
       "      <td>1.038921</td>\n",
       "      <td>0.516757</td>\n",
       "      <td>0.369068</td>\n",
       "      <td>0.153290</td>\n",
       "      <td>0.092315</td>\n",
       "      <td>0.075497</td>\n",
       "    </tr>\n",
       "    <tr>\n",
       "      <th>3</th>\n",
       "      <td>1.168157</td>\n",
       "      <td>0.700646</td>\n",
       "      <td>0.498613</td>\n",
       "      <td>0.237713</td>\n",
       "      <td>0.169856</td>\n",
       "      <td>0.139922</td>\n",
       "    </tr>\n",
       "    <tr>\n",
       "      <th>4</th>\n",
       "      <td>0.860468</td>\n",
       "      <td>0.275717</td>\n",
       "      <td>0.079422</td>\n",
       "      <td>-0.064377</td>\n",
       "      <td>-0.113321</td>\n",
       "      <td>-0.127512</td>\n",
       "    </tr>\n",
       "    <tr>\n",
       "      <th>Range</th>\n",
       "      <td>-1.417752</td>\n",
       "      <td>-0.664489</td>\n",
       "      <td>-0.637470</td>\n",
       "      <td>-0.509804</td>\n",
       "      <td>-0.431595</td>\n",
       "      <td>-0.388887</td>\n",
       "    </tr>\n",
       "  </tbody>\n",
       "</table>\n",
       "</div>"
      ],
      "text/plain": [
       "       V_S_R 1 month  V_S_R 2 month  V_S_R 3 month  V_S_R 6 month  \\\n",
       "0           0.143824       0.254507       0.251221       0.207801   \n",
       "1           1.561576       0.918996       0.716891       0.445428   \n",
       "2           1.038921       0.516757       0.369068       0.153290   \n",
       "3           1.168157       0.700646       0.498613       0.237713   \n",
       "4           0.860468       0.275717       0.079422      -0.064377   \n",
       "Range      -1.417752      -0.664489      -0.637470      -0.509804   \n",
       "\n",
       "       V_S_R 9 month  V_S_R 12 month  \n",
       "0           0.185636        0.164947  \n",
       "1           0.318274        0.261375  \n",
       "2           0.092315        0.075497  \n",
       "3           0.169856        0.139922  \n",
       "4          -0.113321       -0.127512  \n",
       "Range      -0.431595       -0.388887  "
      ]
     },
     "execution_count": 66,
     "metadata": {},
     "output_type": "execute_result"
    }
   ],
   "source": [
    "ES_VS = XS_VAR_SWAPS[1:].reset_index(drop=True)\n",
    "ES_VS['Slope_Quantile'] = pd.qcut(scaled_VS['Slope'], q=5, labels=False)[:-1]\n",
    "VS_Q_Ret = ES_VS.sort_values(by='Slope_Quantile').groupby('Slope_Quantile').mean(numeric_only=True)*100\n",
    "range_row = pd.DataFrame(VS_Q_Ret.min() - VS_Q_Ret.max()).T\n",
    "range_row.index = ['Range']\n",
    "VS_Q_Ret = pd.concat([VS_Q_Ret, range_row])\n",
    "VS_Q_Ret"
   ]
  },
  {
   "cell_type": "code",
   "execution_count": 67,
   "id": "0dfe162a",
   "metadata": {},
   "outputs": [
    {
     "data": {
      "text/html": [
       "<div>\n",
       "<style scoped>\n",
       "    .dataframe tbody tr th:only-of-type {\n",
       "        vertical-align: middle;\n",
       "    }\n",
       "\n",
       "    .dataframe tbody tr th {\n",
       "        vertical-align: top;\n",
       "    }\n",
       "\n",
       "    .dataframe thead th {\n",
       "        text-align: right;\n",
       "    }\n",
       "</style>\n",
       "<table border=\"1\" class=\"dataframe\">\n",
       "  <thead>\n",
       "    <tr style=\"text-align: right;\">\n",
       "      <th></th>\n",
       "      <th>V_F_R 1 month_StdErr</th>\n",
       "      <th>V_F_R 2 month_StdErr</th>\n",
       "      <th>V_F_R 3 month_StdErr</th>\n",
       "      <th>V_F_R 6 month_StdErr</th>\n",
       "      <th>V_F_R 9 month_StdErr</th>\n",
       "      <th>V_F_R 12 month_StdErr</th>\n",
       "    </tr>\n",
       "  </thead>\n",
       "  <tbody>\n",
       "    <tr>\n",
       "      <th>0</th>\n",
       "      <td>0.236179</td>\n",
       "      <td>0.196236</td>\n",
       "      <td>0.165679</td>\n",
       "      <td>0.1526</td>\n",
       "      <td>0.147937</td>\n",
       "      <td>0.149401</td>\n",
       "    </tr>\n",
       "  </tbody>\n",
       "</table>\n",
       "</div>"
      ],
      "text/plain": [
       "   V_F_R 1 month_StdErr  V_F_R 2 month_StdErr  V_F_R 3 month_StdErr  \\\n",
       "0              0.236179              0.196236              0.165679   \n",
       "\n",
       "   V_F_R 6 month_StdErr  V_F_R 9 month_StdErr  V_F_R 12 month_StdErr  \n",
       "0                0.1526              0.147937               0.149401  "
      ]
     },
     "execution_count": 67,
     "metadata": {},
     "output_type": "execute_result"
    }
   ],
   "source": [
    "ES_VF = XS_VIX_FUT[1:].reset_index(drop=True,inplace=False)\n",
    "ES_VF['Slope_Quantile'] = pd.qcut(scaled_VF['Slope'], q=5, labels=False)[:-1]\n",
    "grouped = ES_VF.sort_values(by='Slope_Quantile').groupby('Slope_Quantile')\n",
    "mean = grouped.mean(numeric_only=True) * 100\n",
    "std_dev = grouped.std(numeric_only=True)\n",
    "count = grouped.count()\n",
    "std_error = std_dev / np.sqrt(count)*100\n",
    "std_error = std_error[['V_F_R 1 month','V_F_R 2 month','V_F_R 3 month','V_F_R 6 month','V_F_R 9 month','V_F_R 12 month']]\n",
    "# Add a suffix to distinguish between mean and standard error columns\n",
    "mean = mean.add_suffix('_Mean')\n",
    "std_error = std_error.add_suffix('_StdErr')\n",
    "\n",
    "# Concatenate mean and standard error DataFrames\n",
    "result = pd.concat([mean, std_error], axis=1)\n",
    "\n",
    "# Calculate the range row and add to the result\n",
    "range_row = pd.DataFrame(result.min() - result.max()).T\n",
    "range_row.index = ['Range']\n",
    "result = pd.concat([result, range_row])\n",
    "result\n",
    "\n",
    "std_error_range(std_error)\n"
   ]
  },
  {
   "cell_type": "code",
   "execution_count": 68,
   "id": "6f0d042d",
   "metadata": {},
   "outputs": [
    {
     "data": {
      "text/html": [
       "<div>\n",
       "<style scoped>\n",
       "    .dataframe tbody tr th:only-of-type {\n",
       "        vertical-align: middle;\n",
       "    }\n",
       "\n",
       "    .dataframe tbody tr th {\n",
       "        vertical-align: top;\n",
       "    }\n",
       "\n",
       "    .dataframe thead th {\n",
       "        text-align: right;\n",
       "    }\n",
       "</style>\n",
       "<table border=\"1\" class=\"dataframe\">\n",
       "  <thead>\n",
       "    <tr style=\"text-align: right;\">\n",
       "      <th></th>\n",
       "      <th>S_R 1 month_StdErr</th>\n",
       "      <th>S_R 2 month_StdErr</th>\n",
       "      <th>S_R 3 month_StdErr</th>\n",
       "      <th>S_R 6 month_StdErr</th>\n",
       "      <th>S_R 9 month_StdErr</th>\n",
       "      <th>S_R 12 month_StdErr</th>\n",
       "    </tr>\n",
       "  </thead>\n",
       "  <tbody>\n",
       "    <tr>\n",
       "      <th>0</th>\n",
       "      <td>0.253823</td>\n",
       "      <td>0.162199</td>\n",
       "      <td>0.130574</td>\n",
       "      <td>0.093988</td>\n",
       "      <td>0.076734</td>\n",
       "      <td>0.072886</td>\n",
       "    </tr>\n",
       "  </tbody>\n",
       "</table>\n",
       "</div>"
      ],
      "text/plain": [
       "   S_R 1 month_StdErr  S_R 2 month_StdErr  S_R 3 month_StdErr  \\\n",
       "0            0.253823            0.162199            0.130574   \n",
       "\n",
       "   S_R 6 month_StdErr  S_R 9 month_StdErr  S_R 12 month_StdErr  \n",
       "0            0.093988            0.076734             0.072886  "
      ]
     },
     "execution_count": 68,
     "metadata": {},
     "output_type": "execute_result"
    }
   ],
   "source": [
    "ES_STRADDLE =XS_STRADDLE[1:].reset_index(drop=True)\n",
    "ES_STRADDLE['Slope_Quantile'] = pd.qcut(scaled_S['Slope'], q=5, labels=False)[:-1]\n",
    "\n",
    "grouped = ES_STRADDLE.sort_values(by='Slope_Quantile').groupby('Slope_Quantile')\n",
    "mean = grouped.mean(numeric_only=True) * 100\n",
    "std_dev = grouped.std(numeric_only=True)\n",
    "count = grouped.count()\n",
    "std_error = std_dev / np.sqrt(count)*100\n",
    "std_error = std_error[['S_R 1 month','S_R 2 month','S_R 3 month','S_R 6 month','S_R 9 month','S_R 12 month']]\n",
    "# Add a suffix to distinguish between mean and standard error columns\n",
    "mean = mean.add_suffix('_Mean')\n",
    "std_error = std_error.add_suffix('_StdErr')\n",
    "\n",
    "# Concatenate mean and standard error DataFrames\n",
    "result = pd.concat([mean, std_error], axis=1)\n",
    "\n",
    "# Calculate the range row and add to the result\n",
    "range_row = pd.DataFrame(result.min() - result.max()).T\n",
    "range_row.index = ['Range']\n",
    "result = pd.concat([result, range_row])\n",
    "result\n",
    "\n",
    "std_error_range(std_error)"
   ]
  },
  {
   "cell_type": "markdown",
   "id": "c599fead",
   "metadata": {},
   "source": [
    "### Removing Crisis"
   ]
  },
  {
   "cell_type": "code",
   "execution_count": 69,
   "id": "8f9eac2a",
   "metadata": {},
   "outputs": [],
   "source": [
    "CRASH_VS_I_gfc = [VAR_SWAPS_MERGED.index.get_loc('2008-01-02'),VAR_SWAPS_MERGED.index.get_loc('2009-12-31')]\n",
    "CRASH_VF_I_gfc = [VIX_FUT_MERGED.index.get_loc('2008-01-02'),VIX_FUT_MERGED.index.get_loc('2009-12-31')]\n",
    "CRASH_S_I_gfc = [STRADDLE_MERGED.index.get_loc('2008-01-02'),STRADDLE_MERGED.index.get_loc('2009-12-31')]\n",
    "\n",
    "CRASH_VS_I_c = [VAR_SWAPS_MERGED.index.get_loc('2020-02-20'),VAR_SWAPS_MERGED.index.get_loc('2020-03-25')]\n",
    "CRASH_VF_I_c = [VIX_FUT_MERGED.index.get_loc('2020-02-20'),VIX_FUT_MERGED.index.get_loc('2020-03-25')]\n",
    "CRASH_S_I_c = [STRADDLE_MERGED.index.get_loc('2020-02-20'),STRADDLE_MERGED.index.get_loc('2020-03-25')]"
   ]
  },
  {
   "cell_type": "code",
   "execution_count": 70,
   "id": "6967b99e",
   "metadata": {},
   "outputs": [],
   "source": [
    "a = pd.concat([scaled_VS[:CRASH_VS_I_gfc[0]],scaled_VS[CRASH_VS_I_gfc[1]:]]) \n",
    "b = pd.concat([scaled_VF[:CRASH_VF_I_gfc[0]],scaled_VF[CRASH_VF_I_gfc[1]:]]) \n",
    "c = pd.concat([scaled_S[:CRASH_S_I_gfc[0]],scaled_S[CRASH_S_I_gfc[1]:]]) \n",
    "\n",
    "scaled_NC_VS = pd.concat([a[:CRASH_VS_I_c[0]],a[CRASH_VS_I_c[1]:]]) \n",
    "scaled_NC_VF = pd.concat([b[:CRASH_VF_I_c[0]],b[CRASH_VF_I_c[1]:]]) \n",
    "scaled_NC_S = pd.concat([c[:CRASH_S_I_c[0]],c[CRASH_S_I_c[1]:]]) "
   ]
  },
  {
   "cell_type": "code",
   "execution_count": 74,
   "id": "6b70f7fa",
   "metadata": {},
   "outputs": [],
   "source": [
    "a = pd.concat([XS_VAR_SWAPS[:CRASH_VS_I_gfc[0]],XS_VAR_SWAPS[CRASH_VS_I_gfc[1]:]]) \n",
    "b = pd.concat([XS_VIX_FUT[:CRASH_VF_I_gfc[0]],XS_VIX_FUT[CRASH_VF_I_gfc[1]:]]) \n",
    "c = pd.concat([XS_STRADDLE[:CRASH_S_I_gfc[0]],XS_STRADDLE[CRASH_S_I_gfc[1]:]]) \n",
    "\n",
    "XS_NC_VS = pd.concat([a[:CRASH_VS_I_c[0]],a[CRASH_VS_I_c[1]:]]) \n",
    "XS_NC_VF = pd.concat([b[:CRASH_VF_I_c[0]],b[CRASH_VF_I_c[1]:]]) \n",
    "XS_NC_S = pd.concat([c[:CRASH_S_I_c[0]],c[CRASH_S_I_c[1]:]]) "
   ]
  },
  {
   "cell_type": "markdown",
   "id": "5d2c5e6c",
   "metadata": {},
   "source": [
    "### Robustness of Slope as a predictor"
   ]
  },
  {
   "cell_type": "markdown",
   "id": "a39b973d",
   "metadata": {},
   "source": [
    "### Variance Swap"
   ]
  },
  {
   "cell_type": "markdown",
   "id": "140a3ee2",
   "metadata": {},
   "source": [
    "### Next-month Returns"
   ]
  },
  {
   "cell_type": "code",
   "execution_count": 75,
   "id": "3572fed2",
   "metadata": {},
   "outputs": [],
   "source": [
    "m_ES_VS = cr_VAR_SWAPS\n",
    "m_ES_VS['Slope_Quantile'] = pd.qcut(scaled_VS['Slope'], q=5, labels=False)\n",
    "m_VS_Q_Ret = m_ES_VS.sort_values(by='Slope_Quantile').groupby('Slope_Quantile').mean(numeric_only=True)*100\n",
    "range_row = pd.DataFrame(m_VS_Q_Ret.min() - m_VS_Q_Ret.max()).T\n",
    "range_row.index = ['Next-Month Returns']\n",
    "m_VS_Q_Ret = pd.concat([m_VS_Q_Ret, range_row])"
   ]
  },
  {
   "cell_type": "code",
   "execution_count": 76,
   "id": "95e1b66f",
   "metadata": {},
   "outputs": [],
   "source": [
    "VS_Robustness = VS_Q_Ret.iloc[5:,:]\n",
    "VS_Robustness = pd.concat([VS_Robustness, m_VS_Q_Ret.iloc[5:,:]])"
   ]
  },
  {
   "cell_type": "markdown",
   "id": "0f82f259",
   "metadata": {},
   "source": [
    "### Crisis Removed"
   ]
  },
  {
   "cell_type": "code",
   "execution_count": 77,
   "id": "ce6fa846",
   "metadata": {},
   "outputs": [],
   "source": [
    "NC_ES_VS = XS_NC_VS[1:].reset_index(drop=True)\n",
    "NC_ES_VS['Slope_Quantile'] = pd.qcut(scaled_NC_VS['Slope'], q=5, labels=False)\n",
    "NC_VS_Q_Ret = NC_ES_VS.sort_values(by='Slope_Quantile').groupby('Slope_Quantile').mean(numeric_only=True)*100\n",
    "range_row = pd.DataFrame(NC_VS_Q_Ret.min() - NC_VS_Q_Ret.max()).T\n",
    "range_row.index = ['Crisis Removed']\n",
    "NC_VS_Q_Ret = pd.concat([NC_VS_Q_Ret, range_row])"
   ]
  },
  {
   "cell_type": "code",
   "execution_count": 78,
   "id": "e85b2695",
   "metadata": {},
   "outputs": [],
   "source": [
    "VS_Robustness = pd.concat([VS_Robustness, NC_VS_Q_Ret.iloc[5:,:]])"
   ]
  },
  {
   "cell_type": "markdown",
   "id": "20868e22",
   "metadata": {},
   "source": [
    "### Bottom 5% Slope removed"
   ]
  },
  {
   "cell_type": "code",
   "execution_count": 79,
   "id": "bb32171e",
   "metadata": {},
   "outputs": [],
   "source": [
    "ES_VS = XS_VAR_SWAPS[1:].reset_index(drop=True)\n",
    "ES_VS['Slope'] = scaled_VS['Slope']\n",
    "ES_VS['Slope_Quantile'] = pd.qcut(scaled_VS['Slope'], q=5, labels=False)\n",
    "ES_VS = ES_VS[ES_VS['Slope'] > ES_VS['Slope'].quantile(0.05)]\n",
    "ES_VS = ES_VS.drop('Slope',axis=1)\n",
    "BFIVE_VS_Q_Ret = ES_VS.sort_values(by='Slope_Quantile').groupby('Slope_Quantile').mean(numeric_only=True)*100\n",
    "range_row = pd.DataFrame(BFIVE_VS_Q_Ret.min() - BFIVE_VS_Q_Ret.max()).T\n",
    "range_row.index = ['Bottom 5% Slope removed']\n",
    "BFIVE_VS_Q_Ret = pd.concat([BFIVE_VS_Q_Ret, range_row])"
   ]
  },
  {
   "cell_type": "code",
   "execution_count": 80,
   "id": "3b9b8738",
   "metadata": {},
   "outputs": [],
   "source": [
    "VS_Robustness = pd.concat([VS_Robustness, BFIVE_VS_Q_Ret.iloc[5:,:]])"
   ]
  },
  {
   "cell_type": "markdown",
   "id": "f153d709",
   "metadata": {},
   "source": [
    "### Slope = VIX12 - VIX1"
   ]
  },
  {
   "cell_type": "code",
   "execution_count": 81,
   "id": "0c556d61",
   "metadata": {},
   "outputs": [],
   "source": [
    "NM_ES_VS = XS_VAR_SWAPS[1:].reset_index(drop=True)\n",
    "NM_ES_VS['Slope_Quantile'] = pd.qcut((VAR_SWAPS_MERGED['12 month'] - VAR_SWAPS_MERGED['1 month']), q=5, labels=False).reset_index(drop=True)\n",
    "NM_VS_Q_Ret = NM_ES_VS.sort_values(by='Slope_Quantile').groupby('Slope_Quantile').mean(numeric_only=True)*100\n",
    "range_row = pd.DataFrame(NM_VS_Q_Ret.min() - NM_VS_Q_Ret.max()).T\n",
    "range_row.index = ['Slope = VIX 12-VIX 1']\n",
    "NM_VS_Q_Ret = pd.concat([NM_VS_Q_Ret, range_row])"
   ]
  },
  {
   "cell_type": "code",
   "execution_count": 82,
   "id": "5470f12f",
   "metadata": {},
   "outputs": [],
   "source": [
    "VS_Robustness = pd.concat([VS_Robustness, NM_VS_Q_Ret.iloc[5:,:]])"
   ]
  },
  {
   "cell_type": "code",
   "execution_count": 83,
   "id": "216a83e9",
   "metadata": {},
   "outputs": [
    {
     "data": {
      "text/html": [
       "<div>\n",
       "<style scoped>\n",
       "    .dataframe tbody tr th:only-of-type {\n",
       "        vertical-align: middle;\n",
       "    }\n",
       "\n",
       "    .dataframe tbody tr th {\n",
       "        vertical-align: top;\n",
       "    }\n",
       "\n",
       "    .dataframe thead th {\n",
       "        text-align: right;\n",
       "    }\n",
       "</style>\n",
       "<table border=\"1\" class=\"dataframe\">\n",
       "  <thead>\n",
       "    <tr style=\"text-align: right;\">\n",
       "      <th></th>\n",
       "      <th>V_S_R 1 month</th>\n",
       "      <th>V_S_R 2 month</th>\n",
       "      <th>V_S_R 3 month</th>\n",
       "      <th>V_S_R 6 month</th>\n",
       "      <th>V_S_R 9 month</th>\n",
       "      <th>V_S_R 12 month</th>\n",
       "    </tr>\n",
       "  </thead>\n",
       "  <tbody>\n",
       "    <tr>\n",
       "      <th>Range</th>\n",
       "      <td>-1.417752</td>\n",
       "      <td>-0.664489</td>\n",
       "      <td>-0.637470</td>\n",
       "      <td>-0.509804</td>\n",
       "      <td>-0.431595</td>\n",
       "      <td>-0.388887</td>\n",
       "    </tr>\n",
       "    <tr>\n",
       "      <th>Next-Month Returns</th>\n",
       "      <td>-29.190882</td>\n",
       "      <td>-23.138428</td>\n",
       "      <td>-19.845575</td>\n",
       "      <td>-14.135011</td>\n",
       "      <td>-11.330696</td>\n",
       "      <td>-10.046927</td>\n",
       "    </tr>\n",
       "    <tr>\n",
       "      <th>Crisis Removed</th>\n",
       "      <td>-1.242815</td>\n",
       "      <td>-0.608508</td>\n",
       "      <td>-0.514003</td>\n",
       "      <td>-0.381530</td>\n",
       "      <td>-0.293454</td>\n",
       "      <td>-0.264376</td>\n",
       "    </tr>\n",
       "    <tr>\n",
       "      <th>Bottom 5% Slope removed</th>\n",
       "      <td>-0.996327</td>\n",
       "      <td>-0.643279</td>\n",
       "      <td>-0.637470</td>\n",
       "      <td>-0.509804</td>\n",
       "      <td>-0.431595</td>\n",
       "      <td>-0.388887</td>\n",
       "    </tr>\n",
       "    <tr>\n",
       "      <th>Slope = VIX 12-VIX 1</th>\n",
       "      <td>-2.809722</td>\n",
       "      <td>-1.507775</td>\n",
       "      <td>-0.977455</td>\n",
       "      <td>-0.375228</td>\n",
       "      <td>-0.217102</td>\n",
       "      <td>-0.184494</td>\n",
       "    </tr>\n",
       "  </tbody>\n",
       "</table>\n",
       "</div>"
      ],
      "text/plain": [
       "                         V_S_R 1 month  V_S_R 2 month  V_S_R 3 month  \\\n",
       "Range                        -1.417752      -0.664489      -0.637470   \n",
       "Next-Month Returns          -29.190882     -23.138428     -19.845575   \n",
       "Crisis Removed               -1.242815      -0.608508      -0.514003   \n",
       "Bottom 5% Slope removed      -0.996327      -0.643279      -0.637470   \n",
       "Slope = VIX 12-VIX 1         -2.809722      -1.507775      -0.977455   \n",
       "\n",
       "                         V_S_R 6 month  V_S_R 9 month  V_S_R 12 month  \n",
       "Range                        -0.509804      -0.431595       -0.388887  \n",
       "Next-Month Returns          -14.135011     -11.330696      -10.046927  \n",
       "Crisis Removed               -0.381530      -0.293454       -0.264376  \n",
       "Bottom 5% Slope removed      -0.509804      -0.431595       -0.388887  \n",
       "Slope = VIX 12-VIX 1         -0.375228      -0.217102       -0.184494  "
      ]
     },
     "execution_count": 83,
     "metadata": {},
     "output_type": "execute_result"
    }
   ],
   "source": [
    "VS_Robustness"
   ]
  },
  {
   "cell_type": "markdown",
   "id": "9bd7d876",
   "metadata": {},
   "source": [
    "### VIX Futures"
   ]
  },
  {
   "cell_type": "markdown",
   "id": "a4658835",
   "metadata": {},
   "source": [
    "### Next-month Returns"
   ]
  },
  {
   "cell_type": "code",
   "execution_count": 84,
   "id": "f8923585",
   "metadata": {},
   "outputs": [],
   "source": [
    "m_ES_VF = cr_VIX_FUT\n",
    "m_ES_VF['Slope_Quantile'] = pd.qcut(scaled_VF['Slope'], q=5, labels=False)\n",
    "m_VF_Q_Ret = m_ES_VF.sort_values(by='Slope_Quantile').groupby('Slope_Quantile').mean(numeric_only=True)*100\n",
    "\n",
    "std_errors = m_ES_VF.sort_values(by='Slope_Quantile').groupby('Slope_Quantile').std(numeric_only=True) / np.sqrt(m_ES_VF.groupby('Slope_Quantile').size())\n",
    "m_VF_Q_Ret = m_VF_Q_Ret.add_suffix('_Mean')\n",
    "std_errors = std_errors.add_suffix('_StdErr')\n",
    "m_VF_Q_Ret = pd.concat([m_VF_Q_Ret, std_errors], axis=1)\n",
    "\n",
    "range_row = pd.DataFrame(m_VF_Q_Ret.min() - m_VF_Q_Ret.max()).T\n",
    "range_row.index = ['Next-Month Returns']\n",
    "m_VF_Q_Ret = pd.concat([m_VF_Q_Ret, range_row])"
   ]
  },
  {
   "cell_type": "code",
   "execution_count": 85,
   "id": "0847ffd9",
   "metadata": {},
   "outputs": [
    {
     "data": {
      "text/html": [
       "<div>\n",
       "<style scoped>\n",
       "    .dataframe tbody tr th:only-of-type {\n",
       "        vertical-align: middle;\n",
       "    }\n",
       "\n",
       "    .dataframe tbody tr th {\n",
       "        vertical-align: top;\n",
       "    }\n",
       "\n",
       "    .dataframe thead th {\n",
       "        text-align: right;\n",
       "    }\n",
       "</style>\n",
       "<table border=\"1\" class=\"dataframe\">\n",
       "  <thead>\n",
       "    <tr style=\"text-align: right;\">\n",
       "      <th></th>\n",
       "      <th>V_F_R 1 month</th>\n",
       "      <th>V_F_R 2 month</th>\n",
       "      <th>V_F_R 3 month</th>\n",
       "      <th>V_F_R 6 month</th>\n",
       "      <th>V_F_R 9 month</th>\n",
       "      <th>V_F_R 12 month</th>\n",
       "    </tr>\n",
       "  </thead>\n",
       "  <tbody>\n",
       "  </tbody>\n",
       "</table>\n",
       "</div>"
      ],
      "text/plain": [
       "Empty DataFrame\n",
       "Columns: [V_F_R 1 month, V_F_R 2 month, V_F_R 3 month, V_F_R 6 month, V_F_R 9 month, V_F_R 12 month]\n",
       "Index: []"
      ]
     },
     "execution_count": 85,
     "metadata": {},
     "output_type": "execute_result"
    }
   ],
   "source": [
    "grouped = m_ES_VF.sort_values(by='Slope_Quantile').groupby('Slope_Quantile')\n",
    "std_dev = grouped.std(numeric_only=True)\n",
    "counts = grouped.count()\n",
    "std_error = std_dev / np.sqrt(counts)*100\n",
    "std_error_range(std_error)"
   ]
  },
  {
   "cell_type": "code",
   "execution_count": 86,
   "id": "aeef3353",
   "metadata": {},
   "outputs": [
    {
     "ename": "NameError",
     "evalue": "name 'VF_Q_Ret' is not defined",
     "output_type": "error",
     "traceback": [
      "\u001b[0;31m---------------------------------------------------------------------------\u001b[0m",
      "\u001b[0;31mNameError\u001b[0m                                 Traceback (most recent call last)",
      "\u001b[0;32m<ipython-input-86-f3073993c9e6>\u001b[0m in \u001b[0;36m<module>\u001b[0;34m\u001b[0m\n\u001b[0;32m----> 1\u001b[0;31m \u001b[0mVF_Robustness\u001b[0m \u001b[0;34m=\u001b[0m \u001b[0mVF_Q_Ret\u001b[0m\u001b[0;34m.\u001b[0m\u001b[0miloc\u001b[0m\u001b[0;34m[\u001b[0m\u001b[0;36m5\u001b[0m\u001b[0;34m:\u001b[0m\u001b[0;34m,\u001b[0m\u001b[0;34m:\u001b[0m\u001b[0;34m]\u001b[0m\u001b[0;34m\u001b[0m\u001b[0;34m\u001b[0m\u001b[0m\n\u001b[0m\u001b[1;32m      2\u001b[0m \u001b[0mVF_Robustness\u001b[0m \u001b[0;34m=\u001b[0m \u001b[0mpd\u001b[0m\u001b[0;34m.\u001b[0m\u001b[0mconcat\u001b[0m\u001b[0;34m(\u001b[0m\u001b[0;34m[\u001b[0m\u001b[0mVF_Robustness\u001b[0m\u001b[0;34m,\u001b[0m \u001b[0mm_VF_Q_Ret\u001b[0m\u001b[0;34m.\u001b[0m\u001b[0miloc\u001b[0m\u001b[0;34m[\u001b[0m\u001b[0;36m5\u001b[0m\u001b[0;34m:\u001b[0m\u001b[0;34m,\u001b[0m\u001b[0;34m:\u001b[0m\u001b[0;34m]\u001b[0m\u001b[0;34m]\u001b[0m\u001b[0;34m)\u001b[0m\u001b[0;34m\u001b[0m\u001b[0;34m\u001b[0m\u001b[0m\n",
      "\u001b[0;31mNameError\u001b[0m: name 'VF_Q_Ret' is not defined"
     ]
    }
   ],
   "source": [
    "VF_Robustness = VF_Q_Ret.iloc[5:,:]\n",
    "VF_Robustness = pd.concat([VF_Robustness, m_VF_Q_Ret.iloc[5:,:]])"
   ]
  },
  {
   "cell_type": "markdown",
   "id": "a64b711a",
   "metadata": {},
   "source": [
    "### Crisis Removed"
   ]
  },
  {
   "cell_type": "code",
   "execution_count": 87,
   "id": "316fbf82",
   "metadata": {},
   "outputs": [],
   "source": [
    "NC_ES_VF = XS_NC_VF[1:].reset_index(drop=True,inplace=False)\n",
    "NC_ES_VF['Slope_Quantile'] = pd.qcut(scaled_NC_VF['Slope'], q=5, labels=False)\n",
    "NC_VF_Q_Ret = NC_ES_VF.sort_values(by='Slope_Quantile').groupby('Slope_Quantile').mean(numeric_only=True)*100\n",
    "range_row = pd.DataFrame(NC_VF_Q_Ret.min() - NC_VF_Q_Ret.max()).T\n",
    "range_row.index = ['Crisis Removed']\n",
    "NC_VF_Q_Ret = pd.concat([NC_VF_Q_Ret, range_row])"
   ]
  },
  {
   "cell_type": "code",
   "execution_count": 88,
   "id": "c45b636c",
   "metadata": {},
   "outputs": [
    {
     "data": {
      "text/html": [
       "<div>\n",
       "<style scoped>\n",
       "    .dataframe tbody tr th:only-of-type {\n",
       "        vertical-align: middle;\n",
       "    }\n",
       "\n",
       "    .dataframe tbody tr th {\n",
       "        vertical-align: top;\n",
       "    }\n",
       "\n",
       "    .dataframe thead th {\n",
       "        text-align: right;\n",
       "    }\n",
       "</style>\n",
       "<table border=\"1\" class=\"dataframe\">\n",
       "  <thead>\n",
       "    <tr style=\"text-align: right;\">\n",
       "      <th></th>\n",
       "      <th>V_F_R 1 month</th>\n",
       "      <th>V_F_R 2 month</th>\n",
       "      <th>V_F_R 3 month</th>\n",
       "      <th>V_F_R 6 month</th>\n",
       "      <th>V_F_R 9 month</th>\n",
       "      <th>V_F_R 12 month</th>\n",
       "    </tr>\n",
       "  </thead>\n",
       "  <tbody>\n",
       "    <tr>\n",
       "      <th>0</th>\n",
       "      <td>0.228843</td>\n",
       "      <td>0.180372</td>\n",
       "      <td>0.159872</td>\n",
       "      <td>0.151163</td>\n",
       "      <td>0.150127</td>\n",
       "      <td>0.152774</td>\n",
       "    </tr>\n",
       "  </tbody>\n",
       "</table>\n",
       "</div>"
      ],
      "text/plain": [
       "   V_F_R 1 month  V_F_R 2 month  V_F_R 3 month  V_F_R 6 month  V_F_R 9 month  \\\n",
       "0       0.228843       0.180372       0.159872       0.151163       0.150127   \n",
       "\n",
       "   V_F_R 12 month  \n",
       "0        0.152774  "
      ]
     },
     "execution_count": 88,
     "metadata": {},
     "output_type": "execute_result"
    }
   ],
   "source": [
    "grouped = NC_ES_VF.sort_values(by='Slope_Quantile').groupby('Slope_Quantile')\n",
    "std_dev = grouped.std(numeric_only=True)\n",
    "counts = grouped.count()\n",
    "std_error = (std_dev / np.sqrt(counts))*100\n",
    "std_error_range(std_error)"
   ]
  },
  {
   "cell_type": "code",
   "execution_count": 89,
   "id": "b42382f6",
   "metadata": {},
   "outputs": [
    {
     "ename": "NameError",
     "evalue": "name 'VF_Robustness' is not defined",
     "output_type": "error",
     "traceback": [
      "\u001b[0;31m---------------------------------------------------------------------------\u001b[0m",
      "\u001b[0;31mNameError\u001b[0m                                 Traceback (most recent call last)",
      "\u001b[0;32m<ipython-input-89-e1c77b57fe3f>\u001b[0m in \u001b[0;36m<module>\u001b[0;34m\u001b[0m\n\u001b[0;32m----> 1\u001b[0;31m \u001b[0mVF_Robustness\u001b[0m \u001b[0;34m=\u001b[0m \u001b[0mpd\u001b[0m\u001b[0;34m.\u001b[0m\u001b[0mconcat\u001b[0m\u001b[0;34m(\u001b[0m\u001b[0;34m[\u001b[0m\u001b[0mVF_Robustness\u001b[0m\u001b[0;34m,\u001b[0m \u001b[0mNC_VF_Q_Ret\u001b[0m\u001b[0;34m.\u001b[0m\u001b[0miloc\u001b[0m\u001b[0;34m[\u001b[0m\u001b[0;36m5\u001b[0m\u001b[0;34m:\u001b[0m\u001b[0;34m,\u001b[0m\u001b[0;34m:\u001b[0m\u001b[0;34m]\u001b[0m\u001b[0;34m]\u001b[0m\u001b[0;34m)\u001b[0m\u001b[0;34m\u001b[0m\u001b[0;34m\u001b[0m\u001b[0m\n\u001b[0m",
      "\u001b[0;31mNameError\u001b[0m: name 'VF_Robustness' is not defined"
     ]
    }
   ],
   "source": [
    "VF_Robustness = pd.concat([VF_Robustness, NC_VF_Q_Ret.iloc[5:,:]])"
   ]
  },
  {
   "cell_type": "markdown",
   "id": "9f992f56",
   "metadata": {},
   "source": [
    "### Bottom 5% Slope removed"
   ]
  },
  {
   "cell_type": "code",
   "execution_count": 2561,
   "id": "2f0edab6",
   "metadata": {},
   "outputs": [],
   "source": [
    "ES_VF = XS_VIX_FUT[1:].reset_index(drop=True,inplace=False)\n",
    "ES_VF['Slope'] = scaled_VF['Slope']\n",
    "ES_VF['Slope_Quantile'] = pd.qcut(scaled_VF['Slope'], q=5, labels=False)\n",
    "ES_VF = ES_VF[ES_VF['Slope'] > ES_VF['Slope'].quantile(0.05)]\n",
    "ES_VF = ES_VF.drop('Slope',axis=1)\n",
    "BFIVE_VF_Q_Ret = ES_VF.sort_values(by='Slope_Quantile').groupby('Slope_Quantile').mean(numeric_only=True)*100\n",
    "range_row = pd.DataFrame(BFIVE_VF_Q_Ret.min() - BFIVE_VF_Q_Ret.max()).T\n",
    "range_row.index = ['Bottom 5% Slope removed']\n",
    "BFIVE_VF_Q_Ret = pd.concat([BFIVE_VF_Q_Ret, range_row])"
   ]
  },
  {
   "cell_type": "code",
   "execution_count": 2562,
   "id": "2f56b63e",
   "metadata": {},
   "outputs": [
    {
     "data": {
      "text/html": [
       "<div>\n",
       "<style scoped>\n",
       "    .dataframe tbody tr th:only-of-type {\n",
       "        vertical-align: middle;\n",
       "    }\n",
       "\n",
       "    .dataframe tbody tr th {\n",
       "        vertical-align: top;\n",
       "    }\n",
       "\n",
       "    .dataframe thead th {\n",
       "        text-align: right;\n",
       "    }\n",
       "</style>\n",
       "<table border=\"1\" class=\"dataframe\">\n",
       "  <thead>\n",
       "    <tr style=\"text-align: right;\">\n",
       "      <th></th>\n",
       "      <th>V_F_R 1 month</th>\n",
       "      <th>V_F_R 2 month</th>\n",
       "      <th>V_F_R 3 month</th>\n",
       "      <th>V_F_R 6 month</th>\n",
       "      <th>V_F_R 9 month</th>\n",
       "      <th>V_F_R 12 month</th>\n",
       "    </tr>\n",
       "  </thead>\n",
       "  <tbody>\n",
       "    <tr>\n",
       "      <th>0</th>\n",
       "      <td>0.210295</td>\n",
       "      <td>0.173555</td>\n",
       "      <td>0.13246</td>\n",
       "      <td>0.114937</td>\n",
       "      <td>0.115222</td>\n",
       "      <td>0.124234</td>\n",
       "    </tr>\n",
       "  </tbody>\n",
       "</table>\n",
       "</div>"
      ],
      "text/plain": [
       "   V_F_R 1 month  V_F_R 2 month  V_F_R 3 month  V_F_R 6 month  V_F_R 9 month  \\\n",
       "0       0.210295       0.173555        0.13246       0.114937       0.115222   \n",
       "\n",
       "   V_F_R 12 month  \n",
       "0        0.124234  "
      ]
     },
     "execution_count": 2562,
     "metadata": {},
     "output_type": "execute_result"
    }
   ],
   "source": [
    "grouped = ES_VF.sort_values(by='Slope_Quantile').groupby('Slope_Quantile')\n",
    "std_dev = grouped.std(numeric_only=True)\n",
    "counts = grouped.count()\n",
    "std_error = (std_dev / np.sqrt(counts))*100\n",
    "std_error_range(std_error)"
   ]
  },
  {
   "cell_type": "code",
   "execution_count": 2563,
   "id": "26765ee5",
   "metadata": {},
   "outputs": [],
   "source": [
    "VF_Robustness = pd.concat([VF_Robustness.iloc[:,2:], BFIVE_VF_Q_Ret.iloc[5:,:]])"
   ]
  },
  {
   "cell_type": "markdown",
   "id": "f10e14e4",
   "metadata": {},
   "source": [
    "### Slope = VIX12 - VIX1"
   ]
  },
  {
   "cell_type": "code",
   "execution_count": 2564,
   "id": "9a071562",
   "metadata": {},
   "outputs": [],
   "source": [
    "NM_ES_VF = XS_VIX_FUT[1:].reset_index(drop=True)\n",
    "NM_ES_VF['Slope_Quantile'] = pd.qcut((VIX_FUT_MERGED['12 month'] - VIX_FUT_MERGED['1 month']), q=5, labels=False).reset_index(drop=True)\n",
    "NM_VF_Q_Ret = NM_ES_VF.sort_values(by='Slope_Quantile').groupby('Slope_Quantile').mean(numeric_only=True)*100\n",
    "range_row = pd.DataFrame(NM_VF_Q_Ret.min() - NM_VF_Q_Ret.max()).T\n",
    "range_row.index = ['Slope = VIX 12-VIX 1']\n",
    "NM_VF_Q_Ret = pd.concat([NM_VF_Q_Ret, range_row])"
   ]
  },
  {
   "cell_type": "code",
   "execution_count": 2565,
   "id": "dc30987c",
   "metadata": {},
   "outputs": [
    {
     "data": {
      "text/html": [
       "<div>\n",
       "<style scoped>\n",
       "    .dataframe tbody tr th:only-of-type {\n",
       "        vertical-align: middle;\n",
       "    }\n",
       "\n",
       "    .dataframe tbody tr th {\n",
       "        vertical-align: top;\n",
       "    }\n",
       "\n",
       "    .dataframe thead th {\n",
       "        text-align: right;\n",
       "    }\n",
       "</style>\n",
       "<table border=\"1\" class=\"dataframe\">\n",
       "  <thead>\n",
       "    <tr style=\"text-align: right;\">\n",
       "      <th></th>\n",
       "      <th>V_F_R 1 month</th>\n",
       "      <th>V_F_R 2 month</th>\n",
       "      <th>V_F_R 3 month</th>\n",
       "      <th>V_F_R 6 month</th>\n",
       "      <th>V_F_R 9 month</th>\n",
       "      <th>V_F_R 12 month</th>\n",
       "    </tr>\n",
       "  </thead>\n",
       "  <tbody>\n",
       "    <tr>\n",
       "      <th>0</th>\n",
       "      <td>0.226377</td>\n",
       "      <td>0.167923</td>\n",
       "      <td>0.138413</td>\n",
       "      <td>0.121738</td>\n",
       "      <td>0.110395</td>\n",
       "      <td>0.102471</td>\n",
       "    </tr>\n",
       "  </tbody>\n",
       "</table>\n",
       "</div>"
      ],
      "text/plain": [
       "   V_F_R 1 month  V_F_R 2 month  V_F_R 3 month  V_F_R 6 month  V_F_R 9 month  \\\n",
       "0       0.226377       0.167923       0.138413       0.121738       0.110395   \n",
       "\n",
       "   V_F_R 12 month  \n",
       "0        0.102471  "
      ]
     },
     "execution_count": 2565,
     "metadata": {},
     "output_type": "execute_result"
    }
   ],
   "source": [
    "grouped = NM_ES_VF.sort_values(by='Slope_Quantile').groupby('Slope_Quantile')\n",
    "std_dev = grouped.std(numeric_only=True)\n",
    "counts = grouped.count()\n",
    "std_error = (std_dev / np.sqrt(counts))*100\n",
    "std_error_range(std_error)"
   ]
  },
  {
   "cell_type": "code",
   "execution_count": 2566,
   "id": "82dc5a43",
   "metadata": {},
   "outputs": [],
   "source": [
    "VF_Robustness = pd.concat([VF_Robustness, NM_VF_Q_Ret.iloc[5:,:]])"
   ]
  },
  {
   "cell_type": "code",
   "execution_count": 2567,
   "id": "63b161f0",
   "metadata": {
    "scrolled": true
   },
   "outputs": [
    {
     "data": {
      "text/html": [
       "<div>\n",
       "<style scoped>\n",
       "    .dataframe tbody tr th:only-of-type {\n",
       "        vertical-align: middle;\n",
       "    }\n",
       "\n",
       "    .dataframe tbody tr th {\n",
       "        vertical-align: top;\n",
       "    }\n",
       "\n",
       "    .dataframe thead th {\n",
       "        text-align: right;\n",
       "    }\n",
       "</style>\n",
       "<table border=\"1\" class=\"dataframe\">\n",
       "  <thead>\n",
       "    <tr style=\"text-align: right;\">\n",
       "      <th></th>\n",
       "      <th>V_F_R 1 month</th>\n",
       "      <th>V_F_R 2 month</th>\n",
       "      <th>V_F_R 3 month</th>\n",
       "      <th>V_F_R 6 month</th>\n",
       "      <th>V_F_R 9 month</th>\n",
       "      <th>V_F_R 12 month</th>\n",
       "      <th>V_F_R 1 month_Mean</th>\n",
       "      <th>V_F_R 2 month_Mean</th>\n",
       "      <th>V_F_R 3 month_Mean</th>\n",
       "      <th>V_F_R 6 month_Mean</th>\n",
       "      <th>V_F_R 9 month_Mean</th>\n",
       "      <th>V_F_R 12 month_Mean</th>\n",
       "      <th>V_F_R 1 month_StdErr</th>\n",
       "      <th>V_F_R 2 month_StdErr</th>\n",
       "      <th>V_F_R 3 month_StdErr</th>\n",
       "      <th>V_F_R 6 month_StdErr</th>\n",
       "      <th>V_F_R 9 month_StdErr</th>\n",
       "      <th>V_F_R 12 month_StdErr</th>\n",
       "    </tr>\n",
       "  </thead>\n",
       "  <tbody>\n",
       "    <tr>\n",
       "      <th>Range</th>\n",
       "      <td>-0.272033</td>\n",
       "      <td>-0.210087</td>\n",
       "      <td>-0.187775</td>\n",
       "      <td>-0.149724</td>\n",
       "      <td>-0.133765</td>\n",
       "      <td>-0.124185</td>\n",
       "      <td>NaN</td>\n",
       "      <td>NaN</td>\n",
       "      <td>NaN</td>\n",
       "      <td>NaN</td>\n",
       "      <td>NaN</td>\n",
       "      <td>NaN</td>\n",
       "      <td>NaN</td>\n",
       "      <td>NaN</td>\n",
       "      <td>NaN</td>\n",
       "      <td>NaN</td>\n",
       "      <td>NaN</td>\n",
       "      <td>NaN</td>\n",
       "    </tr>\n",
       "    <tr>\n",
       "      <th>Crisis Removed</th>\n",
       "      <td>-0.300214</td>\n",
       "      <td>-0.249844</td>\n",
       "      <td>-0.237720</td>\n",
       "      <td>-0.208887</td>\n",
       "      <td>-0.206551</td>\n",
       "      <td>-0.195201</td>\n",
       "      <td>NaN</td>\n",
       "      <td>NaN</td>\n",
       "      <td>NaN</td>\n",
       "      <td>NaN</td>\n",
       "      <td>NaN</td>\n",
       "      <td>NaN</td>\n",
       "      <td>NaN</td>\n",
       "      <td>NaN</td>\n",
       "      <td>NaN</td>\n",
       "      <td>NaN</td>\n",
       "      <td>NaN</td>\n",
       "      <td>NaN</td>\n",
       "    </tr>\n",
       "    <tr>\n",
       "      <th>Bottom 5% Slope removed</th>\n",
       "      <td>-0.272033</td>\n",
       "      <td>-0.258889</td>\n",
       "      <td>-0.216900</td>\n",
       "      <td>-0.179595</td>\n",
       "      <td>-0.183399</td>\n",
       "      <td>-0.179653</td>\n",
       "      <td>NaN</td>\n",
       "      <td>NaN</td>\n",
       "      <td>NaN</td>\n",
       "      <td>NaN</td>\n",
       "      <td>NaN</td>\n",
       "      <td>NaN</td>\n",
       "      <td>NaN</td>\n",
       "      <td>NaN</td>\n",
       "      <td>NaN</td>\n",
       "      <td>NaN</td>\n",
       "      <td>NaN</td>\n",
       "      <td>NaN</td>\n",
       "    </tr>\n",
       "    <tr>\n",
       "      <th>Slope = VIX 12-VIX 1</th>\n",
       "      <td>-0.641890</td>\n",
       "      <td>-0.336317</td>\n",
       "      <td>-0.175945</td>\n",
       "      <td>-0.155629</td>\n",
       "      <td>-0.151765</td>\n",
       "      <td>-0.164948</td>\n",
       "      <td>NaN</td>\n",
       "      <td>NaN</td>\n",
       "      <td>NaN</td>\n",
       "      <td>NaN</td>\n",
       "      <td>NaN</td>\n",
       "      <td>NaN</td>\n",
       "      <td>NaN</td>\n",
       "      <td>NaN</td>\n",
       "      <td>NaN</td>\n",
       "      <td>NaN</td>\n",
       "      <td>NaN</td>\n",
       "      <td>NaN</td>\n",
       "    </tr>\n",
       "  </tbody>\n",
       "</table>\n",
       "</div>"
      ],
      "text/plain": [
       "                         V_F_R 1 month  V_F_R 2 month  V_F_R 3 month  \\\n",
       "Range                        -0.272033      -0.210087      -0.187775   \n",
       "Crisis Removed               -0.300214      -0.249844      -0.237720   \n",
       "Bottom 5% Slope removed      -0.272033      -0.258889      -0.216900   \n",
       "Slope = VIX 12-VIX 1         -0.641890      -0.336317      -0.175945   \n",
       "\n",
       "                         V_F_R 6 month  V_F_R 9 month  V_F_R 12 month  \\\n",
       "Range                        -0.149724      -0.133765       -0.124185   \n",
       "Crisis Removed               -0.208887      -0.206551       -0.195201   \n",
       "Bottom 5% Slope removed      -0.179595      -0.183399       -0.179653   \n",
       "Slope = VIX 12-VIX 1         -0.155629      -0.151765       -0.164948   \n",
       "\n",
       "                         V_F_R 1 month_Mean  V_F_R 2 month_Mean  \\\n",
       "Range                                   NaN                 NaN   \n",
       "Crisis Removed                          NaN                 NaN   \n",
       "Bottom 5% Slope removed                 NaN                 NaN   \n",
       "Slope = VIX 12-VIX 1                    NaN                 NaN   \n",
       "\n",
       "                         V_F_R 3 month_Mean  V_F_R 6 month_Mean  \\\n",
       "Range                                   NaN                 NaN   \n",
       "Crisis Removed                          NaN                 NaN   \n",
       "Bottom 5% Slope removed                 NaN                 NaN   \n",
       "Slope = VIX 12-VIX 1                    NaN                 NaN   \n",
       "\n",
       "                         V_F_R 9 month_Mean  V_F_R 12 month_Mean  \\\n",
       "Range                                   NaN                  NaN   \n",
       "Crisis Removed                          NaN                  NaN   \n",
       "Bottom 5% Slope removed                 NaN                  NaN   \n",
       "Slope = VIX 12-VIX 1                    NaN                  NaN   \n",
       "\n",
       "                         V_F_R 1 month_StdErr  V_F_R 2 month_StdErr  \\\n",
       "Range                                     NaN                   NaN   \n",
       "Crisis Removed                            NaN                   NaN   \n",
       "Bottom 5% Slope removed                   NaN                   NaN   \n",
       "Slope = VIX 12-VIX 1                      NaN                   NaN   \n",
       "\n",
       "                         V_F_R 3 month_StdErr  V_F_R 6 month_StdErr  \\\n",
       "Range                                     NaN                   NaN   \n",
       "Crisis Removed                            NaN                   NaN   \n",
       "Bottom 5% Slope removed                   NaN                   NaN   \n",
       "Slope = VIX 12-VIX 1                      NaN                   NaN   \n",
       "\n",
       "                         V_F_R 9 month_StdErr  V_F_R 12 month_StdErr  \n",
       "Range                                     NaN                    NaN  \n",
       "Crisis Removed                            NaN                    NaN  \n",
       "Bottom 5% Slope removed                   NaN                    NaN  \n",
       "Slope = VIX 12-VIX 1                      NaN                    NaN  "
      ]
     },
     "execution_count": 2567,
     "metadata": {},
     "output_type": "execute_result"
    }
   ],
   "source": [
    "VF_Robustness"
   ]
  },
  {
   "cell_type": "markdown",
   "id": "8b70498c",
   "metadata": {},
   "source": [
    "### Straddle"
   ]
  },
  {
   "cell_type": "markdown",
   "id": "c0056da4",
   "metadata": {},
   "source": [
    "### Next-month Returns"
   ]
  },
  {
   "cell_type": "code",
   "execution_count": 2568,
   "id": "01794591",
   "metadata": {},
   "outputs": [],
   "source": [
    "m_ES_S = cr_STRADDLE\n",
    "m_ES_S['Slope_Quantile'] = pd.qcut(scaled_S['Slope'], q=5, labels=False)\n",
    "m_S_Q_Ret = m_ES_S.sort_values(by='Slope_Quantile').groupby('Slope_Quantile').mean(numeric_only=True)*100\n",
    "range_row = pd.DataFrame(m_S_Q_Ret.min() - m_S_Q_Ret.max()).T\n",
    "range_row.index = ['Next-Month Returns']\n",
    "m_S_Q_Ret = pd.concat([m_S_Q_Ret, range_row])"
   ]
  },
  {
   "cell_type": "code",
   "execution_count": 2569,
   "id": "69681871",
   "metadata": {},
   "outputs": [
    {
     "data": {
      "text/html": [
       "<div>\n",
       "<style scoped>\n",
       "    .dataframe tbody tr th:only-of-type {\n",
       "        vertical-align: middle;\n",
       "    }\n",
       "\n",
       "    .dataframe tbody tr th {\n",
       "        vertical-align: top;\n",
       "    }\n",
       "\n",
       "    .dataframe thead th {\n",
       "        text-align: right;\n",
       "    }\n",
       "</style>\n",
       "<table border=\"1\" class=\"dataframe\">\n",
       "  <thead>\n",
       "    <tr style=\"text-align: right;\">\n",
       "      <th></th>\n",
       "      <th>DATE</th>\n",
       "      <th>S_R 1 month</th>\n",
       "      <th>S_R 12 month</th>\n",
       "      <th>S_R 2 month</th>\n",
       "      <th>S_R 3 month</th>\n",
       "      <th>S_R 6 month</th>\n",
       "      <th>S_R 9 month</th>\n",
       "    </tr>\n",
       "  </thead>\n",
       "  <tbody>\n",
       "    <tr>\n",
       "      <th>0</th>\n",
       "      <td>NaN</td>\n",
       "      <td>1.32931</td>\n",
       "      <td>0.378021</td>\n",
       "      <td>0.852737</td>\n",
       "      <td>0.66886</td>\n",
       "      <td>0.497228</td>\n",
       "      <td>0.400457</td>\n",
       "    </tr>\n",
       "  </tbody>\n",
       "</table>\n",
       "</div>"
      ],
      "text/plain": [
       "   DATE  S_R 1 month  S_R 12 month  S_R 2 month  S_R 3 month  S_R 6 month  \\\n",
       "0   NaN      1.32931      0.378021     0.852737      0.66886     0.497228   \n",
       "\n",
       "   S_R 9 month  \n",
       "0     0.400457  "
      ]
     },
     "execution_count": 2569,
     "metadata": {},
     "output_type": "execute_result"
    }
   ],
   "source": [
    "grouped = m_ES_S.sort_values(by='Slope_Quantile').groupby('Slope_Quantile')\n",
    "std_dev = grouped.std(numeric_only=True)\n",
    "counts = grouped.count()\n",
    "std_error = (std_dev / np.sqrt(counts))*100\n",
    "std_error_range(std_error)"
   ]
  },
  {
   "cell_type": "code",
   "execution_count": 2570,
   "id": "532a5268",
   "metadata": {},
   "outputs": [],
   "source": [
    "S_Robustness = S_Q_Ret.iloc[5:,:]\n",
    "S_Robustness = pd.concat([S_Robustness, m_S_Q_Ret.iloc[5:,:]])"
   ]
  },
  {
   "cell_type": "markdown",
   "id": "08b05c1d",
   "metadata": {},
   "source": [
    "### Crisis Removed"
   ]
  },
  {
   "cell_type": "code",
   "execution_count": 2571,
   "id": "7327d1ad",
   "metadata": {},
   "outputs": [],
   "source": [
    "NC_ES_S = XS_NC_S[1:].reset_index(drop=True)\n",
    "NC_ES_S['Slope_Quantile'] = pd.qcut(scaled_NC_S['Slope'], q=5, labels=False)\n",
    "NC_S_Q_Ret = NC_ES_S.sort_values(by='Slope_Quantile').groupby('Slope_Quantile').mean(numeric_only=True)*100\n",
    "range_row = pd.DataFrame(NC_S_Q_Ret.min() - NC_S_Q_Ret.max()).T\n",
    "range_row.index = ['Crisis Removed']\n",
    "NC_S_Q_Ret = pd.concat([NC_S_Q_Ret, range_row])"
   ]
  },
  {
   "cell_type": "code",
   "execution_count": 2572,
   "id": "44a6b841",
   "metadata": {},
   "outputs": [
    {
     "data": {
      "text/html": [
       "<div>\n",
       "<style scoped>\n",
       "    .dataframe tbody tr th:only-of-type {\n",
       "        vertical-align: middle;\n",
       "    }\n",
       "\n",
       "    .dataframe tbody tr th {\n",
       "        vertical-align: top;\n",
       "    }\n",
       "\n",
       "    .dataframe thead th {\n",
       "        text-align: right;\n",
       "    }\n",
       "</style>\n",
       "<table border=\"1\" class=\"dataframe\">\n",
       "  <thead>\n",
       "    <tr style=\"text-align: right;\">\n",
       "      <th></th>\n",
       "      <th>S_R 1 month</th>\n",
       "      <th>S_R 2 month</th>\n",
       "      <th>S_R 3 month</th>\n",
       "      <th>S_R 6 month</th>\n",
       "      <th>S_R 9 month</th>\n",
       "      <th>S_R 12 month</th>\n",
       "    </tr>\n",
       "  </thead>\n",
       "  <tbody>\n",
       "    <tr>\n",
       "      <th>0</th>\n",
       "      <td>0.246494</td>\n",
       "      <td>0.145025</td>\n",
       "      <td>0.117304</td>\n",
       "      <td>0.080505</td>\n",
       "      <td>0.067215</td>\n",
       "      <td>0.064877</td>\n",
       "    </tr>\n",
       "  </tbody>\n",
       "</table>\n",
       "</div>"
      ],
      "text/plain": [
       "   S_R 1 month  S_R 2 month  S_R 3 month  S_R 6 month  S_R 9 month  \\\n",
       "0     0.246494     0.145025     0.117304     0.080505     0.067215   \n",
       "\n",
       "   S_R 12 month  \n",
       "0      0.064877  "
      ]
     },
     "execution_count": 2572,
     "metadata": {},
     "output_type": "execute_result"
    }
   ],
   "source": [
    "grouped = NC_ES_S.sort_values(by='Slope_Quantile').groupby('Slope_Quantile')\n",
    "std_dev = grouped.std(numeric_only=True)\n",
    "counts = grouped.count()\n",
    "std_error = (std_dev / np.sqrt(counts))*100\n",
    "std_error_range(std_error)"
   ]
  },
  {
   "cell_type": "code",
   "execution_count": 2573,
   "id": "88e94bf8",
   "metadata": {},
   "outputs": [],
   "source": [
    "S_Robustness = pd.concat([S_Robustness, NC_S_Q_Ret.iloc[5:,:]])"
   ]
  },
  {
   "cell_type": "markdown",
   "id": "83e2f5f8",
   "metadata": {},
   "source": [
    "### Bottom 5% Slope removed"
   ]
  },
  {
   "cell_type": "code",
   "execution_count": 2574,
   "id": "0bd4e217",
   "metadata": {},
   "outputs": [],
   "source": [
    "ES_S = XS_STRADDLE[1:].reset_index(drop=True)\n",
    "ES_S['Slope'] = scaled_S['Slope']\n",
    "ES_S['Slope_Quantile'] = pd.qcut(scaled_S['Slope'], q=5, labels=False)\n",
    "ES_S = ES_S[ES_S['Slope'] > ES_S['Slope'].quantile(0.05)]\n",
    "ES_S = ES_S.drop('Slope',axis=1)\n",
    "BFIVE_S_Q_Ret = ES_S.sort_values(by='Slope_Quantile').groupby('Slope_Quantile').mean(numeric_only=True)*100\n",
    "range_row = pd.DataFrame(BFIVE_S_Q_Ret.min() - BFIVE_S_Q_Ret.max()).T\n",
    "range_row.index = ['Bottom 5% Slope removed']\n",
    "BFIVE_S_Q_Ret = pd.concat([BFIVE_S_Q_Ret, range_row])"
   ]
  },
  {
   "cell_type": "code",
   "execution_count": 2575,
   "id": "5e1b1a91",
   "metadata": {},
   "outputs": [
    {
     "data": {
      "text/html": [
       "<div>\n",
       "<style scoped>\n",
       "    .dataframe tbody tr th:only-of-type {\n",
       "        vertical-align: middle;\n",
       "    }\n",
       "\n",
       "    .dataframe tbody tr th {\n",
       "        vertical-align: top;\n",
       "    }\n",
       "\n",
       "    .dataframe thead th {\n",
       "        text-align: right;\n",
       "    }\n",
       "</style>\n",
       "<table border=\"1\" class=\"dataframe\">\n",
       "  <thead>\n",
       "    <tr style=\"text-align: right;\">\n",
       "      <th></th>\n",
       "      <th>S_R 1 month</th>\n",
       "      <th>S_R 2 month</th>\n",
       "      <th>S_R 3 month</th>\n",
       "      <th>S_R 6 month</th>\n",
       "      <th>S_R 9 month</th>\n",
       "      <th>S_R 12 month</th>\n",
       "    </tr>\n",
       "  </thead>\n",
       "  <tbody>\n",
       "    <tr>\n",
       "      <th>0</th>\n",
       "      <td>0.259398</td>\n",
       "      <td>0.154387</td>\n",
       "      <td>0.123857</td>\n",
       "      <td>0.084065</td>\n",
       "      <td>0.068292</td>\n",
       "      <td>0.064425</td>\n",
       "    </tr>\n",
       "  </tbody>\n",
       "</table>\n",
       "</div>"
      ],
      "text/plain": [
       "   S_R 1 month  S_R 2 month  S_R 3 month  S_R 6 month  S_R 9 month  \\\n",
       "0     0.259398     0.154387     0.123857     0.084065     0.068292   \n",
       "\n",
       "   S_R 12 month  \n",
       "0      0.064425  "
      ]
     },
     "execution_count": 2575,
     "metadata": {},
     "output_type": "execute_result"
    }
   ],
   "source": [
    "grouped = ES_S.sort_values(by='Slope_Quantile').groupby('Slope_Quantile')\n",
    "std_dev = grouped.std(numeric_only=True)\n",
    "counts = grouped.count()\n",
    "std_error = (std_dev / np.sqrt(counts))*100\n",
    "std_error_range(std_error)"
   ]
  },
  {
   "cell_type": "code",
   "execution_count": 2576,
   "id": "41204a21",
   "metadata": {},
   "outputs": [],
   "source": [
    "S_Robustness = pd.concat([S_Robustness, BFIVE_S_Q_Ret.iloc[5:,:]])"
   ]
  },
  {
   "cell_type": "markdown",
   "id": "92c9e5d8",
   "metadata": {},
   "source": [
    "### Slope = VIX12 - VIX1"
   ]
  },
  {
   "cell_type": "code",
   "execution_count": 2577,
   "id": "f638a172",
   "metadata": {},
   "outputs": [],
   "source": [
    "NM_ES_S = XS_STRADDLE[1:].reset_index(drop=True)\n",
    "NM_ES_S['Slope_Quantile'] = pd.qcut((STRADDLE_MERGED['12 month'] - STRADDLE_MERGED['1 month']), q=5, labels=False).reset_index(drop=True)\n",
    "NM_S_Q_Ret = NM_ES_S.sort_values(by='Slope_Quantile').groupby('Slope_Quantile').mean(numeric_only=True)*100\n",
    "range_row = pd.DataFrame(NM_S_Q_Ret.min() - NM_S_Q_Ret.max()).T\n",
    "range_row.index = ['Slope = VIX 12-VIX 1']\n",
    "NM_S_Q_Ret = pd.concat([NM_S_Q_Ret, range_row])"
   ]
  },
  {
   "cell_type": "code",
   "execution_count": 2578,
   "id": "12e00c19",
   "metadata": {},
   "outputs": [
    {
     "data": {
      "text/html": [
       "<div>\n",
       "<style scoped>\n",
       "    .dataframe tbody tr th:only-of-type {\n",
       "        vertical-align: middle;\n",
       "    }\n",
       "\n",
       "    .dataframe tbody tr th {\n",
       "        vertical-align: top;\n",
       "    }\n",
       "\n",
       "    .dataframe thead th {\n",
       "        text-align: right;\n",
       "    }\n",
       "</style>\n",
       "<table border=\"1\" class=\"dataframe\">\n",
       "  <thead>\n",
       "    <tr style=\"text-align: right;\">\n",
       "      <th></th>\n",
       "      <th>S_R 1 month</th>\n",
       "      <th>S_R 2 month</th>\n",
       "      <th>S_R 3 month</th>\n",
       "      <th>S_R 6 month</th>\n",
       "      <th>S_R 9 month</th>\n",
       "      <th>S_R 12 month</th>\n",
       "    </tr>\n",
       "  </thead>\n",
       "  <tbody>\n",
       "    <tr>\n",
       "      <th>0</th>\n",
       "      <td>0.247951</td>\n",
       "      <td>0.158578</td>\n",
       "      <td>0.128555</td>\n",
       "      <td>0.093329</td>\n",
       "      <td>0.075638</td>\n",
       "      <td>0.072004</td>\n",
       "    </tr>\n",
       "  </tbody>\n",
       "</table>\n",
       "</div>"
      ],
      "text/plain": [
       "   S_R 1 month  S_R 2 month  S_R 3 month  S_R 6 month  S_R 9 month  \\\n",
       "0     0.247951     0.158578     0.128555     0.093329     0.075638   \n",
       "\n",
       "   S_R 12 month  \n",
       "0      0.072004  "
      ]
     },
     "execution_count": 2578,
     "metadata": {},
     "output_type": "execute_result"
    }
   ],
   "source": [
    "grouped = NM_ES_S.sort_values(by='Slope_Quantile').groupby('Slope_Quantile')\n",
    "std_dev = grouped.std(numeric_only=True)\n",
    "counts = grouped.count()\n",
    "std_error = (std_dev / np.sqrt(counts))*100\n",
    "std_error_range(std_error)"
   ]
  },
  {
   "cell_type": "code",
   "execution_count": 2579,
   "id": "9b258a00",
   "metadata": {},
   "outputs": [],
   "source": [
    "S_Robustness = pd.concat([S_Robustness.iloc[:,1:], NM_S_Q_Ret.iloc[5:,:]])"
   ]
  },
  {
   "cell_type": "code",
   "execution_count": 2580,
   "id": "2ac7279a",
   "metadata": {},
   "outputs": [
    {
     "data": {
      "text/html": [
       "<div>\n",
       "<style scoped>\n",
       "    .dataframe tbody tr th:only-of-type {\n",
       "        vertical-align: middle;\n",
       "    }\n",
       "\n",
       "    .dataframe tbody tr th {\n",
       "        vertical-align: top;\n",
       "    }\n",
       "\n",
       "    .dataframe thead th {\n",
       "        text-align: right;\n",
       "    }\n",
       "</style>\n",
       "<table border=\"1\" class=\"dataframe\">\n",
       "  <thead>\n",
       "    <tr style=\"text-align: right;\">\n",
       "      <th></th>\n",
       "      <th>S_R 1 month</th>\n",
       "      <th>S_R 2 month</th>\n",
       "      <th>S_R 3 month</th>\n",
       "      <th>S_R 6 month</th>\n",
       "      <th>S_R 9 month</th>\n",
       "      <th>S_R 12 month</th>\n",
       "    </tr>\n",
       "  </thead>\n",
       "  <tbody>\n",
       "    <tr>\n",
       "      <th>Range</th>\n",
       "      <td>-0.671157</td>\n",
       "      <td>-0.570107</td>\n",
       "      <td>-0.530845</td>\n",
       "      <td>-0.369153</td>\n",
       "      <td>-0.310669</td>\n",
       "      <td>-0.282248</td>\n",
       "    </tr>\n",
       "    <tr>\n",
       "      <th>Next-Month Returns</th>\n",
       "      <td>-16.016065</td>\n",
       "      <td>-12.201679</td>\n",
       "      <td>-10.866073</td>\n",
       "      <td>-7.892658</td>\n",
       "      <td>-6.729386</td>\n",
       "      <td>-6.514062</td>\n",
       "    </tr>\n",
       "    <tr>\n",
       "      <th>Crisis Removed</th>\n",
       "      <td>-0.487437</td>\n",
       "      <td>-0.370976</td>\n",
       "      <td>-0.389452</td>\n",
       "      <td>-0.311105</td>\n",
       "      <td>-0.276049</td>\n",
       "      <td>-0.257258</td>\n",
       "    </tr>\n",
       "    <tr>\n",
       "      <th>Bottom 5% Slope removed</th>\n",
       "      <td>-0.617242</td>\n",
       "      <td>-0.417197</td>\n",
       "      <td>-0.380627</td>\n",
       "      <td>-0.254073</td>\n",
       "      <td>-0.218522</td>\n",
       "      <td>-0.195672</td>\n",
       "    </tr>\n",
       "    <tr>\n",
       "      <th>Slope = VIX 12-VIX 1</th>\n",
       "      <td>-0.480404</td>\n",
       "      <td>-0.355143</td>\n",
       "      <td>-0.307407</td>\n",
       "      <td>-0.255006</td>\n",
       "      <td>-0.216822</td>\n",
       "      <td>-0.205750</td>\n",
       "    </tr>\n",
       "  </tbody>\n",
       "</table>\n",
       "</div>"
      ],
      "text/plain": [
       "                         S_R 1 month  S_R 2 month  S_R 3 month  S_R 6 month  \\\n",
       "Range                      -0.671157    -0.570107    -0.530845    -0.369153   \n",
       "Next-Month Returns        -16.016065   -12.201679   -10.866073    -7.892658   \n",
       "Crisis Removed             -0.487437    -0.370976    -0.389452    -0.311105   \n",
       "Bottom 5% Slope removed    -0.617242    -0.417197    -0.380627    -0.254073   \n",
       "Slope = VIX 12-VIX 1       -0.480404    -0.355143    -0.307407    -0.255006   \n",
       "\n",
       "                         S_R 9 month  S_R 12 month  \n",
       "Range                      -0.310669     -0.282248  \n",
       "Next-Month Returns         -6.729386     -6.514062  \n",
       "Crisis Removed             -0.276049     -0.257258  \n",
       "Bottom 5% Slope removed    -0.218522     -0.195672  \n",
       "Slope = VIX 12-VIX 1       -0.216822     -0.205750  "
      ]
     },
     "execution_count": 2580,
     "metadata": {},
     "output_type": "execute_result"
    }
   ],
   "source": [
    "S_Robustness"
   ]
  },
  {
   "cell_type": "markdown",
   "id": "db2ac19c",
   "metadata": {},
   "source": [
    "### Crash indicator"
   ]
  },
  {
   "cell_type": "markdown",
   "id": "6afbc293",
   "metadata": {},
   "source": [
    "### Variance Swap"
   ]
  },
  {
   "cell_type": "code",
   "execution_count": 2581,
   "id": "7c9fd470",
   "metadata": {},
   "outputs": [],
   "source": [
    "# Set the window size and quantile level\n",
    "window_size = 21\n",
    "quantile_level = 0.01\n",
    "\n",
    "# Create a new DataFrame to store the indicators\n",
    "CRASH_VS = pd.DataFrame()\n",
    "\n",
    "# Loop through each column\n",
    "for col in XS_VAR_SWAPS.iloc[:,1:].columns:\n",
    "    # Calculate the rolling quantile for the current column\n",
    "    rolling_quantile = XS_VAR_SWAPS[col].rolling(window=window_size).quantile(quantile_level)\n",
    "    \n",
    "    # Create an indicator column for the current column\n",
    "    indicator_col = (XS_VAR_SWAPS[col] <= rolling_quantile).astype(int)\n",
    "    \n",
    "    # Rename the indicator column\n",
    "    indicator_col.name = col + '_indicator'\n",
    "    \n",
    "    # Append the indicator column to the indicators DataFrame\n",
    "    CRASH_VS = pd.concat([CRASH_VS, indicator_col], axis=1)"
   ]
  },
  {
   "cell_type": "markdown",
   "id": "5f94961d",
   "metadata": {},
   "source": [
    "### Vix Future"
   ]
  },
  {
   "cell_type": "code",
   "execution_count": 2582,
   "id": "3b2371df",
   "metadata": {},
   "outputs": [],
   "source": [
    "# Set the window size and quantile level\n",
    "window_size = 21\n",
    "quantile_level = 0.01\n",
    "\n",
    "# Create a new DataFrame to store the indicators\n",
    "CRASH_VF = pd.DataFrame()\n",
    "\n",
    "# Loop through each column\n",
    "for col in XS_VIX_FUT.iloc[:,:].columns:\n",
    "    # Calculate the rolling quantile for the current column\n",
    "    rolling_quantile = XS_VIX_FUT[col].rolling(window=window_size).quantile(quantile_level)\n",
    "    \n",
    "    # Create an indicator column for the current column\n",
    "    indicator_col = (XS_VIX_FUT[col] <= rolling_quantile).astype(int)\n",
    "    \n",
    "    # Rename the indicator column\n",
    "    indicator_col.name = col + '_indicator'\n",
    "    \n",
    "    # Append the indicator column to the indicators DataFrame\n",
    "    CRASH_VF = pd.concat([CRASH_VF, indicator_col], axis=1)"
   ]
  },
  {
   "cell_type": "markdown",
   "id": "c4364f6d",
   "metadata": {},
   "source": [
    "### Straddle"
   ]
  },
  {
   "cell_type": "code",
   "execution_count": 2583,
   "id": "3285b5eb",
   "metadata": {},
   "outputs": [],
   "source": [
    "# Set the window size and quantile level\n",
    "window_size = 21\n",
    "quantile_level = 0.01\n",
    "\n",
    "# Create a new DataFrame to store the indicators\n",
    "CRASH_S= pd.DataFrame()\n",
    "\n",
    "# Loop through each column\n",
    "for col in XS_STRADDLE.iloc[:,:].columns:\n",
    "    # Calculate the rolling quantile for the current column\n",
    "    rolling_quantile = XS_STRADDLE[col].rolling(window=window_size).quantile(quantile_level)\n",
    "    \n",
    "    # Create an indicator column for the current column\n",
    "    indicator_col = (XS_STRADDLE[col] <= rolling_quantile).astype(int)\n",
    "    \n",
    "    # Rename the indicator column\n",
    "    indicator_col.name = col + '_indicator'\n",
    "    \n",
    "    # Append the indicator column to the indicators DataFrame\n",
    "    CRASH_S = pd.concat([CRASH_S, indicator_col], axis=1)"
   ]
  },
  {
   "cell_type": "markdown",
   "id": "940e5064",
   "metadata": {},
   "source": [
    "### Crash"
   ]
  },
  {
   "cell_type": "code",
   "execution_count": 90,
   "id": "9f2c80f9",
   "metadata": {},
   "outputs": [],
   "source": [
    "Crash = pd.read_csv(DATA_PATH + '/CRASH.csv')\n",
    "Crash = Crash.iloc[:,1:]\n",
    "Crash = Crash.rename({'date':'DATE'},axis=1)\n",
    "Crash.set_index('DATE', inplace=True)\n",
    "Crash.index = pd.to_datetime(Crash.index)"
   ]
  },
  {
   "cell_type": "markdown",
   "id": "1b951323",
   "metadata": {},
   "source": [
    "### Variance Risk Premium"
   ]
  },
  {
   "cell_type": "code",
   "execution_count": 91,
   "id": "7196fbe7",
   "metadata": {},
   "outputs": [],
   "source": [
    "VRP = pd.read_csv(DATA_PATH + '/VRP_data.csv')\n",
    "VRP = VRP.iloc[:,1:]\n",
    "VRP = VRP.rename({'date':'DATE'},axis=1)\n",
    "VRP.set_index('DATE', inplace=True)\n",
    "VRP.index = pd.to_datetime(VRP.index)\n",
    "VRP=VRP*-1"
   ]
  },
  {
   "cell_type": "code",
   "execution_count": 92,
   "id": "be9f0384",
   "metadata": {},
   "outputs": [],
   "source": [
    "STRADDLE_VRP = pd.merge(STRADDLE_MERGED,VRP, how='inner', left_index=True, right_index=True)\n",
    "VF_VRP = pd.merge(VIX_FUT_MERGED,VRP, how='inner', left_index=True, right_index=True)"
   ]
  },
  {
   "cell_type": "markdown",
   "id": "81d16917",
   "metadata": {},
   "source": [
    "### Dealer Leverage"
   ]
  },
  {
   "cell_type": "code",
   "execution_count": 93,
   "id": "d6b57998",
   "metadata": {},
   "outputs": [],
   "source": [
    "DEALER_LEVERAGE = pd.read_csv(DATA_PATH + '/BROKER_DEALER.csv')\n",
    "DEALER_LEVERAGE = DEALER_LEVERAGE.iloc[:,1:]\n",
    "DEALER_LEVERAGE = DEALER_LEVERAGE.rename({'Date':'DATE'},axis=1)\n",
    "DEALER_LEVERAGE.set_index('DATE',inplace=True)\n",
    "DEALER_LEVERAGE.index = pd.to_datetime(DEALER_LEVERAGE.index)"
   ]
  },
  {
   "cell_type": "code",
   "execution_count": 94,
   "id": "2038ba33",
   "metadata": {},
   "outputs": [],
   "source": [
    "DEALER_LEVERAGE.index = pd.PeriodIndex(DEALER_LEVERAGE.index, freq='Q')\n",
    "DEALER_LEVERAGE = DEALER_LEVERAGE.shift(1, freq='Q')"
   ]
  },
  {
   "cell_type": "code",
   "execution_count": 95,
   "id": "865fcf47",
   "metadata": {},
   "outputs": [],
   "source": [
    "daily_data = []\n",
    "for quarter, value in DEALER_LEVERAGE.itertuples():\n",
    "    quarter_start = quarter.start_time\n",
    "    quarter_end = quarter.end_time\n",
    "    days = pd.date_range(start=quarter_start, end=quarter_end, freq='D')\n",
    "    daily_values = pd.DataFrame({'D_L': [value] * len(days)}, index=days)\n",
    "    daily_data.append(daily_values)\n",
    "\n",
    "# Concatenate all daily data\n",
    "DEALER_LEVERAGE = pd.concat(daily_data)"
   ]
  },
  {
   "cell_type": "markdown",
   "id": "338f0df4",
   "metadata": {},
   "source": [
    "### Merging all straddle and futures returns and indicators"
   ]
  },
  {
   "cell_type": "code",
   "execution_count": 115,
   "id": "5efb1be5",
   "metadata": {},
   "outputs": [],
   "source": [
    "scaled_S['DATE'] = STRADDLE_MERGED.index\n",
    "scaled_S.set_index('DATE',inplace=True)\n",
    "scaled_VF['DATE'] = VIX_FUT_MERGED.index\n",
    "scaled_VF.set_index('DATE',inplace=True)\n",
    "STRADDLE_MERGE = STRADDLE_MERGED.drop(columns=['S_R 1 month','S_R 2 month','S_R 3 month','S_R 6 month','S_R 9 month','S_R 12 month'])\n",
    "VIX_FUT_MERGE = VIX_FUT_MERGED.drop(columns=['V_F_R 1 month','V_F_R 2 month','V_F_R 3 month','V_F_R 6 month','V_F_R 9 month','V_F_R 12 month'])"
   ]
  },
  {
   "cell_type": "code",
   "execution_count": 116,
   "id": "697248f4",
   "metadata": {},
   "outputs": [],
   "source": [
    "STRADDLE_REG = pd.merge(STRADDLE_MERGE, XS_STRADDLE, how='inner', left_index=True, right_index=True)\n",
    "STRADDLE_REG = pd.merge(STRADDLE_REG,VRP, how='inner', left_index=True, right_index=True)\n",
    "STRADDLE_REG = pd.merge(STRADDLE_REG,DEALER_LEVERAGE, how='inner', left_index=True, right_index=True)\n",
    "STRADDLE_REG = pd.merge(STRADDLE_REG,Crash, how='inner', left_index=True, right_index=True)\n",
    "STRADDLE_REG = STRADDLE_REG.drop('CRASH',axis=1)\n",
    "scaled = scaler.fit_transform(STRADDLE_REG)\n",
    "STRADDLE_REG_S = pd.DataFrame(data=scaled,columns=STRADDLE_REG.columns,index=STRADDLE_REG.index)\n",
    "STRADDLE_REG_S = pd.merge(STRADDLE_REG_S,Crash, how='inner', left_index=True, right_index=True)\n",
    "STRADDLE_REG_S = pd.merge(STRADDLE_REG_S,scaled_S['Slope'], how='inner', left_index=True, right_index=True)"
   ]
  },
  {
   "cell_type": "code",
   "execution_count": 117,
   "id": "65b8985c",
   "metadata": {},
   "outputs": [],
   "source": [
    "VIX_FUT_REG = pd.merge(VIX_FUT_MERGE,XS_VIX_FUT, how='inner', left_index=True, right_index=True)\n",
    "VIX_FUT_REG = pd.merge(VIX_FUT_REG,VRP, how='inner', left_index=True, right_index=True)\n",
    "VIX_FUT_REG = pd.merge(VIX_FUT_REG,DEALER_LEVERAGE, how='inner', left_index=True, right_index=True)\n",
    "VIX_FUT_REG = pd.merge(VIX_FUT_REG,Crash, how='inner', left_index=True, right_index=True)\n",
    "VIX_FUT_REG = VIX_FUT_REG.drop('CRASH',axis=1)"
   ]
  },
  {
   "cell_type": "code",
   "execution_count": 118,
   "id": "11dbeab8",
   "metadata": {},
   "outputs": [],
   "source": [
    "scaled = scaler.fit_transform(VIX_FUT_REG)\n",
    "VIX_FUT_REG_S = pd.DataFrame(data=scaled,columns=VIX_FUT_REG.columns,index=VIX_FUT_REG.index)\n",
    "VIX_FUT_REG_S = pd.merge(VIX_FUT_REG_S,Crash, how='inner', left_index=True, right_index=True)\n",
    "VIX_FUT_REG_S = pd.merge(VIX_FUT_REG_S,scaled_VF['Slope'], how='inner', left_index=True, right_index=True)"
   ]
  },
  {
   "cell_type": "markdown",
   "id": "27f12b65",
   "metadata": {},
   "source": [
    "### Slope as an Incremental Predictor of Variance Asset Returns"
   ]
  },
  {
   "cell_type": "markdown",
   "id": "b9e6d4fb",
   "metadata": {},
   "source": [
    "### Straddle"
   ]
  },
  {
   "cell_type": "code",
   "execution_count": 120,
   "id": "2ed14ff0",
   "metadata": {},
   "outputs": [],
   "source": [
    "Y = (STRADDLE_REG['S_R 12 month'][1:]*10000).reset_index(drop=True)"
   ]
  },
  {
   "cell_type": "code",
   "execution_count": 121,
   "id": "ee834633",
   "metadata": {},
   "outputs": [],
   "source": [
    "SLOPE = STRADDLE_REG_S['Slope'][:-1]\n",
    "r = STRADDLE_REG_S['S_R 12 month'][:-1]\n",
    "Crash = STRADDLE_REG_S['CRASH'][:-1]\n",
    "VIX = STRADDLE_REG_S['1 month'][:-1]\n",
    "VRP = STRADDLE_REG_S['VRP'][:-1]\n",
    "DL = STRADDLE_REG_S['D_L'][:-1]\n",
    "\n",
    "X = pd.concat([SLOPE,r,Crash,VIX,VRP,DL],axis=1)\n",
    "X = X.reset_index(drop=True)"
   ]
  },
  {
   "cell_type": "code",
   "execution_count": 122,
   "id": "16a8d2bd",
   "metadata": {},
   "outputs": [
    {
     "data": {
      "text/html": [
       "<table class=\"simpletable\">\n",
       "<caption>OLS Regression Results</caption>\n",
       "<tr>\n",
       "  <th>Dep. Variable:</th>      <td>S_R 12 month</td>   <th>  R-squared (uncentered):</th>      <td>   0.008</td> \n",
       "</tr>\n",
       "<tr>\n",
       "  <th>Model:</th>                   <td>OLS</td>       <th>  Adj. R-squared (uncentered):</th> <td>   0.007</td> \n",
       "</tr>\n",
       "<tr>\n",
       "  <th>Method:</th>             <td>Least Squares</td>  <th>  F-statistic:       </th>          <td>   4.168</td> \n",
       "</tr>\n",
       "<tr>\n",
       "  <th>Date:</th>             <td>Sat, 02 Dec 2023</td> <th>  Prob (F-statistic):</th>          <td>0.000346</td> \n",
       "</tr>\n",
       "<tr>\n",
       "  <th>Time:</th>                 <td>15:24:35</td>     <th>  Log-Likelihood:    </th>          <td> -40367.</td> \n",
       "</tr>\n",
       "<tr>\n",
       "  <th>No. Observations:</th>      <td>  6195</td>      <th>  AIC:               </th>          <td>8.075e+04</td>\n",
       "</tr>\n",
       "<tr>\n",
       "  <th>Df Residuals:</th>          <td>  6189</td>      <th>  BIC:               </th>          <td>8.079e+04</td>\n",
       "</tr>\n",
       "<tr>\n",
       "  <th>Df Model:</th>              <td>     6</td>      <th>                     </th>              <td> </td>    \n",
       "</tr>\n",
       "<tr>\n",
       "  <th>Covariance Type:</th>         <td>HAC</td>       <th>                     </th>              <td> </td>    \n",
       "</tr>\n",
       "</table>\n",
       "<table class=\"simpletable\">\n",
       "<tr>\n",
       "        <td></td>          <th>coef</th>     <th>std err</th>      <th>z</th>      <th>P>|z|</th>  <th>[0.025</th>    <th>0.975]</th>  \n",
       "</tr>\n",
       "<tr>\n",
       "  <th>Slope</th>        <td>  -11.6483</td> <td>    4.120</td> <td>   -2.828</td> <td> 0.005</td> <td>  -19.723</td> <td>   -3.574</td>\n",
       "</tr>\n",
       "<tr>\n",
       "  <th>S_R 12 month</th> <td>    4.8783</td> <td>    5.142</td> <td>    0.949</td> <td> 0.343</td> <td>   -5.199</td> <td>   14.956</td>\n",
       "</tr>\n",
       "<tr>\n",
       "  <th>CRASH</th>        <td>   20.4714</td> <td>   10.332</td> <td>    1.981</td> <td> 0.048</td> <td>    0.222</td> <td>   40.721</td>\n",
       "</tr>\n",
       "<tr>\n",
       "  <th>1 month</th>      <td>   17.5008</td> <td>   38.183</td> <td>    0.458</td> <td> 0.647</td> <td>  -57.337</td> <td>   92.338</td>\n",
       "</tr>\n",
       "<tr>\n",
       "  <th>VRP</th>          <td>   22.2142</td> <td>   39.374</td> <td>    0.564</td> <td> 0.573</td> <td>  -54.958</td> <td>   99.386</td>\n",
       "</tr>\n",
       "<tr>\n",
       "  <th>D_L</th>          <td>   -2.2296</td> <td>    2.649</td> <td>   -0.842</td> <td> 0.400</td> <td>   -7.422</td> <td>    2.962</td>\n",
       "</tr>\n",
       "</table>\n",
       "<table class=\"simpletable\">\n",
       "<tr>\n",
       "  <th>Omnibus:</th>       <td>3211.286</td> <th>  Durbin-Watson:     </th>  <td>   2.004</td> \n",
       "</tr>\n",
       "<tr>\n",
       "  <th>Prob(Omnibus):</th>  <td> 0.000</td>  <th>  Jarque-Bera (JB):  </th> <td>103199.158</td>\n",
       "</tr>\n",
       "<tr>\n",
       "  <th>Skew:</th>           <td> 1.876</td>  <th>  Prob(JB):          </th>  <td>    0.00</td> \n",
       "</tr>\n",
       "<tr>\n",
       "  <th>Kurtosis:</th>       <td>22.640</td>  <th>  Cond. No.          </th>  <td>    17.6</td> \n",
       "</tr>\n",
       "</table><br/><br/>Notes:<br/>[1] R² is computed without centering (uncentered) since the model does not contain a constant.<br/>[2] Standard Errors are heteroscedasticity and autocorrelation robust (HAC) using 0 lags and without small sample correction"
      ],
      "text/plain": [
       "<class 'statsmodels.iolib.summary.Summary'>\n",
       "\"\"\"\n",
       "                                 OLS Regression Results                                \n",
       "=======================================================================================\n",
       "Dep. Variable:           S_R 12 month   R-squared (uncentered):                   0.008\n",
       "Model:                            OLS   Adj. R-squared (uncentered):              0.007\n",
       "Method:                 Least Squares   F-statistic:                              4.168\n",
       "Date:                Sat, 02 Dec 2023   Prob (F-statistic):                    0.000346\n",
       "Time:                        15:24:35   Log-Likelihood:                         -40367.\n",
       "No. Observations:                6195   AIC:                                  8.075e+04\n",
       "Df Residuals:                    6189   BIC:                                  8.079e+04\n",
       "Df Model:                           6                                                  \n",
       "Covariance Type:                  HAC                                                  \n",
       "================================================================================\n",
       "                   coef    std err          z      P>|z|      [0.025      0.975]\n",
       "--------------------------------------------------------------------------------\n",
       "Slope          -11.6483      4.120     -2.828      0.005     -19.723      -3.574\n",
       "S_R 12 month     4.8783      5.142      0.949      0.343      -5.199      14.956\n",
       "CRASH           20.4714     10.332      1.981      0.048       0.222      40.721\n",
       "1 month         17.5008     38.183      0.458      0.647     -57.337      92.338\n",
       "VRP             22.2142     39.374      0.564      0.573     -54.958      99.386\n",
       "D_L             -2.2296      2.649     -0.842      0.400      -7.422       2.962\n",
       "==============================================================================\n",
       "Omnibus:                     3211.286   Durbin-Watson:                   2.004\n",
       "Prob(Omnibus):                  0.000   Jarque-Bera (JB):           103199.158\n",
       "Skew:                           1.876   Prob(JB):                         0.00\n",
       "Kurtosis:                      22.640   Cond. No.                         17.6\n",
       "==============================================================================\n",
       "\n",
       "Notes:\n",
       "[1] R² is computed without centering (uncentered) since the model does not contain a constant.\n",
       "[2] Standard Errors are heteroscedasticity and autocorrelation robust (HAC) using 0 lags and without small sample correction\n",
       "\"\"\""
      ]
     },
     "execution_count": 122,
     "metadata": {},
     "output_type": "execute_result"
    }
   ],
   "source": [
    "model = sm.OLS(Y, X).fit(cov_type='HAC',cov_kwds={'maxlags':0})\n",
    "model.summary()"
   ]
  },
  {
   "cell_type": "markdown",
   "id": "6fbab9c0",
   "metadata": {},
   "source": [
    "### VIX Futures"
   ]
  },
  {
   "cell_type": "code",
   "execution_count": 220,
   "id": "82d7f81e",
   "metadata": {},
   "outputs": [],
   "source": [
    "Y = (VIX_FUT_REG['V_F_R 12 month'][1:]*10000).reset_index(drop=True)"
   ]
  },
  {
   "cell_type": "code",
   "execution_count": 221,
   "id": "d175a369",
   "metadata": {},
   "outputs": [],
   "source": [
    "SLOPE = VIX_FUT_REG_S['Slope'][:-1]\n",
    "r = VIX_FUT_REG_S['V_F_R 12 month'][:-1]\n",
    "Crash = VIX_FUT_REG_S['CRASH'][:-1]\n",
    "VIX = VIX_FUT_REG_S['1 month'][:-1]\n",
    "VRP = VIX_FUT_REG_S['VRP'][:-1]\n",
    "DL = VIX_FUT_REG_S['D_L'][:-1]\n",
    "\n",
    "X = pd.concat([SLOPE,r,Crash,VIX,VRP,DL],axis=1)\n",
    "X = X.reset_index(drop=True)"
   ]
  },
  {
   "cell_type": "code",
   "execution_count": 222,
   "id": "846bca72",
   "metadata": {},
   "outputs": [
    {
     "data": {
      "text/html": [
       "<table class=\"simpletable\">\n",
       "<caption>OLS Regression Results</caption>\n",
       "<tr>\n",
       "  <th>Dep. Variable:</th>     <td>V_F_R 12 month</td>  <th>  R-squared (uncentered):</th>      <td>   0.021</td> \n",
       "</tr>\n",
       "<tr>\n",
       "  <th>Model:</th>                   <td>OLS</td>       <th>  Adj. R-squared (uncentered):</th> <td>   0.019</td> \n",
       "</tr>\n",
       "<tr>\n",
       "  <th>Method:</th>             <td>Least Squares</td>  <th>  F-statistic:       </th>          <td>   2.300</td> \n",
       "</tr>\n",
       "<tr>\n",
       "  <th>Date:</th>             <td>Sat, 02 Dec 2023</td> <th>  Prob (F-statistic):</th>           <td>0.0321</td>  \n",
       "</tr>\n",
       "<tr>\n",
       "  <th>Time:</th>                 <td>15:45:16</td>     <th>  Log-Likelihood:    </th>          <td> -30440.</td> \n",
       "</tr>\n",
       "<tr>\n",
       "  <th>No. Observations:</th>      <td>  4351</td>      <th>  AIC:               </th>          <td>6.089e+04</td>\n",
       "</tr>\n",
       "<tr>\n",
       "  <th>Df Residuals:</th>          <td>  4345</td>      <th>  BIC:               </th>          <td>6.093e+04</td>\n",
       "</tr>\n",
       "<tr>\n",
       "  <th>Df Model:</th>              <td>     6</td>      <th>                     </th>              <td> </td>    \n",
       "</tr>\n",
       "<tr>\n",
       "  <th>Covariance Type:</th>         <td>HAC</td>       <th>                     </th>              <td> </td>    \n",
       "</tr>\n",
       "</table>\n",
       "<table class=\"simpletable\">\n",
       "<tr>\n",
       "         <td></td>           <th>coef</th>     <th>std err</th>      <th>z</th>      <th>P>|z|</th>  <th>[0.025</th>    <th>0.975]</th>  \n",
       "</tr>\n",
       "<tr>\n",
       "  <th>Slope</th>          <td>  -10.1886</td> <td>    6.557</td> <td>   -1.554</td> <td> 0.120</td> <td>  -23.039</td> <td>    2.662</td>\n",
       "</tr>\n",
       "<tr>\n",
       "  <th>V_F_R 12 month</th> <td>  -37.3809</td> <td>   12.774</td> <td>   -2.926</td> <td> 0.003</td> <td>  -62.417</td> <td>  -12.345</td>\n",
       "</tr>\n",
       "<tr>\n",
       "  <th>CRASH</th>          <td>  -12.0149</td> <td>   33.893</td> <td>   -0.354</td> <td> 0.723</td> <td>  -78.444</td> <td>   54.414</td>\n",
       "</tr>\n",
       "<tr>\n",
       "  <th>1 month</th>        <td>   31.9376</td> <td>   49.600</td> <td>    0.644</td> <td> 0.520</td> <td>  -65.277</td> <td>  129.152</td>\n",
       "</tr>\n",
       "<tr>\n",
       "  <th>VRP</th>            <td>   26.8260</td> <td>   50.874</td> <td>    0.527</td> <td> 0.598</td> <td>  -72.886</td> <td>  126.538</td>\n",
       "</tr>\n",
       "<tr>\n",
       "  <th>D_L</th>            <td>   -4.9993</td> <td>    4.635</td> <td>   -1.079</td> <td> 0.281</td> <td>  -14.084</td> <td>    4.085</td>\n",
       "</tr>\n",
       "</table>\n",
       "<table class=\"simpletable\">\n",
       "<tr>\n",
       "  <th>Omnibus:</th>       <td>6372.983</td> <th>  Durbin-Watson:     </th>   <td>   2.013</td>  \n",
       "</tr>\n",
       "<tr>\n",
       "  <th>Prob(Omnibus):</th>  <td> 0.000</td>  <th>  Jarque-Bera (JB):  </th> <td>18776471.948</td>\n",
       "</tr>\n",
       "<tr>\n",
       "  <th>Skew:</th>           <td>-7.931</td>  <th>  Prob(JB):          </th>   <td>    0.00</td>  \n",
       "</tr>\n",
       "<tr>\n",
       "  <th>Kurtosis:</th>       <td>324.433</td> <th>  Cond. No.          </th>   <td>    17.7</td>  \n",
       "</tr>\n",
       "</table><br/><br/>Notes:<br/>[1] R² is computed without centering (uncentered) since the model does not contain a constant.<br/>[2] Standard Errors are heteroscedasticity and autocorrelation robust (HAC) using 0 lags and without small sample correction"
      ],
      "text/plain": [
       "<class 'statsmodels.iolib.summary.Summary'>\n",
       "\"\"\"\n",
       "                                 OLS Regression Results                                \n",
       "=======================================================================================\n",
       "Dep. Variable:         V_F_R 12 month   R-squared (uncentered):                   0.021\n",
       "Model:                            OLS   Adj. R-squared (uncentered):              0.019\n",
       "Method:                 Least Squares   F-statistic:                              2.300\n",
       "Date:                Sat, 02 Dec 2023   Prob (F-statistic):                      0.0321\n",
       "Time:                        15:45:16   Log-Likelihood:                         -30440.\n",
       "No. Observations:                4351   AIC:                                  6.089e+04\n",
       "Df Residuals:                    4345   BIC:                                  6.093e+04\n",
       "Df Model:                           6                                                  \n",
       "Covariance Type:                  HAC                                                  \n",
       "==================================================================================\n",
       "                     coef    std err          z      P>|z|      [0.025      0.975]\n",
       "----------------------------------------------------------------------------------\n",
       "Slope            -10.1886      6.557     -1.554      0.120     -23.039       2.662\n",
       "V_F_R 12 month   -37.3809     12.774     -2.926      0.003     -62.417     -12.345\n",
       "CRASH            -12.0149     33.893     -0.354      0.723     -78.444      54.414\n",
       "1 month           31.9376     49.600      0.644      0.520     -65.277     129.152\n",
       "VRP               26.8260     50.874      0.527      0.598     -72.886     126.538\n",
       "D_L               -4.9993      4.635     -1.079      0.281     -14.084       4.085\n",
       "==============================================================================\n",
       "Omnibus:                     6372.983   Durbin-Watson:                   2.013\n",
       "Prob(Omnibus):                  0.000   Jarque-Bera (JB):         18776471.948\n",
       "Skew:                          -7.931   Prob(JB):                         0.00\n",
       "Kurtosis:                     324.433   Cond. No.                         17.7\n",
       "==============================================================================\n",
       "\n",
       "Notes:\n",
       "[1] R² is computed without centering (uncentered) since the model does not contain a constant.\n",
       "[2] Standard Errors are heteroscedasticity and autocorrelation robust (HAC) using 0 lags and without small sample correction\n",
       "\"\"\""
      ]
     },
     "execution_count": 222,
     "metadata": {},
     "output_type": "execute_result"
    }
   ],
   "source": [
    "model = sm.OLS(Y, X).fit(cov_type='HAC',cov_kwds={'maxlags':0})\n",
    "model.summary()"
   ]
  },
  {
   "cell_type": "code",
   "execution_count": null,
   "id": "6193de1f",
   "metadata": {},
   "outputs": [],
   "source": []
  }
 ],
 "metadata": {
  "kernelspec": {
   "display_name": "Python 3",
   "language": "python",
   "name": "python3"
  },
  "language_info": {
   "codemirror_mode": {
    "name": "ipython",
    "version": 3
   },
   "file_extension": ".py",
   "mimetype": "text/x-python",
   "name": "python",
   "nbconvert_exporter": "python",
   "pygments_lexer": "ipython3",
   "version": "3.8.5"
  }
 },
 "nbformat": 4,
 "nbformat_minor": 5
}
