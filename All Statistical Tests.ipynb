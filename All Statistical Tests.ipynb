{
 "cells": [
  {
   "cell_type": "code",
   "execution_count": 885,
   "id": "3b789280",
   "metadata": {},
   "outputs": [],
   "source": [
    "import pandas as pd\n",
    "import numpy as np\n",
    "import matplotlib.pyplot as plt\n",
    "import os\n",
    "import datetime\n",
    "import math\n",
    "import statsmodels.api as sm\n",
    "from statsmodels import regression, stats\n",
    "import statsmodels\n",
    "import scipy\n",
    "\n",
    "from sklearn.preprocessing import StandardScaler\n",
    "from sklearn.decomposition import PCA\n",
    "from sklearn.preprocessing import MinMaxScaler\n",
    "\n",
    "from scipy.stats import chisquare"
   ]
  },
  {
   "cell_type": "code",
   "execution_count": 886,
   "id": "355710c1",
   "metadata": {},
   "outputs": [],
   "source": [
    "DATA_PATH = '/Users/juliusraschke/Documents/Quantitative Finance/Summer Semester 2/Advanced Quant Finance/Data'"
   ]
  },
  {
   "cell_type": "markdown",
   "id": "6a76232b",
   "metadata": {},
   "source": [
    "### Load in VIX Term Structure"
   ]
  },
  {
   "cell_type": "code",
   "execution_count": 887,
   "id": "f966f88e",
   "metadata": {},
   "outputs": [],
   "source": [
    "VIX_TS = pd.read_csv(DATA_PATH + '/vixts.csv',skiprows=4)\n",
    "\n",
    "VIX_TS = VIX_TS.rename({'Date':'DATE','VIX_1^2':'1 month','VIX_2^2':'2 month','VIX_3^2':'3 month','VIX_6^2':'6 month',\n",
    "               'VIX_9^2':'9 month','VIX_12^2':'12 month'},axis=1)"
   ]
  },
  {
   "cell_type": "code",
   "execution_count": 888,
   "id": "d40fa917",
   "metadata": {},
   "outputs": [],
   "source": [
    "def DATE_STR(num):\n",
    "    num_str = str(num)\n",
    "    date_str = num_str[-2:]+'/'+num_str[4:-2]+'/'+num_str[0:4]\n",
    "    \n",
    "    return date_str \n",
    "\n",
    "VIX_TS['DATE'] = VIX_TS['DATE'].apply(DATE_STR)\n",
    "VIX_TS['DATE'] = pd.to_datetime(VIX_TS['DATE'],format = '%d/%m/%Y')"
   ]
  },
  {
   "cell_type": "markdown",
   "id": "43462f32",
   "metadata": {},
   "source": [
    "### Load in VIX Future Returns"
   ]
  },
  {
   "cell_type": "code",
   "execution_count": 889,
   "id": "636e8f38",
   "metadata": {},
   "outputs": [],
   "source": [
    "VIX_FUT = pd.read_csv(DATA_PATH + '/vixfut_ret.csv',skiprows=5)\n",
    "\n",
    "VIX_FUT = VIX_FUT.rename({'Date':'DATE','r_1^{VIX fut.}':'1 month','r_2^{VIX fut.}':'2 month','r_3^{VIX fut.}':'3 month',\n",
    "                         'r_4^{VIX fut.}':'4 month','r_5^{VIX fut.}':'5 month','r_6^{VIX fut.}':'6 month'},axis=1)"
   ]
  },
  {
   "cell_type": "code",
   "execution_count": 890,
   "id": "c90ea6d7",
   "metadata": {},
   "outputs": [],
   "source": [
    "VIX_FUT['DATE'] = VIX_FUT['DATE'].apply(DATE_STR)\n",
    "VIX_FUT['DATE'] = pd.to_datetime(VIX_FUT['DATE'],format = '%d/%m/%Y')"
   ]
  },
  {
   "cell_type": "code",
   "execution_count": 891,
   "id": "24d8c76d",
   "metadata": {},
   "outputs": [],
   "source": [
    "column_mapping = {\n",
    "    '1 month': 'V_F_R 1 month',\n",
    "    '2 month': 'V_F_R 2 month',\n",
    "    '3 month': 'V_F_R 3 month',\n",
    "    '4 month': 'V_F_R 6 month',\n",
    "    '5 month': 'V_F_R 9 month',\n",
    "    '6 month': 'V_F_R 12 month',\n",
    "}\n",
    "\n",
    "VIX_FUT.rename(columns=column_mapping, inplace=True)"
   ]
  },
  {
   "cell_type": "markdown",
   "id": "e987fdd4",
   "metadata": {},
   "source": [
    "### Load in Variance Swap Returns"
   ]
  },
  {
   "cell_type": "code",
   "execution_count": 892,
   "id": "412d121f",
   "metadata": {},
   "outputs": [],
   "source": [
    "VAR_SWAPS = pd.read_csv(DATA_PATH + '/vswap_ret.csv',skiprows=5)\n",
    "\n",
    "VAR_SWAPS = VAR_SWAPS.rename({'Date':'DATE','r_1^{var. swap}':'1 month','r_2^{var. swap}':'2 month','r_3^{var. swap}':'3 month',\n",
    "                         'r_6^{var. swap}':'6 month','r_9^{var. swap}':'9 month','r_12^{var. swap}':'12 month'},axis=1)"
   ]
  },
  {
   "cell_type": "code",
   "execution_count": 893,
   "id": "02329769",
   "metadata": {},
   "outputs": [],
   "source": [
    "VAR_SWAPS['DATE'] = VAR_SWAPS['DATE'].apply(DATE_STR)\n",
    "VAR_SWAPS['DATE'] = pd.to_datetime(VAR_SWAPS['DATE'],format = '%d/%m/%Y')"
   ]
  },
  {
   "cell_type": "code",
   "execution_count": 894,
   "id": "993bb6c9",
   "metadata": {},
   "outputs": [],
   "source": [
    "column_mapping = {\n",
    "    '1 month': 'V_S_R 1 month',\n",
    "    '2 month': 'V_S_R 2 month',\n",
    "    '3 month': 'V_S_R 3 month',\n",
    "    '6 month': 'V_S_R 6 month',\n",
    "    '9 month': 'V_S_R 9 month',\n",
    "    '12 month': 'V_S_R 12 month',\n",
    "}\n",
    "\n",
    "VAR_SWAPS.rename(columns=column_mapping, inplace=True)"
   ]
  },
  {
   "cell_type": "markdown",
   "id": "2a33f7d7",
   "metadata": {},
   "source": [
    "### Load in Straddle Returns"
   ]
  },
  {
   "cell_type": "code",
   "execution_count": 895,
   "id": "01363e43",
   "metadata": {},
   "outputs": [],
   "source": [
    "STRADDLE = pd.read_csv(DATA_PATH + '/straddle_ret.csv',skiprows=6)\n",
    "\n",
    "STRADDLE = STRADDLE.rename({'Date':'DATE',\n",
    "                            'r_1^{straddle}':'1 month Long','r_2^{straddle}':'2 month Long','r_3^{straddle}':'3 month Long',\n",
    "                            'r_6^{straddle}':'6 month Long','r_9^{straddle}':'9 month Long','r_12^{straddle}':'12 month Long',\n",
    "                            'r_1^{short straddle}':'1 month Short','r_2^{short straddle}':'2 month Short','r_3^{short straddle}':'3 month Short',\n",
    "                            'r_6^{short straddle}':'6 month Short','r_9^{short straddle}':'9 month Short','r_12^{short straddle}':'12 month Short',},axis=1)"
   ]
  },
  {
   "cell_type": "code",
   "execution_count": 896,
   "id": "b385c9d6",
   "metadata": {},
   "outputs": [],
   "source": [
    "STRADDLE['DATE'] = STRADDLE['DATE'].apply(DATE_STR)\n",
    "STRADDLE['DATE'] = pd.to_datetime(STRADDLE['DATE'],format = '%d/%m/%Y')"
   ]
  },
  {
   "cell_type": "code",
   "execution_count": 897,
   "id": "554a03d2",
   "metadata": {},
   "outputs": [],
   "source": [
    "STRADDLE_LONG = STRADDLE[['DATE','1 month Long','2 month Long','3 month Long','6 month Long','9 month Long','12 month Long']]"
   ]
  },
  {
   "cell_type": "code",
   "execution_count": 898,
   "id": "c669fa35",
   "metadata": {},
   "outputs": [
    {
     "name": "stderr",
     "output_type": "stream",
     "text": [
      "<ipython-input-898-1bc326bfab36>:10: SettingWithCopyWarning: \n",
      "A value is trying to be set on a copy of a slice from a DataFrame\n",
      "\n",
      "See the caveats in the documentation: https://pandas.pydata.org/pandas-docs/stable/user_guide/indexing.html#returning-a-view-versus-a-copy\n",
      "  STRADDLE_LONG.rename(columns=column_mapping, inplace=True)\n"
     ]
    }
   ],
   "source": [
    "column_mapping = {\n",
    "    '1 month Long': 'S_R 1 month',\n",
    "    '2 month Long': 'S_R 2 month',\n",
    "    '3 month Long': 'S_R 3 month',\n",
    "    '6 month Long': 'S_R 6 month',\n",
    "    '9 month Long': 'S_R 9 month',\n",
    "    '12 month Long': 'S_R 12 month',\n",
    "}\n",
    "\n",
    "STRADDLE_LONG.rename(columns=column_mapping, inplace=True)"
   ]
  },
  {
   "cell_type": "markdown",
   "id": "9d949e7f",
   "metadata": {},
   "source": [
    "### Load in Interest Rate Returns"
   ]
  },
  {
   "cell_type": "code",
   "execution_count": 899,
   "id": "073624a6",
   "metadata": {},
   "outputs": [],
   "source": [
    "df = pd.read_csv(DATA_PATH + '/IR.csv')"
   ]
  },
  {
   "cell_type": "code",
   "execution_count": 900,
   "id": "51ff9a0c",
   "metadata": {},
   "outputs": [],
   "source": [
    "# Get rates for all days which are in the 300s\n",
    "filtered_df = df[(df['days'] >= 300) & (df['days'] < 400)].reset_index(drop=True)\n",
    "\n",
    "# Sort the DataFrame by 'dates' and 'days'\n",
    "df_sorted = filtered_df.sort_values(by=['date', 'days'])\n",
    "\n",
    "# Keep the rows with the closest 'days' value to 365 for each date\n",
    "IR_TS = df_sorted.groupby('date', group_keys=False).apply(lambda group: group.iloc[(group['days'] - 365).abs().argsort()[:1]])\n",
    "\n",
    "# Reset the index if needed\n",
    "IR_TS.reset_index(drop=True, inplace=True)"
   ]
  },
  {
   "cell_type": "code",
   "execution_count": 901,
   "id": "e63a62c2",
   "metadata": {},
   "outputs": [],
   "source": [
    "IR_TS['Daily Rate'] = ((1+IR_TS['rate'])**(1/IR_TS['days']))-1\n",
    "IR_TS = IR_TS.drop(['rate','days'],axis=1)"
   ]
  },
  {
   "cell_type": "code",
   "execution_count": 902,
   "id": "c38e2a12",
   "metadata": {},
   "outputs": [],
   "source": [
    "IR_TS.rename(columns={'date': 'DATE'}, inplace=True)"
   ]
  },
  {
   "cell_type": "markdown",
   "id": "2e5502ed",
   "metadata": {},
   "source": [
    "### Created Merged Databases for returns"
   ]
  },
  {
   "cell_type": "code",
   "execution_count": 903,
   "id": "125ad0d9",
   "metadata": {},
   "outputs": [],
   "source": [
    "IR_TS.set_index('DATE', inplace=True)\n",
    "VIX_TS.set_index('DATE', inplace=True)\n",
    "VAR_SWAPS.set_index('DATE', inplace=True)\n",
    "VIX_FUT.set_index('DATE', inplace=True)\n",
    "STRADDLE_LONG.set_index('DATE', inplace=True)"
   ]
  },
  {
   "cell_type": "code",
   "execution_count": 904,
   "id": "151d252f",
   "metadata": {},
   "outputs": [],
   "source": [
    "IR_TS.index = pd.to_datetime(IR_TS.index)\n",
    "VIX_TS.index = pd.to_datetime(VIX_TS.index)\n",
    "VAR_SWAPS.index = pd.to_datetime(VAR_SWAPS.index)\n",
    "VIX_FUT.index = pd.to_datetime(VIX_FUT.index)\n",
    "STRADDLE_LONG.index = pd.to_datetime(STRADDLE_LONG.index)"
   ]
  },
  {
   "cell_type": "code",
   "execution_count": 905,
   "id": "5afbe509",
   "metadata": {},
   "outputs": [],
   "source": [
    "merged = pd.merge(VIX_TS,IR_TS, how='inner', left_index=True, right_index=True)"
   ]
  },
  {
   "cell_type": "code",
   "execution_count": 906,
   "id": "6df51a2d",
   "metadata": {},
   "outputs": [],
   "source": [
    "VAR_SWAPS = VAR_SWAPS/100\n",
    "VIX_FUT = VIX_FUT/100\n",
    "STRADDLE_LONG = STRADDLE_LONG/100"
   ]
  },
  {
   "cell_type": "code",
   "execution_count": 907,
   "id": "496c98f2",
   "metadata": {},
   "outputs": [],
   "source": [
    "VAR_SWAPS_MERGED=pd.merge(merged,VAR_SWAPS, how='inner', left_index=True, right_index=True)\n",
    "VIX_FUT_MERGED=pd.merge(merged,VIX_FUT, how='inner', left_index=True, right_index=True)\n",
    "STRADDLE_MERGED=pd.merge(merged,STRADDLE_LONG, how='inner', left_index=True, right_index=True)"
   ]
  },
  {
   "cell_type": "markdown",
   "id": "76a84697",
   "metadata": {},
   "source": [
    "### Calculate Excess returns"
   ]
  },
  {
   "cell_type": "code",
   "execution_count": 908,
   "id": "37add303",
   "metadata": {},
   "outputs": [],
   "source": [
    "XS_VAR_SWAPS = VAR_SWAPS_MERGED.iloc[:, 7:]\n",
    "columns_to_subtract_from = ['V_S_R 1 month','V_S_R 2 month', 'V_S_R 3 month', 'V_S_R 6 month', 'V_S_R 9 month', 'V_S_R 12 month']\n",
    "\n",
    "# Iterate through the columns and subtract 'column_to_subtract' from each of them\n",
    "for col in columns_to_subtract_from:\n",
    "    XS_VAR_SWAPS[col] = XS_VAR_SWAPS[col] - VAR_SWAPS_MERGED['Daily Rate']"
   ]
  },
  {
   "cell_type": "code",
   "execution_count": 909,
   "id": "94ab0e39",
   "metadata": {},
   "outputs": [],
   "source": [
    "XS_VIX_FUT = VIX_FUT_MERGED.iloc[:, 7:]\n",
    "columns_to_subtract_from = ['V_F_R 1 month','V_F_R 2 month', 'V_F_R 3 month', 'V_F_R 6 month', 'V_F_R 9 month', 'V_F_R 12 month']\n",
    "\n",
    "# Iterate through the columns and subtract 'column_to_subtract' from each of them\n",
    "for col in columns_to_subtract_from:\n",
    "    XS_VIX_FUT[col] = XS_VIX_FUT[col] - VIX_FUT_MERGED['Daily Rate']"
   ]
  },
  {
   "cell_type": "code",
   "execution_count": 910,
   "id": "ae01ff56",
   "metadata": {},
   "outputs": [],
   "source": [
    "XS_STRADDLE = STRADDLE_MERGED.iloc[:, 7:]\n",
    "columns_to_subtract_from = ['S_R 1 month','S_R 2 month', 'S_R 3 month', 'S_R 6 month', 'S_R 9 month', 'S_R 12 month']\n",
    "\n",
    "# Iterate through the columns and subtract 'column_to_subtract' from each of them\n",
    "for col in columns_to_subtract_from:\n",
    "    XS_STRADDLE[col] = XS_STRADDLE[col] - STRADDLE_MERGED['Daily Rate']"
   ]
  },
  {
   "cell_type": "markdown",
   "id": "0693c053",
   "metadata": {},
   "source": [
    "### Expectation Hypothesis Test"
   ]
  },
  {
   "cell_type": "markdown",
   "id": "cb1f4a93",
   "metadata": {},
   "source": [
    "### Version 1"
   ]
  },
  {
   "cell_type": "code",
   "execution_count": 911,
   "id": "1abe6d2c",
   "metadata": {},
   "outputs": [],
   "source": [
    "VIX_TS.reset_index(drop=True, inplace=True)"
   ]
  },
  {
   "cell_type": "code",
   "execution_count": 912,
   "id": "a1655fa9",
   "metadata": {},
   "outputs": [],
   "source": [
    "Y_1 = VIX_TS['1 month'][32:].reset_index(drop=True) - VIX_TS['2 month'][:-32]\n",
    "Y_2 = VIX_TS['2 month'][32:].reset_index(drop=True) - VIX_TS['3 month'][:-32]\n",
    "Y_3 = VIX_TS['3 month'][96:].reset_index(drop=True) - VIX_TS['6 month'][:-96]\n",
    "Y_4 = VIX_TS['6 month'][96:].reset_index(drop=True) - VIX_TS['9 month'][:-96]\n",
    "Y_5 = VIX_TS['9 month'][96:].reset_index(drop=True) - VIX_TS['12 month'][:-96]\n",
    "\n",
    "X_1 = (VIX_TS['2 month'][:-32] - VIX_TS['1 month'][:-32]).reset_index(drop=True)\n",
    "X_2 = ((1/2)*VIX_TS['3 month'][:-32] - VIX_TS['1 month'][:-32]).reset_index(drop=True)\n",
    "X_3 = (VIX_TS['6 month'][:-96] - VIX_TS['3 month'][:-96]).reset_index(drop=True)\n",
    "X_4 = ((1/2)*VIX_TS['9 month'][:-96] - VIX_TS['3 month'][:-96]).reset_index(drop=True)\n",
    "X_5 = ((1/3)*VIX_TS['12 month'][:-96] - VIX_TS['3 month'][:-96]).reset_index(drop=True)"
   ]
  },
  {
   "cell_type": "code",
   "execution_count": 913,
   "id": "cb0caba4",
   "metadata": {},
   "outputs": [],
   "source": [
    "data_1 = {'b_1': X_1,\n",
    "        'b_2': X_2,\n",
    "        'c_1': VIX_TS['1 month'][:-32].reset_index(drop=True),\n",
    "       'c_2': VIX_TS['2 month'][:-32].reset_index(drop=True)}\n",
    "\n",
    "data_2 = {'b_3': X_3,\n",
    "        'b_4': X_4,\n",
    "        'b_5': X_5,\n",
    "       'c_3': VIX_TS['3 month'][:-96].reset_index(drop=True),\n",
    "       'c_4': VIX_TS['6 month'][:-96].reset_index(drop=True),\n",
    "       'c_5': VIX_TS['9 month'][:-96].reset_index(drop=True),}\n",
    "\n",
    "df_1 = pd.DataFrame(data_1)\n",
    "df_2 = pd.DataFrame(data_2)"
   ]
  },
  {
   "cell_type": "code",
   "execution_count": 914,
   "id": "f50766d9",
   "metadata": {},
   "outputs": [
    {
     "name": "stdout",
     "output_type": "stream",
     "text": [
      "Regression coefficients (including intercept): const    0.025303\n",
      "b_5     -0.392307\n",
      "c_5     -0.757984\n",
      "dtype: float64\n",
      "Newey-West standard errors: [0.0018209  0.09448312 0.0789837 ]\n",
      "P-values for the expectation hypothesis (b=1): 0.0\n",
      "R-squared: 0.20238229782275052\n"
     ]
    },
    {
     "name": "stderr",
     "output_type": "stream",
     "text": [
      "/Users/juliusraschke/opt/anaconda3/lib/python3.8/site-packages/statsmodels/tsa/tsatools.py:142: FutureWarning: In a future version of pandas all arguments of concat except for the argument 'objs' will be keyword-only.\n",
      "  x = pd.concat(x[::order], 1)\n"
     ]
    }
   ],
   "source": [
    "X = df_2[['b_5','c_5']]\n",
    "Y = Y_5\n",
    "\n",
    "X = sm.add_constant(X)  # Add a constant (intercept) to the independent variables\n",
    "model = sm.OLS(Y, X).fit()\n",
    "\n",
    "# Calculate Newey West\n",
    "\n",
    "cov_mat = stats.sandwich_covariance.cov_hac(model)\n",
    "newey_west_se = np.sqrt(np.diag(cov_mat))\n",
    "\n",
    "# Get the regression coefficients, including the intercept\n",
    "coefficients = model.params\n",
    "\n",
    "# Calculate p-values for the expectation hypothesis (b=1)\n",
    "t_values = (coefficients[1]-1) / newey_west_se[1]\n",
    "\n",
    "#Calculate p-values\n",
    "p_values = 2 * scipy.stats.t.sf(abs(t_values), model.df_resid)\n",
    "\n",
    "# Calculate R-squared\n",
    "r_squared = model.rsquared\n",
    "\n",
    "# Output the results\n",
    "print(\"Regression coefficients (including intercept):\", coefficients)\n",
    "print(\"Newey-West standard errors:\", newey_west_se)\n",
    "print(\"P-values for the expectation hypothesis (b=1):\", p_values.round(3))\n",
    "print(\"R-squared:\", r_squared)"
   ]
  },
  {
   "cell_type": "markdown",
   "id": "9e6fddc4",
   "metadata": {},
   "source": [
    "### Version 2"
   ]
  },
  {
   "cell_type": "code",
   "execution_count": 915,
   "id": "a2f25dec",
   "metadata": {},
   "outputs": [],
   "source": [
    "Y_1 = VIX_TS['1 month'][32:].reset_index(drop=True) - VIX_TS['1 month'][:-32]\n",
    "Y_2 = VIX_TS['2 month'][32:].reset_index(drop=True) - VIX_TS['2 month'][:-32]\n",
    "Y_3 = VIX_TS['3 month'][96:].reset_index(drop=True) - VIX_TS['3 month'][:-96]\n",
    "Y_4 = VIX_TS['6 month'][96:].reset_index(drop=True) - VIX_TS['6 month'][:-96]\n",
    "Y_5 = VIX_TS['9 month'][96:].reset_index(drop=True) - VIX_TS['9 month'][:-96]\n",
    "\n",
    "X_1 = (VIX_TS['2 month'][:-32] - VIX_TS['1 month'][:-32])+(VIX_TS['2 month'][:-32] - VIX_TS['1 month'][:-32])\n",
    "X_2 = (VIX_TS['3 month'][:-32] - VIX_TS['2 month'][:-32])+((1/2)*VIX_TS['3 month'][:-32] - VIX_TS['1 month'][:-32])\n",
    "X_3 = (VIX_TS['6 month'][:-96] - VIX_TS['3 month'][:-96])+(VIX_TS['6 month'][:-96] - VIX_TS['3 month'][:-96])\n",
    "X_4 = (VIX_TS['9 month'][:-96] - VIX_TS['6 month'][:-96])+((1/2)*VIX_TS['9 month'][:-96] - VIX_TS['3 month'][:-96])\n",
    "X_5 = (VIX_TS['12 month'][:-96] - VIX_TS['9 month'][:-96])+((1/3)*VIX_TS['12 month'][:-96] - VIX_TS['3 month'][:-96])"
   ]
  },
  {
   "cell_type": "code",
   "execution_count": 916,
   "id": "25831def",
   "metadata": {},
   "outputs": [],
   "source": [
    "data_1 = {'b_1': X_1,\n",
    "        'b_2': X_2,\n",
    "        'c_1': VIX_TS['1 month'][:-32].reset_index(drop=True),\n",
    "       'c_2': VIX_TS['2 month'][:-32].reset_index(drop=True)}\n",
    "\n",
    "data_2 = {'b_3': X_3,\n",
    "        'b_4': X_4,\n",
    "        'b_5': X_5,\n",
    "       'c_3': VIX_TS['3 month'][:-96].reset_index(drop=True),\n",
    "       'c_4': VIX_TS['6 month'][:-96].reset_index(drop=True),\n",
    "       'c_5': VIX_TS['9 month'][:-96].reset_index(drop=True),}\n",
    "\n",
    "df_1 = pd.DataFrame(data_1)\n",
    "df_2 = pd.DataFrame(data_2)"
   ]
  },
  {
   "cell_type": "code",
   "execution_count": 917,
   "id": "d79582df",
   "metadata": {},
   "outputs": [
    {
     "name": "stdout",
     "output_type": "stream",
     "text": [
      "Regression coefficients (including intercept): const    0.016783\n",
      "b_1     -0.027150\n",
      "c_1     -0.355029\n",
      "dtype: float64\n",
      "Newey-West standard errors: [0.00299867 0.1982755  0.06284436]\n",
      "P-values for the expectation hypothesis (b=1): 0.0\n",
      "R-squared: 0.1746571207806864\n"
     ]
    },
    {
     "name": "stderr",
     "output_type": "stream",
     "text": [
      "/Users/juliusraschke/opt/anaconda3/lib/python3.8/site-packages/statsmodels/tsa/tsatools.py:142: FutureWarning: In a future version of pandas all arguments of concat except for the argument 'objs' will be keyword-only.\n",
      "  x = pd.concat(x[::order], 1)\n"
     ]
    }
   ],
   "source": [
    "X = df_1[['b_1','c_1']]\n",
    "Y = Y_1\n",
    "\n",
    "X = sm.add_constant(X)  # Add a constant (intercept) to the independent variables\n",
    "\n",
    "model = sm.OLS(Y, X).fit()\n",
    "\n",
    "# Calculate Newey West\n",
    "\n",
    "cov_mat = stats.sandwich_covariance.cov_hac(model)\n",
    "newey_west_se = np.sqrt(np.diag(cov_mat))\n",
    "\n",
    "# Get the regression coefficients, including the intercept\n",
    "coefficients = model.params\n",
    "\n",
    "# Calculate p-values for the expectation hypothesis (b=1)\n",
    "t_values = (coefficients[1]-1) / newey_west_se[1]\n",
    "\n",
    "#Calculate p-values\n",
    "p_values = 2 * scipy.stats.t.sf(abs(t_values), model.df_resid)\n",
    "\n",
    "# Calculate R-squared\n",
    "r_squared = model.rsquared\n",
    "\n",
    "# Output the results\n",
    "print(\"Regression coefficients (including intercept):\", coefficients)\n",
    "print(\"Newey-West standard errors:\", newey_west_se)\n",
    "print(\"P-values for the expectation hypothesis (b=1):\", p_values.round(3))\n",
    "print(\"R-squared:\", r_squared)"
   ]
  },
  {
   "cell_type": "markdown",
   "id": "2867bfcd",
   "metadata": {},
   "source": [
    "### Converting daily to monthly data"
   ]
  },
  {
   "cell_type": "code",
   "execution_count": 943,
   "id": "feaf1692",
   "metadata": {},
   "outputs": [],
   "source": [
    "cr_VAR_SWAPS = ((XS_VAR_SWAPS)+1).rolling(32).apply(np.prod)-1\n",
    "cr_VAR_SWAPS[:-31:] = cr_VAR_SWAPS[31::]\n",
    "cr_VAR_SWAPS = cr_VAR_SWAPS[:-31:]\n",
    "\n",
    "cr_VIX_FUT = ((XS_VIX_FUT)+1).rolling(32).apply(np.prod)-1\n",
    "cr_VIX_FUT[:-31:] = cr_VIX_FUT[31::]\n",
    "cr_VIX_FUT = cr_VIX_FUT[:-31:]\n",
    "\n",
    "cr_STRADDLE = ((XS_STRADDLE)+1).rolling(32).apply(np.prod)-1\n",
    "cr_STRADDLE[:-31:] = cr_STRADDLE[31::]\n",
    "cr_STRADDLE = cr_STRADDLE[:-31:]"
   ]
  },
  {
   "cell_type": "markdown",
   "id": "cdf014b7",
   "metadata": {},
   "source": [
    "### Single Factor Test"
   ]
  },
  {
   "cell_type": "code",
   "execution_count": 944,
   "id": "3f8bb4ca",
   "metadata": {},
   "outputs": [],
   "source": [
    "pca1 = PCA()\n",
    "scaler = StandardScaler()"
   ]
  },
  {
   "cell_type": "markdown",
   "id": "ae826bcc",
   "metadata": {},
   "source": [
    "### S&P 500 variance Swap Returns"
   ]
  },
  {
   "cell_type": "code",
   "execution_count": 976,
   "id": "8fab3ee5",
   "metadata": {},
   "outputs": [],
   "source": [
    "X = VAR_SWAPS_MERGED.iloc[:,:6]\n",
    "X_trans = pca1.fit_transform(X)\n",
    "X_trans = pd.DataFrame(data=X_trans)\n",
    "scaled = scaler.fit_transform(X_trans)\n",
    "scaled_VS = pd.DataFrame(data=scaled)\n",
    "scaled_VS[['Level','Slope','Curve','PC4','PC5','PC6']] = scaled_VS[[0,1,2,3,4,5]]\n",
    "scaled_VS = scaled_VS.drop([0,1,2,3,4,5],axis=1)\n",
    "scaled_VS['Slope'] = -scaled_VS['Slope']"
   ]
  },
  {
   "cell_type": "code",
   "execution_count": 977,
   "id": "97eb896f",
   "metadata": {},
   "outputs": [
    {
     "data": {
      "text/html": [
       "<div>\n",
       "<style scoped>\n",
       "    .dataframe tbody tr th:only-of-type {\n",
       "        vertical-align: middle;\n",
       "    }\n",
       "\n",
       "    .dataframe tbody tr th {\n",
       "        vertical-align: top;\n",
       "    }\n",
       "\n",
       "    .dataframe thead th {\n",
       "        text-align: right;\n",
       "    }\n",
       "</style>\n",
       "<table border=\"1\" class=\"dataframe\">\n",
       "  <thead>\n",
       "    <tr style=\"text-align: right;\">\n",
       "      <th></th>\n",
       "      <th>1 month</th>\n",
       "      <th>2 month</th>\n",
       "      <th>3 month</th>\n",
       "      <th>6 month</th>\n",
       "      <th>9 month</th>\n",
       "      <th>12 month</th>\n",
       "    </tr>\n",
       "    <tr>\n",
       "      <th>DATE</th>\n",
       "      <th></th>\n",
       "      <th></th>\n",
       "      <th></th>\n",
       "      <th></th>\n",
       "      <th></th>\n",
       "      <th></th>\n",
       "    </tr>\n",
       "  </thead>\n",
       "  <tbody>\n",
       "    <tr>\n",
       "      <th>1996-01-05</th>\n",
       "      <td>0.01708</td>\n",
       "      <td>0.01674</td>\n",
       "      <td>0.01661</td>\n",
       "      <td>0.01828</td>\n",
       "      <td>0.02034</td>\n",
       "      <td>0.01993</td>\n",
       "    </tr>\n",
       "    <tr>\n",
       "      <th>1996-01-08</th>\n",
       "      <td>0.01610</td>\n",
       "      <td>0.01589</td>\n",
       "      <td>0.01582</td>\n",
       "      <td>0.01739</td>\n",
       "      <td>0.01863</td>\n",
       "      <td>0.01955</td>\n",
       "    </tr>\n",
       "    <tr>\n",
       "      <th>1996-01-09</th>\n",
       "      <td>0.02406</td>\n",
       "      <td>0.01904</td>\n",
       "      <td>0.01675</td>\n",
       "      <td>0.01858</td>\n",
       "      <td>0.01955</td>\n",
       "      <td>0.02088</td>\n",
       "    </tr>\n",
       "    <tr>\n",
       "      <th>1996-01-10</th>\n",
       "      <td>0.02494</td>\n",
       "      <td>0.02151</td>\n",
       "      <td>0.02006</td>\n",
       "      <td>0.01978</td>\n",
       "      <td>0.02079</td>\n",
       "      <td>0.02184</td>\n",
       "    </tr>\n",
       "    <tr>\n",
       "      <th>1996-01-11</th>\n",
       "      <td>0.01975</td>\n",
       "      <td>0.01932</td>\n",
       "      <td>0.01912</td>\n",
       "      <td>0.01829</td>\n",
       "      <td>0.01920</td>\n",
       "      <td>0.02071</td>\n",
       "    </tr>\n",
       "    <tr>\n",
       "      <th>...</th>\n",
       "      <td>...</td>\n",
       "      <td>...</td>\n",
       "      <td>...</td>\n",
       "      <td>...</td>\n",
       "      <td>...</td>\n",
       "      <td>...</td>\n",
       "    </tr>\n",
       "    <tr>\n",
       "      <th>2019-06-21</th>\n",
       "      <td>0.02352</td>\n",
       "      <td>0.02683</td>\n",
       "      <td>0.02817</td>\n",
       "      <td>0.03088</td>\n",
       "      <td>0.03170</td>\n",
       "      <td>0.03305</td>\n",
       "    </tr>\n",
       "    <tr>\n",
       "      <th>2019-06-24</th>\n",
       "      <td>0.02402</td>\n",
       "      <td>0.02642</td>\n",
       "      <td>0.02783</td>\n",
       "      <td>0.03070</td>\n",
       "      <td>0.03137</td>\n",
       "      <td>0.03290</td>\n",
       "    </tr>\n",
       "    <tr>\n",
       "      <th>2019-06-25</th>\n",
       "      <td>0.02718</td>\n",
       "      <td>0.02870</td>\n",
       "      <td>0.02980</td>\n",
       "      <td>0.03222</td>\n",
       "      <td>0.03277</td>\n",
       "      <td>0.03402</td>\n",
       "    </tr>\n",
       "    <tr>\n",
       "      <th>2019-06-26</th>\n",
       "      <td>0.02705</td>\n",
       "      <td>0.02812</td>\n",
       "      <td>0.02945</td>\n",
       "      <td>0.03219</td>\n",
       "      <td>0.03296</td>\n",
       "      <td>0.03384</td>\n",
       "    </tr>\n",
       "    <tr>\n",
       "      <th>2019-06-27</th>\n",
       "      <td>0.02626</td>\n",
       "      <td>0.02715</td>\n",
       "      <td>0.02836</td>\n",
       "      <td>0.03063</td>\n",
       "      <td>0.03191</td>\n",
       "      <td>0.03293</td>\n",
       "    </tr>\n",
       "  </tbody>\n",
       "</table>\n",
       "<p>5896 rows × 6 columns</p>\n",
       "</div>"
      ],
      "text/plain": [
       "            1 month  2 month  3 month  6 month  9 month  12 month\n",
       "DATE                                                             \n",
       "1996-01-05  0.01708  0.01674  0.01661  0.01828  0.02034   0.01993\n",
       "1996-01-08  0.01610  0.01589  0.01582  0.01739  0.01863   0.01955\n",
       "1996-01-09  0.02406  0.01904  0.01675  0.01858  0.01955   0.02088\n",
       "1996-01-10  0.02494  0.02151  0.02006  0.01978  0.02079   0.02184\n",
       "1996-01-11  0.01975  0.01932  0.01912  0.01829  0.01920   0.02071\n",
       "...             ...      ...      ...      ...      ...       ...\n",
       "2019-06-21  0.02352  0.02683  0.02817  0.03088  0.03170   0.03305\n",
       "2019-06-24  0.02402  0.02642  0.02783  0.03070  0.03137   0.03290\n",
       "2019-06-25  0.02718  0.02870  0.02980  0.03222  0.03277   0.03402\n",
       "2019-06-26  0.02705  0.02812  0.02945  0.03219  0.03296   0.03384\n",
       "2019-06-27  0.02626  0.02715  0.02836  0.03063  0.03191   0.03293\n",
       "\n",
       "[5896 rows x 6 columns]"
      ]
     },
     "execution_count": 977,
     "metadata": {},
     "output_type": "execute_result"
    }
   ],
   "source": [
    "X"
   ]
  },
  {
   "cell_type": "markdown",
   "id": "3b087c42",
   "metadata": {},
   "source": [
    "### Next day"
   ]
  },
  {
   "cell_type": "code",
   "execution_count": 948,
   "id": "6a950a76",
   "metadata": {},
   "outputs": [],
   "source": [
    "XS_V_S = XS_VAR_SWAPS\n",
    "XS_V_S.reset_index(drop=False, inplace=True)"
   ]
  },
  {
   "cell_type": "code",
   "execution_count": 949,
   "id": "5b4eb5fc",
   "metadata": {},
   "outputs": [],
   "source": [
    "X = scaled_VS[:-1]\n",
    "Y = (XS_V_S['V_S_R 9 month'][1:]*10000).reset_index(drop=True)\n",
    "\n",
    "model = sm.OLS(Y, X).fit(cov_type='HAC',cov_kwds={'maxlags':0})"
   ]
  },
  {
   "cell_type": "markdown",
   "id": "cc65b3c4",
   "metadata": {},
   "source": [
    "### Next month"
   ]
  },
  {
   "cell_type": "code",
   "execution_count": 950,
   "id": "04bedddb",
   "metadata": {},
   "outputs": [],
   "source": [
    "cr_V_S = cr_VAR_SWAPS\n",
    "cr_V_S.reset_index(drop=False, inplace=True)"
   ]
  },
  {
   "cell_type": "code",
   "execution_count": 951,
   "id": "82e20880",
   "metadata": {},
   "outputs": [],
   "source": [
    "X = scaled_VS[:-32]\n",
    "Y = (cr_V_S['V_S_R 1 month'][1:]*100).reset_index(drop=True)\n",
    "\n",
    "model = sm.OLS(Y, X).fit(cov_type='HAC',cov_kwds={'maxlags':32})"
   ]
  },
  {
   "cell_type": "markdown",
   "id": "7bfecfd9",
   "metadata": {},
   "source": [
    "### VIX Futures Returns"
   ]
  },
  {
   "cell_type": "code",
   "execution_count": 952,
   "id": "de607005",
   "metadata": {},
   "outputs": [],
   "source": [
    "X = VIX_FUT_MERGED.iloc[:,:6]\n",
    "X_trans = pca1.fit_transform(X)\n",
    "X_trans = pd.DataFrame(data=X_trans)\n",
    "scaled = scaler.fit_transform(X_trans)\n",
    "scaled_VF = pd.DataFrame(data=scaled)\n",
    "scaled_VF[['Level','Slope','Curve','PC4','PC5','PC6']] = scaled_VF[[0,1,2,3,4,5]]\n",
    "scaled_VF = scaled_VF.drop([0,1,2,3,4,5],axis=1)\n",
    "scaled_VF['Slope'] = -scaled_VF['Slope']"
   ]
  },
  {
   "cell_type": "markdown",
   "id": "c74a9b0d",
   "metadata": {},
   "source": [
    "### Next day"
   ]
  },
  {
   "cell_type": "code",
   "execution_count": 953,
   "id": "3bd6a3f3",
   "metadata": {},
   "outputs": [],
   "source": [
    "XS_V_F = XS_VIX_FUT\n",
    "XS_V_F.reset_index(drop=False, inplace=True)"
   ]
  },
  {
   "cell_type": "code",
   "execution_count": 954,
   "id": "cb9ceed9",
   "metadata": {},
   "outputs": [],
   "source": [
    "X = scaled_VF[:-1]\n",
    "Y = (XS_V_F['V_F_R 9 month'][1:]*10000).reset_index(drop=True)\n",
    "\n",
    "model = sm.OLS(Y, X).fit(cov_type='HAC',cov_kwds={'maxlags':0})"
   ]
  },
  {
   "cell_type": "markdown",
   "id": "c466683b",
   "metadata": {},
   "source": [
    "### Next month"
   ]
  },
  {
   "cell_type": "code",
   "execution_count": 955,
   "id": "62038d20",
   "metadata": {},
   "outputs": [],
   "source": [
    "cr_V_F = cr_VIX_FUT\n",
    "cr_V_F.reset_index(drop=False, inplace=True)"
   ]
  },
  {
   "cell_type": "code",
   "execution_count": 956,
   "id": "8411cb5f",
   "metadata": {},
   "outputs": [],
   "source": [
    "X = scaled_VF[:-32]\n",
    "Y = (cr_V_F['V_F_R 1 month'][1:]*100).reset_index(drop=True)\n",
    "\n",
    "model = sm.OLS(Y, X).fit(cov_type='HAC',cov_kwds={'maxlags':32})"
   ]
  },
  {
   "cell_type": "markdown",
   "id": "8473d0e3",
   "metadata": {},
   "source": [
    "### Straddle Returns"
   ]
  },
  {
   "cell_type": "code",
   "execution_count": 957,
   "id": "5355c96e",
   "metadata": {},
   "outputs": [],
   "source": [
    "X = STRADDLE_MERGED.iloc[:,:6]\n",
    "X_trans = pca1.fit_transform(X)\n",
    "X_trans = pd.DataFrame(data=X_trans)\n",
    "scaled = scaler.fit_transform(X_trans)\n",
    "scaled_S = pd.DataFrame(data=scaled)\n",
    "scaled_S[['Level','Slope','Curve','PC4','PC5','PC6']] = scaled_S[[0,1,2,3,4,5]]\n",
    "scaled_S = scaled_S.drop([0,1,2,3,4,5],axis=1)\n",
    "scaled_S['Slope'] = -scaled_S['Slope']"
   ]
  },
  {
   "cell_type": "markdown",
   "id": "0c0a9885",
   "metadata": {},
   "source": [
    "### Next day"
   ]
  },
  {
   "cell_type": "code",
   "execution_count": 958,
   "id": "c3a78498",
   "metadata": {},
   "outputs": [],
   "source": [
    "XS_S = XS_STRADDLE\n",
    "XS_S.reset_index(drop=False, inplace=True)"
   ]
  },
  {
   "cell_type": "code",
   "execution_count": 959,
   "id": "4289568d",
   "metadata": {},
   "outputs": [],
   "source": [
    "X = scaled_S[:-1]\n",
    "Y = (XS_S['S_R 9 month'][1:]*10000).reset_index(drop=True)\n",
    "\n",
    "model = sm.OLS(Y, X).fit(cov_type='HAC',cov_kwds={'maxlags':0})"
   ]
  },
  {
   "cell_type": "markdown",
   "id": "e59db4d3",
   "metadata": {},
   "source": [
    "### Next month"
   ]
  },
  {
   "cell_type": "code",
   "execution_count": 960,
   "id": "bcf1991e",
   "metadata": {},
   "outputs": [],
   "source": [
    "cr_S = cr_STRADDLE\n",
    "cr_S.reset_index(drop=False, inplace=True)"
   ]
  },
  {
   "cell_type": "code",
   "execution_count": 961,
   "id": "830e7ef9",
   "metadata": {},
   "outputs": [],
   "source": [
    "X = scaled_S[:-32]\n",
    "Y = (cr_S['S_R 1 month'][1:]*100).reset_index(drop=True)\n",
    "\n",
    "model = sm.OLS(Y, X).fit(cov_type='HAC',cov_kwds={'maxlags':32})"
   ]
  },
  {
   "cell_type": "markdown",
   "id": "ad76f15c",
   "metadata": {},
   "source": [
    "### Economic Significance of Slope as a predictor"
   ]
  },
  {
   "cell_type": "code",
   "execution_count": 972,
   "id": "4c302600",
   "metadata": {},
   "outputs": [
    {
     "data": {
      "text/html": [
       "<div>\n",
       "<style scoped>\n",
       "    .dataframe tbody tr th:only-of-type {\n",
       "        vertical-align: middle;\n",
       "    }\n",
       "\n",
       "    .dataframe tbody tr th {\n",
       "        vertical-align: top;\n",
       "    }\n",
       "\n",
       "    .dataframe thead th {\n",
       "        text-align: right;\n",
       "    }\n",
       "</style>\n",
       "<table border=\"1\" class=\"dataframe\">\n",
       "  <thead>\n",
       "    <tr style=\"text-align: right;\">\n",
       "      <th></th>\n",
       "      <th>V_S_R 1 month</th>\n",
       "      <th>V_S_R 2 month</th>\n",
       "      <th>V_S_R 3 month</th>\n",
       "      <th>V_S_R 6 month</th>\n",
       "      <th>V_S_R 9 month</th>\n",
       "      <th>V_S_R 12 month</th>\n",
       "    </tr>\n",
       "  </thead>\n",
       "  <tbody>\n",
       "    <tr>\n",
       "      <th>0</th>\n",
       "      <td>-0.572038</td>\n",
       "      <td>0.244345</td>\n",
       "      <td>0.386122</td>\n",
       "      <td>0.258562</td>\n",
       "      <td>0.221150</td>\n",
       "      <td>0.182670</td>\n",
       "    </tr>\n",
       "    <tr>\n",
       "      <th>1</th>\n",
       "      <td>-1.399156</td>\n",
       "      <td>-0.728917</td>\n",
       "      <td>-0.424027</td>\n",
       "      <td>-0.191416</td>\n",
       "      <td>-0.120554</td>\n",
       "      <td>-0.085899</td>\n",
       "    </tr>\n",
       "    <tr>\n",
       "      <th>2</th>\n",
       "      <td>-1.521182</td>\n",
       "      <td>-0.828034</td>\n",
       "      <td>-0.585539</td>\n",
       "      <td>-0.306919</td>\n",
       "      <td>-0.206864</td>\n",
       "      <td>-0.105189</td>\n",
       "    </tr>\n",
       "    <tr>\n",
       "      <th>3</th>\n",
       "      <td>-1.490982</td>\n",
       "      <td>-0.903713</td>\n",
       "      <td>-0.533069</td>\n",
       "      <td>-0.376865</td>\n",
       "      <td>-0.181283</td>\n",
       "      <td>-0.023935</td>\n",
       "    </tr>\n",
       "    <tr>\n",
       "      <th>4</th>\n",
       "      <td>-2.005382</td>\n",
       "      <td>-1.346360</td>\n",
       "      <td>-0.987533</td>\n",
       "      <td>-0.614128</td>\n",
       "      <td>-0.502718</td>\n",
       "      <td>-0.495175</td>\n",
       "    </tr>\n",
       "    <tr>\n",
       "      <th>Range</th>\n",
       "      <td>-1.433343</td>\n",
       "      <td>-1.590706</td>\n",
       "      <td>-1.373655</td>\n",
       "      <td>-0.872690</td>\n",
       "      <td>-0.723868</td>\n",
       "      <td>-0.677846</td>\n",
       "    </tr>\n",
       "  </tbody>\n",
       "</table>\n",
       "</div>"
      ],
      "text/plain": [
       "       V_S_R 1 month  V_S_R 2 month  V_S_R 3 month  V_S_R 6 month  \\\n",
       "0          -0.572038       0.244345       0.386122       0.258562   \n",
       "1          -1.399156      -0.728917      -0.424027      -0.191416   \n",
       "2          -1.521182      -0.828034      -0.585539      -0.306919   \n",
       "3          -1.490982      -0.903713      -0.533069      -0.376865   \n",
       "4          -2.005382      -1.346360      -0.987533      -0.614128   \n",
       "Range      -1.433343      -1.590706      -1.373655      -0.872690   \n",
       "\n",
       "       V_S_R 9 month  V_S_R 12 month  \n",
       "0           0.221150        0.182670  \n",
       "1          -0.120554       -0.085899  \n",
       "2          -0.206864       -0.105189  \n",
       "3          -0.181283       -0.023935  \n",
       "4          -0.502718       -0.495175  \n",
       "Range      -0.723868       -0.677846  "
      ]
     },
     "execution_count": 972,
     "metadata": {},
     "output_type": "execute_result"
    }
   ],
   "source": [
    "scaled_VS['Slope_Quantile'] = pd.qcut(scaled_VS['Slope'], q=5, labels=False)\n",
    "ES_VS = pd.concat([XS_VAR_SWAPS[1:].reset_index(drop=True),scaled_VS['Slope_Quantile'][:-1]],axis=1)\n",
    "VS_Q_Ret = ES_VS.sort_values(by='Slope_Quantile').groupby('Slope_Quantile').mean(numeric_only=True)*100\n",
    "range_row = pd.DataFrame(VS_Q_Ret.min() - VS_Q_Ret.max()).T\n",
    "range_row.index = ['Range']\n",
    "VS_Q_Ret = pd.concat([VS_Q_Ret, range_row])\n",
    "VS_Q_Ret"
   ]
  },
  {
   "cell_type": "code",
   "execution_count": 973,
   "id": "abeb7f77",
   "metadata": {},
   "outputs": [
    {
     "data": {
      "text/html": [
       "<div>\n",
       "<style scoped>\n",
       "    .dataframe tbody tr th:only-of-type {\n",
       "        vertical-align: middle;\n",
       "    }\n",
       "\n",
       "    .dataframe tbody tr th {\n",
       "        vertical-align: top;\n",
       "    }\n",
       "\n",
       "    .dataframe thead th {\n",
       "        text-align: right;\n",
       "    }\n",
       "</style>\n",
       "<table border=\"1\" class=\"dataframe\">\n",
       "  <thead>\n",
       "    <tr style=\"text-align: right;\">\n",
       "      <th></th>\n",
       "      <th>V_F_R 1 month</th>\n",
       "      <th>V_F_R 2 month</th>\n",
       "      <th>V_F_R 3 month</th>\n",
       "      <th>V_F_R 6 month</th>\n",
       "      <th>V_F_R 9 month</th>\n",
       "      <th>V_F_R 12 month</th>\n",
       "    </tr>\n",
       "  </thead>\n",
       "  <tbody>\n",
       "    <tr>\n",
       "      <th>0</th>\n",
       "      <td>0.056242</td>\n",
       "      <td>0.027001</td>\n",
       "      <td>0.000456</td>\n",
       "      <td>0.094582</td>\n",
       "      <td>0.108885</td>\n",
       "      <td>0.027323</td>\n",
       "    </tr>\n",
       "    <tr>\n",
       "      <th>1</th>\n",
       "      <td>-0.262411</td>\n",
       "      <td>-0.243983</td>\n",
       "      <td>-0.257679</td>\n",
       "      <td>-0.207549</td>\n",
       "      <td>-0.179378</td>\n",
       "      <td>-0.211195</td>\n",
       "    </tr>\n",
       "    <tr>\n",
       "      <th>2</th>\n",
       "      <td>-0.201813</td>\n",
       "      <td>-0.223828</td>\n",
       "      <td>-0.208229</td>\n",
       "      <td>-0.162340</td>\n",
       "      <td>-0.138415</td>\n",
       "      <td>-0.050902</td>\n",
       "    </tr>\n",
       "    <tr>\n",
       "      <th>3</th>\n",
       "      <td>-0.140691</td>\n",
       "      <td>-0.127868</td>\n",
       "      <td>-0.087659</td>\n",
       "      <td>-0.008243</td>\n",
       "      <td>-0.027570</td>\n",
       "      <td>-0.095389</td>\n",
       "    </tr>\n",
       "    <tr>\n",
       "      <th>4</th>\n",
       "      <td>-0.506191</td>\n",
       "      <td>-0.524580</td>\n",
       "      <td>-0.326711</td>\n",
       "      <td>-0.337252</td>\n",
       "      <td>-0.284948</td>\n",
       "      <td>-0.227393</td>\n",
       "    </tr>\n",
       "    <tr>\n",
       "      <th>Range</th>\n",
       "      <td>-0.562433</td>\n",
       "      <td>-0.551580</td>\n",
       "      <td>-0.327167</td>\n",
       "      <td>-0.431833</td>\n",
       "      <td>-0.393833</td>\n",
       "      <td>-0.254716</td>\n",
       "    </tr>\n",
       "  </tbody>\n",
       "</table>\n",
       "</div>"
      ],
      "text/plain": [
       "       V_F_R 1 month  V_F_R 2 month  V_F_R 3 month  V_F_R 6 month  \\\n",
       "0           0.056242       0.027001       0.000456       0.094582   \n",
       "1          -0.262411      -0.243983      -0.257679      -0.207549   \n",
       "2          -0.201813      -0.223828      -0.208229      -0.162340   \n",
       "3          -0.140691      -0.127868      -0.087659      -0.008243   \n",
       "4          -0.506191      -0.524580      -0.326711      -0.337252   \n",
       "Range      -0.562433      -0.551580      -0.327167      -0.431833   \n",
       "\n",
       "       V_F_R 9 month  V_F_R 12 month  \n",
       "0           0.108885        0.027323  \n",
       "1          -0.179378       -0.211195  \n",
       "2          -0.138415       -0.050902  \n",
       "3          -0.027570       -0.095389  \n",
       "4          -0.284948       -0.227393  \n",
       "Range      -0.393833       -0.254716  "
      ]
     },
     "execution_count": 973,
     "metadata": {},
     "output_type": "execute_result"
    }
   ],
   "source": [
    "scaled_VF['Slope_Quantile'] = pd.qcut(scaled_VF['Slope'], q=5, labels=False)\n",
    "ES_VF = pd.concat([XS_VIX_FUT[1:].reset_index(drop=True),scaled_VF['Slope_Quantile'][:-1]],axis=1)\n",
    "VF_Q_Ret = ES_VF.sort_values(by='Slope_Quantile').groupby('Slope_Quantile').mean(numeric_only=True)*100\n",
    "range_row = pd.DataFrame(VF_Q_Ret.min() - VF_Q_Ret.max()).T\n",
    "range_row.index = ['Range']\n",
    "VF_Q_Ret = pd.concat([VF_Q_Ret, range_row])\n",
    "VF_Q_Ret"
   ]
  },
  {
   "cell_type": "code",
   "execution_count": 974,
   "id": "1e5dde3a",
   "metadata": {},
   "outputs": [
    {
     "data": {
      "text/html": [
       "<div>\n",
       "<style scoped>\n",
       "    .dataframe tbody tr th:only-of-type {\n",
       "        vertical-align: middle;\n",
       "    }\n",
       "\n",
       "    .dataframe tbody tr th {\n",
       "        vertical-align: top;\n",
       "    }\n",
       "\n",
       "    .dataframe thead th {\n",
       "        text-align: right;\n",
       "    }\n",
       "</style>\n",
       "<table border=\"1\" class=\"dataframe\">\n",
       "  <thead>\n",
       "    <tr style=\"text-align: right;\">\n",
       "      <th></th>\n",
       "      <th>S_R 1 month</th>\n",
       "      <th>S_R 2 month</th>\n",
       "      <th>S_R 3 month</th>\n",
       "      <th>S_R 6 month</th>\n",
       "      <th>S_R 9 month</th>\n",
       "      <th>S_R 12 month</th>\n",
       "    </tr>\n",
       "  </thead>\n",
       "  <tbody>\n",
       "    <tr>\n",
       "      <th>0</th>\n",
       "      <td>0.305044</td>\n",
       "      <td>0.296308</td>\n",
       "      <td>0.352745</td>\n",
       "      <td>0.302683</td>\n",
       "      <td>0.249758</td>\n",
       "      <td>0.212182</td>\n",
       "    </tr>\n",
       "    <tr>\n",
       "      <th>1</th>\n",
       "      <td>-0.371854</td>\n",
       "      <td>-0.220060</td>\n",
       "      <td>-0.161207</td>\n",
       "      <td>-0.101416</td>\n",
       "      <td>-0.052046</td>\n",
       "      <td>-0.024807</td>\n",
       "    </tr>\n",
       "    <tr>\n",
       "      <th>2</th>\n",
       "      <td>-0.420836</td>\n",
       "      <td>-0.268379</td>\n",
       "      <td>-0.176329</td>\n",
       "      <td>-0.104973</td>\n",
       "      <td>-0.071581</td>\n",
       "      <td>-0.047470</td>\n",
       "    </tr>\n",
       "    <tr>\n",
       "      <th>3</th>\n",
       "      <td>-0.472459</td>\n",
       "      <td>-0.311763</td>\n",
       "      <td>-0.225431</td>\n",
       "      <td>-0.101285</td>\n",
       "      <td>-0.075660</td>\n",
       "      <td>-0.048131</td>\n",
       "    </tr>\n",
       "    <tr>\n",
       "      <th>4</th>\n",
       "      <td>-0.653321</td>\n",
       "      <td>-0.433354</td>\n",
       "      <td>-0.342363</td>\n",
       "      <td>-0.205976</td>\n",
       "      <td>-0.155590</td>\n",
       "      <td>-0.094904</td>\n",
       "    </tr>\n",
       "    <tr>\n",
       "      <th>Range</th>\n",
       "      <td>-0.958364</td>\n",
       "      <td>-0.729663</td>\n",
       "      <td>-0.695108</td>\n",
       "      <td>-0.508659</td>\n",
       "      <td>-0.405348</td>\n",
       "      <td>-0.307086</td>\n",
       "    </tr>\n",
       "  </tbody>\n",
       "</table>\n",
       "</div>"
      ],
      "text/plain": [
       "       S_R 1 month  S_R 2 month  S_R 3 month  S_R 6 month  S_R 9 month  \\\n",
       "0         0.305044     0.296308     0.352745     0.302683     0.249758   \n",
       "1        -0.371854    -0.220060    -0.161207    -0.101416    -0.052046   \n",
       "2        -0.420836    -0.268379    -0.176329    -0.104973    -0.071581   \n",
       "3        -0.472459    -0.311763    -0.225431    -0.101285    -0.075660   \n",
       "4        -0.653321    -0.433354    -0.342363    -0.205976    -0.155590   \n",
       "Range    -0.958364    -0.729663    -0.695108    -0.508659    -0.405348   \n",
       "\n",
       "       S_R 12 month  \n",
       "0          0.212182  \n",
       "1         -0.024807  \n",
       "2         -0.047470  \n",
       "3         -0.048131  \n",
       "4         -0.094904  \n",
       "Range     -0.307086  "
      ]
     },
     "execution_count": 974,
     "metadata": {},
     "output_type": "execute_result"
    }
   ],
   "source": [
    "scaled_S['Slope_Quantile'] = pd.qcut(scaled_S['Slope'], q=5, labels=False)\n",
    "ES_STRADDLE = pd.concat([XS_STRADDLE[1:].reset_index(drop=True),scaled_S['Slope_Quantile'][:-1]],axis=1)\n",
    "S_Q_Ret = ES_STRADDLE.sort_values(by='Slope_Quantile').groupby('Slope_Quantile').mean(numeric_only=True)*100\n",
    "range_row = pd.DataFrame(S_Q_Ret.min() - S_Q_Ret.max()).T\n",
    "range_row.index = ['Range']\n",
    "S_Q_Ret = pd.concat([S_Q_Ret, range_row])\n",
    "S_Q_Ret"
   ]
  },
  {
   "cell_type": "markdown",
   "id": "faa76a41",
   "metadata": {},
   "source": [
    "### Robustness of Slope as a predictor"
   ]
  },
  {
   "cell_type": "code",
   "execution_count": 1013,
   "id": "b011e4c7",
   "metadata": {
    "scrolled": true
   },
   "outputs": [],
   "source": [
    "VS_Robustness = VS_Q_Ret.iloc[5:,:]\n",
    "VS_Robustness = pd.concat([VS_Robustness, m_VS_Q_Ret.iloc[5:,:]])\n"
   ]
  },
  {
   "cell_type": "code",
   "execution_count": 1014,
   "id": "17a8ce35",
   "metadata": {},
   "outputs": [
    {
     "data": {
      "text/html": [
       "<div>\n",
       "<style scoped>\n",
       "    .dataframe tbody tr th:only-of-type {\n",
       "        vertical-align: middle;\n",
       "    }\n",
       "\n",
       "    .dataframe tbody tr th {\n",
       "        vertical-align: top;\n",
       "    }\n",
       "\n",
       "    .dataframe thead th {\n",
       "        text-align: right;\n",
       "    }\n",
       "</style>\n",
       "<table border=\"1\" class=\"dataframe\">\n",
       "  <thead>\n",
       "    <tr style=\"text-align: right;\">\n",
       "      <th></th>\n",
       "      <th>V_S_R 1 month</th>\n",
       "      <th>V_S_R 2 month</th>\n",
       "      <th>V_S_R 3 month</th>\n",
       "      <th>V_S_R 6 month</th>\n",
       "      <th>V_S_R 9 month</th>\n",
       "      <th>V_S_R 12 month</th>\n",
       "    </tr>\n",
       "  </thead>\n",
       "  <tbody>\n",
       "    <tr>\n",
       "      <th>Range</th>\n",
       "      <td>-1.433343</td>\n",
       "      <td>-1.590706</td>\n",
       "      <td>-1.373655</td>\n",
       "      <td>-0.87269</td>\n",
       "      <td>-0.723868</td>\n",
       "      <td>-0.677846</td>\n",
       "    </tr>\n",
       "    <tr>\n",
       "      <th>Range</th>\n",
       "      <td>-54.882620</td>\n",
       "      <td>-39.475750</td>\n",
       "      <td>-35.209378</td>\n",
       "      <td>-24.10614</td>\n",
       "      <td>-20.261915</td>\n",
       "      <td>-14.686826</td>\n",
       "    </tr>\n",
       "  </tbody>\n",
       "</table>\n",
       "</div>"
      ],
      "text/plain": [
       "       V_S_R 1 month  V_S_R 2 month  V_S_R 3 month  V_S_R 6 month  \\\n",
       "Range      -1.433343      -1.590706      -1.373655       -0.87269   \n",
       "Range     -54.882620     -39.475750     -35.209378      -24.10614   \n",
       "\n",
       "       V_S_R 9 month  V_S_R 12 month  \n",
       "Range      -0.723868       -0.677846  \n",
       "Range     -20.261915      -14.686826  "
      ]
     },
     "execution_count": 1014,
     "metadata": {},
     "output_type": "execute_result"
    }
   ],
   "source": [
    "VS_Robustness"
   ]
  },
  {
   "cell_type": "code",
   "execution_count": 984,
   "id": "14b83490",
   "metadata": {},
   "outputs": [
    {
     "data": {
      "text/html": [
       "<div>\n",
       "<style scoped>\n",
       "    .dataframe tbody tr th:only-of-type {\n",
       "        vertical-align: middle;\n",
       "    }\n",
       "\n",
       "    .dataframe tbody tr th {\n",
       "        vertical-align: top;\n",
       "    }\n",
       "\n",
       "    .dataframe thead th {\n",
       "        text-align: right;\n",
       "    }\n",
       "</style>\n",
       "<table border=\"1\" class=\"dataframe\">\n",
       "  <thead>\n",
       "    <tr style=\"text-align: right;\">\n",
       "      <th></th>\n",
       "      <th>V_S_R 1 month</th>\n",
       "      <th>V_S_R 2 month</th>\n",
       "      <th>V_S_R 3 month</th>\n",
       "      <th>V_S_R 6 month</th>\n",
       "      <th>V_S_R 9 month</th>\n",
       "      <th>V_S_R 12 month</th>\n",
       "    </tr>\n",
       "  </thead>\n",
       "  <tbody>\n",
       "    <tr>\n",
       "      <th>0</th>\n",
       "      <td>-10.995877</td>\n",
       "      <td>5.646173</td>\n",
       "      <td>9.800210</td>\n",
       "      <td>7.254745</td>\n",
       "      <td>7.167821</td>\n",
       "      <td>5.605746</td>\n",
       "    </tr>\n",
       "    <tr>\n",
       "      <th>1</th>\n",
       "      <td>-34.106824</td>\n",
       "      <td>-20.213368</td>\n",
       "      <td>-12.266138</td>\n",
       "      <td>-7.096958</td>\n",
       "      <td>-4.171805</td>\n",
       "      <td>-3.199323</td>\n",
       "    </tr>\n",
       "    <tr>\n",
       "      <th>2</th>\n",
       "      <td>-22.775640</td>\n",
       "      <td>-15.977752</td>\n",
       "      <td>-11.104585</td>\n",
       "      <td>-8.190819</td>\n",
       "      <td>-5.502410</td>\n",
       "      <td>-4.158440</td>\n",
       "    </tr>\n",
       "    <tr>\n",
       "      <th>3</th>\n",
       "      <td>7.836555</td>\n",
       "      <td>-9.748080</td>\n",
       "      <td>-11.788836</td>\n",
       "      <td>-11.239984</td>\n",
       "      <td>-8.491511</td>\n",
       "      <td>-5.397245</td>\n",
       "    </tr>\n",
       "    <tr>\n",
       "      <th>4</th>\n",
       "      <td>-47.046065</td>\n",
       "      <td>-33.829577</td>\n",
       "      <td>-25.409167</td>\n",
       "      <td>-16.851395</td>\n",
       "      <td>-13.094094</td>\n",
       "      <td>-9.081081</td>\n",
       "    </tr>\n",
       "    <tr>\n",
       "      <th>Range</th>\n",
       "      <td>-54.882620</td>\n",
       "      <td>-39.475750</td>\n",
       "      <td>-35.209378</td>\n",
       "      <td>-24.106140</td>\n",
       "      <td>-20.261915</td>\n",
       "      <td>-14.686826</td>\n",
       "    </tr>\n",
       "  </tbody>\n",
       "</table>\n",
       "</div>"
      ],
      "text/plain": [
       "       V_S_R 1 month  V_S_R 2 month  V_S_R 3 month  V_S_R 6 month  \\\n",
       "0         -10.995877       5.646173       9.800210       7.254745   \n",
       "1         -34.106824     -20.213368     -12.266138      -7.096958   \n",
       "2         -22.775640     -15.977752     -11.104585      -8.190819   \n",
       "3           7.836555      -9.748080     -11.788836     -11.239984   \n",
       "4         -47.046065     -33.829577     -25.409167     -16.851395   \n",
       "Range     -54.882620     -39.475750     -35.209378     -24.106140   \n",
       "\n",
       "       V_S_R 9 month  V_S_R 12 month  \n",
       "0           7.167821        5.605746  \n",
       "1          -4.171805       -3.199323  \n",
       "2          -5.502410       -4.158440  \n",
       "3          -8.491511       -5.397245  \n",
       "4         -13.094094       -9.081081  \n",
       "Range     -20.261915      -14.686826  "
      ]
     },
     "execution_count": 984,
     "metadata": {},
     "output_type": "execute_result"
    }
   ],
   "source": [
    "scaled_VS['Slope_Quantile'] = pd.qcut(scaled_VS['Slope'], q=5, labels=False)\n",
    "m_ES_VS = pd.concat([cr_VAR_SWAPS,scaled_VS['Slope_Quantile'][:-31]],axis=1)\n",
    "m_VS_Q_Ret = m_ES_VS.sort_values(by='Slope_Quantile').groupby('Slope_Quantile').mean(numeric_only=True)*100\n",
    "range_row = pd.DataFrame(m_VS_Q_Ret.min() - m_VS_Q_Ret.max()).T\n",
    "range_row.index = ['Next-Month Returns']\n",
    "m_VS_Q_Ret = pd.concat([m_VS_Q_Ret, range_row])\n",
    "m_VS_Q_Ret"
   ]
  },
  {
   "cell_type": "code",
   "execution_count": null,
   "id": "3c6e15a2",
   "metadata": {},
   "outputs": [],
   "source": []
  }
 ],
 "metadata": {
  "kernelspec": {
   "display_name": "Python 3",
   "language": "python",
   "name": "python3"
  },
  "language_info": {
   "codemirror_mode": {
    "name": "ipython",
    "version": 3
   },
   "file_extension": ".py",
   "mimetype": "text/x-python",
   "name": "python",
   "nbconvert_exporter": "python",
   "pygments_lexer": "ipython3",
   "version": "3.8.5"
  }
 },
 "nbformat": 4,
 "nbformat_minor": 5
}
