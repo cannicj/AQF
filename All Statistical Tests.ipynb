{
 "cells": [
  {
   "cell_type": "code",
   "execution_count": 1357,
   "id": "46a4eb0a",
   "metadata": {},
   "outputs": [],
   "source": [
    "import pandas as pd\n",
    "import numpy as np\n",
    "import matplotlib.pyplot as plt\n",
    "import os\n",
    "import datetime\n",
    "import math\n",
    "import statsmodels.api as sm\n",
    "from statsmodels import regression, stats\n",
    "import statsmodels\n",
    "import scipy\n",
    "\n",
    "from sklearn.preprocessing import StandardScaler\n",
    "from sklearn.decomposition import PCA\n",
    "from sklearn.preprocessing import MinMaxScaler\n",
    "\n",
    "from scipy.stats import chisquare\n",
    "\n",
    "\n",
    "\n",
    "\n",
    "from numpy.random import seed\n",
    "from sklearn.model_selection import train_test_split\n",
    "from sklearn.neural_network import MLPRegressor\n",
    "from sklearn.metrics import mean_squared_error, silhouette_score\n",
    "\n"
   ]
  },
  {
   "cell_type": "code",
   "execution_count": 1358,
   "id": "04e86125",
   "metadata": {},
   "outputs": [],
   "source": [
    "DATA_PATH = '/Users/juliusraschke/Documents/Quantitative Finance/Summer Semester 2/Advanced Quant Finance/Data'"
   ]
  },
  {
   "cell_type": "markdown",
   "id": "9c6fb090",
   "metadata": {},
   "source": [
    "### Load in VIX Term Structure"
   ]
  },
  {
   "cell_type": "code",
   "execution_count": 1359,
   "id": "4637b59e",
   "metadata": {},
   "outputs": [],
   "source": [
    "VIX_TS = pd.read_csv(DATA_PATH + '/VIX_TS_CUSTOM.csv')\n",
    "\n",
    "VIX_TS = VIX_TS.rename({'Date':'DATE','VIX_1^2':'1 month','VIX_2^2':'2 month','VIX_3^2':'3 month','VIX_6^2':'6 month',\n",
    "               'VIX_9^2':'9 month','VIX_12^2':'12 month'},axis=1)\n",
    "\n",
    "VIX_TS['DATE'] = pd.to_datetime(VIX_TS['DATE'], format = '%d/%m/%Y')"
   ]
  },
  {
   "cell_type": "markdown",
   "id": "bae48c3b",
   "metadata": {},
   "source": [
    "### Load in VIX Future Returns"
   ]
  },
  {
   "cell_type": "code",
   "execution_count": 1360,
   "id": "1f091db2",
   "metadata": {},
   "outputs": [
    {
     "name": "stderr",
     "output_type": "stream",
     "text": [
      "<ipython-input-1360-eca8a35d4dd3>:2: FutureWarning: In a future version of pandas all arguments of DataFrame.drop except for the argument 'labels' will be keyword-only.\n",
      "  VIX_FUT = VIX_FUT.drop('Unnamed: 0',1)\n"
     ]
    }
   ],
   "source": [
    "VIX_FUT = pd.read_csv(DATA_PATH + '/OUR_VIX_FUT_RET_ENTIRE.csv')\n",
    "VIX_FUT = VIX_FUT.drop('Unnamed: 0',1)\n"
   ]
  },
  {
   "cell_type": "code",
   "execution_count": 1361,
   "id": "77d89ec5",
   "metadata": {},
   "outputs": [],
   "source": [
    "\n",
    "VIX_FUT = VIX_FUT.rename({'Date':'DATE','r_1^{VIX fut.}':'1 month','r_2^{VIX fut.}':'2 month','r_3^{VIX fut.}':'3 month',\n",
    "                         'r_4^{VIX fut.}':'4 month','r_5^{VIX fut.}':'5 month','r_6^{VIX fut.}':'6 month'},axis=1)"
   ]
  },
  {
   "cell_type": "code",
   "execution_count": 1362,
   "id": "085401b6",
   "metadata": {},
   "outputs": [],
   "source": [
    "column_mapping = {\n",
    "    '1 month': 'V_F_R 1 month',\n",
    "    '2 month': 'V_F_R 2 month',\n",
    "    '3 month': 'V_F_R 3 month',\n",
    "    '4 month': 'V_F_R 6 month',\n",
    "    '5 month': 'V_F_R 9 month',\n",
    "    '6 month': 'V_F_R 12 month',\n",
    "}\n",
    "\n",
    "VIX_FUT.rename(columns=column_mapping, inplace=True)"
   ]
  },
  {
   "cell_type": "markdown",
   "id": "dbc5a6a3",
   "metadata": {},
   "source": [
    "### Load in our Variance Swap Returns"
   ]
  },
  {
   "cell_type": "code",
   "execution_count": 1363,
   "id": "1298aa7c",
   "metadata": {},
   "outputs": [
    {
     "name": "stderr",
     "output_type": "stream",
     "text": [
      "<ipython-input-1363-52fd60118f46>:2: FutureWarning: In a future version of pandas all arguments of DataFrame.drop except for the argument 'labels' will be keyword-only.\n",
      "  VAR_SWAPS = VAR_SWAPS.drop('Unnamed: 0',1)\n"
     ]
    }
   ],
   "source": [
    "VAR_SWAPS = pd.read_csv(DATA_PATH + '/VAR_SWAP_RET_CUSTOM.csv')\n",
    "VAR_SWAPS = VAR_SWAPS.drop('Unnamed: 0',1)\n",
    "VAR_SWAPS = VAR_SWAPS.dropna()"
   ]
  },
  {
   "cell_type": "code",
   "execution_count": 1364,
   "id": "de2b932c",
   "metadata": {},
   "outputs": [],
   "source": [
    "VAR_SWAPS = VAR_SWAPS.rename({'Date':'DATE','1m':'1 month','2m':'2 month','3m':'3 month',\n",
    "                         '6m':'6 month','9m':'9 month','12m':'12 month'},axis=1)"
   ]
  },
  {
   "cell_type": "code",
   "execution_count": 1365,
   "id": "ae6ca96c",
   "metadata": {},
   "outputs": [],
   "source": [
    "column_mapping = {\n",
    "    '1 month': 'V_S_R 1 month',\n",
    "    '2 month': 'V_S_R 2 month',\n",
    "    '3 month': 'V_S_R 3 month',\n",
    "    '6 month': 'V_S_R 6 month',\n",
    "    '9 month': 'V_S_R 9 month',\n",
    "    '12 month': 'V_S_R 12 month',\n",
    "}\n",
    "\n",
    "VAR_SWAPS.rename(columns=column_mapping, inplace=True)"
   ]
  },
  {
   "cell_type": "markdown",
   "id": "64d8fd55",
   "metadata": {},
   "source": [
    "### Load in alternative Swap Returns"
   ]
  },
  {
   "cell_type": "code",
   "execution_count": 1299,
   "id": "b2f17ad4",
   "metadata": {},
   "outputs": [
    {
     "name": "stderr",
     "output_type": "stream",
     "text": [
      "<ipython-input-1299-0f0b29efc197>:2: FutureWarning: In a future version of pandas all arguments of DataFrame.drop except for the argument 'labels' will be keyword-only.\n",
      "  VAR_SWAPS = VAR_SWAPS.drop('Unnamed: 0',1)\n"
     ]
    }
   ],
   "source": [
    "VAR_SWAPS = pd.read_csv(DATA_PATH + '/VAR_SWAP_RET_BBG.csv')\n",
    "VAR_SWAPS = VAR_SWAPS.drop('Unnamed: 0',1)\n",
    "VAR_SWAPS = VAR_SWAPS.dropna()"
   ]
  },
  {
   "cell_type": "code",
   "execution_count": 1300,
   "id": "0b8fa512",
   "metadata": {},
   "outputs": [],
   "source": [
    "VAR_SWAPS = VAR_SWAPS.rename({'Date':'DATE','1m_BBG':'1 month','2m_BBG':'2 month','3m_BBG':'3 month',\n",
    "                         '6m_BBG':'6 month','9m_BBG':'9 month','12m_BBG':'12 month'},axis=1)"
   ]
  },
  {
   "cell_type": "code",
   "execution_count": 1301,
   "id": "49707f45",
   "metadata": {},
   "outputs": [],
   "source": [
    "column_mapping = {\n",
    "    '1 month': 'V_S_R 1 month',\n",
    "    '2 month': 'V_S_R 2 month',\n",
    "    '3 month': 'V_S_R 3 month',\n",
    "    '6 month': 'V_S_R 6 month',\n",
    "    '9 month': 'V_S_R 9 month',\n",
    "    '12 month': 'V_S_R 12 month',\n",
    "}\n",
    "\n",
    "VAR_SWAPS.rename(columns=column_mapping, inplace=True)"
   ]
  },
  {
   "cell_type": "code",
   "execution_count": 1302,
   "id": "3a12e65d",
   "metadata": {},
   "outputs": [],
   "source": [
    "VAR_SWAPS = VAR_SWAPS[:2500]"
   ]
  },
  {
   "cell_type": "markdown",
   "id": "49dc3e36",
   "metadata": {},
   "source": [
    "### Load in Author Swap Returns"
   ]
  },
  {
   "cell_type": "code",
   "execution_count": 1330,
   "id": "37b740d8",
   "metadata": {},
   "outputs": [],
   "source": [
    "VAR_SWAPS_AUT = pd.read_csv(DATA_PATH + '/vswap_ret.csv',skiprows=5)\n",
    "\n",
    "VAR_SWAPS_AUT = VAR_SWAPS_AUT.rename({'Date':'DATE','r_1^{var. swap}':'1 month','r_2^{var. swap}':'2 month','r_3^{var. swap}':'3 month',\n",
    "                         'r_6^{var. swap}':'6 month','r_9^{var. swap}':'9 month','r_12^{var. swap}':'12 month'},axis=1)\n"
   ]
  },
  {
   "cell_type": "code",
   "execution_count": 1331,
   "id": "106d900c",
   "metadata": {},
   "outputs": [],
   "source": [
    "def DATE_STR(num):\n",
    "    num_str = str(num)\n",
    "    date_str = num_str[-2:]+'/'+num_str[4:-2]+'/'+num_str[0:4]\n",
    "    \n",
    "    return date_str \n",
    "\n",
    "VAR_SWAPS_AUT['DATE'] = VAR_SWAPS_AUT['DATE'].apply(DATE_STR)\n",
    "VAR_SWAPS_AUT['DATE'] = pd.to_datetime(VAR_SWAPS_AUT['DATE'],format = '%d/%m/%Y')"
   ]
  },
  {
   "cell_type": "code",
   "execution_count": 1332,
   "id": "0b488372",
   "metadata": {},
   "outputs": [],
   "source": [
    "VAR_SWAPS = VAR_SWAPS_AUT[3110:]"
   ]
  },
  {
   "cell_type": "markdown",
   "id": "fb50a2e4",
   "metadata": {},
   "source": [
    "### Load in Straddle Returns"
   ]
  },
  {
   "cell_type": "code",
   "execution_count": 1366,
   "id": "c9bf5b7d",
   "metadata": {},
   "outputs": [],
   "source": [
    "STRADDLE = pd.read_csv(DATA_PATH + '/straddle_returns_correct.csv')\n",
    "\n",
    "STRADDLE = STRADDLE.rename({'date':'DATE',\n",
    "                            'return_30':'1 month','return_60':'2 month','return_90':'3 month',\n",
    "                            'return_180':'6 month','return_270':'9 month','return_360':'12 month',\n",
    "                            },axis=1)\n",
    "\n",
    "STRADDLE_LONG = STRADDLE"
   ]
  },
  {
   "cell_type": "code",
   "execution_count": 1367,
   "id": "36f86ba5",
   "metadata": {},
   "outputs": [],
   "source": [
    "column_mapping = {\n",
    "    '1 month': 'S_R 1 month',\n",
    "    '2 month': 'S_R 2 month',\n",
    "    '3 month': 'S_R 3 month',\n",
    "    '6 month': 'S_R 6 month',\n",
    "    '9 month': 'S_R 9 month',\n",
    "    '12 month': 'S_R 12 month',\n",
    "}\n",
    "\n",
    "STRADDLE_LONG.rename(columns=column_mapping, inplace=True)"
   ]
  },
  {
   "cell_type": "markdown",
   "id": "a9fc6e6d",
   "metadata": {},
   "source": [
    "### Get summary statistics for VIX_TS"
   ]
  },
  {
   "cell_type": "code",
   "execution_count": 1368,
   "id": "5f926e83",
   "metadata": {},
   "outputs": [
    {
     "name": "stderr",
     "output_type": "stream",
     "text": [
      "<ipython-input-1368-1a36c6aef8c0>:2: FutureWarning: The default value of numeric_only in DataFrame.quantile is deprecated. In a future version, it will default to False. Select only valid columns or specify the value of numeric_only to silence this warning.\n",
      "  VIX_TS.quantile(0.01)\n",
      "<ipython-input-1368-1a36c6aef8c0>:3: FutureWarning: DataFrame.mean and DataFrame.median with numeric_only=None will include datetime64 and datetime64tz columns in a future version.\n",
      "  VIX_TS.median()\n"
     ]
    },
    {
     "data": {
      "text/plain": [
       "1 month     0.031879\n",
       "2 month     0.034022\n",
       "3 month     0.035288\n",
       "6 month     0.038493\n",
       "9 month     0.040251\n",
       "12 month    0.040942\n",
       "dtype: float64"
      ]
     },
     "execution_count": 1368,
     "metadata": {},
     "output_type": "execute_result"
    }
   ],
   "source": [
    "VIX_TS.describe\n",
    "VIX_TS.quantile(0.01)\n",
    "VIX_TS.median()"
   ]
  },
  {
   "cell_type": "markdown",
   "id": "14f36a6b",
   "metadata": {},
   "source": [
    "### VIX_TS PCA"
   ]
  },
  {
   "cell_type": "code",
   "execution_count": 1369,
   "id": "2b1b781d",
   "metadata": {},
   "outputs": [
    {
     "name": "stdout",
     "output_type": "stream",
     "text": [
      "Components:\n",
      "[[ 0.53632223  0.47794522  0.43366676  0.34817237  0.30616177  0.28443091]\n",
      " [ 0.590623    0.21078547 -0.01793026 -0.33777433 -0.47101191 -0.52006609]\n",
      " [ 0.56227136 -0.39365363 -0.5703049  -0.10336025  0.18462831  0.39858387]\n",
      " [-0.20089877  0.6147487  -0.22228398 -0.59879547  0.00081283  0.41684156]\n",
      " [-0.08192512  0.44069467 -0.66097825  0.53212865  0.04451822 -0.27756343]\n",
      " [ 0.01737258  0.00684912 -0.00784512 -0.33508842  0.80519725 -0.4888383 ]]\n",
      "\n",
      "Variance Proportions:\n",
      "[9.64019017e-01 3.42489252e-02 1.39286802e-03 2.12802987e-04\n",
      " 1.02710122e-04 2.36768828e-05]\n"
     ]
    }
   ],
   "source": [
    "pca1 = PCA()\n",
    "X = VIX_TS.iloc[:,1:7]\n",
    "pca1.fit(X)\n",
    "print('Components:')\n",
    "print(pca1.components_)\n",
    "print('')\n",
    "print('Variance Proportions:')\n",
    "print(pca1.explained_variance_ratio_)\n",
    "SLOPE1 = pca1.transform(X)[:,1]\n",
    "\n",
    "pca = pca1.components_"
   ]
  },
  {
   "cell_type": "code",
   "execution_count": 1370,
   "id": "2d259fd1",
   "metadata": {},
   "outputs": [
    {
     "name": "stdout",
     "output_type": "stream",
     "text": [
      "643.8368378861719\n",
      "22.873739358863247\n",
      "0.9302510911458216\n",
      "0.1421241697927066\n",
      "0.06859673794379725\n",
      "0.015813017281843488\n"
     ]
    },
    {
     "name": "stderr",
     "output_type": "stream",
     "text": [
      "<ipython-input-1370-26b6029a49a1>:6: FutureWarning: The default value of numeric_only in DataFrame.var is deprecated. In a future version, it will default to False. In addition, specifying 'numeric_only=None' is deprecated. Select only valid columns or specify the value of numeric_only to silence this warning.\n",
      "  for value in X_trans.var():\n"
     ]
    }
   ],
   "source": [
    "X_trans = pca1.fit_transform(X)\n",
    "X_trans = pd.DataFrame(data=X_trans)\n",
    "X_trans['Date']=VIX_TS['DATE']\n",
    "X_trans = X_trans[['Date',0,1,2,3,4,5]]\n",
    "\n",
    "for value in X_trans.var():\n",
    "    print(value*100000)"
   ]
  },
  {
   "cell_type": "markdown",
   "id": "ca70a7de",
   "metadata": {},
   "source": [
    "### Load in Interest Rate Returns"
   ]
  },
  {
   "cell_type": "code",
   "execution_count": 1371,
   "id": "f2160d3f",
   "metadata": {},
   "outputs": [],
   "source": [
    "df = pd.read_csv(DATA_PATH + '/IR.csv')"
   ]
  },
  {
   "cell_type": "code",
   "execution_count": 1372,
   "id": "7ade6d83",
   "metadata": {},
   "outputs": [],
   "source": [
    "# Get rates for all days which are in the 300s\n",
    "filtered_df = df[(df['days'] >= 300) & (df['days'] < 400)].reset_index(drop=True)\n",
    "\n",
    "# Sort the DataFrame by 'dates' and 'days'\n",
    "df_sorted = filtered_df.sort_values(by=['date', 'days'])\n",
    "\n",
    "# Keep the rows with the closest 'days' value to 365 for each date\n",
    "IR_TS = df_sorted.groupby('date', group_keys=False).apply(lambda group: group.iloc[(group['days'] - 365).abs().argsort()[:1]])\n",
    "\n",
    "# Reset the index if needed\n",
    "IR_TS.reset_index(drop=True, inplace=True)"
   ]
  },
  {
   "cell_type": "code",
   "execution_count": 1373,
   "id": "0f9a07d3",
   "metadata": {},
   "outputs": [],
   "source": [
    "IR_TS['Daily Rate'] = ((1+IR_TS['rate'])**(1/IR_TS['days']))-1\n",
    "IR_TS = IR_TS.drop(['rate','days'],axis=1)"
   ]
  },
  {
   "cell_type": "code",
   "execution_count": 1374,
   "id": "5227a341",
   "metadata": {},
   "outputs": [],
   "source": [
    "IR_TS.rename(columns={'date': 'DATE'}, inplace=True)"
   ]
  },
  {
   "cell_type": "markdown",
   "id": "29250fb0",
   "metadata": {},
   "source": [
    "### Created Merged Databases for returns"
   ]
  },
  {
   "cell_type": "code",
   "execution_count": 1375,
   "id": "f708a6d0",
   "metadata": {},
   "outputs": [],
   "source": [
    "IR_TS.set_index('DATE', inplace=True)\n",
    "VIX_TS.set_index('DATE', inplace=True)\n",
    "VAR_SWAPS.set_index('DATE', inplace=True)\n",
    "VIX_FUT.set_index('DATE', inplace=True)\n",
    "STRADDLE_LONG.set_index('DATE', inplace=True)"
   ]
  },
  {
   "cell_type": "code",
   "execution_count": 1376,
   "id": "ac006929",
   "metadata": {},
   "outputs": [],
   "source": [
    "IR_TS.index = pd.to_datetime(IR_TS.index)\n",
    "VIX_TS.index = pd.to_datetime(VIX_TS.index)\n",
    "VAR_SWAPS.index = pd.to_datetime(VAR_SWAPS.index)\n",
    "VIX_FUT.index = pd.to_datetime(VIX_FUT.index)\n",
    "STRADDLE_LONG.index = pd.to_datetime(STRADDLE_LONG.index)"
   ]
  },
  {
   "cell_type": "code",
   "execution_count": 1377,
   "id": "349b484a",
   "metadata": {},
   "outputs": [],
   "source": [
    "merged = pd.merge(VIX_TS,IR_TS, how='inner', left_index=True, right_index=True)"
   ]
  },
  {
   "cell_type": "code",
   "execution_count": 1378,
   "id": "0f4fc7cd",
   "metadata": {},
   "outputs": [],
   "source": [
    "VAR_SWAPS = VAR_SWAPS/100\n",
    "VIX_FUT = VIX_FUT/100\n",
    "STRADDLE_LONG = STRADDLE_LONG"
   ]
  },
  {
   "cell_type": "code",
   "execution_count": 1379,
   "id": "0044bdef",
   "metadata": {},
   "outputs": [],
   "source": [
    "VAR_SWAPS_MERGED=pd.merge(merged,VAR_SWAPS, how='inner', left_index=True, right_index=True)\n",
    "VIX_FUT_MERGED=pd.merge(merged,VIX_FUT, how='inner', left_index=True, right_index=True)\n",
    "STRADDLE_MERGED=pd.merge(merged,STRADDLE_LONG, how='inner', left_index=True, right_index=True)"
   ]
  },
  {
   "cell_type": "markdown",
   "id": "a8abf717",
   "metadata": {},
   "source": [
    "### Calculate Excess returns"
   ]
  },
  {
   "cell_type": "code",
   "execution_count": 1380,
   "id": "2d43091b",
   "metadata": {},
   "outputs": [],
   "source": [
    "XS_VAR_SWAPS = VAR_SWAPS_MERGED.iloc[:, 7:]\n",
    "columns_to_subtract_from = ['V_S_R 1 month','V_S_R 2 month', 'V_S_R 3 month', 'V_S_R 6 month', 'V_S_R 9 month', 'V_S_R 12 month']\n",
    "\n",
    "# Iterate through the columns and subtract 'column_to_subtract' from each of them\n",
    "for col in columns_to_subtract_from:\n",
    "    XS_VAR_SWAPS[col] = XS_VAR_SWAPS[col] - VAR_SWAPS_MERGED['Daily Rate']"
   ]
  },
  {
   "cell_type": "code",
   "execution_count": 1381,
   "id": "2af8eb4d",
   "metadata": {},
   "outputs": [],
   "source": [
    "XS_VIX_FUT = VIX_FUT_MERGED.iloc[:, 7:]\n",
    "columns_to_subtract_from = ['V_F_R 1 month','V_F_R 2 month', 'V_F_R 3 month', 'V_F_R 6 month', 'V_F_R 9 month', 'V_F_R 12 month']\n",
    "\n",
    "# Iterate through the columns and subtract 'column_to_subtract' from each of them\n",
    "for col in columns_to_subtract_from:\n",
    "    XS_VIX_FUT[col] = XS_VIX_FUT[col] - VIX_FUT_MERGED['Daily Rate']"
   ]
  },
  {
   "cell_type": "code",
   "execution_count": 1382,
   "id": "3e576416",
   "metadata": {},
   "outputs": [],
   "source": [
    "XS_STRADDLE = STRADDLE_MERGED.iloc[:, 7:]\n",
    "columns_to_subtract_from = ['S_R 1 month','S_R 2 month', 'S_R 3 month', 'S_R 6 month', 'S_R 9 month', 'S_R 12 month']\n",
    "\n",
    "# Iterate through the columns and subtract 'column_to_subtract' from each of them\n",
    "for col in columns_to_subtract_from:\n",
    "    XS_STRADDLE[col] = XS_STRADDLE[col] - STRADDLE_MERGED['Daily Rate']"
   ]
  },
  {
   "cell_type": "markdown",
   "id": "2c2199ed",
   "metadata": {},
   "source": [
    "### Variance Assets Excess return summary"
   ]
  },
  {
   "cell_type": "code",
   "execution_count": 1383,
   "id": "907b9321",
   "metadata": {},
   "outputs": [
    {
     "data": {
      "text/plain": [
       "V_S_R 1 month     2.899152\n",
       "V_S_R 2 month     2.330483\n",
       "V_S_R 3 month     2.037821\n",
       "V_S_R 6 month     1.907296\n",
       "V_S_R 9 month     1.772701\n",
       "V_S_R 12 month    1.734289\n",
       "dtype: float64"
      ]
     },
     "execution_count": 1383,
     "metadata": {},
     "output_type": "execute_result"
    }
   ],
   "source": [
    "XS_VAR_SWAPS.describe()\n",
    "XS_VAR_SWAPS.skew()"
   ]
  },
  {
   "cell_type": "code",
   "execution_count": 1384,
   "id": "839ba277",
   "metadata": {},
   "outputs": [
    {
     "data": {
      "text/plain": [
       "V_F_R 1 month    -0.135308\n",
       "V_F_R 2 month    -0.861374\n",
       "V_F_R 3 month    -4.473292\n",
       "V_F_R 6 month    -7.132690\n",
       "V_F_R 9 month    -8.187459\n",
       "V_F_R 12 month   -7.713339\n",
       "dtype: float64"
      ]
     },
     "execution_count": 1384,
     "metadata": {},
     "output_type": "execute_result"
    }
   ],
   "source": [
    "XS_VIX_FUT.describe()\n",
    "XS_VIX_FUT.skew()"
   ]
  },
  {
   "cell_type": "code",
   "execution_count": 1385,
   "id": "be9f2b6e",
   "metadata": {},
   "outputs": [
    {
     "data": {
      "text/plain": [
       "S_R 1 month     3.465697\n",
       "S_R 2 month     3.087170\n",
       "S_R 3 month     2.673082\n",
       "S_R 6 month     2.614973\n",
       "S_R 9 month     2.308061\n",
       "S_R 12 month    1.941775\n",
       "dtype: float64"
      ]
     },
     "execution_count": 1385,
     "metadata": {},
     "output_type": "execute_result"
    }
   ],
   "source": [
    "XS_STRADDLE.describe()\n",
    "XS_STRADDLE.skew()"
   ]
  },
  {
   "cell_type": "markdown",
   "id": "9034a564",
   "metadata": {},
   "source": [
    "### Expectation Hypothesis Test"
   ]
  },
  {
   "cell_type": "markdown",
   "id": "cd7571e8",
   "metadata": {},
   "source": [
    "### Version 1"
   ]
  },
  {
   "cell_type": "code",
   "execution_count": 1386,
   "id": "c6639b61",
   "metadata": {},
   "outputs": [],
   "source": [
    "VIX_TS.reset_index(drop=True, inplace=True)"
   ]
  },
  {
   "cell_type": "code",
   "execution_count": 1387,
   "id": "e4f176d7",
   "metadata": {},
   "outputs": [],
   "source": [
    "n_days = 21"
   ]
  },
  {
   "cell_type": "code",
   "execution_count": 1388,
   "id": "6ba54423",
   "metadata": {},
   "outputs": [],
   "source": [
    "Y_1 = VIX_TS['1 month'][n_days:].reset_index(drop=True) - VIX_TS['2 month'][:-n_days]\n",
    "Y_2 = VIX_TS['2 month'][n_days:].reset_index(drop=True) - VIX_TS['3 month'][:-n_days]\n",
    "Y_3 = VIX_TS['3 month'][3*n_days:].reset_index(drop=True) - VIX_TS['6 month'][:-3*n_days]\n",
    "Y_4 = VIX_TS['6 month'][3*n_days:].reset_index(drop=True) - VIX_TS['9 month'][:-3*n_days]\n",
    "Y_5 = VIX_TS['9 month'][3*n_days:].reset_index(drop=True) - VIX_TS['12 month'][:-3*n_days]\n",
    "\n",
    "X_1 = (VIX_TS['2 month'][:-n_days] - VIX_TS['1 month'][:-n_days]).reset_index(drop=True)\n",
    "X_2 = ((1/2)*VIX_TS['3 month'][:-n_days] - VIX_TS['1 month'][:-n_days]).reset_index(drop=True)\n",
    "X_3 = (VIX_TS['6 month'][:-3*n_days] - VIX_TS['3 month'][:-3*n_days]).reset_index(drop=True)\n",
    "X_4 = ((1/2)*VIX_TS['9 month'][:-3*n_days] - VIX_TS['3 month'][:-3*n_days]).reset_index(drop=True)\n",
    "X_5 = ((1/3)*VIX_TS['12 month'][:-3*n_days] - VIX_TS['3 month'][:-3*n_days]).reset_index(drop=True)"
   ]
  },
  {
   "cell_type": "code",
   "execution_count": 1389,
   "id": "4698a3b8",
   "metadata": {},
   "outputs": [],
   "source": [
    "data_1 = {'b_1': X_1,\n",
    "        'b_2': X_2,\n",
    "        'c_1': VIX_TS['1 month'][:-n_days].reset_index(drop=True),\n",
    "       'c_2': VIX_TS['2 month'][:-n_days].reset_index(drop=True)}\n",
    "\n",
    "data_2 = {'b_3': X_3,\n",
    "        'b_4': X_4,\n",
    "        'b_5': X_5,\n",
    "       'c_3': VIX_TS['3 month'][:-3*n_days].reset_index(drop=True),\n",
    "       'c_4': VIX_TS['6 month'][:-3*n_days].reset_index(drop=True),\n",
    "       'c_5': VIX_TS['9 month'][:-3*n_days].reset_index(drop=True),}\n",
    "\n",
    "df_1 = pd.DataFrame(data_1)\n",
    "df_2 = pd.DataFrame(data_2)"
   ]
  },
  {
   "cell_type": "code",
   "execution_count": 1390,
   "id": "cdc4f2a0",
   "metadata": {},
   "outputs": [
    {
     "name": "stdout",
     "output_type": "stream",
     "text": [
      "Regression coefficients (including intercept): const    0.014353\n",
      "b_5     -0.083862\n",
      "c_5     -0.370879\n",
      "dtype: float64\n",
      "Newey-West standard errors: [0.00151606 0.09035461 0.08215647]\n",
      "P-values for the expectation hypothesis (b=1): 0.0\n",
      "R-squared: 0.13133920172422064\n"
     ]
    },
    {
     "name": "stderr",
     "output_type": "stream",
     "text": [
      "/Users/juliusraschke/opt/anaconda3/lib/python3.8/site-packages/statsmodels/tsa/tsatools.py:142: FutureWarning: In a future version of pandas all arguments of concat except for the argument 'objs' will be keyword-only.\n",
      "  x = pd.concat(x[::order], 1)\n"
     ]
    }
   ],
   "source": [
    "X = df_2[['b_5','c_5']]\n",
    "Y = Y_5\n",
    "\n",
    "X = sm.add_constant(X)  # Add a constant (intercept) to the independent variables\n",
    "model = sm.OLS(Y, X).fit()\n",
    "\n",
    "# Calculate Newey West\n",
    "\n",
    "cov_mat = stats.sandwich_covariance.cov_hac(model)\n",
    "newey_west_se = np.sqrt(np.diag(cov_mat))\n",
    "\n",
    "# Get the regression coefficients, including the intercept\n",
    "coefficients = model.params\n",
    "\n",
    "# Calculate p-values for the expectation hypothesis (b=1)\n",
    "t_values = (coefficients[1]-1) / newey_west_se[1]\n",
    "\n",
    "#Calculate p-values\n",
    "p_values = 2 * scipy.stats.t.sf(abs(t_values), model.df_resid)\n",
    "\n",
    "# Calculate R-squared\n",
    "r_squared = model.rsquared\n",
    "\n",
    "# Output the results\n",
    "print(\"Regression coefficients (including intercept):\", coefficients)\n",
    "print(\"Newey-West standard errors:\", newey_west_se)\n",
    "print(\"P-values for the expectation hypothesis (b=1):\", p_values.round(3))\n",
    "print(\"R-squared:\", r_squared)"
   ]
  },
  {
   "cell_type": "markdown",
   "id": "f36b62d0",
   "metadata": {},
   "source": [
    "### Version 2"
   ]
  },
  {
   "cell_type": "code",
   "execution_count": 1391,
   "id": "4261787e",
   "metadata": {},
   "outputs": [],
   "source": [
    "Y_1 = VIX_TS['1 month'][n_days:].reset_index(drop=True) - VIX_TS['1 month'][:-n_days]\n",
    "Y_2 = VIX_TS['2 month'][n_days:].reset_index(drop=True) - VIX_TS['2 month'][:-n_days]\n",
    "Y_3 = VIX_TS['3 month'][3*n_days:].reset_index(drop=True) - VIX_TS['3 month'][:-3*n_days]\n",
    "Y_4 = VIX_TS['6 month'][3*n_days:].reset_index(drop=True) - VIX_TS['6 month'][:-3*n_days]\n",
    "Y_5 = VIX_TS['9 month'][3*n_days:].reset_index(drop=True) - VIX_TS['9 month'][:-3*n_days]\n",
    "\n",
    "X_1 = (VIX_TS['2 month'][:-n_days] - VIX_TS['1 month'][:-n_days])+(VIX_TS['2 month'][:-n_days] - VIX_TS['1 month'][:-n_days])\n",
    "X_2 = (VIX_TS['3 month'][:-n_days] - VIX_TS['2 month'][:-n_days])+((1/2)*VIX_TS['3 month'][:-n_days] - VIX_TS['1 month'][:-n_days])\n",
    "X_3 = (VIX_TS['6 month'][:-3*n_days] - VIX_TS['3 month'][:-3*n_days])+(VIX_TS['6 month'][:-3*n_days] - VIX_TS['3 month'][:-3*n_days])\n",
    "X_4 = (VIX_TS['9 month'][:-3*n_days] - VIX_TS['6 month'][:-3*n_days])+((1/2)*VIX_TS['9 month'][:-3*n_days] - VIX_TS['3 month'][:-3*n_days])\n",
    "X_5 = (VIX_TS['12 month'][:-3*n_days] - VIX_TS['9 month'][:-3*n_days])+((1/3)*VIX_TS['12 month'][:-3*n_days] - VIX_TS['3 month'][:-3*n_days])"
   ]
  },
  {
   "cell_type": "code",
   "execution_count": 1392,
   "id": "74f64047",
   "metadata": {},
   "outputs": [],
   "source": [
    "data_1 = {'b_1': X_1,\n",
    "        'b_2': X_2,\n",
    "        'c_1': VIX_TS['1 month'][:-n_days].reset_index(drop=True),\n",
    "       'c_2': VIX_TS['2 month'][:-n_days].reset_index(drop=True)}\n",
    "\n",
    "data_2 = {'b_3': X_3,\n",
    "        'b_4': X_4,\n",
    "        'b_5': X_5,\n",
    "       'c_3': VIX_TS['3 month'][:-3*n_days].reset_index(drop=True),\n",
    "       'c_4': VIX_TS['6 month'][:-3*n_days].reset_index(drop=True),\n",
    "       'c_5': VIX_TS['9 month'][:-3*n_days].reset_index(drop=True),}\n",
    "\n",
    "df_1 = pd.DataFrame(data_1)\n",
    "df_2 = pd.DataFrame(data_2)"
   ]
  },
  {
   "cell_type": "code",
   "execution_count": 1393,
   "id": "7042980d",
   "metadata": {},
   "outputs": [
    {
     "name": "stdout",
     "output_type": "stream",
     "text": [
      "Regression coefficients (including intercept): const    0.014685\n",
      "b_5      0.060630\n",
      "c_5     -0.280989\n",
      "dtype: float64\n",
      "Newey-West standard errors: [0.00155818 0.08102579 0.07730431]\n",
      "P-values for the expectation hypothesis (b=1): 0.0\n",
      "R-squared: 0.17567405125965097\n"
     ]
    },
    {
     "name": "stderr",
     "output_type": "stream",
     "text": [
      "/Users/juliusraschke/opt/anaconda3/lib/python3.8/site-packages/statsmodels/tsa/tsatools.py:142: FutureWarning: In a future version of pandas all arguments of concat except for the argument 'objs' will be keyword-only.\n",
      "  x = pd.concat(x[::order], 1)\n"
     ]
    }
   ],
   "source": [
    "X = df_2[['b_5','c_5']]\n",
    "Y = Y_5\n",
    "\n",
    "X = sm.add_constant(X)  # Add a constant (intercept) to the independent variables\n",
    "\n",
    "model = sm.OLS(Y, X).fit()\n",
    "\n",
    "# Calculate Newey West\n",
    "\n",
    "cov_mat = stats.sandwich_covariance.cov_hac(model)\n",
    "newey_west_se = np.sqrt(np.diag(cov_mat))\n",
    "\n",
    "# Get the regression coefficients, including the intercept\n",
    "coefficients = model.params\n",
    "\n",
    "# Calculate p-values for the expectation hypothesis (b=1)\n",
    "t_values = (coefficients[1]-1) / newey_west_se[1]\n",
    "\n",
    "#Calculate p-values\n",
    "p_values = 2 * scipy.stats.t.sf(abs(t_values), model.df_resid)\n",
    "\n",
    "# Calculate R-squared\n",
    "r_squared = model.rsquared\n",
    "\n",
    "# Output the results\n",
    "print(\"Regression coefficients (including intercept):\", coefficients)\n",
    "print(\"Newey-West standard errors:\", newey_west_se)\n",
    "print(\"P-values for the expectation hypothesis (b=1):\", p_values.round(3))\n",
    "print(\"R-squared:\", r_squared)"
   ]
  },
  {
   "cell_type": "markdown",
   "id": "5eff3a46",
   "metadata": {},
   "source": [
    "### Converting daily to monthly data"
   ]
  },
  {
   "cell_type": "code",
   "execution_count": 1394,
   "id": "ea1bd511",
   "metadata": {},
   "outputs": [],
   "source": [
    "cr_VAR_SWAPS = ((XS_VAR_SWAPS)+1).rolling(n_days).apply(np.prod)-1\n",
    "cr_VAR_SWAPS[:-(n_days-1):] = cr_VAR_SWAPS[(n_days-1)::]\n",
    "cr_VAR_SWAPS = cr_VAR_SWAPS[:-(n_days-1):]\n",
    "\n",
    "cr_VIX_FUT = ((XS_VIX_FUT)+1).rolling(n_days).apply(np.prod)-1\n",
    "cr_VIX_FUT[:-(n_days-1):] = cr_VIX_FUT[(n_days-1)::]\n",
    "cr_VIX_FUT = cr_VIX_FUT[:-(n_days-1):]\n",
    "\n",
    "cr_STRADDLE = ((XS_STRADDLE)+1).rolling(n_days).apply(np.prod)-1\n",
    "cr_STRADDLE[:-(n_days-1):] = cr_STRADDLE[(n_days-1)::]\n",
    "cr_STRADDLE = cr_STRADDLE[:-(n_days-1):]"
   ]
  },
  {
   "cell_type": "code",
   "execution_count": 1395,
   "id": "1df748c8",
   "metadata": {},
   "outputs": [
    {
     "data": {
      "text/plain": [
       "V_S_R 1 month     16.530134\n",
       "V_S_R 2 month     16.932126\n",
       "V_S_R 3 month     15.745831\n",
       "V_S_R 6 month     13.235393\n",
       "V_S_R 9 month     10.688207\n",
       "V_S_R 12 month     9.624279\n",
       "dtype: float64"
      ]
     },
     "execution_count": 1395,
     "metadata": {},
     "output_type": "execute_result"
    }
   ],
   "source": [
    "cr_VAR_SWAPS.describe()\n",
    "cr_VAR_SWAPS.skew()"
   ]
  },
  {
   "cell_type": "code",
   "execution_count": 1396,
   "id": "f00e5077",
   "metadata": {},
   "outputs": [
    {
     "data": {
      "text/plain": [
       "V_F_R 1 month     4.491419\n",
       "V_F_R 2 month     3.617976\n",
       "V_F_R 3 month     2.425840\n",
       "V_F_R 6 month     1.026697\n",
       "V_F_R 9 month    -0.259983\n",
       "V_F_R 12 month   -1.039753\n",
       "dtype: float64"
      ]
     },
     "execution_count": 1396,
     "metadata": {},
     "output_type": "execute_result"
    }
   ],
   "source": [
    "cr_VIX_FUT.describe()\n",
    "cr_VIX_FUT.skew()"
   ]
  },
  {
   "cell_type": "code",
   "execution_count": 1397,
   "id": "787bfbda",
   "metadata": {},
   "outputs": [
    {
     "data": {
      "text/plain": [
       "S_R 1 month     5.509445\n",
       "S_R 2 month     6.189848\n",
       "S_R 3 month     5.014605\n",
       "S_R 6 month     4.393542\n",
       "S_R 9 month     3.427591\n",
       "S_R 12 month    2.856287\n",
       "dtype: float64"
      ]
     },
     "execution_count": 1397,
     "metadata": {},
     "output_type": "execute_result"
    }
   ],
   "source": [
    "cr_STRADDLE.describe()\n",
    "cr_STRADDLE.skew()"
   ]
  },
  {
   "cell_type": "markdown",
   "id": "0e2be90c",
   "metadata": {},
   "source": [
    "### Single Factor Test"
   ]
  },
  {
   "cell_type": "code",
   "execution_count": 1398,
   "id": "6e453538",
   "metadata": {},
   "outputs": [],
   "source": [
    "pca1 = PCA()\n",
    "scaler = StandardScaler()"
   ]
  },
  {
   "cell_type": "markdown",
   "id": "658293f9",
   "metadata": {},
   "source": [
    "### S&P 500 variance Swap Returns"
   ]
  },
  {
   "cell_type": "markdown",
   "id": "6821664e",
   "metadata": {},
   "source": [
    "### PCA"
   ]
  },
  {
   "cell_type": "code",
   "execution_count": 1399,
   "id": "ad971b8c",
   "metadata": {},
   "outputs": [],
   "source": [
    "X = VAR_SWAPS_MERGED.iloc[:,:6]\n",
    "X_trans = pca1.fit_transform(X)\n",
    "X_trans = pd.DataFrame(data=X_trans)\n",
    "scaled = scaler.fit_transform(X_trans)\n",
    "scaled_VS = pd.DataFrame(data=scaled)\n",
    "scaled_VS[['Level','Slope','Curve','PC4','PC5','PC6']] = scaled_VS[[0,1,2,3,4,5]]\n",
    "scaled_VS = scaled_VS.drop([0,1,2,3,4,5],axis=1)\n",
    "scaled_VS['Slope'] = -scaled_VS['Slope']"
   ]
  },
  {
   "cell_type": "markdown",
   "id": "f16e55a0",
   "metadata": {},
   "source": [
    "### Next day"
   ]
  },
  {
   "cell_type": "code",
   "execution_count": 1400,
   "id": "52a8d84f",
   "metadata": {},
   "outputs": [],
   "source": [
    "XS_V_S = XS_VAR_SWAPS\n",
    "XS_V_S.reset_index(drop=False, inplace=True)"
   ]
  },
  {
   "cell_type": "code",
   "execution_count": 1407,
   "id": "efe5cf7e",
   "metadata": {},
   "outputs": [],
   "source": [
    "X = scaled_VS[:-1]\n",
    "Y = (XS_V_S['V_S_R 1 month'][1:]*10000).reset_index(drop=True)\n",
    "\n",
    "model = sm.OLS(Y, X).fit(cov_type='HAC',cov_kwds={'maxlags':0})"
   ]
  },
  {
   "cell_type": "code",
   "execution_count": 1408,
   "id": "e688b7ed",
   "metadata": {},
   "outputs": [
    {
     "data": {
      "text/html": [
       "<table class=\"simpletable\">\n",
       "<caption>OLS Regression Results</caption>\n",
       "<tr>\n",
       "  <th>Dep. Variable:</th>      <td>V_S_R 1 month</td>  <th>  R-squared (uncentered):</th>      <td>   0.006</td> \n",
       "</tr>\n",
       "<tr>\n",
       "  <th>Model:</th>                   <td>OLS</td>       <th>  Adj. R-squared (uncentered):</th> <td>   0.005</td> \n",
       "</tr>\n",
       "<tr>\n",
       "  <th>Method:</th>             <td>Least Squares</td>  <th>  F-statistic:       </th>          <td>   4.313</td> \n",
       "</tr>\n",
       "<tr>\n",
       "  <th>Date:</th>             <td>Wed, 29 Nov 2023</td> <th>  Prob (F-statistic):</th>          <td>0.000239</td> \n",
       "</tr>\n",
       "<tr>\n",
       "  <th>Time:</th>                 <td>17:37:25</td>     <th>  Log-Likelihood:    </th>          <td> -59493.</td> \n",
       "</tr>\n",
       "<tr>\n",
       "  <th>No. Observations:</th>      <td>  6819</td>      <th>  AIC:               </th>          <td>1.190e+05</td>\n",
       "</tr>\n",
       "<tr>\n",
       "  <th>Df Residuals:</th>          <td>  6813</td>      <th>  BIC:               </th>          <td>1.190e+05</td>\n",
       "</tr>\n",
       "<tr>\n",
       "  <th>Df Model:</th>              <td>     6</td>      <th>                     </th>              <td> </td>    \n",
       "</tr>\n",
       "<tr>\n",
       "  <th>Covariance Type:</th>         <td>HAC</td>       <th>                     </th>              <td> </td>    \n",
       "</tr>\n",
       "</table>\n",
       "<table class=\"simpletable\">\n",
       "<tr>\n",
       "    <td></td>       <th>coef</th>     <th>std err</th>      <th>z</th>      <th>P>|z|</th>  <th>[0.025</th>    <th>0.975]</th>  \n",
       "</tr>\n",
       "<tr>\n",
       "  <th>Level</th> <td>  -87.4205</td> <td>   22.371</td> <td>   -3.908</td> <td> 0.000</td> <td> -131.266</td> <td>  -43.575</td>\n",
       "</tr>\n",
       "<tr>\n",
       "  <th>Slope</th> <td>   25.2123</td> <td>   23.673</td> <td>    1.065</td> <td> 0.287</td> <td>  -21.186</td> <td>   71.611</td>\n",
       "</tr>\n",
       "<tr>\n",
       "  <th>Curve</th> <td>  -42.5654</td> <td>   21.570</td> <td>   -1.973</td> <td> 0.048</td> <td>  -84.842</td> <td>   -0.289</td>\n",
       "</tr>\n",
       "<tr>\n",
       "  <th>PC4</th>   <td>   59.4976</td> <td>   21.018</td> <td>    2.831</td> <td> 0.005</td> <td>   18.303</td> <td>  100.692</td>\n",
       "</tr>\n",
       "<tr>\n",
       "  <th>PC5</th>   <td>   -8.4924</td> <td>   21.510</td> <td>   -0.395</td> <td> 0.693</td> <td>  -50.651</td> <td>   33.666</td>\n",
       "</tr>\n",
       "<tr>\n",
       "  <th>PC6</th>   <td>  -10.2438</td> <td>   20.155</td> <td>   -0.508</td> <td> 0.611</td> <td>  -49.746</td> <td>   29.259</td>\n",
       "</tr>\n",
       "</table>\n",
       "<table class=\"simpletable\">\n",
       "<tr>\n",
       "  <th>Omnibus:</th>       <td>5027.067</td> <th>  Durbin-Watson:     </th>  <td>   2.111</td> \n",
       "</tr>\n",
       "<tr>\n",
       "  <th>Prob(Omnibus):</th>  <td> 0.000</td>  <th>  Jarque-Bera (JB):  </th> <td>284803.658</td>\n",
       "</tr>\n",
       "<tr>\n",
       "  <th>Skew:</th>           <td> 2.975</td>  <th>  Prob(JB):          </th>  <td>    0.00</td> \n",
       "</tr>\n",
       "<tr>\n",
       "  <th>Kurtosis:</th>       <td>34.097</td>  <th>  Cond. No.          </th>  <td>    1.00</td> \n",
       "</tr>\n",
       "</table><br/><br/>Notes:<br/>[1] R² is computed without centering (uncentered) since the model does not contain a constant.<br/>[2] Standard Errors are heteroscedasticity and autocorrelation robust (HAC) using 0 lags and without small sample correction"
      ],
      "text/plain": [
       "<class 'statsmodels.iolib.summary.Summary'>\n",
       "\"\"\"\n",
       "                                 OLS Regression Results                                \n",
       "=======================================================================================\n",
       "Dep. Variable:          V_S_R 1 month   R-squared (uncentered):                   0.006\n",
       "Model:                            OLS   Adj. R-squared (uncentered):              0.005\n",
       "Method:                 Least Squares   F-statistic:                              4.313\n",
       "Date:                Wed, 29 Nov 2023   Prob (F-statistic):                    0.000239\n",
       "Time:                        17:37:25   Log-Likelihood:                         -59493.\n",
       "No. Observations:                6819   AIC:                                  1.190e+05\n",
       "Df Residuals:                    6813   BIC:                                  1.190e+05\n",
       "Df Model:                           6                                                  \n",
       "Covariance Type:                  HAC                                                  \n",
       "==============================================================================\n",
       "                 coef    std err          z      P>|z|      [0.025      0.975]\n",
       "------------------------------------------------------------------------------\n",
       "Level        -87.4205     22.371     -3.908      0.000    -131.266     -43.575\n",
       "Slope         25.2123     23.673      1.065      0.287     -21.186      71.611\n",
       "Curve        -42.5654     21.570     -1.973      0.048     -84.842      -0.289\n",
       "PC4           59.4976     21.018      2.831      0.005      18.303     100.692\n",
       "PC5           -8.4924     21.510     -0.395      0.693     -50.651      33.666\n",
       "PC6          -10.2438     20.155     -0.508      0.611     -49.746      29.259\n",
       "==============================================================================\n",
       "Omnibus:                     5027.067   Durbin-Watson:                   2.111\n",
       "Prob(Omnibus):                  0.000   Jarque-Bera (JB):           284803.658\n",
       "Skew:                           2.975   Prob(JB):                         0.00\n",
       "Kurtosis:                      34.097   Cond. No.                         1.00\n",
       "==============================================================================\n",
       "\n",
       "Notes:\n",
       "[1] R² is computed without centering (uncentered) since the model does not contain a constant.\n",
       "[2] Standard Errors are heteroscedasticity and autocorrelation robust (HAC) using 0 lags and without small sample correction\n",
       "\"\"\""
      ]
     },
     "execution_count": 1408,
     "metadata": {},
     "output_type": "execute_result"
    }
   ],
   "source": [
    "model.summary()"
   ]
  },
  {
   "cell_type": "code",
   "execution_count": 1409,
   "id": "00f0bc97",
   "metadata": {},
   "outputs": [
    {
     "name": "stdout",
     "output_type": "stream",
     "text": [
      "F-statistic: 8.099058694915644, P-value: 1.249232868481309e-07\n"
     ]
    },
    {
     "name": "stderr",
     "output_type": "stream",
     "text": [
      "/Users/juliusraschke/opt/anaconda3/lib/python3.8/site-packages/statsmodels/regression/linear_model.py:2167: InvalidTestWarning: F test for comparison is likely invalid with robust covariance, proceeding anyway\n",
      "  warnings.warn('F test for comparison is likely invalid with ' +\n"
     ]
    }
   ],
   "source": [
    "X_restricted = X[['Slope']]\n",
    "\n",
    "# Fit the restricted model\n",
    "model_restricted = sm.OLS(Y, X_restricted).fit(cov_type='HAC', cov_kwds={'maxlags': 0})\n",
    "\n",
    "# Perform the F-test (Chi-square test)\n",
    "f_test = model.compare_f_test(model_restricted)\n",
    "\n",
    "print(f\"F-statistic: {f_test[0]}, P-value: {f_test[1]}\")"
   ]
  },
  {
   "cell_type": "markdown",
   "id": "4f9b2c9b",
   "metadata": {},
   "source": [
    "### Next month"
   ]
  },
  {
   "cell_type": "code",
   "execution_count": 1043,
   "id": "6b7dc1a5",
   "metadata": {},
   "outputs": [],
   "source": [
    "cr_V_S = cr_VAR_SWAPS\n",
    "cr_V_S.reset_index(drop=False, inplace=True)"
   ]
  },
  {
   "cell_type": "code",
   "execution_count": 1044,
   "id": "2b6ec016",
   "metadata": {},
   "outputs": [],
   "source": [
    "X = scaled_VS[:-n_days]\n",
    "Y = (cr_V_S['V_S_R 1 month'][1:]*100).reset_index(drop=True)\n",
    "\n",
    "model = sm.OLS(Y, X).fit(cov_type='HAC',cov_kwds={'maxlags':n_days})"
   ]
  },
  {
   "cell_type": "code",
   "execution_count": 1045,
   "id": "248b5d06",
   "metadata": {},
   "outputs": [
    {
     "data": {
      "text/html": [
       "<table class=\"simpletable\">\n",
       "<caption>OLS Regression Results</caption>\n",
       "<tr>\n",
       "  <th>Dep. Variable:</th>      <td>V_S_R 1 month</td>  <th>  R-squared (uncentered):</th>      <td>   0.024</td> \n",
       "</tr>\n",
       "<tr>\n",
       "  <th>Model:</th>                   <td>OLS</td>       <th>  Adj. R-squared (uncentered):</th> <td>   0.023</td> \n",
       "</tr>\n",
       "<tr>\n",
       "  <th>Method:</th>             <td>Least Squares</td>  <th>  F-statistic:       </th>          <td>   6.406</td> \n",
       "</tr>\n",
       "<tr>\n",
       "  <th>Date:</th>             <td>Wed, 29 Nov 2023</td> <th>  Prob (F-statistic):</th>          <td>9.64e-07</td> \n",
       "</tr>\n",
       "<tr>\n",
       "  <th>Time:</th>                 <td>10:36:39</td>     <th>  Log-Likelihood:    </th>          <td> -41348.</td> \n",
       "</tr>\n",
       "<tr>\n",
       "  <th>No. Observations:</th>      <td>  6799</td>      <th>  AIC:               </th>          <td>8.271e+04</td>\n",
       "</tr>\n",
       "<tr>\n",
       "  <th>Df Residuals:</th>          <td>  6793</td>      <th>  BIC:               </th>          <td>8.275e+04</td>\n",
       "</tr>\n",
       "<tr>\n",
       "  <th>Df Model:</th>              <td>     6</td>      <th>                     </th>              <td> </td>    \n",
       "</tr>\n",
       "<tr>\n",
       "  <th>Covariance Type:</th>         <td>HAC</td>       <th>                     </th>              <td> </td>    \n",
       "</tr>\n",
       "</table>\n",
       "<table class=\"simpletable\">\n",
       "<tr>\n",
       "    <td></td>       <th>coef</th>     <th>std err</th>      <th>z</th>      <th>P>|z|</th>  <th>[0.025</th>    <th>0.975]</th>  \n",
       "</tr>\n",
       "<tr>\n",
       "  <th>Level</th> <td>  -13.5504</td> <td>    3.322</td> <td>   -4.079</td> <td> 0.000</td> <td>  -20.061</td> <td>   -7.040</td>\n",
       "</tr>\n",
       "<tr>\n",
       "  <th>Slope</th> <td>   -1.6349</td> <td>    3.319</td> <td>   -0.493</td> <td> 0.622</td> <td>   -8.140</td> <td>    4.870</td>\n",
       "</tr>\n",
       "<tr>\n",
       "  <th>Curve</th> <td>    0.6119</td> <td>    2.742</td> <td>    0.223</td> <td> 0.823</td> <td>   -4.762</td> <td>    5.985</td>\n",
       "</tr>\n",
       "<tr>\n",
       "  <th>PC4</th>   <td>    7.3609</td> <td>    2.113</td> <td>    3.483</td> <td> 0.000</td> <td>    3.219</td> <td>   11.503</td>\n",
       "</tr>\n",
       "<tr>\n",
       "  <th>PC5</th>   <td>   -3.7670</td> <td>    1.874</td> <td>   -2.010</td> <td> 0.044</td> <td>   -7.440</td> <td>   -0.094</td>\n",
       "</tr>\n",
       "<tr>\n",
       "  <th>PC6</th>   <td>    4.0456</td> <td>    3.676</td> <td>    1.100</td> <td> 0.271</td> <td>   -3.160</td> <td>   11.251</td>\n",
       "</tr>\n",
       "</table>\n",
       "<table class=\"simpletable\">\n",
       "<tr>\n",
       "  <th>Omnibus:</th>       <td>13812.681</td> <th>  Durbin-Watson:     </th>   <td>   0.183</td>  \n",
       "</tr>\n",
       "<tr>\n",
       "  <th>Prob(Omnibus):</th>  <td> 0.000</td>   <th>  Jarque-Bera (JB):  </th> <td>48562107.470</td>\n",
       "</tr>\n",
       "<tr>\n",
       "  <th>Skew:</th>           <td>16.774</td>   <th>  Prob(JB):          </th>   <td>    0.00</td>  \n",
       "</tr>\n",
       "<tr>\n",
       "  <th>Kurtosis:</th>       <td>415.669</td>  <th>  Cond. No.          </th>   <td>    1.00</td>  \n",
       "</tr>\n",
       "</table><br/><br/>Notes:<br/>[1] R² is computed without centering (uncentered) since the model does not contain a constant.<br/>[2] Standard Errors are heteroscedasticity and autocorrelation robust (HAC) using 21 lags and without small sample correction"
      ],
      "text/plain": [
       "<class 'statsmodels.iolib.summary.Summary'>\n",
       "\"\"\"\n",
       "                                 OLS Regression Results                                \n",
       "=======================================================================================\n",
       "Dep. Variable:          V_S_R 1 month   R-squared (uncentered):                   0.024\n",
       "Model:                            OLS   Adj. R-squared (uncentered):              0.023\n",
       "Method:                 Least Squares   F-statistic:                              6.406\n",
       "Date:                Wed, 29 Nov 2023   Prob (F-statistic):                    9.64e-07\n",
       "Time:                        10:36:39   Log-Likelihood:                         -41348.\n",
       "No. Observations:                6799   AIC:                                  8.271e+04\n",
       "Df Residuals:                    6793   BIC:                                  8.275e+04\n",
       "Df Model:                           6                                                  \n",
       "Covariance Type:                  HAC                                                  \n",
       "==============================================================================\n",
       "                 coef    std err          z      P>|z|      [0.025      0.975]\n",
       "------------------------------------------------------------------------------\n",
       "Level        -13.5504      3.322     -4.079      0.000     -20.061      -7.040\n",
       "Slope         -1.6349      3.319     -0.493      0.622      -8.140       4.870\n",
       "Curve          0.6119      2.742      0.223      0.823      -4.762       5.985\n",
       "PC4            7.3609      2.113      3.483      0.000       3.219      11.503\n",
       "PC5           -3.7670      1.874     -2.010      0.044      -7.440      -0.094\n",
       "PC6            4.0456      3.676      1.100      0.271      -3.160      11.251\n",
       "==============================================================================\n",
       "Omnibus:                    13812.681   Durbin-Watson:                   0.183\n",
       "Prob(Omnibus):                  0.000   Jarque-Bera (JB):         48562107.470\n",
       "Skew:                          16.774   Prob(JB):                         0.00\n",
       "Kurtosis:                     415.669   Cond. No.                         1.00\n",
       "==============================================================================\n",
       "\n",
       "Notes:\n",
       "[1] R² is computed without centering (uncentered) since the model does not contain a constant.\n",
       "[2] Standard Errors are heteroscedasticity and autocorrelation robust (HAC) using 21 lags and without small sample correction\n",
       "\"\"\""
      ]
     },
     "execution_count": 1045,
     "metadata": {},
     "output_type": "execute_result"
    }
   ],
   "source": [
    "model.summary()"
   ]
  },
  {
   "cell_type": "markdown",
   "id": "4f64031b",
   "metadata": {},
   "source": [
    "### VIX Futures Returns"
   ]
  },
  {
   "cell_type": "markdown",
   "id": "a9742a0c",
   "metadata": {},
   "source": [
    "### PCA"
   ]
  },
  {
   "cell_type": "code",
   "execution_count": 1595,
   "id": "3190fefa",
   "metadata": {},
   "outputs": [],
   "source": [
    "X = VIX_FUT_MERGED.iloc[:,:6]\n",
    "X_trans = pca1.fit_transform(X)\n",
    "X_trans = pd.DataFrame(data=X_trans)\n",
    "scaled = scaler.fit_transform(X_trans)\n",
    "scaled_VF = pd.DataFrame(data=scaled)\n",
    "scaled_VF[['Level','Slope','Curve','PC4','PC5','PC6']] = scaled_VF[[0,1,2,3,4,5]]\n",
    "scaled_VF = scaled_VF.drop([0,1,2,3,4,5],axis=1)\n",
    "scaled_VF['Slope'] = -scaled_VF['Slope']"
   ]
  },
  {
   "cell_type": "markdown",
   "id": "a7b204b1",
   "metadata": {},
   "source": [
    "### Next day"
   ]
  },
  {
   "cell_type": "code",
   "execution_count": 1596,
   "id": "48e2ec3a",
   "metadata": {},
   "outputs": [],
   "source": [
    "XS_V_F = XS_VIX_FUT"
   ]
  },
  {
   "cell_type": "code",
   "execution_count": 1614,
   "id": "b90d3238",
   "metadata": {
    "scrolled": true
   },
   "outputs": [
    {
     "name": "stdout",
     "output_type": "stream",
     "text": [
      "Chi-squared statistic: [[0.74981978]], P-value: 0.980122989713167\n"
     ]
    }
   ],
   "source": [
    "X = scaled_VF[:-1]\n",
    "Y = (XS_V_F['V_F_R 12 month'][1:]*10000).reset_index(drop=True)\n",
    "\n",
    "model = sm.OLS(Y, X).fit(cov_type='HAC',cov_kwds={'maxlags':0})\n",
    "\n",
    "# Get the names of all parameters\n",
    "params = model.params.index\n",
    "\n",
    "# Create an R matrix for the Wald test\n",
    "# Exclude 'const' and 'Curve' from the hypothesis\n",
    "R = np.zeros((len(params)-1, len(params)))\n",
    "row = 0\n",
    "for i, param in enumerate(params):\n",
    "    if param not in ['Slope']:\n",
    "        R[row, i] = 1\n",
    "        row += 1\n",
    "\n",
    "# Perform the Wald Test (Chi-square test)\n",
    "wald_test = model.wald_test(R)\n",
    "\n",
    "print(f\"Chi-squared statistic: {wald_test.statistic}, P-value: {wald_test.pvalue}\")"
   ]
  },
  {
   "cell_type": "code",
   "execution_count": 1544,
   "id": "9a1add01",
   "metadata": {},
   "outputs": [
    {
     "data": {
      "text/html": [
       "<table class=\"simpletable\">\n",
       "<caption>OLS Regression Results</caption>\n",
       "<tr>\n",
       "  <th>Dep. Variable:</th>      <td>V_F_R 6 month</td>  <th>  R-squared (uncentered):</th>      <td>   0.002</td> \n",
       "</tr>\n",
       "<tr>\n",
       "  <th>Model:</th>                   <td>OLS</td>       <th>  Adj. R-squared (uncentered):</th> <td>   0.001</td> \n",
       "</tr>\n",
       "<tr>\n",
       "  <th>Method:</th>             <td>Least Squares</td>  <th>  F-statistic:       </th>          <td>   1.125</td> \n",
       "</tr>\n",
       "<tr>\n",
       "  <th>Date:</th>             <td>Wed, 29 Nov 2023</td> <th>  Prob (F-statistic):</th>           <td> 0.345</td>  \n",
       "</tr>\n",
       "<tr>\n",
       "  <th>Time:</th>                 <td>18:19:20</td>     <th>  Log-Likelihood:    </th>          <td> -33290.</td> \n",
       "</tr>\n",
       "<tr>\n",
       "  <th>No. Observations:</th>      <td>  4750</td>      <th>  AIC:               </th>          <td>6.659e+04</td>\n",
       "</tr>\n",
       "<tr>\n",
       "  <th>Df Residuals:</th>          <td>  4744</td>      <th>  BIC:               </th>          <td>6.663e+04</td>\n",
       "</tr>\n",
       "<tr>\n",
       "  <th>Df Model:</th>              <td>     6</td>      <th>                     </th>              <td> </td>    \n",
       "</tr>\n",
       "<tr>\n",
       "  <th>Covariance Type:</th>         <td>HAC</td>       <th>                     </th>              <td> </td>    \n",
       "</tr>\n",
       "</table>\n",
       "<table class=\"simpletable\">\n",
       "<tr>\n",
       "    <td></td>       <th>coef</th>     <th>std err</th>      <th>z</th>      <th>P>|z|</th>  <th>[0.025</th>    <th>0.975]</th>  \n",
       "</tr>\n",
       "<tr>\n",
       "  <th>Level</th> <td>   -0.5534</td> <td>    6.925</td> <td>   -0.080</td> <td> 0.936</td> <td>  -14.126</td> <td>   13.019</td>\n",
       "</tr>\n",
       "<tr>\n",
       "  <th>Slope</th> <td>   -9.0345</td> <td>    7.656</td> <td>   -1.180</td> <td> 0.238</td> <td>  -24.040</td> <td>    5.971</td>\n",
       "</tr>\n",
       "<tr>\n",
       "  <th>Curve</th> <td>    0.4357</td> <td>    7.002</td> <td>    0.062</td> <td> 0.950</td> <td>  -13.289</td> <td>   14.160</td>\n",
       "</tr>\n",
       "<tr>\n",
       "  <th>PC4</th>   <td>    6.6601</td> <td>    5.182</td> <td>    1.285</td> <td> 0.199</td> <td>   -3.496</td> <td>   16.816</td>\n",
       "</tr>\n",
       "<tr>\n",
       "  <th>PC5</th>   <td>    3.0352</td> <td>    7.018</td> <td>    0.432</td> <td> 0.665</td> <td>  -10.720</td> <td>   16.790</td>\n",
       "</tr>\n",
       "<tr>\n",
       "  <th>PC6</th>   <td>   -2.6215</td> <td>    4.913</td> <td>   -0.534</td> <td> 0.594</td> <td>  -12.250</td> <td>    7.007</td>\n",
       "</tr>\n",
       "</table>\n",
       "<table class=\"simpletable\">\n",
       "<tr>\n",
       "  <th>Omnibus:</th>       <td>6607.823</td> <th>  Durbin-Watson:     </th>   <td>   2.100</td>  \n",
       "</tr>\n",
       "<tr>\n",
       "  <th>Prob(Omnibus):</th>  <td> 0.000</td>  <th>  Jarque-Bera (JB):  </th> <td>15231691.132</td>\n",
       "</tr>\n",
       "<tr>\n",
       "  <th>Skew:</th>           <td>-7.196</td>  <th>  Prob(JB):          </th>   <td>    0.00</td>  \n",
       "</tr>\n",
       "<tr>\n",
       "  <th>Kurtosis:</th>       <td>280.043</td> <th>  Cond. No.          </th>   <td>    1.00</td>  \n",
       "</tr>\n",
       "</table><br/><br/>Notes:<br/>[1] R² is computed without centering (uncentered) since the model does not contain a constant.<br/>[2] Standard Errors are heteroscedasticity and autocorrelation robust (HAC) using 0 lags and without small sample correction"
      ],
      "text/plain": [
       "<class 'statsmodels.iolib.summary.Summary'>\n",
       "\"\"\"\n",
       "                                 OLS Regression Results                                \n",
       "=======================================================================================\n",
       "Dep. Variable:          V_F_R 6 month   R-squared (uncentered):                   0.002\n",
       "Model:                            OLS   Adj. R-squared (uncentered):              0.001\n",
       "Method:                 Least Squares   F-statistic:                              1.125\n",
       "Date:                Wed, 29 Nov 2023   Prob (F-statistic):                       0.345\n",
       "Time:                        18:19:20   Log-Likelihood:                         -33290.\n",
       "No. Observations:                4750   AIC:                                  6.659e+04\n",
       "Df Residuals:                    4744   BIC:                                  6.663e+04\n",
       "Df Model:                           6                                                  \n",
       "Covariance Type:                  HAC                                                  \n",
       "==============================================================================\n",
       "                 coef    std err          z      P>|z|      [0.025      0.975]\n",
       "------------------------------------------------------------------------------\n",
       "Level         -0.5534      6.925     -0.080      0.936     -14.126      13.019\n",
       "Slope         -9.0345      7.656     -1.180      0.238     -24.040       5.971\n",
       "Curve          0.4357      7.002      0.062      0.950     -13.289      14.160\n",
       "PC4            6.6601      5.182      1.285      0.199      -3.496      16.816\n",
       "PC5            3.0352      7.018      0.432      0.665     -10.720      16.790\n",
       "PC6           -2.6215      4.913     -0.534      0.594     -12.250       7.007\n",
       "==============================================================================\n",
       "Omnibus:                     6607.823   Durbin-Watson:                   2.100\n",
       "Prob(Omnibus):                  0.000   Jarque-Bera (JB):         15231691.132\n",
       "Skew:                          -7.196   Prob(JB):                         0.00\n",
       "Kurtosis:                     280.043   Cond. No.                         1.00\n",
       "==============================================================================\n",
       "\n",
       "Notes:\n",
       "[1] R² is computed without centering (uncentered) since the model does not contain a constant.\n",
       "[2] Standard Errors are heteroscedasticity and autocorrelation robust (HAC) using 0 lags and without small sample correction\n",
       "\"\"\""
      ]
     },
     "execution_count": 1544,
     "metadata": {},
     "output_type": "execute_result"
    }
   ],
   "source": [
    "model.summary()"
   ]
  },
  {
   "cell_type": "markdown",
   "id": "687f8fb8",
   "metadata": {},
   "source": [
    "### Next month"
   ]
  },
  {
   "cell_type": "code",
   "execution_count": 1625,
   "id": "43b682de",
   "metadata": {},
   "outputs": [],
   "source": [
    "cr_V_F = cr_VIX_FUT"
   ]
  },
  {
   "cell_type": "code",
   "execution_count": 1631,
   "id": "447c10cd",
   "metadata": {},
   "outputs": [
    {
     "name": "stdout",
     "output_type": "stream",
     "text": [
      "Chi-squared statistic: [[13.67462221]], P-value: 0.01781386006236348\n"
     ]
    }
   ],
   "source": [
    "X = scaled_VF[:-n_days]\n",
    "Y = (cr_V_F['V_F_R 12 month'][1:]*100).reset_index(drop=True)\n",
    "\n",
    "model = sm.OLS(Y, X).fit(cov_type='HAC',cov_kwds={'maxlags':n_days})\n",
    "\n",
    "# Get the names of all parameters\n",
    "params = model.params.index\n",
    "\n",
    "# Create an R matrix for the Wald test\n",
    "# Exclude 'const' and 'Curve' from the hypothesis\n",
    "R = np.zeros((len(params)-1, len(params)))\n",
    "row = 0\n",
    "for i, param in enumerate(params):\n",
    "    if param not in ['Slope']:\n",
    "        R[row, i] = 1\n",
    "        row += 1\n",
    "\n",
    "# Perform the Wald Test (Chi-square test)\n",
    "wald_test = model.wald_test(R)\n",
    "\n",
    "print(f\"Chi-squared statistic: {wald_test.statistic}, P-value: {wald_test.pvalue}\")"
   ]
  },
  {
   "cell_type": "code",
   "execution_count": 1501,
   "id": "4344f4ec",
   "metadata": {},
   "outputs": [
    {
     "data": {
      "text/html": [
       "<table class=\"simpletable\">\n",
       "<caption>OLS Regression Results</caption>\n",
       "<tr>\n",
       "  <th>Dep. Variable:</th>      <td>V_F_R 2 month</td>  <th>  R-squared (uncentered):</th>      <td>   0.047</td> \n",
       "</tr>\n",
       "<tr>\n",
       "  <th>Model:</th>                   <td>OLS</td>       <th>  Adj. R-squared (uncentered):</th> <td>   0.046</td> \n",
       "</tr>\n",
       "<tr>\n",
       "  <th>Method:</th>             <td>Least Squares</td>  <th>  F-statistic:       </th>          <td>   5.875</td> \n",
       "</tr>\n",
       "<tr>\n",
       "  <th>Date:</th>             <td>Wed, 29 Nov 2023</td> <th>  Prob (F-statistic):</th>          <td>4.05e-06</td> \n",
       "</tr>\n",
       "<tr>\n",
       "  <th>Time:</th>                 <td>18:04:31</td>     <th>  Log-Likelihood:    </th>          <td> -19939.</td> \n",
       "</tr>\n",
       "<tr>\n",
       "  <th>No. Observations:</th>      <td>  4730</td>      <th>  AIC:               </th>          <td>3.989e+04</td>\n",
       "</tr>\n",
       "<tr>\n",
       "  <th>Df Residuals:</th>          <td>  4724</td>      <th>  BIC:               </th>          <td>3.993e+04</td>\n",
       "</tr>\n",
       "<tr>\n",
       "  <th>Df Model:</th>              <td>     6</td>      <th>                     </th>              <td> </td>    \n",
       "</tr>\n",
       "<tr>\n",
       "  <th>Covariance Type:</th>         <td>HAC</td>       <th>                     </th>              <td> </td>    \n",
       "</tr>\n",
       "</table>\n",
       "<table class=\"simpletable\">\n",
       "<tr>\n",
       "    <td></td>       <th>coef</th>     <th>std err</th>      <th>z</th>      <th>P>|z|</th>  <th>[0.025</th>    <th>0.975]</th>  \n",
       "</tr>\n",
       "<tr>\n",
       "  <th>Level</th> <td>   -1.5519</td> <td>    0.767</td> <td>   -2.023</td> <td> 0.043</td> <td>   -3.056</td> <td>   -0.048</td>\n",
       "</tr>\n",
       "<tr>\n",
       "  <th>Slope</th> <td>   -1.9408</td> <td>    0.884</td> <td>   -2.195</td> <td> 0.028</td> <td>   -3.674</td> <td>   -0.207</td>\n",
       "</tr>\n",
       "<tr>\n",
       "  <th>Curve</th> <td>    1.6224</td> <td>    0.571</td> <td>    2.840</td> <td> 0.005</td> <td>    0.503</td> <td>    2.742</td>\n",
       "</tr>\n",
       "<tr>\n",
       "  <th>PC4</th>   <td>    0.9239</td> <td>    0.580</td> <td>    1.593</td> <td> 0.111</td> <td>   -0.213</td> <td>    2.061</td>\n",
       "</tr>\n",
       "<tr>\n",
       "  <th>PC5</th>   <td>    1.8051</td> <td>    0.475</td> <td>    3.803</td> <td> 0.000</td> <td>    0.875</td> <td>    2.735</td>\n",
       "</tr>\n",
       "<tr>\n",
       "  <th>PC6</th>   <td>   -0.5160</td> <td>    0.908</td> <td>   -0.568</td> <td> 0.570</td> <td>   -2.296</td> <td>    1.264</td>\n",
       "</tr>\n",
       "</table>\n",
       "<table class=\"simpletable\">\n",
       "<tr>\n",
       "  <th>Omnibus:</th>       <td>4152.976</td> <th>  Durbin-Watson:     </th>  <td>   0.123</td> \n",
       "</tr>\n",
       "<tr>\n",
       "  <th>Prob(Omnibus):</th>  <td> 0.000</td>  <th>  Jarque-Bera (JB):  </th> <td>591041.228</td>\n",
       "</tr>\n",
       "<tr>\n",
       "  <th>Skew:</th>           <td> 3.594</td>  <th>  Prob(JB):          </th>  <td>    0.00</td> \n",
       "</tr>\n",
       "<tr>\n",
       "  <th>Kurtosis:</th>       <td>57.289</td>  <th>  Cond. No.          </th>  <td>    1.00</td> \n",
       "</tr>\n",
       "</table><br/><br/>Notes:<br/>[1] R² is computed without centering (uncentered) since the model does not contain a constant.<br/>[2] Standard Errors are heteroscedasticity and autocorrelation robust (HAC) using 21 lags and without small sample correction"
      ],
      "text/plain": [
       "<class 'statsmodels.iolib.summary.Summary'>\n",
       "\"\"\"\n",
       "                                 OLS Regression Results                                \n",
       "=======================================================================================\n",
       "Dep. Variable:          V_F_R 2 month   R-squared (uncentered):                   0.047\n",
       "Model:                            OLS   Adj. R-squared (uncentered):              0.046\n",
       "Method:                 Least Squares   F-statistic:                              5.875\n",
       "Date:                Wed, 29 Nov 2023   Prob (F-statistic):                    4.05e-06\n",
       "Time:                        18:04:31   Log-Likelihood:                         -19939.\n",
       "No. Observations:                4730   AIC:                                  3.989e+04\n",
       "Df Residuals:                    4724   BIC:                                  3.993e+04\n",
       "Df Model:                           6                                                  \n",
       "Covariance Type:                  HAC                                                  \n",
       "==============================================================================\n",
       "                 coef    std err          z      P>|z|      [0.025      0.975]\n",
       "------------------------------------------------------------------------------\n",
       "Level         -1.5519      0.767     -2.023      0.043      -3.056      -0.048\n",
       "Slope         -1.9408      0.884     -2.195      0.028      -3.674      -0.207\n",
       "Curve          1.6224      0.571      2.840      0.005       0.503       2.742\n",
       "PC4            0.9239      0.580      1.593      0.111      -0.213       2.061\n",
       "PC5            1.8051      0.475      3.803      0.000       0.875       2.735\n",
       "PC6           -0.5160      0.908     -0.568      0.570      -2.296       1.264\n",
       "==============================================================================\n",
       "Omnibus:                     4152.976   Durbin-Watson:                   0.123\n",
       "Prob(Omnibus):                  0.000   Jarque-Bera (JB):           591041.228\n",
       "Skew:                           3.594   Prob(JB):                         0.00\n",
       "Kurtosis:                      57.289   Cond. No.                         1.00\n",
       "==============================================================================\n",
       "\n",
       "Notes:\n",
       "[1] R² is computed without centering (uncentered) since the model does not contain a constant.\n",
       "[2] Standard Errors are heteroscedasticity and autocorrelation robust (HAC) using 21 lags and without small sample correction\n",
       "\"\"\""
      ]
     },
     "execution_count": 1501,
     "metadata": {},
     "output_type": "execute_result"
    }
   ],
   "source": [
    "model.summary()"
   ]
  },
  {
   "cell_type": "markdown",
   "id": "4ac36afc",
   "metadata": {},
   "source": [
    "### Straddle Returns"
   ]
  },
  {
   "cell_type": "markdown",
   "id": "b5111815",
   "metadata": {},
   "source": [
    "### PCA"
   ]
  },
  {
   "cell_type": "code",
   "execution_count": 1616,
   "id": "4b1466ac",
   "metadata": {},
   "outputs": [],
   "source": [
    "X = STRADDLE_MERGED.iloc[:,:6]\n",
    "X_trans = pca1.fit_transform(X)\n",
    "X_trans = pd.DataFrame(data=X_trans)\n",
    "scaled = scaler.fit_transform(X_trans)\n",
    "scaled_S = pd.DataFrame(data=scaled)\n",
    "scaled_S[['Level','Slope','Curve','PC4','PC5','PC6']] = scaled_S[[0,1,2,3,4,5]]\n",
    "scaled_S = scaled_S.drop([0,1,2,3,4,5],axis=1)\n",
    "scaled_S['Slope'] = -scaled_S['Slope']"
   ]
  },
  {
   "cell_type": "markdown",
   "id": "e53975de",
   "metadata": {},
   "source": [
    "### Next day"
   ]
  },
  {
   "cell_type": "code",
   "execution_count": 1618,
   "id": "b54f9d3a",
   "metadata": {},
   "outputs": [],
   "source": [
    "XS_S = XS_STRADDLE"
   ]
  },
  {
   "cell_type": "code",
   "execution_count": 1624,
   "id": "c8d84832",
   "metadata": {},
   "outputs": [
    {
     "name": "stdout",
     "output_type": "stream",
     "text": [
      "Chi-squared statistic: [[3.77365575]], P-value: 0.582442049715624\n"
     ]
    }
   ],
   "source": [
    "X = scaled_S[:-1]\n",
    "Y = (XS_S['S_R 12 month'][1:]*10000).reset_index(drop=True)\n",
    "\n",
    "model = sm.OLS(Y, X).fit(cov_type='HAC',cov_kwds={'maxlags':0})\n",
    "\n",
    "# Get the names of all parameters\n",
    "params = model.params.index\n",
    "\n",
    "# Create an R matrix for the Wald test\n",
    "# Exclude 'const' and 'Curve' from the hypothesis\n",
    "R = np.zeros((len(params)-1, len(params)))\n",
    "row = 0\n",
    "for i, param in enumerate(params):\n",
    "    if param not in ['Slope']:\n",
    "        R[row, i] = 1\n",
    "        row += 1\n",
    "\n",
    "# Perform the Wald Test (Chi-square test)\n",
    "wald_test = model.wald_test(R)\n",
    "\n",
    "print(f\"Chi-squared statistic: {wald_test.statistic}, P-value: {wald_test.pvalue}\")"
   ]
  },
  {
   "cell_type": "code",
   "execution_count": 1580,
   "id": "e32f58cc",
   "metadata": {
    "scrolled": true
   },
   "outputs": [
    {
     "data": {
      "text/html": [
       "<table class=\"simpletable\">\n",
       "<caption>OLS Regression Results</caption>\n",
       "<tr>\n",
       "  <th>Dep. Variable:</th>       <td>S_R 6 month</td>   <th>  R-squared (uncentered):</th>      <td>   0.006</td> \n",
       "</tr>\n",
       "<tr>\n",
       "  <th>Model:</th>                   <td>OLS</td>       <th>  Adj. R-squared (uncentered):</th> <td>   0.005</td> \n",
       "</tr>\n",
       "<tr>\n",
       "  <th>Method:</th>             <td>Least Squares</td>  <th>  F-statistic:       </th>          <td>   4.653</td> \n",
       "</tr>\n",
       "<tr>\n",
       "  <th>Date:</th>             <td>Wed, 29 Nov 2023</td> <th>  Prob (F-statistic):</th>          <td>9.94e-05</td> \n",
       "</tr>\n",
       "<tr>\n",
       "  <th>Time:</th>                 <td>18:34:21</td>     <th>  Log-Likelihood:    </th>          <td> -46298.</td> \n",
       "</tr>\n",
       "<tr>\n",
       "  <th>No. Observations:</th>      <td>  6815</td>      <th>  AIC:               </th>          <td>9.261e+04</td>\n",
       "</tr>\n",
       "<tr>\n",
       "  <th>Df Residuals:</th>          <td>  6809</td>      <th>  BIC:               </th>          <td>9.265e+04</td>\n",
       "</tr>\n",
       "<tr>\n",
       "  <th>Df Model:</th>              <td>     6</td>      <th>                     </th>              <td> </td>    \n",
       "</tr>\n",
       "<tr>\n",
       "  <th>Covariance Type:</th>         <td>HAC</td>       <th>                     </th>              <td> </td>    \n",
       "</tr>\n",
       "</table>\n",
       "<table class=\"simpletable\">\n",
       "<tr>\n",
       "    <td></td>       <th>coef</th>     <th>std err</th>      <th>z</th>      <th>P>|z|</th>  <th>[0.025</th>    <th>0.975]</th>  \n",
       "</tr>\n",
       "<tr>\n",
       "  <th>Level</th> <td>   -0.7795</td> <td>    4.929</td> <td>   -0.158</td> <td> 0.874</td> <td>  -10.441</td> <td>    8.882</td>\n",
       "</tr>\n",
       "<tr>\n",
       "  <th>Slope</th> <td>  -15.7998</td> <td>    5.174</td> <td>   -3.054</td> <td> 0.002</td> <td>  -25.940</td> <td>   -5.660</td>\n",
       "</tr>\n",
       "<tr>\n",
       "  <th>Curve</th> <td>    2.4323</td> <td>    4.866</td> <td>    0.500</td> <td> 0.617</td> <td>   -7.105</td> <td>   11.970</td>\n",
       "</tr>\n",
       "<tr>\n",
       "  <th>PC4</th>   <td>   -0.6019</td> <td>    3.942</td> <td>   -0.153</td> <td> 0.879</td> <td>   -8.328</td> <td>    7.125</td>\n",
       "</tr>\n",
       "<tr>\n",
       "  <th>PC5</th>   <td>   -4.3025</td> <td>    4.538</td> <td>   -0.948</td> <td> 0.343</td> <td>  -13.197</td> <td>    4.592</td>\n",
       "</tr>\n",
       "<tr>\n",
       "  <th>PC6</th>   <td>    3.5100</td> <td>    3.644</td> <td>    0.963</td> <td> 0.335</td> <td>   -3.632</td> <td>   10.652</td>\n",
       "</tr>\n",
       "</table>\n",
       "<table class=\"simpletable\">\n",
       "<tr>\n",
       "  <th>Omnibus:</th>       <td>4429.031</td> <th>  Durbin-Watson:     </th>  <td>   2.009</td> \n",
       "</tr>\n",
       "<tr>\n",
       "  <th>Prob(Omnibus):</th>  <td> 0.000</td>  <th>  Jarque-Bera (JB):  </th> <td>195144.980</td>\n",
       "</tr>\n",
       "<tr>\n",
       "  <th>Skew:</th>           <td> 2.518</td>  <th>  Prob(JB):          </th>  <td>    0.00</td> \n",
       "</tr>\n",
       "<tr>\n",
       "  <th>Kurtosis:</th>       <td>28.727</td>  <th>  Cond. No.          </th>  <td>    1.00</td> \n",
       "</tr>\n",
       "</table><br/><br/>Notes:<br/>[1] R² is computed without centering (uncentered) since the model does not contain a constant.<br/>[2] Standard Errors are heteroscedasticity and autocorrelation robust (HAC) using 0 lags and without small sample correction"
      ],
      "text/plain": [
       "<class 'statsmodels.iolib.summary.Summary'>\n",
       "\"\"\"\n",
       "                                 OLS Regression Results                                \n",
       "=======================================================================================\n",
       "Dep. Variable:            S_R 6 month   R-squared (uncentered):                   0.006\n",
       "Model:                            OLS   Adj. R-squared (uncentered):              0.005\n",
       "Method:                 Least Squares   F-statistic:                              4.653\n",
       "Date:                Wed, 29 Nov 2023   Prob (F-statistic):                    9.94e-05\n",
       "Time:                        18:34:21   Log-Likelihood:                         -46298.\n",
       "No. Observations:                6815   AIC:                                  9.261e+04\n",
       "Df Residuals:                    6809   BIC:                                  9.265e+04\n",
       "Df Model:                           6                                                  \n",
       "Covariance Type:                  HAC                                                  \n",
       "==============================================================================\n",
       "                 coef    std err          z      P>|z|      [0.025      0.975]\n",
       "------------------------------------------------------------------------------\n",
       "Level         -0.7795      4.929     -0.158      0.874     -10.441       8.882\n",
       "Slope        -15.7998      5.174     -3.054      0.002     -25.940      -5.660\n",
       "Curve          2.4323      4.866      0.500      0.617      -7.105      11.970\n",
       "PC4           -0.6019      3.942     -0.153      0.879      -8.328       7.125\n",
       "PC5           -4.3025      4.538     -0.948      0.343     -13.197       4.592\n",
       "PC6            3.5100      3.644      0.963      0.335      -3.632      10.652\n",
       "==============================================================================\n",
       "Omnibus:                     4429.031   Durbin-Watson:                   2.009\n",
       "Prob(Omnibus):                  0.000   Jarque-Bera (JB):           195144.980\n",
       "Skew:                           2.518   Prob(JB):                         0.00\n",
       "Kurtosis:                      28.727   Cond. No.                         1.00\n",
       "==============================================================================\n",
       "\n",
       "Notes:\n",
       "[1] R² is computed without centering (uncentered) since the model does not contain a constant.\n",
       "[2] Standard Errors are heteroscedasticity and autocorrelation robust (HAC) using 0 lags and without small sample correction\n",
       "\"\"\""
      ]
     },
     "execution_count": 1580,
     "metadata": {},
     "output_type": "execute_result"
    }
   ],
   "source": [
    "model.summary()"
   ]
  },
  {
   "cell_type": "markdown",
   "id": "6d8d0e6e",
   "metadata": {},
   "source": [
    "### Next month"
   ]
  },
  {
   "cell_type": "code",
   "execution_count": 1632,
   "id": "453bb23f",
   "metadata": {},
   "outputs": [],
   "source": [
    "cr_S = cr_STRADDLE\n",
    "cr_S.reset_index(drop=False, inplace=True)"
   ]
  },
  {
   "cell_type": "code",
   "execution_count": 1639,
   "id": "fbe8eac8",
   "metadata": {},
   "outputs": [
    {
     "name": "stdout",
     "output_type": "stream",
     "text": [
      "Chi-squared statistic: [[3.57213216]], P-value: 0.6125023237791027\n"
     ]
    }
   ],
   "source": [
    "X = scaled_S[:-n_days]\n",
    "Y = (cr_S['S_R 12 month'][1:]*100).reset_index(drop=True)\n",
    "\n",
    "model = sm.OLS(Y, X).fit(cov_type='HAC',cov_kwds={'maxlags':n_days})\n",
    "\n",
    "# Get the names of all parameters\n",
    "params = model.params.index\n",
    "\n",
    "# Create an R matrix for the Wald test\n",
    "# Exclude 'const' and 'Curve' from the hypothesis\n",
    "R = np.zeros((len(params)-1, len(params)))\n",
    "row = 0\n",
    "for i, param in enumerate(params):\n",
    "    if param not in ['Slope']:\n",
    "        R[row, i] = 1\n",
    "        row += 1\n",
    "\n",
    "# Perform the Wald Test (Chi-square test)\n",
    "wald_test = model.wald_test(R)\n",
    "\n",
    "print(f\"Chi-squared statistic: {wald_test.statistic}, P-value: {wald_test.pvalue}\")"
   ]
  },
  {
   "cell_type": "code",
   "execution_count": 1059,
   "id": "1da116f6",
   "metadata": {},
   "outputs": [
    {
     "data": {
      "text/html": [
       "<table class=\"simpletable\">\n",
       "<caption>OLS Regression Results</caption>\n",
       "<tr>\n",
       "  <th>Dep. Variable:</th>      <td>S_R 12 month</td>   <th>  R-squared (uncentered):</th>      <td>   0.078</td> \n",
       "</tr>\n",
       "<tr>\n",
       "  <th>Model:</th>                   <td>OLS</td>       <th>  Adj. R-squared (uncentered):</th> <td>   0.077</td> \n",
       "</tr>\n",
       "<tr>\n",
       "  <th>Method:</th>             <td>Least Squares</td>  <th>  F-statistic:       </th>          <td>   8.390</td> \n",
       "</tr>\n",
       "<tr>\n",
       "  <th>Date:</th>             <td>Wed, 29 Nov 2023</td> <th>  Prob (F-statistic):</th>          <td>4.34e-09</td> \n",
       "</tr>\n",
       "<tr>\n",
       "  <th>Time:</th>                 <td>10:36:49</td>     <th>  Log-Likelihood:    </th>          <td> -24813.</td> \n",
       "</tr>\n",
       "<tr>\n",
       "  <th>No. Observations:</th>      <td>  6795</td>      <th>  AIC:               </th>          <td>4.964e+04</td>\n",
       "</tr>\n",
       "<tr>\n",
       "  <th>Df Residuals:</th>          <td>  6789</td>      <th>  BIC:               </th>          <td>4.968e+04</td>\n",
       "</tr>\n",
       "<tr>\n",
       "  <th>Df Model:</th>              <td>     6</td>      <th>                     </th>              <td> </td>    \n",
       "</tr>\n",
       "<tr>\n",
       "  <th>Covariance Type:</th>         <td>HAC</td>       <th>                     </th>              <td> </td>    \n",
       "</tr>\n",
       "</table>\n",
       "<table class=\"simpletable\">\n",
       "<tr>\n",
       "    <td></td>       <th>coef</th>     <th>std err</th>      <th>z</th>      <th>P>|z|</th>  <th>[0.025</th>    <th>0.975]</th>  \n",
       "</tr>\n",
       "<tr>\n",
       "  <th>Level</th> <td>   -0.0955</td> <td>    0.432</td> <td>   -0.221</td> <td> 0.825</td> <td>   -0.943</td> <td>    0.752</td>\n",
       "</tr>\n",
       "<tr>\n",
       "  <th>Slope</th> <td>   -2.5949</td> <td>    0.433</td> <td>   -5.987</td> <td> 0.000</td> <td>   -3.444</td> <td>   -1.745</td>\n",
       "</tr>\n",
       "<tr>\n",
       "  <th>Curve</th> <td>    0.0721</td> <td>    0.394</td> <td>    0.183</td> <td> 0.855</td> <td>   -0.700</td> <td>    0.844</td>\n",
       "</tr>\n",
       "<tr>\n",
       "  <th>PC4</th>   <td>   -0.2934</td> <td>    0.385</td> <td>   -0.761</td> <td> 0.447</td> <td>   -1.049</td> <td>    0.462</td>\n",
       "</tr>\n",
       "<tr>\n",
       "  <th>PC5</th>   <td>   -0.2250</td> <td>    0.319</td> <td>   -0.705</td> <td> 0.481</td> <td>   -0.851</td> <td>    0.401</td>\n",
       "</tr>\n",
       "<tr>\n",
       "  <th>PC6</th>   <td>    0.6467</td> <td>    0.442</td> <td>    1.463</td> <td> 0.143</td> <td>   -0.219</td> <td>    1.513</td>\n",
       "</tr>\n",
       "</table>\n",
       "<table class=\"simpletable\">\n",
       "<tr>\n",
       "  <th>Omnibus:</th>       <td>4588.879</td> <th>  Durbin-Watson:     </th>  <td>   0.094</td> \n",
       "</tr>\n",
       "<tr>\n",
       "  <th>Prob(Omnibus):</th>  <td> 0.000</td>  <th>  Jarque-Bera (JB):  </th> <td>134741.047</td>\n",
       "</tr>\n",
       "<tr>\n",
       "  <th>Skew:</th>           <td> 2.816</td>  <th>  Prob(JB):          </th>  <td>    0.00</td> \n",
       "</tr>\n",
       "<tr>\n",
       "  <th>Kurtosis:</th>       <td>24.076</td>  <th>  Cond. No.          </th>  <td>    1.00</td> \n",
       "</tr>\n",
       "</table><br/><br/>Notes:<br/>[1] R² is computed without centering (uncentered) since the model does not contain a constant.<br/>[2] Standard Errors are heteroscedasticity and autocorrelation robust (HAC) using 21 lags and without small sample correction"
      ],
      "text/plain": [
       "<class 'statsmodels.iolib.summary.Summary'>\n",
       "\"\"\"\n",
       "                                 OLS Regression Results                                \n",
       "=======================================================================================\n",
       "Dep. Variable:           S_R 12 month   R-squared (uncentered):                   0.078\n",
       "Model:                            OLS   Adj. R-squared (uncentered):              0.077\n",
       "Method:                 Least Squares   F-statistic:                              8.390\n",
       "Date:                Wed, 29 Nov 2023   Prob (F-statistic):                    4.34e-09\n",
       "Time:                        10:36:49   Log-Likelihood:                         -24813.\n",
       "No. Observations:                6795   AIC:                                  4.964e+04\n",
       "Df Residuals:                    6789   BIC:                                  4.968e+04\n",
       "Df Model:                           6                                                  \n",
       "Covariance Type:                  HAC                                                  \n",
       "==============================================================================\n",
       "                 coef    std err          z      P>|z|      [0.025      0.975]\n",
       "------------------------------------------------------------------------------\n",
       "Level         -0.0955      0.432     -0.221      0.825      -0.943       0.752\n",
       "Slope         -2.5949      0.433     -5.987      0.000      -3.444      -1.745\n",
       "Curve          0.0721      0.394      0.183      0.855      -0.700       0.844\n",
       "PC4           -0.2934      0.385     -0.761      0.447      -1.049       0.462\n",
       "PC5           -0.2250      0.319     -0.705      0.481      -0.851       0.401\n",
       "PC6            0.6467      0.442      1.463      0.143      -0.219       1.513\n",
       "==============================================================================\n",
       "Omnibus:                     4588.879   Durbin-Watson:                   0.094\n",
       "Prob(Omnibus):                  0.000   Jarque-Bera (JB):           134741.047\n",
       "Skew:                           2.816   Prob(JB):                         0.00\n",
       "Kurtosis:                      24.076   Cond. No.                         1.00\n",
       "==============================================================================\n",
       "\n",
       "Notes:\n",
       "[1] R² is computed without centering (uncentered) since the model does not contain a constant.\n",
       "[2] Standard Errors are heteroscedasticity and autocorrelation robust (HAC) using 21 lags and without small sample correction\n",
       "\"\"\""
      ]
     },
     "execution_count": 1059,
     "metadata": {},
     "output_type": "execute_result"
    }
   ],
   "source": [
    "model.summary()"
   ]
  },
  {
   "cell_type": "markdown",
   "id": "26ff884d",
   "metadata": {},
   "source": [
    "### Economic Significance of Slope as a predictor"
   ]
  },
  {
   "cell_type": "code",
   "execution_count": 1281,
   "id": "e27b5091",
   "metadata": {},
   "outputs": [],
   "source": [
    "def std_error_range(data):\n",
    "    a = data.iloc[:1,:]**2\n",
    "    a = a.reset_index(drop=True)\n",
    "    b = data.iloc[4:,:]**2\n",
    "    b = b.reset_index(drop=True)\n",
    "    return np.sqrt(a+b)"
   ]
  },
  {
   "cell_type": "code",
   "execution_count": 1060,
   "id": "2c6b95df",
   "metadata": {},
   "outputs": [
    {
     "data": {
      "text/html": [
       "<div>\n",
       "<style scoped>\n",
       "    .dataframe tbody tr th:only-of-type {\n",
       "        vertical-align: middle;\n",
       "    }\n",
       "\n",
       "    .dataframe tbody tr th {\n",
       "        vertical-align: top;\n",
       "    }\n",
       "\n",
       "    .dataframe thead th {\n",
       "        text-align: right;\n",
       "    }\n",
       "</style>\n",
       "<table border=\"1\" class=\"dataframe\">\n",
       "  <thead>\n",
       "    <tr style=\"text-align: right;\">\n",
       "      <th></th>\n",
       "      <th>V_S_R 1 month</th>\n",
       "      <th>V_S_R 2 month</th>\n",
       "      <th>V_S_R 3 month</th>\n",
       "      <th>V_S_R 6 month</th>\n",
       "      <th>V_S_R 9 month</th>\n",
       "      <th>V_S_R 12 month</th>\n",
       "    </tr>\n",
       "  </thead>\n",
       "  <tbody>\n",
       "    <tr>\n",
       "      <th>0</th>\n",
       "      <td>0.143824</td>\n",
       "      <td>0.254507</td>\n",
       "      <td>0.251221</td>\n",
       "      <td>0.207801</td>\n",
       "      <td>0.185636</td>\n",
       "      <td>0.164947</td>\n",
       "    </tr>\n",
       "    <tr>\n",
       "      <th>1</th>\n",
       "      <td>1.561576</td>\n",
       "      <td>0.918996</td>\n",
       "      <td>0.716891</td>\n",
       "      <td>0.445428</td>\n",
       "      <td>0.318274</td>\n",
       "      <td>0.261375</td>\n",
       "    </tr>\n",
       "    <tr>\n",
       "      <th>2</th>\n",
       "      <td>1.038921</td>\n",
       "      <td>0.516757</td>\n",
       "      <td>0.369068</td>\n",
       "      <td>0.153290</td>\n",
       "      <td>0.092315</td>\n",
       "      <td>0.075497</td>\n",
       "    </tr>\n",
       "    <tr>\n",
       "      <th>3</th>\n",
       "      <td>1.168157</td>\n",
       "      <td>0.700646</td>\n",
       "      <td>0.498613</td>\n",
       "      <td>0.237713</td>\n",
       "      <td>0.169856</td>\n",
       "      <td>0.139922</td>\n",
       "    </tr>\n",
       "    <tr>\n",
       "      <th>4</th>\n",
       "      <td>0.860468</td>\n",
       "      <td>0.275717</td>\n",
       "      <td>0.079422</td>\n",
       "      <td>-0.064377</td>\n",
       "      <td>-0.113321</td>\n",
       "      <td>-0.127512</td>\n",
       "    </tr>\n",
       "    <tr>\n",
       "      <th>Range</th>\n",
       "      <td>-1.417752</td>\n",
       "      <td>-0.664489</td>\n",
       "      <td>-0.637470</td>\n",
       "      <td>-0.509804</td>\n",
       "      <td>-0.431595</td>\n",
       "      <td>-0.388887</td>\n",
       "    </tr>\n",
       "  </tbody>\n",
       "</table>\n",
       "</div>"
      ],
      "text/plain": [
       "       V_S_R 1 month  V_S_R 2 month  V_S_R 3 month  V_S_R 6 month  \\\n",
       "0           0.143824       0.254507       0.251221       0.207801   \n",
       "1           1.561576       0.918996       0.716891       0.445428   \n",
       "2           1.038921       0.516757       0.369068       0.153290   \n",
       "3           1.168157       0.700646       0.498613       0.237713   \n",
       "4           0.860468       0.275717       0.079422      -0.064377   \n",
       "Range      -1.417752      -0.664489      -0.637470      -0.509804   \n",
       "\n",
       "       V_S_R 9 month  V_S_R 12 month  \n",
       "0           0.185636        0.164947  \n",
       "1           0.318274        0.261375  \n",
       "2           0.092315        0.075497  \n",
       "3           0.169856        0.139922  \n",
       "4          -0.113321       -0.127512  \n",
       "Range      -0.431595       -0.388887  "
      ]
     },
     "execution_count": 1060,
     "metadata": {},
     "output_type": "execute_result"
    }
   ],
   "source": [
    "ES_VS = XS_VAR_SWAPS[1:].reset_index(drop=True)\n",
    "ES_VS['Slope_Quantile'] = pd.qcut(scaled_VS['Slope'], q=5, labels=False)[:-1]\n",
    "VS_Q_Ret = ES_VS.sort_values(by='Slope_Quantile').groupby('Slope_Quantile').mean(numeric_only=True)*100\n",
    "range_row = pd.DataFrame(VS_Q_Ret.min() - VS_Q_Ret.max()).T\n",
    "range_row.index = ['Range']\n",
    "VS_Q_Ret = pd.concat([VS_Q_Ret, range_row])\n",
    "VS_Q_Ret"
   ]
  },
  {
   "cell_type": "code",
   "execution_count": 1282,
   "id": "7847cd18",
   "metadata": {},
   "outputs": [
    {
     "data": {
      "text/html": [
       "<div>\n",
       "<style scoped>\n",
       "    .dataframe tbody tr th:only-of-type {\n",
       "        vertical-align: middle;\n",
       "    }\n",
       "\n",
       "    .dataframe tbody tr th {\n",
       "        vertical-align: top;\n",
       "    }\n",
       "\n",
       "    .dataframe thead th {\n",
       "        text-align: right;\n",
       "    }\n",
       "</style>\n",
       "<table border=\"1\" class=\"dataframe\">\n",
       "  <thead>\n",
       "    <tr style=\"text-align: right;\">\n",
       "      <th></th>\n",
       "      <th>V_F_R 1 month_StdErr</th>\n",
       "      <th>V_F_R 2 month_StdErr</th>\n",
       "      <th>V_F_R 3 month_StdErr</th>\n",
       "      <th>V_F_R 6 month_StdErr</th>\n",
       "      <th>V_F_R 9 month_StdErr</th>\n",
       "      <th>V_F_R 12 month_StdErr</th>\n",
       "    </tr>\n",
       "  </thead>\n",
       "  <tbody>\n",
       "    <tr>\n",
       "      <th>0</th>\n",
       "      <td>0.236179</td>\n",
       "      <td>0.196236</td>\n",
       "      <td>0.165679</td>\n",
       "      <td>0.1526</td>\n",
       "      <td>0.147937</td>\n",
       "      <td>0.149401</td>\n",
       "    </tr>\n",
       "  </tbody>\n",
       "</table>\n",
       "</div>"
      ],
      "text/plain": [
       "   V_F_R 1 month_StdErr  V_F_R 2 month_StdErr  V_F_R 3 month_StdErr  \\\n",
       "0              0.236179              0.196236              0.165679   \n",
       "\n",
       "   V_F_R 6 month_StdErr  V_F_R 9 month_StdErr  V_F_R 12 month_StdErr  \n",
       "0                0.1526              0.147937               0.149401  "
      ]
     },
     "execution_count": 1282,
     "metadata": {},
     "output_type": "execute_result"
    }
   ],
   "source": [
    "ES_VF = XS_VIX_FUT[1:].reset_index(drop=True,inplace=False)\n",
    "ES_VF['Slope_Quantile'] = pd.qcut(scaled_VF['Slope'], q=5, labels=False)[:-1]\n",
    "grouped = ES_VF.sort_values(by='Slope_Quantile').groupby('Slope_Quantile')\n",
    "mean = grouped.mean(numeric_only=True) * 100\n",
    "std_dev = grouped.std(numeric_only=True)\n",
    "count = grouped.count()\n",
    "std_error = std_dev / np.sqrt(count)*100\n",
    "std_error = std_error[['V_F_R 1 month','V_F_R 2 month','V_F_R 3 month','V_F_R 6 month','V_F_R 9 month','V_F_R 12 month']]\n",
    "# Add a suffix to distinguish between mean and standard error columns\n",
    "mean = mean.add_suffix('_Mean')\n",
    "std_error = std_error.add_suffix('_StdErr')\n",
    "\n",
    "# Concatenate mean and standard error DataFrames\n",
    "result = pd.concat([mean, std_error], axis=1)\n",
    "\n",
    "# Calculate the range row and add to the result\n",
    "range_row = pd.DataFrame(result.min() - result.max()).T\n",
    "range_row.index = ['Range']\n",
    "result = pd.concat([result, range_row])\n",
    "result\n",
    "\n",
    "std_error_range(std_error)\n"
   ]
  },
  {
   "cell_type": "code",
   "execution_count": 1283,
   "id": "c4ef3a31",
   "metadata": {},
   "outputs": [
    {
     "data": {
      "text/html": [
       "<div>\n",
       "<style scoped>\n",
       "    .dataframe tbody tr th:only-of-type {\n",
       "        vertical-align: middle;\n",
       "    }\n",
       "\n",
       "    .dataframe tbody tr th {\n",
       "        vertical-align: top;\n",
       "    }\n",
       "\n",
       "    .dataframe thead th {\n",
       "        text-align: right;\n",
       "    }\n",
       "</style>\n",
       "<table border=\"1\" class=\"dataframe\">\n",
       "  <thead>\n",
       "    <tr style=\"text-align: right;\">\n",
       "      <th></th>\n",
       "      <th>S_R 1 month_StdErr</th>\n",
       "      <th>S_R 2 month_StdErr</th>\n",
       "      <th>S_R 3 month_StdErr</th>\n",
       "      <th>S_R 6 month_StdErr</th>\n",
       "      <th>S_R 9 month_StdErr</th>\n",
       "      <th>S_R 12 month_StdErr</th>\n",
       "    </tr>\n",
       "  </thead>\n",
       "  <tbody>\n",
       "    <tr>\n",
       "      <th>0</th>\n",
       "      <td>0.253823</td>\n",
       "      <td>0.162199</td>\n",
       "      <td>0.130574</td>\n",
       "      <td>0.093988</td>\n",
       "      <td>0.076734</td>\n",
       "      <td>0.072886</td>\n",
       "    </tr>\n",
       "  </tbody>\n",
       "</table>\n",
       "</div>"
      ],
      "text/plain": [
       "   S_R 1 month_StdErr  S_R 2 month_StdErr  S_R 3 month_StdErr  \\\n",
       "0            0.253823            0.162199            0.130574   \n",
       "\n",
       "   S_R 6 month_StdErr  S_R 9 month_StdErr  S_R 12 month_StdErr  \n",
       "0            0.093988            0.076734             0.072886  "
      ]
     },
     "execution_count": 1283,
     "metadata": {},
     "output_type": "execute_result"
    }
   ],
   "source": [
    "ES_STRADDLE =XS_STRADDLE[1:].reset_index(drop=True)\n",
    "ES_STRADDLE['Slope_Quantile'] = pd.qcut(scaled_S['Slope'], q=5, labels=False)[:-1]\n",
    "\n",
    "grouped = ES_STRADDLE.sort_values(by='Slope_Quantile').groupby('Slope_Quantile')\n",
    "mean = grouped.mean(numeric_only=True) * 100\n",
    "std_dev = grouped.std(numeric_only=True)\n",
    "count = grouped.count()\n",
    "std_error = std_dev / np.sqrt(count)*100\n",
    "std_error = std_error[['S_R 1 month','S_R 2 month','S_R 3 month','S_R 6 month','S_R 9 month','S_R 12 month']]\n",
    "# Add a suffix to distinguish between mean and standard error columns\n",
    "mean = mean.add_suffix('_Mean')\n",
    "std_error = std_error.add_suffix('_StdErr')\n",
    "\n",
    "# Concatenate mean and standard error DataFrames\n",
    "result = pd.concat([mean, std_error], axis=1)\n",
    "\n",
    "# Calculate the range row and add to the result\n",
    "range_row = pd.DataFrame(result.min() - result.max()).T\n",
    "range_row.index = ['Range']\n",
    "result = pd.concat([result, range_row])\n",
    "result\n",
    "\n",
    "std_error_range(std_error)"
   ]
  },
  {
   "cell_type": "markdown",
   "id": "48d8a047",
   "metadata": {},
   "source": [
    "### Removing Crisis"
   ]
  },
  {
   "cell_type": "code",
   "execution_count": 1137,
   "id": "38c54134",
   "metadata": {},
   "outputs": [],
   "source": [
    "CRASH_VS_I_gfc = [VAR_SWAPS_MERGED.index.get_loc('2008-01-02'),VAR_SWAPS_MERGED.index.get_loc('2009-12-31')]\n",
    "CRASH_VF_I_gfc = [VIX_FUT_MERGED.index.get_loc('2008-01-02'),VIX_FUT_MERGED.index.get_loc('2009-12-31')]\n",
    "CRASH_S_I_gfc = [STRADDLE_MERGED.index.get_loc('2008-01-02'),STRADDLE_MERGED.index.get_loc('2009-12-31')]\n",
    "\n",
    "CRASH_VS_I_c = [VAR_SWAPS_MERGED.index.get_loc('2020-02-20'),VAR_SWAPS_MERGED.index.get_loc('2020-03-25')]\n",
    "CRASH_VF_I_c = [VIX_FUT_MERGED.index.get_loc('2020-02-20'),VIX_FUT_MERGED.index.get_loc('2020-03-25')]\n",
    "CRASH_S_I_c = [STRADDLE_MERGED.index.get_loc('2020-02-20'),STRADDLE_MERGED.index.get_loc('2020-03-25')]"
   ]
  },
  {
   "cell_type": "code",
   "execution_count": 1138,
   "id": "a45ea31a",
   "metadata": {},
   "outputs": [],
   "source": [
    "a = pd.concat([scaled_VS[:CRASH_VS_I_gfc[0]],scaled_VS[CRASH_VS_I_gfc[1]:]]) \n",
    "b = pd.concat([scaled_VF[:CRASH_VF_I_gfc[0]],scaled_VF[CRASH_VF_I_gfc[1]:]]) \n",
    "c = pd.concat([scaled_S[:CRASH_S_I_gfc[0]],scaled_S[CRASH_S_I_gfc[1]:]]) \n",
    "\n",
    "scaled_NC_VS = pd.concat([a[:CRASH_VS_I_c[0]],a[CRASH_VS_I_c[1]:]]) \n",
    "scaled_NC_VF = pd.concat([b[:CRASH_VF_I_c[0]],b[CRASH_VF_I_c[1]:]]) \n",
    "scaled_NC_S = pd.concat([c[:CRASH_S_I_c[0]],c[CRASH_S_I_c[1]:]]) "
   ]
  },
  {
   "cell_type": "code",
   "execution_count": 1139,
   "id": "0da21624",
   "metadata": {},
   "outputs": [],
   "source": [
    "XS_NC_VS = pd.concat([XS_VAR_SWAPS[:CRASH_VS_I[0]],XS_VAR_SWAPS[CRASH_VS_I[1]:]]) \n",
    "XS_NC_VF = pd.concat([XS_VIX_FUT[:CRASH_VF_I[0]],XS_VIX_FUT[CRASH_VF_I[1]:]]) \n",
    "XS_NC_S = pd.concat([XS_STRADDLE[:CRASH_S_I[0]],XS_STRADDLE[CRASH_S_I[1]:]]) "
   ]
  },
  {
   "cell_type": "markdown",
   "id": "097356fa",
   "metadata": {},
   "source": [
    "### Robustness of Slope as a predictor"
   ]
  },
  {
   "cell_type": "markdown",
   "id": "3a1b827e",
   "metadata": {},
   "source": [
    "### Variance Swap"
   ]
  },
  {
   "cell_type": "markdown",
   "id": "a7fb24e8",
   "metadata": {},
   "source": [
    "### Next-month Returns"
   ]
  },
  {
   "cell_type": "code",
   "execution_count": 1253,
   "id": "d25c65cf",
   "metadata": {},
   "outputs": [],
   "source": [
    "m_ES_VS = cr_VAR_SWAPS\n",
    "m_ES_VS['Slope_Quantile'] = pd.qcut(scaled_VS['Slope'], q=5, labels=False)\n",
    "m_VS_Q_Ret = m_ES_VS.sort_values(by='Slope_Quantile').groupby('Slope_Quantile').mean(numeric_only=True)*100\n",
    "range_row = pd.DataFrame(m_VS_Q_Ret.min() - m_VS_Q_Ret.max()).T\n",
    "range_row.index = ['Next-Month Returns']\n",
    "m_VS_Q_Ret = pd.concat([m_VS_Q_Ret, range_row])"
   ]
  },
  {
   "cell_type": "code",
   "execution_count": 1142,
   "id": "3c45159b",
   "metadata": {},
   "outputs": [],
   "source": [
    "VS_Robustness = VS_Q_Ret.iloc[5:,:]\n",
    "VS_Robustness = pd.concat([VS_Robustness, m_VS_Q_Ret.iloc[5:,:]])"
   ]
  },
  {
   "cell_type": "markdown",
   "id": "7fc1d050",
   "metadata": {},
   "source": [
    "### Crisis Removed"
   ]
  },
  {
   "cell_type": "code",
   "execution_count": 1143,
   "id": "f9a7a209",
   "metadata": {},
   "outputs": [],
   "source": [
    "NC_ES_VS = XS_NC_VS[1:].reset_index(drop=True)\n",
    "NC_ES_VS['Slope_Quantile'] = pd.qcut(scaled_NC_VS['Slope'], q=5, labels=False)\n",
    "NC_VS_Q_Ret = NC_ES_VS.sort_values(by='Slope_Quantile').groupby('Slope_Quantile').mean(numeric_only=True)*100\n",
    "range_row = pd.DataFrame(NC_VS_Q_Ret.min() - NC_VS_Q_Ret.max()).T\n",
    "range_row.index = ['Crisis Removed']\n",
    "NC_VS_Q_Ret = pd.concat([NC_VS_Q_Ret, range_row])"
   ]
  },
  {
   "cell_type": "code",
   "execution_count": 1144,
   "id": "b5b4be84",
   "metadata": {},
   "outputs": [],
   "source": [
    "VS_Robustness = pd.concat([VS_Robustness, NC_VS_Q_Ret.iloc[5:,:]])"
   ]
  },
  {
   "cell_type": "markdown",
   "id": "0b2714b4",
   "metadata": {},
   "source": [
    "### Bottom 5% Slope removed"
   ]
  },
  {
   "cell_type": "code",
   "execution_count": 1145,
   "id": "158436a9",
   "metadata": {},
   "outputs": [],
   "source": [
    "ES_VS = XS_VAR_SWAPS[1:].reset_index(drop=True)\n",
    "ES_VS['Slope'] = scaled_VS['Slope']\n",
    "ES_VS['Slope_Quantile'] = pd.qcut(scaled_VS['Slope'], q=5, labels=False)\n",
    "ES_VS = ES_VS[ES_VS['Slope'] > ES_VS['Slope'].quantile(0.05)]\n",
    "ES_VS = ES_VS.drop('Slope',axis=1)\n",
    "BFIVE_VS_Q_Ret = ES_VS.sort_values(by='Slope_Quantile').groupby('Slope_Quantile').mean(numeric_only=True)*100\n",
    "range_row = pd.DataFrame(BFIVE_VS_Q_Ret.min() - BFIVE_VS_Q_Ret.max()).T\n",
    "range_row.index = ['Bottom 5% Slope removed']\n",
    "BFIVE_VS_Q_Ret = pd.concat([BFIVE_VS_Q_Ret, range_row])"
   ]
  },
  {
   "cell_type": "code",
   "execution_count": 1146,
   "id": "7c1c583c",
   "metadata": {},
   "outputs": [],
   "source": [
    "VS_Robustness = pd.concat([VS_Robustness, BFIVE_VS_Q_Ret.iloc[5:,:]])"
   ]
  },
  {
   "cell_type": "markdown",
   "id": "195959d5",
   "metadata": {},
   "source": [
    "### Slope = VIX12 - VIX1"
   ]
  },
  {
   "cell_type": "code",
   "execution_count": 1147,
   "id": "94c0fb06",
   "metadata": {},
   "outputs": [],
   "source": [
    "NM_ES_VS = XS_VAR_SWAPS[1:].reset_index(drop=True)\n",
    "NM_ES_VS['Slope_Quantile'] = pd.qcut((VAR_SWAPS_MERGED['12 month'] - VAR_SWAPS_MERGED['1 month']), q=5, labels=False).reset_index(drop=True)\n",
    "NM_VS_Q_Ret = NM_ES_VS.sort_values(by='Slope_Quantile').groupby('Slope_Quantile').mean(numeric_only=True)*100\n",
    "range_row = pd.DataFrame(NM_VS_Q_Ret.min() - NM_VS_Q_Ret.max()).T\n",
    "range_row.index = ['Slope = VIX 12-VIX 1']\n",
    "NM_VS_Q_Ret = pd.concat([NM_VS_Q_Ret, range_row])"
   ]
  },
  {
   "cell_type": "code",
   "execution_count": 1148,
   "id": "74639d1c",
   "metadata": {},
   "outputs": [],
   "source": [
    "VS_Robustness = pd.concat([VS_Robustness, NM_VS_Q_Ret.iloc[5:,:]])"
   ]
  },
  {
   "cell_type": "code",
   "execution_count": 1149,
   "id": "4fdd82a3",
   "metadata": {},
   "outputs": [
    {
     "data": {
      "text/html": [
       "<div>\n",
       "<style scoped>\n",
       "    .dataframe tbody tr th:only-of-type {\n",
       "        vertical-align: middle;\n",
       "    }\n",
       "\n",
       "    .dataframe tbody tr th {\n",
       "        vertical-align: top;\n",
       "    }\n",
       "\n",
       "    .dataframe thead th {\n",
       "        text-align: right;\n",
       "    }\n",
       "</style>\n",
       "<table border=\"1\" class=\"dataframe\">\n",
       "  <thead>\n",
       "    <tr style=\"text-align: right;\">\n",
       "      <th></th>\n",
       "      <th>V_S_R 1 month</th>\n",
       "      <th>V_S_R 2 month</th>\n",
       "      <th>V_S_R 3 month</th>\n",
       "      <th>V_S_R 6 month</th>\n",
       "      <th>V_S_R 9 month</th>\n",
       "      <th>V_S_R 12 month</th>\n",
       "    </tr>\n",
       "  </thead>\n",
       "  <tbody>\n",
       "    <tr>\n",
       "      <th>Range</th>\n",
       "      <td>-1.417752</td>\n",
       "      <td>-0.664489</td>\n",
       "      <td>-0.637470</td>\n",
       "      <td>-0.509804</td>\n",
       "      <td>-0.431595</td>\n",
       "      <td>-0.388887</td>\n",
       "    </tr>\n",
       "    <tr>\n",
       "      <th>Next-Month Returns</th>\n",
       "      <td>-29.190882</td>\n",
       "      <td>-23.138428</td>\n",
       "      <td>-19.845575</td>\n",
       "      <td>-14.135011</td>\n",
       "      <td>-11.330696</td>\n",
       "      <td>-10.046927</td>\n",
       "    </tr>\n",
       "    <tr>\n",
       "      <th>Crisis Removed</th>\n",
       "      <td>-1.439533</td>\n",
       "      <td>-0.656717</td>\n",
       "      <td>-0.520218</td>\n",
       "      <td>-0.382588</td>\n",
       "      <td>-0.290538</td>\n",
       "      <td>-0.260852</td>\n",
       "    </tr>\n",
       "    <tr>\n",
       "      <th>Bottom 5% Slope removed</th>\n",
       "      <td>-0.996327</td>\n",
       "      <td>-0.643279</td>\n",
       "      <td>-0.637470</td>\n",
       "      <td>-0.509804</td>\n",
       "      <td>-0.431595</td>\n",
       "      <td>-0.388887</td>\n",
       "    </tr>\n",
       "    <tr>\n",
       "      <th>Slope = VIX 12-VIX 1</th>\n",
       "      <td>-2.809722</td>\n",
       "      <td>-1.507775</td>\n",
       "      <td>-0.977455</td>\n",
       "      <td>-0.375228</td>\n",
       "      <td>-0.217102</td>\n",
       "      <td>-0.184494</td>\n",
       "    </tr>\n",
       "  </tbody>\n",
       "</table>\n",
       "</div>"
      ],
      "text/plain": [
       "                         V_S_R 1 month  V_S_R 2 month  V_S_R 3 month  \\\n",
       "Range                        -1.417752      -0.664489      -0.637470   \n",
       "Next-Month Returns          -29.190882     -23.138428     -19.845575   \n",
       "Crisis Removed               -1.439533      -0.656717      -0.520218   \n",
       "Bottom 5% Slope removed      -0.996327      -0.643279      -0.637470   \n",
       "Slope = VIX 12-VIX 1         -2.809722      -1.507775      -0.977455   \n",
       "\n",
       "                         V_S_R 6 month  V_S_R 9 month  V_S_R 12 month  \n",
       "Range                        -0.509804      -0.431595       -0.388887  \n",
       "Next-Month Returns          -14.135011     -11.330696      -10.046927  \n",
       "Crisis Removed               -0.382588      -0.290538       -0.260852  \n",
       "Bottom 5% Slope removed      -0.509804      -0.431595       -0.388887  \n",
       "Slope = VIX 12-VIX 1         -0.375228      -0.217102       -0.184494  "
      ]
     },
     "execution_count": 1149,
     "metadata": {},
     "output_type": "execute_result"
    }
   ],
   "source": [
    "VS_Robustness"
   ]
  },
  {
   "cell_type": "markdown",
   "id": "5c7895bc",
   "metadata": {},
   "source": [
    "### VIX Futures"
   ]
  },
  {
   "cell_type": "markdown",
   "id": "e2914d2a",
   "metadata": {},
   "source": [
    "### Next-month Returns"
   ]
  },
  {
   "cell_type": "code",
   "execution_count": 1267,
   "id": "20bbefc5",
   "metadata": {},
   "outputs": [],
   "source": [
    "m_ES_VF = cr_VIX_FUT\n",
    "m_ES_VF['Slope_Quantile'] = pd.qcut(scaled_VF['Slope'], q=5, labels=False)\n",
    "m_VF_Q_Ret = m_ES_VF.sort_values(by='Slope_Quantile').groupby('Slope_Quantile').mean(numeric_only=True)*100\n",
    "\n",
    "std_errors = m_ES_VF.sort_values(by='Slope_Quantile').groupby('Slope_Quantile').std(numeric_only=True) / np.sqrt(m_ES_VF.groupby('Slope_Quantile').size())\n",
    "m_VF_Q_Ret = m_VF_Q_Ret.add_suffix('_Mean')\n",
    "std_errors = std_errors.add_suffix('_StdErr')\n",
    "m_VF_Q_Ret = pd.concat([m_VF_Q_Ret, std_errors], axis=1)\n",
    "\n",
    "range_row = pd.DataFrame(m_VF_Q_Ret.min() - m_VF_Q_Ret.max()).T\n",
    "range_row.index = ['Next-Month Returns']\n",
    "m_VF_Q_Ret = pd.concat([m_VF_Q_Ret, range_row])"
   ]
  },
  {
   "cell_type": "code",
   "execution_count": 1284,
   "id": "5f1491c0",
   "metadata": {},
   "outputs": [
    {
     "data": {
      "text/html": [
       "<div>\n",
       "<style scoped>\n",
       "    .dataframe tbody tr th:only-of-type {\n",
       "        vertical-align: middle;\n",
       "    }\n",
       "\n",
       "    .dataframe tbody tr th {\n",
       "        vertical-align: top;\n",
       "    }\n",
       "\n",
       "    .dataframe thead th {\n",
       "        text-align: right;\n",
       "    }\n",
       "</style>\n",
       "<table border=\"1\" class=\"dataframe\">\n",
       "  <thead>\n",
       "    <tr style=\"text-align: right;\">\n",
       "      <th></th>\n",
       "      <th>DATE</th>\n",
       "      <th>V_F_R 1 month</th>\n",
       "      <th>V_F_R 12 month</th>\n",
       "      <th>V_F_R 2 month</th>\n",
       "      <th>V_F_R 3 month</th>\n",
       "      <th>V_F_R 6 month</th>\n",
       "      <th>V_F_R 9 month</th>\n",
       "    </tr>\n",
       "  </thead>\n",
       "  <tbody>\n",
       "    <tr>\n",
       "      <th>0</th>\n",
       "      <td>NaN</td>\n",
       "      <td>0.982834</td>\n",
       "      <td>0.620491</td>\n",
       "      <td>0.84825</td>\n",
       "      <td>0.755965</td>\n",
       "      <td>0.690201</td>\n",
       "      <td>0.646115</td>\n",
       "    </tr>\n",
       "  </tbody>\n",
       "</table>\n",
       "</div>"
      ],
      "text/plain": [
       "   DATE  V_F_R 1 month  V_F_R 12 month  V_F_R 2 month  V_F_R 3 month  \\\n",
       "0   NaN       0.982834        0.620491        0.84825       0.755965   \n",
       "\n",
       "   V_F_R 6 month  V_F_R 9 month  \n",
       "0       0.690201       0.646115  "
      ]
     },
     "execution_count": 1284,
     "metadata": {},
     "output_type": "execute_result"
    }
   ],
   "source": [
    "grouped = m_ES_VF.sort_values(by='Slope_Quantile').groupby('Slope_Quantile')\n",
    "std_dev = grouped.std(numeric_only=True)\n",
    "counts = grouped.count()\n",
    "std_error = std_dev / np.sqrt(counts)*100\n",
    "std_error_range(std_error)"
   ]
  },
  {
   "cell_type": "code",
   "execution_count": 1191,
   "id": "853bb4ff",
   "metadata": {},
   "outputs": [],
   "source": [
    "VF_Robustness = VF_Q_Ret.iloc[5:,:]\n",
    "VF_Robustness = pd.concat([VF_Robustness, m_VF_Q_Ret.iloc[5:,:]])"
   ]
  },
  {
   "cell_type": "markdown",
   "id": "a8947fc6",
   "metadata": {},
   "source": [
    "### Crisis Removed"
   ]
  },
  {
   "cell_type": "code",
   "execution_count": 1152,
   "id": "b9e2331e",
   "metadata": {},
   "outputs": [],
   "source": [
    "NC_ES_VF = XS_NC_VF[1:].reset_index(drop=True,inplace=False)\n",
    "NC_ES_VF['Slope_Quantile'] = pd.qcut(scaled_NC_VF['Slope'], q=5, labels=False)\n",
    "NC_VF_Q_Ret = NC_ES_VF.sort_values(by='Slope_Quantile').groupby('Slope_Quantile').mean(numeric_only=True)*100\n",
    "range_row = pd.DataFrame(NC_VF_Q_Ret.min() - NC_VF_Q_Ret.max()).T\n",
    "range_row.index = ['Crisis Removed']\n",
    "NC_VF_Q_Ret = pd.concat([NC_VF_Q_Ret, range_row])"
   ]
  },
  {
   "cell_type": "code",
   "execution_count": 1286,
   "id": "84e689e6",
   "metadata": {},
   "outputs": [
    {
     "data": {
      "text/html": [
       "<div>\n",
       "<style scoped>\n",
       "    .dataframe tbody tr th:only-of-type {\n",
       "        vertical-align: middle;\n",
       "    }\n",
       "\n",
       "    .dataframe tbody tr th {\n",
       "        vertical-align: top;\n",
       "    }\n",
       "\n",
       "    .dataframe thead th {\n",
       "        text-align: right;\n",
       "    }\n",
       "</style>\n",
       "<table border=\"1\" class=\"dataframe\">\n",
       "  <thead>\n",
       "    <tr style=\"text-align: right;\">\n",
       "      <th></th>\n",
       "      <th>V_F_R 1 month</th>\n",
       "      <th>V_F_R 2 month</th>\n",
       "      <th>V_F_R 3 month</th>\n",
       "      <th>V_F_R 6 month</th>\n",
       "      <th>V_F_R 9 month</th>\n",
       "      <th>V_F_R 12 month</th>\n",
       "    </tr>\n",
       "  </thead>\n",
       "  <tbody>\n",
       "    <tr>\n",
       "      <th>0</th>\n",
       "      <td>0.228825</td>\n",
       "      <td>0.180101</td>\n",
       "      <td>0.159604</td>\n",
       "      <td>0.150918</td>\n",
       "      <td>0.149772</td>\n",
       "      <td>0.152402</td>\n",
       "    </tr>\n",
       "  </tbody>\n",
       "</table>\n",
       "</div>"
      ],
      "text/plain": [
       "   V_F_R 1 month  V_F_R 2 month  V_F_R 3 month  V_F_R 6 month  V_F_R 9 month  \\\n",
       "0       0.228825       0.180101       0.159604       0.150918       0.149772   \n",
       "\n",
       "   V_F_R 12 month  \n",
       "0        0.152402  "
      ]
     },
     "execution_count": 1286,
     "metadata": {},
     "output_type": "execute_result"
    }
   ],
   "source": [
    "grouped = NC_ES_VF.sort_values(by='Slope_Quantile').groupby('Slope_Quantile')\n",
    "std_dev = grouped.std(numeric_only=True)\n",
    "counts = grouped.count()\n",
    "std_error = (std_dev / np.sqrt(counts))*100\n",
    "std_error_range(std_error)"
   ]
  },
  {
   "cell_type": "code",
   "execution_count": 1153,
   "id": "a0c8e285",
   "metadata": {},
   "outputs": [],
   "source": [
    "VF_Robustness = pd.concat([VF_Robustness, NC_VF_Q_Ret.iloc[5:,:]])"
   ]
  },
  {
   "cell_type": "markdown",
   "id": "754eb4ba",
   "metadata": {},
   "source": [
    "### Bottom 5% Slope removed"
   ]
  },
  {
   "cell_type": "code",
   "execution_count": 1154,
   "id": "e3342a8b",
   "metadata": {},
   "outputs": [],
   "source": [
    "ES_VF = XS_VIX_FUT[1:].reset_index(drop=True,inplace=False)\n",
    "ES_VF['Slope'] = scaled_VF['Slope']\n",
    "ES_VF['Slope_Quantile'] = pd.qcut(scaled_VF['Slope'], q=5, labels=False)\n",
    "ES_VF = ES_VF[ES_VF['Slope'] > ES_VF['Slope'].quantile(0.05)]\n",
    "ES_VF = ES_VF.drop('Slope',axis=1)\n",
    "BFIVE_VF_Q_Ret = ES_VF.sort_values(by='Slope_Quantile').groupby('Slope_Quantile').mean(numeric_only=True)*100\n",
    "range_row = pd.DataFrame(BFIVE_VF_Q_Ret.min() - BFIVE_VF_Q_Ret.max()).T\n",
    "range_row.index = ['Bottom 5% Slope removed']\n",
    "BFIVE_VF_Q_Ret = pd.concat([BFIVE_VF_Q_Ret, range_row])"
   ]
  },
  {
   "cell_type": "code",
   "execution_count": 1287,
   "id": "5aaa0b2d",
   "metadata": {},
   "outputs": [
    {
     "data": {
      "text/html": [
       "<div>\n",
       "<style scoped>\n",
       "    .dataframe tbody tr th:only-of-type {\n",
       "        vertical-align: middle;\n",
       "    }\n",
       "\n",
       "    .dataframe tbody tr th {\n",
       "        vertical-align: top;\n",
       "    }\n",
       "\n",
       "    .dataframe thead th {\n",
       "        text-align: right;\n",
       "    }\n",
       "</style>\n",
       "<table border=\"1\" class=\"dataframe\">\n",
       "  <thead>\n",
       "    <tr style=\"text-align: right;\">\n",
       "      <th></th>\n",
       "      <th>V_F_R 1 month</th>\n",
       "      <th>V_F_R 2 month</th>\n",
       "      <th>V_F_R 3 month</th>\n",
       "      <th>V_F_R 6 month</th>\n",
       "      <th>V_F_R 9 month</th>\n",
       "      <th>V_F_R 12 month</th>\n",
       "    </tr>\n",
       "  </thead>\n",
       "  <tbody>\n",
       "    <tr>\n",
       "      <th>0</th>\n",
       "      <td>0.236179</td>\n",
       "      <td>0.196236</td>\n",
       "      <td>0.165679</td>\n",
       "      <td>0.1526</td>\n",
       "      <td>0.147937</td>\n",
       "      <td>0.149401</td>\n",
       "    </tr>\n",
       "  </tbody>\n",
       "</table>\n",
       "</div>"
      ],
      "text/plain": [
       "   V_F_R 1 month  V_F_R 2 month  V_F_R 3 month  V_F_R 6 month  V_F_R 9 month  \\\n",
       "0       0.236179       0.196236       0.165679         0.1526       0.147937   \n",
       "\n",
       "   V_F_R 12 month  \n",
       "0        0.149401  "
      ]
     },
     "execution_count": 1287,
     "metadata": {},
     "output_type": "execute_result"
    }
   ],
   "source": [
    "grouped = ES_VF.sort_values(by='Slope_Quantile').groupby('Slope_Quantile')\n",
    "std_dev = grouped.std(numeric_only=True)\n",
    "counts = grouped.count()\n",
    "std_error = (std_dev / np.sqrt(counts))*100\n",
    "std_error_range(std_error)"
   ]
  },
  {
   "cell_type": "code",
   "execution_count": 1155,
   "id": "a4390378",
   "metadata": {},
   "outputs": [],
   "source": [
    "VF_Robustness = pd.concat([VF_Robustness.iloc[:,2:], BFIVE_VF_Q_Ret.iloc[5:,:]])"
   ]
  },
  {
   "cell_type": "markdown",
   "id": "d2916522",
   "metadata": {},
   "source": [
    "### Slope = VIX12 - VIX1"
   ]
  },
  {
   "cell_type": "code",
   "execution_count": 1157,
   "id": "d415e103",
   "metadata": {},
   "outputs": [],
   "source": [
    "NM_ES_VF = XS_VIX_FUT[1:].reset_index(drop=True)\n",
    "NM_ES_VF['Slope_Quantile'] = pd.qcut((VIX_FUT_MERGED['12 month'] - VIX_FUT_MERGED['1 month']), q=5, labels=False).reset_index(drop=True)\n",
    "NM_VF_Q_Ret = NM_ES_VF.sort_values(by='Slope_Quantile').groupby('Slope_Quantile').mean(numeric_only=True)*100\n",
    "range_row = pd.DataFrame(NM_VF_Q_Ret.min() - NM_VF_Q_Ret.max()).T\n",
    "range_row.index = ['Slope = VIX 12-VIX 1']\n",
    "NM_VF_Q_Ret = pd.concat([NM_VF_Q_Ret, range_row])"
   ]
  },
  {
   "cell_type": "code",
   "execution_count": 1288,
   "id": "cd9622c5",
   "metadata": {},
   "outputs": [
    {
     "data": {
      "text/html": [
       "<div>\n",
       "<style scoped>\n",
       "    .dataframe tbody tr th:only-of-type {\n",
       "        vertical-align: middle;\n",
       "    }\n",
       "\n",
       "    .dataframe tbody tr th {\n",
       "        vertical-align: top;\n",
       "    }\n",
       "\n",
       "    .dataframe thead th {\n",
       "        text-align: right;\n",
       "    }\n",
       "</style>\n",
       "<table border=\"1\" class=\"dataframe\">\n",
       "  <thead>\n",
       "    <tr style=\"text-align: right;\">\n",
       "      <th></th>\n",
       "      <th>V_F_R 1 month</th>\n",
       "      <th>V_F_R 2 month</th>\n",
       "      <th>V_F_R 3 month</th>\n",
       "      <th>V_F_R 6 month</th>\n",
       "      <th>V_F_R 9 month</th>\n",
       "      <th>V_F_R 12 month</th>\n",
       "    </tr>\n",
       "  </thead>\n",
       "  <tbody>\n",
       "    <tr>\n",
       "      <th>0</th>\n",
       "      <td>0.226377</td>\n",
       "      <td>0.167923</td>\n",
       "      <td>0.138413</td>\n",
       "      <td>0.121738</td>\n",
       "      <td>0.110395</td>\n",
       "      <td>0.102471</td>\n",
       "    </tr>\n",
       "  </tbody>\n",
       "</table>\n",
       "</div>"
      ],
      "text/plain": [
       "   V_F_R 1 month  V_F_R 2 month  V_F_R 3 month  V_F_R 6 month  V_F_R 9 month  \\\n",
       "0       0.226377       0.167923       0.138413       0.121738       0.110395   \n",
       "\n",
       "   V_F_R 12 month  \n",
       "0        0.102471  "
      ]
     },
     "execution_count": 1288,
     "metadata": {},
     "output_type": "execute_result"
    }
   ],
   "source": [
    "grouped = NM_ES_VF.sort_values(by='Slope_Quantile').groupby('Slope_Quantile')\n",
    "std_dev = grouped.std(numeric_only=True)\n",
    "counts = grouped.count()\n",
    "std_error = (std_dev / np.sqrt(counts))*100\n",
    "std_error_range(std_error)"
   ]
  },
  {
   "cell_type": "code",
   "execution_count": 1158,
   "id": "a5f05166",
   "metadata": {},
   "outputs": [],
   "source": [
    "VF_Robustness = pd.concat([VF_Robustness, NM_VF_Q_Ret.iloc[5:,:]])"
   ]
  },
  {
   "cell_type": "code",
   "execution_count": 1159,
   "id": "c98135c1",
   "metadata": {},
   "outputs": [
    {
     "data": {
      "text/html": [
       "<div>\n",
       "<style scoped>\n",
       "    .dataframe tbody tr th:only-of-type {\n",
       "        vertical-align: middle;\n",
       "    }\n",
       "\n",
       "    .dataframe tbody tr th {\n",
       "        vertical-align: top;\n",
       "    }\n",
       "\n",
       "    .dataframe thead th {\n",
       "        text-align: right;\n",
       "    }\n",
       "</style>\n",
       "<table border=\"1\" class=\"dataframe\">\n",
       "  <thead>\n",
       "    <tr style=\"text-align: right;\">\n",
       "      <th></th>\n",
       "      <th>V_F_R 1 month</th>\n",
       "      <th>V_F_R 2 month</th>\n",
       "      <th>V_F_R 3 month</th>\n",
       "      <th>V_F_R 6 month</th>\n",
       "      <th>V_F_R 9 month</th>\n",
       "      <th>V_F_R 12 month</th>\n",
       "    </tr>\n",
       "  </thead>\n",
       "  <tbody>\n",
       "    <tr>\n",
       "      <th>Range</th>\n",
       "      <td>-0.272033</td>\n",
       "      <td>-0.210087</td>\n",
       "      <td>-0.187775</td>\n",
       "      <td>-0.149724</td>\n",
       "      <td>-0.133765</td>\n",
       "      <td>-0.124185</td>\n",
       "    </tr>\n",
       "    <tr>\n",
       "      <th>Next-Month Returns</th>\n",
       "      <td>-7.020455</td>\n",
       "      <td>-6.023587</td>\n",
       "      <td>-5.309609</td>\n",
       "      <td>-4.551532</td>\n",
       "      <td>-4.075560</td>\n",
       "      <td>-3.733279</td>\n",
       "    </tr>\n",
       "    <tr>\n",
       "      <th>Crisis Removed</th>\n",
       "      <td>-0.300214</td>\n",
       "      <td>-0.249844</td>\n",
       "      <td>-0.237720</td>\n",
       "      <td>-0.208887</td>\n",
       "      <td>-0.206551</td>\n",
       "      <td>-0.195201</td>\n",
       "    </tr>\n",
       "    <tr>\n",
       "      <th>Bottom 5% Slope removed</th>\n",
       "      <td>-0.272033</td>\n",
       "      <td>-0.258889</td>\n",
       "      <td>-0.216900</td>\n",
       "      <td>-0.179595</td>\n",
       "      <td>-0.183399</td>\n",
       "      <td>-0.179653</td>\n",
       "    </tr>\n",
       "    <tr>\n",
       "      <th>Slope = VIX 12-VIX 1</th>\n",
       "      <td>-0.641890</td>\n",
       "      <td>-0.336317</td>\n",
       "      <td>-0.175945</td>\n",
       "      <td>-0.155629</td>\n",
       "      <td>-0.151765</td>\n",
       "      <td>-0.164948</td>\n",
       "    </tr>\n",
       "  </tbody>\n",
       "</table>\n",
       "</div>"
      ],
      "text/plain": [
       "                         V_F_R 1 month  V_F_R 2 month  V_F_R 3 month  \\\n",
       "Range                        -0.272033      -0.210087      -0.187775   \n",
       "Next-Month Returns           -7.020455      -6.023587      -5.309609   \n",
       "Crisis Removed               -0.300214      -0.249844      -0.237720   \n",
       "Bottom 5% Slope removed      -0.272033      -0.258889      -0.216900   \n",
       "Slope = VIX 12-VIX 1         -0.641890      -0.336317      -0.175945   \n",
       "\n",
       "                         V_F_R 6 month  V_F_R 9 month  V_F_R 12 month  \n",
       "Range                        -0.149724      -0.133765       -0.124185  \n",
       "Next-Month Returns           -4.551532      -4.075560       -3.733279  \n",
       "Crisis Removed               -0.208887      -0.206551       -0.195201  \n",
       "Bottom 5% Slope removed      -0.179595      -0.183399       -0.179653  \n",
       "Slope = VIX 12-VIX 1         -0.155629      -0.151765       -0.164948  "
      ]
     },
     "execution_count": 1159,
     "metadata": {},
     "output_type": "execute_result"
    }
   ],
   "source": [
    "VF_Robustness"
   ]
  },
  {
   "cell_type": "markdown",
   "id": "89db38db",
   "metadata": {},
   "source": [
    "### Straddle"
   ]
  },
  {
   "cell_type": "markdown",
   "id": "96dbc6ce",
   "metadata": {},
   "source": [
    "### Next-month Returns"
   ]
  },
  {
   "cell_type": "code",
   "execution_count": 1171,
   "id": "05c4ea2b",
   "metadata": {},
   "outputs": [],
   "source": [
    "m_ES_S = cr_STRADDLE\n",
    "m_ES_S['Slope_Quantile'] = pd.qcut(scaled_S['Slope'], q=5, labels=False)\n",
    "m_S_Q_Ret = m_ES_S.sort_values(by='Slope_Quantile').groupby('Slope_Quantile').mean(numeric_only=True)*100\n",
    "range_row = pd.DataFrame(m_S_Q_Ret.min() - m_S_Q_Ret.max()).T\n",
    "range_row.index = ['Next-Month Returns']\n",
    "m_S_Q_Ret = pd.concat([m_S_Q_Ret, range_row])"
   ]
  },
  {
   "cell_type": "code",
   "execution_count": 1278,
   "id": "9937c5b3",
   "metadata": {},
   "outputs": [
    {
     "data": {
      "text/html": [
       "<div>\n",
       "<style scoped>\n",
       "    .dataframe tbody tr th:only-of-type {\n",
       "        vertical-align: middle;\n",
       "    }\n",
       "\n",
       "    .dataframe tbody tr th {\n",
       "        vertical-align: top;\n",
       "    }\n",
       "\n",
       "    .dataframe thead th {\n",
       "        text-align: right;\n",
       "    }\n",
       "</style>\n",
       "<table border=\"1\" class=\"dataframe\">\n",
       "  <thead>\n",
       "    <tr style=\"text-align: right;\">\n",
       "      <th></th>\n",
       "      <th>DATE</th>\n",
       "      <th>S_R 1 month</th>\n",
       "      <th>S_R 12 month</th>\n",
       "      <th>S_R 2 month</th>\n",
       "      <th>S_R 3 month</th>\n",
       "      <th>S_R 6 month</th>\n",
       "      <th>S_R 9 month</th>\n",
       "    </tr>\n",
       "  </thead>\n",
       "  <tbody>\n",
       "    <tr>\n",
       "      <th>0</th>\n",
       "      <td>NaN</td>\n",
       "      <td>1.32931</td>\n",
       "      <td>0.378021</td>\n",
       "      <td>0.852737</td>\n",
       "      <td>0.66886</td>\n",
       "      <td>0.497228</td>\n",
       "      <td>0.400457</td>\n",
       "    </tr>\n",
       "  </tbody>\n",
       "</table>\n",
       "</div>"
      ],
      "text/plain": [
       "   DATE  S_R 1 month  S_R 12 month  S_R 2 month  S_R 3 month  S_R 6 month  \\\n",
       "0   NaN      1.32931      0.378021     0.852737      0.66886     0.497228   \n",
       "\n",
       "   S_R 9 month  \n",
       "0     0.400457  "
      ]
     },
     "execution_count": 1278,
     "metadata": {},
     "output_type": "execute_result"
    }
   ],
   "source": [
    "grouped = m_ES_S.sort_values(by='Slope_Quantile').groupby('Slope_Quantile')\n",
    "std_dev = grouped.std(numeric_only=True)\n",
    "counts = grouped.count()\n",
    "std_error = (std_dev / np.sqrt(counts))*100\n",
    "std_error_range(std_error)"
   ]
  },
  {
   "cell_type": "code",
   "execution_count": 1172,
   "id": "968ea91f",
   "metadata": {},
   "outputs": [],
   "source": [
    "S_Robustness = S_Q_Ret.iloc[5:,:]\n",
    "S_Robustness = pd.concat([S_Robustness, m_S_Q_Ret.iloc[5:,:]])"
   ]
  },
  {
   "cell_type": "markdown",
   "id": "80874762",
   "metadata": {},
   "source": [
    "### Crisis Removed"
   ]
  },
  {
   "cell_type": "code",
   "execution_count": 1173,
   "id": "80463a6e",
   "metadata": {},
   "outputs": [],
   "source": [
    "NC_ES_S = XS_NC_S[1:].reset_index(drop=True)\n",
    "NC_ES_S['Slope_Quantile'] = pd.qcut(scaled_NC_S['Slope'], q=5, labels=False)\n",
    "NC_S_Q_Ret = NC_ES_S.sort_values(by='Slope_Quantile').groupby('Slope_Quantile').mean(numeric_only=True)*100\n",
    "range_row = pd.DataFrame(NC_S_Q_Ret.min() - NC_S_Q_Ret.max()).T\n",
    "range_row.index = ['Crisis Removed']\n",
    "NC_S_Q_Ret = pd.concat([NC_S_Q_Ret, range_row])"
   ]
  },
  {
   "cell_type": "code",
   "execution_count": 1279,
   "id": "c8db61bb",
   "metadata": {},
   "outputs": [
    {
     "data": {
      "text/html": [
       "<div>\n",
       "<style scoped>\n",
       "    .dataframe tbody tr th:only-of-type {\n",
       "        vertical-align: middle;\n",
       "    }\n",
       "\n",
       "    .dataframe tbody tr th {\n",
       "        vertical-align: top;\n",
       "    }\n",
       "\n",
       "    .dataframe thead th {\n",
       "        text-align: right;\n",
       "    }\n",
       "</style>\n",
       "<table border=\"1\" class=\"dataframe\">\n",
       "  <thead>\n",
       "    <tr style=\"text-align: right;\">\n",
       "      <th></th>\n",
       "      <th>DATE</th>\n",
       "      <th>S_R 1 month</th>\n",
       "      <th>S_R 12 month</th>\n",
       "      <th>S_R 2 month</th>\n",
       "      <th>S_R 3 month</th>\n",
       "      <th>S_R 6 month</th>\n",
       "      <th>S_R 9 month</th>\n",
       "    </tr>\n",
       "  </thead>\n",
       "  <tbody>\n",
       "    <tr>\n",
       "      <th>0</th>\n",
       "      <td>NaN</td>\n",
       "      <td>0.246494</td>\n",
       "      <td>0.064877</td>\n",
       "      <td>0.145025</td>\n",
       "      <td>0.117304</td>\n",
       "      <td>0.080505</td>\n",
       "      <td>0.067215</td>\n",
       "    </tr>\n",
       "  </tbody>\n",
       "</table>\n",
       "</div>"
      ],
      "text/plain": [
       "   DATE  S_R 1 month  S_R 12 month  S_R 2 month  S_R 3 month  S_R 6 month  \\\n",
       "0   NaN     0.246494      0.064877     0.145025     0.117304     0.080505   \n",
       "\n",
       "   S_R 9 month  \n",
       "0     0.067215  "
      ]
     },
     "execution_count": 1279,
     "metadata": {},
     "output_type": "execute_result"
    }
   ],
   "source": [
    "grouped = NC_ES_S.sort_values(by='Slope_Quantile').groupby('Slope_Quantile')\n",
    "std_dev = grouped.std(numeric_only=True)\n",
    "counts = grouped.count()\n",
    "std_error = (std_dev / np.sqrt(counts))*100\n",
    "std_error_range(std_error)"
   ]
  },
  {
   "cell_type": "code",
   "execution_count": 1174,
   "id": "37f8128d",
   "metadata": {},
   "outputs": [],
   "source": [
    "S_Robustness = pd.concat([S_Robustness, NC_S_Q_Ret.iloc[5:,:]])"
   ]
  },
  {
   "cell_type": "markdown",
   "id": "be5350bf",
   "metadata": {},
   "source": [
    "### Bottom 5% Slope removed"
   ]
  },
  {
   "cell_type": "code",
   "execution_count": 1175,
   "id": "f1b21492",
   "metadata": {},
   "outputs": [],
   "source": [
    "ES_S = XS_STRADDLE[1:].reset_index(drop=True)\n",
    "ES_S['Slope'] = scaled_S['Slope']\n",
    "ES_S['Slope_Quantile'] = pd.qcut(scaled_S['Slope'], q=5, labels=False)\n",
    "ES_S = ES_S[ES_S['Slope'] > ES_S['Slope'].quantile(0.05)]\n",
    "ES_S = ES_S.drop('Slope',axis=1)\n",
    "BFIVE_S_Q_Ret = ES_S.sort_values(by='Slope_Quantile').groupby('Slope_Quantile').mean(numeric_only=True)*100\n",
    "range_row = pd.DataFrame(BFIVE_S_Q_Ret.min() - BFIVE_S_Q_Ret.max()).T\n",
    "range_row.index = ['Bottom 5% Slope removed']\n",
    "BFIVE_S_Q_Ret = pd.concat([BFIVE_S_Q_Ret, range_row])"
   ]
  },
  {
   "cell_type": "code",
   "execution_count": 1280,
   "id": "a7660ef7",
   "metadata": {},
   "outputs": [
    {
     "data": {
      "text/html": [
       "<div>\n",
       "<style scoped>\n",
       "    .dataframe tbody tr th:only-of-type {\n",
       "        vertical-align: middle;\n",
       "    }\n",
       "\n",
       "    .dataframe tbody tr th {\n",
       "        vertical-align: top;\n",
       "    }\n",
       "\n",
       "    .dataframe thead th {\n",
       "        text-align: right;\n",
       "    }\n",
       "</style>\n",
       "<table border=\"1\" class=\"dataframe\">\n",
       "  <thead>\n",
       "    <tr style=\"text-align: right;\">\n",
       "      <th></th>\n",
       "      <th>DATE</th>\n",
       "      <th>S_R 1 month</th>\n",
       "      <th>S_R 12 month</th>\n",
       "      <th>S_R 2 month</th>\n",
       "      <th>S_R 3 month</th>\n",
       "      <th>S_R 6 month</th>\n",
       "      <th>S_R 9 month</th>\n",
       "    </tr>\n",
       "  </thead>\n",
       "  <tbody>\n",
       "    <tr>\n",
       "      <th>0</th>\n",
       "      <td>NaN</td>\n",
       "      <td>0.259398</td>\n",
       "      <td>0.064425</td>\n",
       "      <td>0.154387</td>\n",
       "      <td>0.123857</td>\n",
       "      <td>0.084065</td>\n",
       "      <td>0.068292</td>\n",
       "    </tr>\n",
       "  </tbody>\n",
       "</table>\n",
       "</div>"
      ],
      "text/plain": [
       "   DATE  S_R 1 month  S_R 12 month  S_R 2 month  S_R 3 month  S_R 6 month  \\\n",
       "0   NaN     0.259398      0.064425     0.154387     0.123857     0.084065   \n",
       "\n",
       "   S_R 9 month  \n",
       "0     0.068292  "
      ]
     },
     "execution_count": 1280,
     "metadata": {},
     "output_type": "execute_result"
    }
   ],
   "source": [
    "grouped = ES_S.sort_values(by='Slope_Quantile').groupby('Slope_Quantile')\n",
    "std_dev = grouped.std(numeric_only=True)\n",
    "counts = grouped.count()\n",
    "std_error = (std_dev / np.sqrt(counts))*100\n",
    "std_error_range(std_error)"
   ]
  },
  {
   "cell_type": "code",
   "execution_count": 1176,
   "id": "23d15279",
   "metadata": {},
   "outputs": [],
   "source": [
    "S_Robustness = pd.concat([S_Robustness, BFIVE_S_Q_Ret.iloc[5:,:]])"
   ]
  },
  {
   "cell_type": "markdown",
   "id": "dcaed5dc",
   "metadata": {},
   "source": [
    "### Slope = VIX12 - VIX1"
   ]
  },
  {
   "cell_type": "code",
   "execution_count": 1177,
   "id": "fc7af07b",
   "metadata": {},
   "outputs": [],
   "source": [
    "NM_ES_S = XS_STRADDLE[1:].reset_index(drop=True)\n",
    "NM_ES_S['Slope_Quantile'] = pd.qcut((STRADDLE_MERGED['12 month'] - STRADDLE_MERGED['1 month']), q=5, labels=False).reset_index(drop=True)\n",
    "NM_S_Q_Ret = NM_ES_S.sort_values(by='Slope_Quantile').groupby('Slope_Quantile').mean(numeric_only=True)*100\n",
    "range_row = pd.DataFrame(NM_S_Q_Ret.min() - NM_S_Q_Ret.max()).T\n",
    "range_row.index = ['Slope = VIX 12-VIX 1']\n",
    "NM_S_Q_Ret = pd.concat([NM_S_Q_Ret, range_row])"
   ]
  },
  {
   "cell_type": "code",
   "execution_count": 1285,
   "id": "8c6d5dfe",
   "metadata": {},
   "outputs": [
    {
     "data": {
      "text/html": [
       "<div>\n",
       "<style scoped>\n",
       "    .dataframe tbody tr th:only-of-type {\n",
       "        vertical-align: middle;\n",
       "    }\n",
       "\n",
       "    .dataframe tbody tr th {\n",
       "        vertical-align: top;\n",
       "    }\n",
       "\n",
       "    .dataframe thead th {\n",
       "        text-align: right;\n",
       "    }\n",
       "</style>\n",
       "<table border=\"1\" class=\"dataframe\">\n",
       "  <thead>\n",
       "    <tr style=\"text-align: right;\">\n",
       "      <th></th>\n",
       "      <th>DATE</th>\n",
       "      <th>S_R 1 month</th>\n",
       "      <th>S_R 12 month</th>\n",
       "      <th>S_R 2 month</th>\n",
       "      <th>S_R 3 month</th>\n",
       "      <th>S_R 6 month</th>\n",
       "      <th>S_R 9 month</th>\n",
       "    </tr>\n",
       "  </thead>\n",
       "  <tbody>\n",
       "    <tr>\n",
       "      <th>0</th>\n",
       "      <td>NaN</td>\n",
       "      <td>0.247951</td>\n",
       "      <td>0.072004</td>\n",
       "      <td>0.158578</td>\n",
       "      <td>0.128555</td>\n",
       "      <td>0.093329</td>\n",
       "      <td>0.075638</td>\n",
       "    </tr>\n",
       "  </tbody>\n",
       "</table>\n",
       "</div>"
      ],
      "text/plain": [
       "   DATE  S_R 1 month  S_R 12 month  S_R 2 month  S_R 3 month  S_R 6 month  \\\n",
       "0   NaN     0.247951      0.072004     0.158578     0.128555     0.093329   \n",
       "\n",
       "   S_R 9 month  \n",
       "0     0.075638  "
      ]
     },
     "execution_count": 1285,
     "metadata": {},
     "output_type": "execute_result"
    }
   ],
   "source": [
    "grouped = NM_ES_S.sort_values(by='Slope_Quantile').groupby('Slope_Quantile')\n",
    "std_dev = grouped.std(numeric_only=True)\n",
    "counts = grouped.count()\n",
    "std_error = (std_dev / np.sqrt(counts))*100\n",
    "std_error_range(std_error)"
   ]
  },
  {
   "cell_type": "code",
   "execution_count": 1178,
   "id": "40a1e700",
   "metadata": {},
   "outputs": [],
   "source": [
    "S_Robustness = pd.concat([S_Robustness.iloc[:,1:], NM_S_Q_Ret.iloc[5:,:]])"
   ]
  },
  {
   "cell_type": "code",
   "execution_count": 1179,
   "id": "a28afb8a",
   "metadata": {},
   "outputs": [
    {
     "data": {
      "text/html": [
       "<div>\n",
       "<style scoped>\n",
       "    .dataframe tbody tr th:only-of-type {\n",
       "        vertical-align: middle;\n",
       "    }\n",
       "\n",
       "    .dataframe tbody tr th {\n",
       "        vertical-align: top;\n",
       "    }\n",
       "\n",
       "    .dataframe thead th {\n",
       "        text-align: right;\n",
       "    }\n",
       "</style>\n",
       "<table border=\"1\" class=\"dataframe\">\n",
       "  <thead>\n",
       "    <tr style=\"text-align: right;\">\n",
       "      <th></th>\n",
       "      <th>S_R 1 month</th>\n",
       "      <th>S_R 2 month</th>\n",
       "      <th>S_R 3 month</th>\n",
       "      <th>S_R 6 month</th>\n",
       "      <th>S_R 9 month</th>\n",
       "      <th>S_R 12 month</th>\n",
       "    </tr>\n",
       "  </thead>\n",
       "  <tbody>\n",
       "    <tr>\n",
       "      <th>Range</th>\n",
       "      <td>-0.671157</td>\n",
       "      <td>-0.570107</td>\n",
       "      <td>-0.530845</td>\n",
       "      <td>-0.369153</td>\n",
       "      <td>-0.310669</td>\n",
       "      <td>-0.282248</td>\n",
       "    </tr>\n",
       "    <tr>\n",
       "      <th>Next-Month Returns</th>\n",
       "      <td>-16.016065</td>\n",
       "      <td>-12.201679</td>\n",
       "      <td>-10.866073</td>\n",
       "      <td>-7.892658</td>\n",
       "      <td>-6.729386</td>\n",
       "      <td>-6.514062</td>\n",
       "    </tr>\n",
       "    <tr>\n",
       "      <th>Crisis Removed</th>\n",
       "      <td>-0.487437</td>\n",
       "      <td>-0.370976</td>\n",
       "      <td>-0.389452</td>\n",
       "      <td>-0.311105</td>\n",
       "      <td>-0.276049</td>\n",
       "      <td>-0.257258</td>\n",
       "    </tr>\n",
       "    <tr>\n",
       "      <th>Bottom 5% Slope removed</th>\n",
       "      <td>-0.617242</td>\n",
       "      <td>-0.417197</td>\n",
       "      <td>-0.380627</td>\n",
       "      <td>-0.254073</td>\n",
       "      <td>-0.218522</td>\n",
       "      <td>-0.195672</td>\n",
       "    </tr>\n",
       "    <tr>\n",
       "      <th>Slope = VIX 12-VIX 1</th>\n",
       "      <td>-0.480404</td>\n",
       "      <td>-0.355143</td>\n",
       "      <td>-0.307407</td>\n",
       "      <td>-0.255006</td>\n",
       "      <td>-0.216822</td>\n",
       "      <td>-0.205750</td>\n",
       "    </tr>\n",
       "  </tbody>\n",
       "</table>\n",
       "</div>"
      ],
      "text/plain": [
       "                         S_R 1 month  S_R 2 month  S_R 3 month  S_R 6 month  \\\n",
       "Range                      -0.671157    -0.570107    -0.530845    -0.369153   \n",
       "Next-Month Returns        -16.016065   -12.201679   -10.866073    -7.892658   \n",
       "Crisis Removed             -0.487437    -0.370976    -0.389452    -0.311105   \n",
       "Bottom 5% Slope removed    -0.617242    -0.417197    -0.380627    -0.254073   \n",
       "Slope = VIX 12-VIX 1       -0.480404    -0.355143    -0.307407    -0.255006   \n",
       "\n",
       "                         S_R 9 month  S_R 12 month  \n",
       "Range                      -0.310669     -0.282248  \n",
       "Next-Month Returns         -6.729386     -6.514062  \n",
       "Crisis Removed             -0.276049     -0.257258  \n",
       "Bottom 5% Slope removed    -0.218522     -0.195672  \n",
       "Slope = VIX 12-VIX 1       -0.216822     -0.205750  "
      ]
     },
     "execution_count": 1179,
     "metadata": {},
     "output_type": "execute_result"
    }
   ],
   "source": [
    "S_Robustness"
   ]
  },
  {
   "cell_type": "markdown",
   "id": "3df8ca72",
   "metadata": {},
   "source": [
    "### Crash indicator"
   ]
  },
  {
   "cell_type": "markdown",
   "id": "c8f3a2ef",
   "metadata": {},
   "source": [
    "### Variance Swap"
   ]
  },
  {
   "cell_type": "code",
   "execution_count": 1119,
   "id": "74d0b0b0",
   "metadata": {},
   "outputs": [],
   "source": [
    "# Set the window size and quantile level\n",
    "window_size = 21\n",
    "quantile_level = 0.01\n",
    "\n",
    "# Create a new DataFrame to store the indicators\n",
    "CRASH_VS = pd.DataFrame()\n",
    "\n",
    "# Loop through each column\n",
    "for col in XS_VAR_SWAPS.iloc[:,1:].columns:\n",
    "    # Calculate the rolling quantile for the current column\n",
    "    rolling_quantile = XS_VAR_SWAPS[col].rolling(window=window_size).quantile(quantile_level)\n",
    "    \n",
    "    # Create an indicator column for the current column\n",
    "    indicator_col = (XS_VAR_SWAPS[col] <= rolling_quantile).astype(int)\n",
    "    \n",
    "    # Rename the indicator column\n",
    "    indicator_col.name = col + '_indicator'\n",
    "    \n",
    "    # Append the indicator column to the indicators DataFrame\n",
    "    CRASH_VS = pd.concat([CRASH_VS, indicator_col], axis=1)"
   ]
  },
  {
   "cell_type": "markdown",
   "id": "adc89003",
   "metadata": {},
   "source": [
    "### Vix Future"
   ]
  },
  {
   "cell_type": "code",
   "execution_count": 1121,
   "id": "dcc6dbc4",
   "metadata": {},
   "outputs": [],
   "source": [
    "# Set the window size and quantile level\n",
    "window_size = 21\n",
    "quantile_level = 0.01\n",
    "\n",
    "# Create a new DataFrame to store the indicators\n",
    "CRASH_VF = pd.DataFrame()\n",
    "\n",
    "# Loop through each column\n",
    "for col in XS_VIX_FUT.iloc[:,1:].columns:\n",
    "    # Calculate the rolling quantile for the current column\n",
    "    rolling_quantile = XS_VIX_FUT[col].rolling(window=window_size).quantile(quantile_level)\n",
    "    \n",
    "    # Create an indicator column for the current column\n",
    "    indicator_col = (XS_VIX_FUT[col] <= rolling_quantile).astype(int)\n",
    "    \n",
    "    # Rename the indicator column\n",
    "    indicator_col.name = col + '_indicator'\n",
    "    \n",
    "    # Append the indicator column to the indicators DataFrame\n",
    "    CRASH_VF = pd.concat([CRASH_VF, indicator_col], axis=1)"
   ]
  },
  {
   "cell_type": "markdown",
   "id": "4ead91a9",
   "metadata": {},
   "source": [
    "### Straddle"
   ]
  },
  {
   "cell_type": "code",
   "execution_count": 1117,
   "id": "69196dfa",
   "metadata": {},
   "outputs": [],
   "source": [
    "# Set the window size and quantile level\n",
    "window_size = 21\n",
    "quantile_level = 0.01\n",
    "\n",
    "# Create a new DataFrame to store the indicators\n",
    "CRASH_S= pd.DataFrame()\n",
    "\n",
    "# Loop through each column\n",
    "for col in XS_STRADDLE.iloc[:,1:].columns:\n",
    "    # Calculate the rolling quantile for the current column\n",
    "    rolling_quantile = XS_STRADDLE[col].rolling(window=window_size).quantile(quantile_level)\n",
    "    \n",
    "    # Create an indicator column for the current column\n",
    "    indicator_col = (XS_STRADDLE[col] <= rolling_quantile).astype(int)\n",
    "    \n",
    "    # Rename the indicator column\n",
    "    indicator_col.name = col + '_indicator'\n",
    "    \n",
    "    # Append the indicator column to the indicators DataFrame\n",
    "    CRASH_S = pd.concat([CRASH_S, indicator_col], axis=1)"
   ]
  },
  {
   "cell_type": "markdown",
   "id": "9fc38737",
   "metadata": {},
   "source": [
    "### Slope as an Incremental Predictor of Variance Asset Returns"
   ]
  },
  {
   "cell_type": "code",
   "execution_count": 1044,
   "id": "6d618ab0",
   "metadata": {},
   "outputs": [],
   "source": [
    "Y = XS_STRADDLE.iloc[:, 1:][1:].reset_index(drop=True)"
   ]
  },
  {
   "cell_type": "code",
   "execution_count": 1044,
   "id": "7f4f90ab",
   "metadata": {},
   "outputs": [],
   "source": [
    "X1 = scaled_S['Slope'][:-1]\n",
    "X2 = XS_STRADDLE.iloc[:, 1:][:-1]\n",
    "X3 = CRASH_S\n",
    "X4 = STRADDLE_MERGED.iloc[:,:6][:-1].reset_index(drop=True)"
   ]
  }
 ],
 "metadata": {
  "kernelspec": {
   "display_name": "Python 3",
   "language": "python",
   "name": "python3"
  },
  "language_info": {
   "codemirror_mode": {
    "name": "ipython",
    "version": 3
   },
   "file_extension": ".py",
   "mimetype": "text/x-python",
   "name": "python",
   "nbconvert_exporter": "python",
   "pygments_lexer": "ipython3",
   "version": "3.8.5"
  }
 },
 "nbformat": 4,
 "nbformat_minor": 5
}
