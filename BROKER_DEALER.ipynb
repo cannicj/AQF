{
 "cells": [
  {
   "cell_type": "code",
   "execution_count": 1,
   "metadata": {},
   "outputs": [],
   "source": [
    "import pandas as pd\n",
    "import numpy as np\n",
    "\n",
    "path = 'DATA/'"
   ]
  },
  {
   "cell_type": "code",
   "execution_count": 42,
   "metadata": {},
   "outputs": [],
   "source": [
    "df = pd.read_csv(path+'FRB_Z1.csv').transpose().drop(labels=['Unit:','Multiplier:','Currency:','Unique Identifier:','Series Name:'])"
   ]
  },
  {
   "cell_type": "code",
   "execution_count": 43,
   "metadata": {},
   "outputs": [],
   "source": [
    "df.columns = df.iloc[0,:]\n",
    "df = df.iloc[1:,:]"
   ]
  },
  {
   "cell_type": "code",
   "execution_count": 44,
   "metadata": {},
   "outputs": [],
   "source": [
    "BROKER_DEALER = pd.DataFrame(columns=['Date','Equity','Assets','Ratio'])\n",
    "BROKER_DEALER['Date'] = df.index\n",
    "BROKER_DEALER['Equity'] = df['Finance companies; foreign direct investment in U.S.: equity; liability (market value)'].values\n",
    "BROKER_DEALER['Assets'] = df['Finance companies; total financial assets'].values\n",
    "BROKER_DEALER['Ratio'] = BROKER_DEALER['Assets'] / BROKER_DEALER['Equity']"
   ]
  },
  {
   "cell_type": "code",
   "execution_count": 45,
   "metadata": {},
   "outputs": [],
   "source": [
    "BROKER_DEALER.Date = BROKER_DEALER.Date.astype(str).str.replace(r'Q1', r'-03-31')\n",
    "BROKER_DEALER.Date = BROKER_DEALER.Date.astype(str).str.replace(r'Q2', r'-06-30')\n",
    "BROKER_DEALER.Date = BROKER_DEALER.Date.astype(str).str.replace(r'Q3', r'-09-30')\n",
    "BROKER_DEALER.Date = BROKER_DEALER.Date.astype(str).str.replace(r'Q4', r'-12-31')"
   ]
  },
  {
   "cell_type": "code",
   "execution_count": 48,
   "metadata": {},
   "outputs": [],
   "source": [
    "BROKER_DEALER['BROKER_DEALER'] = BROKER_DEALER['Ratio']/100\n",
    "BROKER_DEALER = BROKER_DEALER.drop(labels= ['Equity','Assets','Ratio'],axis=1)"
   ]
  },
  {
   "cell_type": "code",
   "execution_count": 50,
   "metadata": {},
   "outputs": [],
   "source": [
    "BROKER_DEALER.to_csv(path+'BROKER_DEALER.csv')"
   ]
  }
 ],
 "metadata": {
  "kernelspec": {
   "display_name": "Python 3",
   "language": "python",
   "name": "python3"
  },
  "language_info": {
   "codemirror_mode": {
    "name": "ipython",
    "version": 3
   },
   "file_extension": ".py",
   "mimetype": "text/x-python",
   "name": "python",
   "nbconvert_exporter": "python",
   "pygments_lexer": "ipython3",
   "version": "3.7.6"
  }
 },
 "nbformat": 4,
 "nbformat_minor": 4
}
