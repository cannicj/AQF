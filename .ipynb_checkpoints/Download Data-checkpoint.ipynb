{
 "cells": [
  {
   "cell_type": "markdown",
   "metadata": {},
   "source": [
    "# AQF - Download Data"
   ]
  },
  {
   "cell_type": "code",
   "execution_count": 6,
   "metadata": {},
   "outputs": [],
   "source": [
    "import pandas as pd\n",
    "import numpy as np\n",
    "import matplotlib.pyplot as plt\n",
    "import os\n",
    "import datetime #maybe also: from datetime import datetime\n",
    "#would like to import wrds here but I get a syntax error\n",
    "#would be easier to be able to download data directly here instead of downloading .csv files and import again,\n",
    "#especially for data manipulation and cleaning (to redownload it e.g.)"
   ]
  },
  {
   "cell_type": "code",
   "execution_count": 7,
   "metadata": {},
   "outputs": [],
   "source": [
    "DATA_PATH = 'DATA/'"
   ]
  },
  {
   "cell_type": "code",
   "execution_count": 8,
   "metadata": {
    "scrolled": true
   },
   "outputs": [
    {
     "data": {
      "text/plain": [
       "DATE        0\n",
       "1 month     0\n",
       "2 month     0\n",
       "3 month     0\n",
       "6 month     0\n",
       "9 month     0\n",
       "12 month    0\n",
       "dtype: int64"
      ]
     },
     "execution_count": 8,
     "metadata": {},
     "output_type": "execute_result"
    }
   ],
   "source": [
    "VIX_TS = pd.read_csv(DATA_PATH + 'VIX_TS.csv',skiprows=4)\n",
    "\n",
    "VIX_TS = VIX_TS.rename({'Date':'DATE','VIX_1^2':'1 month','VIX_2^2':'2 month','VIX_3^2':'3 month','VIX_6^2':'6 month',\n",
    "               'VIX_9^2':'9 month','VIX_12^2':'12 month'},axis=1)\n",
    "\n",
    "VIX_TS.isna().sum() #checks for NA values"
   ]
  },
  {
   "cell_type": "code",
   "execution_count": 9,
   "metadata": {},
   "outputs": [],
   "source": [
    "VIX_TS_WRDS = pd.read_csv(DATA_PATH + 'VIX_TS_WRDS.csv',skiprows=0)\n",
    "\n",
    "VIX_TS_WRDS = VIX_TS_WRDS.rename({'Date':'DATE','vixo':'Open','vixh':'high','vixl':'low','vix':'close'},axis=1)\n",
    "\n",
    "VIX_TS_WRDS = VIX_TS_WRDS.drop_duplicates(subset=None, keep='first', inplace=False, ignore_index=True)\n"
   ]
  },
  {
   "cell_type": "code",
   "execution_count": 10,
   "metadata": {},
   "outputs": [
    {
     "data": {
      "text/plain": [
       "DATE     0\n",
       "Open     7\n",
       "high     7\n",
       "low      7\n",
       "close    7\n",
       "dtype: int64"
      ]
     },
     "execution_count": 10,
     "metadata": {},
     "output_type": "execute_result"
    }
   ],
   "source": [
    "VIX_TS_WRDS.isna().sum() #checks for NA values"
   ]
  },
  {
   "cell_type": "code",
   "execution_count": 12,
   "metadata": {},
   "outputs": [
    {
     "name": "stdout",
     "output_type": "stream",
     "text": [
      "          DATE   Open   high    low  close\n",
      "0     19960104  11.24  14.23  11.23  13.78\n",
      "1     19960105  14.02  14.74  13.55  13.58\n",
      "2     19960108  14.02  13.22  12.44  13.11\n",
      "3     19960109  13.04  15.48  13.04  15.21\n",
      "4     19960110  16.55  16.87  15.65  16.40\n",
      "...        ...    ...    ...    ...    ...\n",
      "6996  20230925  17.25  18.41  16.79  16.90\n",
      "6997  20230926  18.03  19.50  17.17  18.94\n",
      "6998  20230927  18.29  19.71  18.03  18.22\n",
      "6999  20230928  18.22  18.77  17.06  17.34\n",
      "7000  20230929  16.87  17.74  15.83  17.52\n",
      "\n",
      "[7001 rows x 5 columns]\n",
      "          DATE  1 month  2 month  3 month  6 month  9 month  12 month\n",
      "0     19960104  0.01771  0.01681  0.01668  0.01785  0.01891   0.02027\n",
      "1     19960105  0.01708  0.01674  0.01661  0.01828  0.02034   0.01993\n",
      "2     19960108  0.01610  0.01589  0.01582  0.01739  0.01863   0.01955\n",
      "3     19960109  0.02406  0.01904  0.01675  0.01858  0.01955   0.02088\n",
      "4     19960110  0.02494  0.02151  0.02006  0.01978  0.02079   0.02184\n",
      "...        ...      ...      ...      ...      ...      ...       ...\n",
      "5907  20190624  0.02402  0.02642  0.02783  0.03070  0.03137   0.03290\n",
      "5908  20190625  0.02718  0.02870  0.02980  0.03222  0.03277   0.03402\n",
      "5909  20190626  0.02705  0.02812  0.02945  0.03219  0.03296   0.03384\n",
      "5910  20190627  0.02626  0.02715  0.02836  0.03063  0.03191   0.03293\n",
      "5911  20190628  0.02525  0.02688  0.02791  0.03151  0.03227   0.03603\n",
      "\n",
      "[5912 rows x 7 columns]\n"
     ]
    }
   ],
   "source": [
    "print(VIX_TS_WRDS)\n",
    "print(VIX_TS)"
   ]
  },
  {
   "cell_type": "code",
   "execution_count": 13,
   "metadata": {},
   "outputs": [
    {
     "name": "stdout",
     "output_type": "stream",
     "text": [
      "Date Range:\n",
      "Start: 1996-01-04 1996-01-04\n",
      "End: 2019-06-28 2023-09-29\n"
     ]
    }
   ],
   "source": [
    "def DATE_STR(num):\n",
    "    num_str = str(num)\n",
    "    date_str = num_str[-2:]+'/'+num_str[4:-2]+'/'+num_str[0:4]\n",
    "    \n",
    "    return date_str \n",
    "\n",
    "VIX_TS['DATE'] = VIX_TS['DATE'].apply(DATE_STR)\n",
    "VIX_TS['DATE'] = pd.to_datetime(VIX_TS['DATE'],format = '%d/%m/%Y')\n",
    "VIX_TS_WRDS['DATE'] = VIX_TS_WRDS['DATE'].apply(DATE_STR)\n",
    "VIX_TS_WRDS['DATE'] = pd.to_datetime(VIX_TS_WRDS['DATE'],format = '%d/%m/%Y')\n",
    "\n",
    "print('Date Range:')\n",
    "print('Start:',min(VIX_TS.DATE).date(),min(VIX_TS_WRDS.DATE).date())\n",
    "print('End:',max(VIX_TS.DATE).date(),max(VIX_TS_WRDS.DATE).date())"
   ]
  },
  {
   "cell_type": "code",
   "execution_count": 55,
   "metadata": {},
   "outputs": [
    {
     "name": "stdout",
     "output_type": "stream",
     "text": [
      "5916\n"
     ]
    }
   ],
   "source": [
    "counter = 0\n",
    "for i in range(7001):\n",
    "    if VIX_TS_WRDS['DATE'][i] <= datetime.strptime('2019-06-28', \"%Y-%m-%d\"):\n",
    "        counter += 1\n",
    "print(counter)"
   ]
  },
  {
   "cell_type": "code",
   "execution_count": 64,
   "metadata": {},
   "outputs": [
    {
     "name": "stdout",
     "output_type": "stream",
     "text": [
      "           DATE     Open     high      low    close\n",
      "1923 2003-08-24      NaN      NaN      NaN      NaN\n",
      "2127 2004-06-11  0.02262  0.02262  0.02262  0.02262\n"
     ]
    }
   ],
   "source": [
    "# Step 1: Cut the first DataFrame at a certain date\n",
    "cutoff_date = datetime.strptime('2019-06-28', \"%Y-%m-%d\")\n",
    "#print(cutoff_date)\n",
    "filtered_df1 = VIX_TS_WRDS[VIX_TS_WRDS['DATE'] <= cutoff_date]\n",
    "#print(filtered_df1)\n",
    "# Step 2: Extract dates from the second DataFrame\n",
    "dates_to_compare = VIX_TS['DATE']\n",
    "#print(dates_to_compare)\n",
    "# Step 3: Compare dates\n",
    "dates_not_common = filtered_df1[~filtered_df1['DATE'].isin(dates_to_compare)]\n",
    "print(dates_not_common)\n",
    "#common_dates = filtered_df1[filtered_df1['Date'].isin(dates_to_compare)]"
   ]
  },
  {
   "cell_type": "code",
   "execution_count": 46,
   "metadata": {
    "scrolled": false
   },
   "outputs": [
    {
     "name": "stdout",
     "output_type": "stream",
     "text": [
      "           DATE      Open      high       low     close\n",
      "0    1996-01-04  0.012634  0.020249  0.012611  0.018989\n",
      "1    1996-01-05  0.019656  0.021727  0.018360  0.018442\n",
      "2    1996-01-08  0.019656  0.017477  0.015475  0.017187\n",
      "3    1996-01-09  0.017004  0.023963  0.017004  0.023134\n",
      "4    1996-01-10  0.027390  0.028460  0.024492  0.026896\n",
      "...         ...       ...       ...       ...       ...\n",
      "6996 2023-09-25  0.029756  0.033893  0.028190  0.028561\n",
      "6997 2023-09-26  0.032508  0.038025  0.029481  0.035872\n",
      "6998 2023-09-27  0.033452  0.038848  0.032508  0.033197\n",
      "6999 2023-09-28  0.033197  0.035231  0.029104  0.030068\n",
      "7000 2023-09-29  0.028460  0.031471  0.025059  0.030695\n",
      "\n",
      "[7001 rows x 5 columns] 0       0.01771\n",
      "1       0.01708\n",
      "2       0.01610\n",
      "3       0.02406\n",
      "4       0.02494\n",
      "         ...   \n",
      "5907    0.02402\n",
      "5908    0.02718\n",
      "5909    0.02705\n",
      "5910    0.02626\n",
      "5911    0.02525\n",
      "Name: 1 month, Length: 5912, dtype: float64\n"
     ]
    }
   ],
   "source": [
    "#manipulating the data set from WRDS: divide by 100, then square it\n",
    "for colname in VIX_TS_WRDS.columns:\n",
    "    if colname != \"DATE\":\n",
    "        VIX_TS_WRDS[colname] = (VIX_TS_WRDS[colname]/100)**2\n",
    "        \n",
    "print(VIX_TS_WRDS, VIX_TS['1 month'])"
   ]
  },
  {
   "cell_type": "code",
   "execution_count": 43,
   "metadata": {},
   "outputs": [
    {
     "name": "stdout",
     "output_type": "stream",
     "text": [
      "           DATE  Open  high  low  close\n",
      "273  1997-01-31   NaN   NaN  NaN    NaN\n",
      "481  1997-11-26   NaN   NaN  NaN    NaN\n",
      "1923 2003-08-24   NaN   NaN  NaN    NaN\n",
      "2605 2006-05-04   NaN   NaN  NaN    NaN\n",
      "6359 2021-04-02   NaN   NaN  NaN    NaN\n",
      "6438 2021-07-25   NaN   NaN  NaN    NaN\n",
      "6546 2021-12-24   NaN   NaN  NaN    NaN\n"
     ]
    }
   ],
   "source": [
    "empty_rows = VIX_TS_WRDS[VIX_TS_WRDS.isna().any(axis = 1)]\n",
    "\n",
    "# Display the rows with empty values\n",
    "print(empty_rows)"
   ]
  },
  {
   "cell_type": "code",
   "execution_count": 54,
   "metadata": {},
   "outputs": [
    {
     "name": "stdout",
     "output_type": "stream",
     "text": [
      "DATE        1997-01-31 00:00:00\n",
      "1 month                 0.03541\n",
      "2 month                 0.03359\n",
      "3 month                 0.02895\n",
      "6 month                 0.03352\n",
      "9 month                 0.03187\n",
      "12 month                0.03185\n",
      "Name: 273, dtype: object DATE     1997-01-31 00:00:00\n",
      "Open                     NaN\n",
      "high                     NaN\n",
      "low                      NaN\n",
      "close                    NaN\n",
      "Name: 273, dtype: object\n",
      "DATE        1997-11-26 00:00:00\n",
      "1 month                 0.07846\n",
      "2 month                 0.07966\n",
      "3 month                 0.07914\n",
      "6 month                 0.07568\n",
      "9 month                 0.06877\n",
      "12 month                0.06284\n",
      "Name: 481, dtype: object DATE     1997-11-26 00:00:00\n",
      "Open                     NaN\n",
      "high                     NaN\n",
      "low                      NaN\n",
      "close                    NaN\n",
      "Name: 481, dtype: object\n"
     ]
    }
   ],
   "source": [
    "#VIX_TS_WRDS[VIX_TS_WRDS['DATE'] == datetime.strptime('1997-01-31', \"%Y-%m-%d\")].index[0]\n",
    "\n",
    "print(VIX_TS.iloc[273],VIX_TS_WRDS.iloc[273])\n",
    "print(VIX_TS.iloc[481],VIX_TS_WRDS.iloc[481])"
   ]
  }
 ],
 "metadata": {
  "kernelspec": {
   "display_name": "Python 3",
   "language": "python",
   "name": "python3"
  },
  "language_info": {
   "codemirror_mode": {
    "name": "ipython",
    "version": 3
   },
   "file_extension": ".py",
   "mimetype": "text/x-python",
   "name": "python",
   "nbconvert_exporter": "python",
   "pygments_lexer": "ipython3",
   "version": "3.7.6"
  }
 },
 "nbformat": 4,
 "nbformat_minor": 4
}
