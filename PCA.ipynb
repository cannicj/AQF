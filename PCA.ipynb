{
 "cells": [
  {
   "cell_type": "markdown",
   "metadata": {},
   "source": [
    "### PCA of VIX Term Structure"
   ]
  },
  {
   "cell_type": "code",
   "execution_count": 1,
   "metadata": {},
   "outputs": [],
   "source": [
    "from sklearn.decomposition import PCA\n",
    "import pandas as pd\n",
    "import numpy as np\n",
    "import matplotlib.pyplot as plt\n",
    "import os\n",
    "import datetime\n",
    "\n",
    "path = 'DATA/' #set path for location of VIX TS"
   ]
  },
  {
   "cell_type": "code",
   "execution_count": 2,
   "metadata": {},
   "outputs": [],
   "source": [
    "VIX_TS = pd.read_csv(path +'VIX_TS_CUSTOM.csv')"
   ]
  },
  {
   "cell_type": "code",
   "execution_count": 3,
   "metadata": {},
   "outputs": [
    {
     "data": {
      "text/html": [
       "<div>\n",
       "<style scoped>\n",
       "    .dataframe tbody tr th:only-of-type {\n",
       "        vertical-align: middle;\n",
       "    }\n",
       "\n",
       "    .dataframe tbody tr th {\n",
       "        vertical-align: top;\n",
       "    }\n",
       "\n",
       "    .dataframe thead th {\n",
       "        text-align: right;\n",
       "    }\n",
       "</style>\n",
       "<table border=\"1\" class=\"dataframe\">\n",
       "  <thead>\n",
       "    <tr style=\"text-align: right;\">\n",
       "      <th></th>\n",
       "      <th>Date</th>\n",
       "      <th>VIX_1^2</th>\n",
       "      <th>VIX_2^2</th>\n",
       "      <th>VIX_3^2</th>\n",
       "      <th>VIX_6^2</th>\n",
       "      <th>VIX_9^2</th>\n",
       "      <th>VIX_12^2</th>\n",
       "    </tr>\n",
       "  </thead>\n",
       "  <tbody>\n",
       "    <tr>\n",
       "      <th>0</th>\n",
       "      <td>04/01/1996</td>\n",
       "      <td>0.015131</td>\n",
       "      <td>0.014761</td>\n",
       "      <td>0.014713</td>\n",
       "      <td>0.015302</td>\n",
       "      <td>0.016779</td>\n",
       "      <td>0.017768</td>\n",
       "    </tr>\n",
       "    <tr>\n",
       "      <th>1</th>\n",
       "      <td>05/01/1996</td>\n",
       "      <td>0.014720</td>\n",
       "      <td>0.014526</td>\n",
       "      <td>0.014526</td>\n",
       "      <td>0.015532</td>\n",
       "      <td>0.017579</td>\n",
       "      <td>0.018092</td>\n",
       "    </tr>\n",
       "    <tr>\n",
       "      <th>2</th>\n",
       "      <td>08/01/1996</td>\n",
       "      <td>0.013886</td>\n",
       "      <td>0.014007</td>\n",
       "      <td>0.014085</td>\n",
       "      <td>0.015012</td>\n",
       "      <td>0.016564</td>\n",
       "      <td>0.017490</td>\n",
       "    </tr>\n",
       "    <tr>\n",
       "      <th>3</th>\n",
       "      <td>09/01/1996</td>\n",
       "      <td>0.020184</td>\n",
       "      <td>0.016654</td>\n",
       "      <td>0.016386</td>\n",
       "      <td>0.016412</td>\n",
       "      <td>0.017792</td>\n",
       "      <td>0.018461</td>\n",
       "    </tr>\n",
       "    <tr>\n",
       "      <th>4</th>\n",
       "      <td>10/01/1996</td>\n",
       "      <td>0.020782</td>\n",
       "      <td>0.018672</td>\n",
       "      <td>0.018355</td>\n",
       "      <td>0.017348</td>\n",
       "      <td>0.018660</td>\n",
       "      <td>0.019302</td>\n",
       "    </tr>\n",
       "    <tr>\n",
       "      <th>...</th>\n",
       "      <td>...</td>\n",
       "      <td>...</td>\n",
       "      <td>...</td>\n",
       "      <td>...</td>\n",
       "      <td>...</td>\n",
       "      <td>...</td>\n",
       "      <td>...</td>\n",
       "    </tr>\n",
       "    <tr>\n",
       "      <th>6830</th>\n",
       "      <td>22/02/2023</td>\n",
       "      <td>0.041063</td>\n",
       "      <td>0.040015</td>\n",
       "      <td>0.040393</td>\n",
       "      <td>0.041418</td>\n",
       "      <td>0.042734</td>\n",
       "      <td>0.042612</td>\n",
       "    </tr>\n",
       "    <tr>\n",
       "      <th>6831</th>\n",
       "      <td>23/02/2023</td>\n",
       "      <td>0.036753</td>\n",
       "      <td>0.036438</td>\n",
       "      <td>0.037261</td>\n",
       "      <td>0.038810</td>\n",
       "      <td>0.040634</td>\n",
       "      <td>0.040754</td>\n",
       "    </tr>\n",
       "    <tr>\n",
       "      <th>6832</th>\n",
       "      <td>24/02/2023</td>\n",
       "      <td>0.039237</td>\n",
       "      <td>0.038966</td>\n",
       "      <td>0.039731</td>\n",
       "      <td>0.041020</td>\n",
       "      <td>0.042417</td>\n",
       "      <td>0.042306</td>\n",
       "    </tr>\n",
       "    <tr>\n",
       "      <th>6833</th>\n",
       "      <td>27/02/2023</td>\n",
       "      <td>0.037837</td>\n",
       "      <td>0.036800</td>\n",
       "      <td>0.037844</td>\n",
       "      <td>0.039555</td>\n",
       "      <td>0.041173</td>\n",
       "      <td>0.041178</td>\n",
       "    </tr>\n",
       "    <tr>\n",
       "      <th>6834</th>\n",
       "      <td>28/02/2023</td>\n",
       "      <td>0.035862</td>\n",
       "      <td>0.035039</td>\n",
       "      <td>0.036119</td>\n",
       "      <td>0.037933</td>\n",
       "      <td>0.039787</td>\n",
       "      <td>0.039969</td>\n",
       "    </tr>\n",
       "  </tbody>\n",
       "</table>\n",
       "<p>6835 rows × 7 columns</p>\n",
       "</div>"
      ],
      "text/plain": [
       "            Date   VIX_1^2   VIX_2^2   VIX_3^2   VIX_6^2   VIX_9^2  VIX_12^2\n",
       "0     04/01/1996  0.015131  0.014761  0.014713  0.015302  0.016779  0.017768\n",
       "1     05/01/1996  0.014720  0.014526  0.014526  0.015532  0.017579  0.018092\n",
       "2     08/01/1996  0.013886  0.014007  0.014085  0.015012  0.016564  0.017490\n",
       "3     09/01/1996  0.020184  0.016654  0.016386  0.016412  0.017792  0.018461\n",
       "4     10/01/1996  0.020782  0.018672  0.018355  0.017348  0.018660  0.019302\n",
       "...          ...       ...       ...       ...       ...       ...       ...\n",
       "6830  22/02/2023  0.041063  0.040015  0.040393  0.041418  0.042734  0.042612\n",
       "6831  23/02/2023  0.036753  0.036438  0.037261  0.038810  0.040634  0.040754\n",
       "6832  24/02/2023  0.039237  0.038966  0.039731  0.041020  0.042417  0.042306\n",
       "6833  27/02/2023  0.037837  0.036800  0.037844  0.039555  0.041173  0.041178\n",
       "6834  28/02/2023  0.035862  0.035039  0.036119  0.037933  0.039787  0.039969\n",
       "\n",
       "[6835 rows x 7 columns]"
      ]
     },
     "execution_count": 3,
     "metadata": {},
     "output_type": "execute_result"
    }
   ],
   "source": [
    "VIX_TS"
   ]
  },
  {
   "cell_type": "code",
   "execution_count": 4,
   "metadata": {},
   "outputs": [
    {
     "name": "stdout",
     "output_type": "stream",
     "text": [
      "Date Range:\n",
      "1996-01-04 - 2023-02-28\n"
     ]
    }
   ],
   "source": [
    "VIX_TS = pd.read_csv(path +'VIX_TS_CUSTOM.csv')\n",
    "VIX_TS['Date'] = pd.to_datetime(VIX_TS['Date'],format = '%d/%m/%Y')\n",
    "\n",
    "print('Date Range:')\n",
    "print(min(VIX_TS['Date']).date(),'-', max(VIX_TS['Date']).date())\n",
    "\n",
    "VIX_TS = VIX_TS.rename({'VIX_1^2':'1 month','VIX_2^2':'2 month','VIX_3^2':'3 month','VIX_6^2':'6 month',\n",
    "               'VIX_9^2':'9 month','VIX_12^2':'12 month'},axis=1)"
   ]
  },
  {
   "cell_type": "code",
   "execution_count": 20,
   "metadata": {},
   "outputs": [],
   "source": [
    "DATES = VIX_TS.Date\n",
    "SLOPE_df = pd.DataFrame(columns = ['Date','SLOPE'])\n",
    "SLOPE_df['Date'] = DATES"
   ]
  },
  {
   "cell_type": "code",
   "execution_count": 19,
   "metadata": {},
   "outputs": [],
   "source": [
    "date_train = DATES[DATES < '2000-01-01']\n",
    "n0_train = len(date_train)\n",
    "\n",
    "date_sample =  DATES[DATES >= '2000-01-01']\n",
    "n_samp = len(date_sample)"
   ]
  },
  {
   "cell_type": "code",
   "execution_count": 40,
   "metadata": {},
   "outputs": [],
   "source": [
    "pca0 = PCA()\n",
    "\n",
    "X = VIX_TS.iloc[:n0_train,1:7]\n",
    "pca0.fit(X)\n",
    "\n",
    "SLOPE = pca0.transform(X)[:,1]\n",
    "SLOPE = -(SLOPE - np.mean(SLOPE))/np.std(SLOPE)\n",
    "\n",
    "SLOPE_df.iloc[:n0_train,1] = SLOPE\n",
    "\n",
    "for idx in range(n0_train,n_samp + n0_train):\n",
    "    pca = PCA()\n",
    "    \n",
    "    X = VIX_TS.iloc[:idx,1:7]\n",
    "    pca.fit(X)\n",
    "    \n",
    "    SLOPE = pca.transform(X)[:,1]\n",
    "    SLOPE = -(SLOPE - np.mean(SLOPE))/np.std(SLOPE)\n",
    "    \n",
    "    SLOPE_df.iloc[idx,1] = SLOPE[-1]"
   ]
  },
  {
   "cell_type": "code",
   "execution_count": 43,
   "metadata": {},
   "outputs": [],
   "source": [
    "SLOPE_df.to_csv(path+'SLOPE_v1.csv')"
   ]
  },
  {
   "cell_type": "markdown",
   "metadata": {},
   "source": [
    "Authors data"
   ]
  },
  {
   "cell_type": "code",
   "execution_count": 48,
   "metadata": {},
   "outputs": [],
   "source": [
    "A_PCA = pd.read_csv(path + 'PCA.csv',skiprows=12)\n",
    "our_PCA = pd.read_csv(path + 'SLOPE_v1.csv')\n",
    "\n",
    "our_PCA['Date'] = pd.to_datetime(our_PCA['Date'])"
   ]
  },
  {
   "cell_type": "code",
   "execution_count": 49,
   "metadata": {},
   "outputs": [
    {
     "name": "stderr",
     "output_type": "stream",
     "text": [
      "C:\\Users\\Camer\\anaconda3\\lib\\site-packages\\ipykernel_launcher.py:9: SettingWithCopyWarning: \n",
      "A value is trying to be set on a copy of a slice from a DataFrame.\n",
      "Try using .loc[row_indexer,col_indexer] = value instead\n",
      "\n",
      "See the caveats in the documentation: https://pandas.pydata.org/pandas-docs/stable/user_guide/indexing.html#returning-a-view-versus-a-copy\n",
      "  if __name__ == '__main__':\n",
      "C:\\Users\\Camer\\anaconda3\\lib\\site-packages\\ipykernel_launcher.py:10: SettingWithCopyWarning: \n",
      "A value is trying to be set on a copy of a slice from a DataFrame.\n",
      "Try using .loc[row_indexer,col_indexer] = value instead\n",
      "\n",
      "See the caveats in the documentation: https://pandas.pydata.org/pandas-docs/stable/user_guide/indexing.html#returning-a-view-versus-a-copy\n",
      "  # Remove the CWD from sys.path while we load stuff.\n"
     ]
    }
   ],
   "source": [
    "def DATE_STR(num):\n",
    "    num_str = str(num)\n",
    "    date_str = num_str[-2:]+'/'+num_str[4:-2]+'/'+num_str[0:4]\n",
    "    \n",
    "    return date_str \n",
    "\n",
    "SLOPE_df = A_PCA[['Unnamed: 0','PC2']]\n",
    "SLOPE_df.columns = ['Date','SLOPE']\n",
    "SLOPE_df['Date'] = SLOPE_df['Date'].apply(DATE_STR)\n",
    "SLOPE_df['Date'] = pd.to_datetime(SLOPE_df['Date'],format = '%d/%m/%Y')"
   ]
  },
  {
   "cell_type": "code",
   "execution_count": 50,
   "metadata": {},
   "outputs": [],
   "source": [
    "SLOPE_df = pd.merge(SLOPE_df,our_PCA,on='Date',how='left')"
   ]
  },
  {
   "cell_type": "code",
   "execution_count": 51,
   "metadata": {},
   "outputs": [
    {
     "data": {
      "text/html": [
       "<div>\n",
       "<style scoped>\n",
       "    .dataframe tbody tr th:only-of-type {\n",
       "        vertical-align: middle;\n",
       "    }\n",
       "\n",
       "    .dataframe tbody tr th {\n",
       "        vertical-align: top;\n",
       "    }\n",
       "\n",
       "    .dataframe thead th {\n",
       "        text-align: right;\n",
       "    }\n",
       "</style>\n",
       "<table border=\"1\" class=\"dataframe\">\n",
       "  <thead>\n",
       "    <tr style=\"text-align: right;\">\n",
       "      <th></th>\n",
       "      <th>Date</th>\n",
       "      <th>SLOPE_x</th>\n",
       "      <th>Unnamed: 0</th>\n",
       "      <th>SLOPE_y</th>\n",
       "    </tr>\n",
       "  </thead>\n",
       "  <tbody>\n",
       "    <tr>\n",
       "      <th>0</th>\n",
       "      <td>1996-01-04</td>\n",
       "      <td>-0.88016</td>\n",
       "      <td>0</td>\n",
       "      <td>-0.287412</td>\n",
       "    </tr>\n",
       "    <tr>\n",
       "      <th>1</th>\n",
       "      <td>1996-01-05</td>\n",
       "      <td>-0.83101</td>\n",
       "      <td>1</td>\n",
       "      <td>-0.211625</td>\n",
       "    </tr>\n",
       "    <tr>\n",
       "      <th>2</th>\n",
       "      <td>1996-01-08</td>\n",
       "      <td>-0.85582</td>\n",
       "      <td>2</td>\n",
       "      <td>-0.221444</td>\n",
       "    </tr>\n",
       "    <tr>\n",
       "      <th>3</th>\n",
       "      <td>1996-01-09</td>\n",
       "      <td>-1.05163</td>\n",
       "      <td>3</td>\n",
       "      <td>-0.531307</td>\n",
       "    </tr>\n",
       "    <tr>\n",
       "      <th>4</th>\n",
       "      <td>1996-01-10</td>\n",
       "      <td>-1.03497</td>\n",
       "      <td>4</td>\n",
       "      <td>-0.550159</td>\n",
       "    </tr>\n",
       "    <tr>\n",
       "      <th>...</th>\n",
       "      <td>...</td>\n",
       "      <td>...</td>\n",
       "      <td>...</td>\n",
       "      <td>...</td>\n",
       "    </tr>\n",
       "    <tr>\n",
       "      <th>5907</th>\n",
       "      <td>2019-06-24</td>\n",
       "      <td>-0.32745</td>\n",
       "      <td>5907</td>\n",
       "      <td>-0.427290</td>\n",
       "    </tr>\n",
       "    <tr>\n",
       "      <th>5908</th>\n",
       "      <td>2019-06-25</td>\n",
       "      <td>-0.36115</td>\n",
       "      <td>5908</td>\n",
       "      <td>-0.439097</td>\n",
       "    </tr>\n",
       "    <tr>\n",
       "      <th>5909</th>\n",
       "      <td>2019-06-26</td>\n",
       "      <td>-0.35134</td>\n",
       "      <td>5909</td>\n",
       "      <td>-0.455018</td>\n",
       "    </tr>\n",
       "    <tr>\n",
       "      <th>5910</th>\n",
       "      <td>2019-06-27</td>\n",
       "      <td>-0.39096</td>\n",
       "      <td>5910</td>\n",
       "      <td>-0.431591</td>\n",
       "    </tr>\n",
       "    <tr>\n",
       "      <th>5911</th>\n",
       "      <td>2019-06-28</td>\n",
       "      <td>-0.24251</td>\n",
       "      <td>5911</td>\n",
       "      <td>-0.430420</td>\n",
       "    </tr>\n",
       "  </tbody>\n",
       "</table>\n",
       "<p>5912 rows × 4 columns</p>\n",
       "</div>"
      ],
      "text/plain": [
       "           Date  SLOPE_x  Unnamed: 0   SLOPE_y\n",
       "0    1996-01-04 -0.88016           0 -0.287412\n",
       "1    1996-01-05 -0.83101           1 -0.211625\n",
       "2    1996-01-08 -0.85582           2 -0.221444\n",
       "3    1996-01-09 -1.05163           3 -0.531307\n",
       "4    1996-01-10 -1.03497           4 -0.550159\n",
       "...         ...      ...         ...       ...\n",
       "5907 2019-06-24 -0.32745        5907 -0.427290\n",
       "5908 2019-06-25 -0.36115        5908 -0.439097\n",
       "5909 2019-06-26 -0.35134        5909 -0.455018\n",
       "5910 2019-06-27 -0.39096        5910 -0.431591\n",
       "5911 2019-06-28 -0.24251        5911 -0.430420\n",
       "\n",
       "[5912 rows x 4 columns]"
      ]
     },
     "execution_count": 51,
     "metadata": {},
     "output_type": "execute_result"
    }
   ],
   "source": [
    "SLOPE_df"
   ]
  },
  {
   "cell_type": "code",
   "execution_count": 54,
   "metadata": {},
   "outputs": [
    {
     "data": {
      "image/png": "[encoded data removed]",
      "text/plain": [
       "<Figure size 1080x576 with 1 Axes>"
      ]
     },
     "metadata": {
      "needs_background": "light"
     },
     "output_type": "display_data"
    }
   ],
   "source": [
    "plt.figure(figsize=(15,8))\n",
    "plt.rcParams.update({'font.size': 16})\n",
    "\n",
    "plt.plot(SLOPE_df.Date,SLOPE_df.SLOPE_x,label = 'His')\n",
    "plt.plot(SLOPE_df.Date,SLOPE_df.SLOPE_y,label = 'Ours')\n",
    "\n",
    "plt.legend()\n",
    "plt.ylabel('')\n",
    "plt.xlabel('Date')\n",
    "plt.title('SLOPE')\n",
    "plt.grid()\n",
    "plt.show()"
   ]
  },
  {
   "cell_type": "code",
   "execution_count": null,
   "metadata": {},
   "outputs": [],
   "source": []
  }
 ],
 "metadata": {
  "kernelspec": {
   "display_name": "Python 3",
   "language": "python",
   "name": "python3"
  },
  "language_info": {
   "codemirror_mode": {
    "name": "ipython",
    "version": 3
   },
   "file_extension": ".py",
   "mimetype": "text/x-python",
   "name": "python",
   "nbconvert_exporter": "python",
   "pygments_lexer": "ipython3",
   "version": "3.7.6"
  }
 },
 "nbformat": 4,
 "nbformat_minor": 4
}
