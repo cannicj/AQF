{
 "cells": [
  {
   "cell_type": "markdown",
   "metadata": {},
   "source": [
    "## Get VIX Future Data"
   ]
  },
  {
   "cell_type": "code",
   "execution_count": 2,
   "metadata": {},
   "outputs": [],
   "source": [
    "import requests\n",
    "import pandas as pd\n",
    "import io\n",
    "import re\n",
    "import numpy as np"
   ]
  },
  {
   "cell_type": "markdown",
   "metadata": {},
   "source": [
    "Get data prior to 2013 first, this is archived data on CBOE.com"
   ]
  },
  {
   "cell_type": "code",
   "execution_count": 3,
   "metadata": {},
   "outputs": [],
   "source": [
    "url = 'https://www.cboe.com/us/futures/market_statistics/historical_data/archive/'\n",
    "x = requests.get(url).text\n",
    "\n",
    "#Paths for the csv files on the website\n",
    "PATHS = [x[-14:] for x in re.findall('\\'path\\\\\\':\\s\\\\\\'CFE.{5}VX.csv',x)] \n",
    "NAMES = ['DATE','CONTRACT','OPEN','HIGH','LOW','CLOSE','SETTLE','CHANGE','VOLUME','EFP','OPEN_INT'] #column names"
   ]
  },
  {
   "cell_type": "code",
   "execution_count": 6,
   "metadata": {},
   "outputs": [],
   "source": [
    "url = 'https://cdn.cboe.com/resources/futures/archive/volume-and-price/'\n",
    "\n",
    "N = len(PATHS) #number of csv files to read in\n",
    "VIX_FUT = pd.DataFrame(columns = ['DATE','EXPIRY_DATE','CLOSE','SETTLE','VOLUME','DAYS'])\n",
    "\n",
    "for i in range(0,N):\n",
    "    file = PATHS[i]\n",
    "    response = requests.get(url+file)\n",
    "    content = response.text.splitlines()\n",
    "\n",
    "    df = pd.read_csv(io.StringIO('\\n'.join(content[1:])),names=NAMES,header=None)\n",
    "    if df.iloc[0,0] == 'Trade Date':\n",
    "        df = df.drop(0)\n",
    "\n",
    "    df['DATE'] = pd.to_datetime(df['DATE'])\n",
    "    df['EXPIRY_DATE'] = df.iloc[-1,0]\n",
    "\n",
    "    df['DAYS'] = df['EXPIRY_DATE'] - df['DATE']\n",
    "\n",
    "    df[['SETTLE', 'VOLUME']] = df[['SETTLE', 'VOLUME']].apply(pd.to_numeric)\n",
    "    df_use = df.loc[(df['SETTLE']>0) & (df['VOLUME']>0),['DATE','EXPIRY_DATE','CLOSE','SETTLE','VOLUME','DAYS']]\n",
    "\n",
    "    VIX_FUT = pd.concat([VIX_FUT,df_use])\n",
    "\n",
    "VIX_FUT['DAYS'] = VIX_FUT.DAYS.dt.days\n",
    "VIX_FUT.to_csv('DATA/VIX_FUT_prior2013.csv')"
   ]
  },
  {
   "cell_type": "markdown",
   "metadata": {},
   "source": [
    "Get data post 2013"
   ]
  },
  {
   "cell_type": "code",
   "execution_count": 7,
   "metadata": {},
   "outputs": [],
   "source": [
    "url = 'https://www.cboe.com/us/futures/market_statistics/historical_data/'\n",
    "x = requests.get(url).text\n",
    "\n",
    "#All the csv path names\n",
    "PATHS = [x[-18:] for x in re.findall('\"path\":.{68}csv',x)]\n",
    "#Corresponding expiry dates of of the futures\n",
    "EXP_DATES = [x[-11:-1] for x in re.findall('\"expire_date\":\"[0-9]{4}-[0-9]{2}-[0-9]{2}\"',x)]"
   ]
  },
  {
   "cell_type": "code",
   "execution_count": 8,
   "metadata": {},
   "outputs": [],
   "source": [
    "N = len(PATHS) #number of csv files to read in\n",
    "VIX_FUT = pd.DataFrame(columns = ['DATE','EXPIRY_DATE','CLOSE','SETTLE','VOLUME','DAYS'])\n",
    "\n",
    "\n",
    "for i in range(0,N):\n",
    "    file = PATHS[i]\n",
    "    url = 'https://cdn.cboe.com/data/us/futures/market_statistics/historical_data/VX' + file\n",
    "    response = requests.get(url)\n",
    "    content = response.text.splitlines()\n",
    "\n",
    "    df = pd.read_csv(io.StringIO('\\n'.join(content[1:])),header=None,names=NAMES)\n",
    "    df['EXPIRY_DATE'] = EXP_DATES[i]\n",
    "\n",
    "    df['DATE'] = pd.to_datetime(df['DATE'])\n",
    "    df['EXPIRY_DATE'] = pd.to_datetime(df['EXPIRY_DATE'])\n",
    "\n",
    "    df['DAYS'] = df['EXPIRY_DATE'] - df['DATE']\n",
    "\n",
    "    df[['SETTLE', 'VOLUME']] = df[['SETTLE', 'VOLUME']].apply(pd.to_numeric)\n",
    "    df_use = df.loc[(df['SETTLE']>0) & (df['VOLUME']>0),['DATE','EXPIRY_DATE','CLOSE','SETTLE','VOLUME','DAYS']]\n",
    "\n",
    "    VIX_FUT = pd.concat([VIX_FUT,df_use])\n",
    "\n",
    "VIX_FUT['DAYS'] = VIX_FUT.DAYS.dt.days\n",
    "VIX_FUT.to_csv('DATA/VIX_FUT_post2013.csv')"
   ]
  },
  {
   "cell_type": "markdown",
   "metadata": {},
   "source": [
    "Combine both datasets and remove any duplicates that may have resulted from some crossover."
   ]
  },
  {
   "cell_type": "code",
   "execution_count": 9,
   "metadata": {},
   "outputs": [],
   "source": [
    "df1 = pd.read_csv('DATA/VIX_FUT_prior2013.csv',usecols = ['DATE','EXPIRY_DATE','CLOSE','SETTLE','DAYS'])\n",
    "df1['DATE'] = pd.to_datetime(df1['DATE'])\n",
    "\n",
    "df2 = pd.read_csv('DATA/VIX_FUT_post2013.csv',usecols = ['DATE','EXPIRY_DATE','CLOSE','SETTLE','DAYS'])\n",
    "df2['DATE'] = pd.to_datetime(df2['DATE'])\n",
    "\n",
    "DF = pd.concat([df1,df2])\n",
    "DF = DF.drop_duplicates()"
   ]
  },
  {
   "cell_type": "code",
   "execution_count": 10,
   "metadata": {},
   "outputs": [],
   "source": [
    "DF.to_csv('DATA/VIX_FUT.csv')"
   ]
  }
 ],
 "metadata": {
  "kernelspec": {
   "display_name": "Python 3",
   "language": "python",
   "name": "python3"
  },
  "language_info": {
   "codemirror_mode": {
    "name": "ipython",
    "version": 3
   },
   "file_extension": ".py",
   "mimetype": "text/x-python",
   "name": "python",
   "nbconvert_exporter": "python",
   "pygments_lexer": "ipython3",
   "version": "3.7.6"
  }
 },
 "nbformat": 4,
 "nbformat_minor": 4
}
