{
 "cells": [
  {
   "cell_type": "code",
   "execution_count": 1,
   "id": "d1ae4e69-f5f9-49bb-ae27-412389297baa",
   "metadata": {},
   "outputs": [
    {
     "name": "stdout",
     "output_type": "stream",
     "text": [
      "Loading library list...\n",
      "Done\n"
     ]
    }
   ],
   "source": [
    "import wrds\n",
    "import pandas as pd\n",
    "import numpy as np\n",
    "import datetime\n",
    "import matplotlib.pyplot as plt\n",
    "\n",
    "wrds_user = 'eiger'\n",
    "wrds_password = 'Nordwand2011'\n",
    "\n",
    "conn = wrds.Connection(wrds_username=wrds_user, wrds_password=wrds_password)"
   ]
  },
  {
   "cell_type": "code",
   "execution_count": 2,
   "id": "95b562f8-5efd-4bf3-acad-86abd5417534",
   "metadata": {},
   "outputs": [],
   "source": [
    "option_df = conn.raw_sql(\"\"\"select date, exdate, cp_flag, strike_price, best_bid, best_offer from optionm.opprcd1996 where secid in (108105) and abs(delta) < 0.5\"\"\",date_cols=['date'])\n",
    "\n",
    "for year in range(1997,2001): #smaller data set to work with at start\n",
    "    df_new =conn.raw_sql(\"\"\"select date, exdate, cp_flag, strike_price, best_bid, best_offer from optionm.opprcd\"\"\"+str(year)+\"\"\" where secid in (108105) and abs(delta) < 0.5\"\"\",date_cols=['date'])\n",
    "    option_df = pd.concat([option_df,df_new])"
   ]
  },
  {
   "cell_type": "code",
   "execution_count": 3,
   "id": "4620dead-4afd-44bb-bf73-b8659a467639",
   "metadata": {},
   "outputs": [],
   "source": [
    "option_df['date'] = pd.to_datetime(option_df['date'])\n",
    "option_df['exdate'] = pd.to_datetime(option_df['exdate'])\n",
    "\n",
    "option_df['days'] = (option_df['exdate'] - option_df['date']).dt.days\n",
    "\n",
    "option_df['Q'] = 0.5*(option_df['best_bid'] + option_df['best_offer'])\n",
    "option_df['strike_price'] = option_df['strike_price']/1000\n",
    "\n",
    "option_df = option_df.drop(labels = ['best_offer','best_bid'],axis=1)\n"
   ]
  },
  {
   "cell_type": "markdown",
   "id": "a3db9e34-5ca8-484a-ae9b-f2860a124966",
   "metadata": {},
   "source": [
    "Get forward prices:"
   ]
  },
  {
   "cell_type": "code",
   "execution_count": 4,
   "id": "46e4ba30-872a-4507-ae91-b79caa60a245",
   "metadata": {},
   "outputs": [],
   "source": [
    "forward_df = conn.raw_sql(\"\"\"select date, expiration as exdate, forwardprice as F from optionm.fwdprd1996 where secid in (108105)\"\"\",date_cols=['date'])\n",
    "for year in range(1997,2001): #smaller data set to work with at start\n",
    "    df_new = conn.raw_sql(\"\"\"select date, expiration as exdate, forwardprice as F from optionm.fwdprd\"\"\"+str(year)+\"\"\" where secid in (108105)\"\"\",date_cols=['date'])\n",
    "    forward_df = pd.concat([forward_df,df_new])\n",
    "    \n",
    "forward_df['date'] = pd.to_datetime(forward_df['date'])\n",
    "forward_df['exdate'] = pd.to_datetime(forward_df['exdate'])"
   ]
  },
  {
   "cell_type": "code",
   "execution_count": 5,
   "id": "2ceeac0f-ed61-452b-a4ec-6eccc11f451e",
   "metadata": {},
   "outputs": [],
   "source": [
    "option_df = pd.merge(option_df,forward_df,how='left',on=['date','exdate'])"
   ]
  },
  {
   "cell_type": "code",
   "execution_count": 6,
   "id": "4f0895e8-dbfe-42fe-87d7-eb43020ebed4",
   "metadata": {},
   "outputs": [],
   "source": [
    "def GET_NEAR_NEXT(days,term):\n",
    "    #NEAR\n",
    "    near_cut = days[days<=term]\n",
    "    if len(near_cut) == 0:\n",
    "        near_cut = days\n",
    "    near_idx = abs(near_cut - term).idxmin()\n",
    "    near_days = days[near_idx]\n",
    "    \n",
    "    next_cut = days[days > near_days]\n",
    "    next_idx = abs(next_cut - term).idxmin()\n",
    "    next_days = days[next_idx]\n",
    "    \n",
    "    return near_days, next_days"
   ]
  },
  {
   "cell_type": "code",
   "execution_count": 7,
   "id": "ba9bd43b-adbd-43f0-8c7d-4244d4bdf5a1",
   "metadata": {},
   "outputs": [],
   "source": [
    "DATES = option_df.date.unique()\n",
    "term = 30\n",
    "\n",
    "VX_swap = pd.DataFrame({'date':DATES,'near':None,'next':None,'RET':None})\n",
    "\n",
    "for date in DATES:\n",
    "    temp_df = option_df[option_df.date == date]\n",
    "    \n",
    "    near_days, next_days = GET_NEAR_NEXT(temp_df.days,term)\n",
    "    VX_swap.loc[VX_swap.date == date, 'near'] = near_days\n",
    "    VX_swap.loc[VX_swap.date == date, 'next'] = next_days"
   ]
  },
  {
   "cell_type": "code",
   "execution_count": 8,
   "id": "1022de11-b667-4d3c-86a1-6a8bf62b69ff",
   "metadata": {},
   "outputs": [],
   "source": [
    "def GET_PORT_VAL(date_today,term,df):\n",
    "    temp_df = df[(df.date == date_today) & (df.days == term)].sort_values(by='strike_price')\n",
    "    \n",
    "    if len(temp_df) == 0:\n",
    "        P = 0\n",
    "    else:\n",
    "        temp_df['delta_k1'] = abs(temp_df.strike_price - temp_df.strike_price.shift(1,fill_value = np.inf))\n",
    "        temp_df['delta_k2'] = abs(temp_df.strike_price - temp_df.strike_price.shift(-1,fill_value = np.inf))\n",
    "        temp_df['port_val'] = temp_df.apply(lambda x: min(x[7],x[8])/(x[3]**2)*x[5],axis=1)\n",
    "        P = temp_df.port_val.sum()\n",
    "    \n",
    "    return P"
   ]
  },
  {
   "cell_type": "code",
   "execution_count": null,
   "id": "f67bbdd2-6881-46bb-bd9a-b185f8e906aa",
   "metadata": {},
   "outputs": [],
   "source": [
    "N = len(DATES)\n",
    "\n",
    "for idx in range(1,N):\n",
    "    date_now = DATES[idx]\n",
    "    date_prev = DATES[idx-1]\n",
    "    days_diff = (date_now - date_prev).days\n",
    "    \n",
    "    [near_term,next_term] = VX_swap.iloc[idx-1,1:3].values\n",
    "    \n",
    "    P_next_prev = GET_PORT_VAL(date_prev,next_term,option_df)\n",
    "    P_near_prev = GET_PORT_VAL(date_prev,near_term,option_df)\n",
    "    \n",
    "    P_next_now = GET_PORT_VAL(date_now,next_term-days_diff,option_df)\n",
    "    P_near_now = GET_PORT_VAL(date_now,near_term-days_diff,option_df)\n",
    "    \n",
    "    if (P_next_now == 0 or P_near_now == 0):\n",
    "        next\n",
    "    else:\n",
    "        w1 = (term - near_term)/(next_term - near_term)\n",
    "        w2 = 1 - w1\n",
    "        \n",
    "        VX_swap.iloc[idx,3] = (w1 * P_next_now + w2 * P_near_now)/(w1 * P_next_prev + w2 * P_near_prev) - 1\n",
    "        \n",
    "VX_swap = VX_swap.dropna()"
   ]
  },
  {
   "cell_type": "markdown",
   "id": "bd74551f-2a8b-4e97-9659-50335932c617",
   "metadata": {},
   "source": [
    "Read in authors data:"
   ]
  },
  {
   "cell_type": "code",
   "execution_count": null,
   "id": "4b723302-d95f-4408-bc3e-301d651eeea0",
   "metadata": {},
   "outputs": [],
   "source": [
    "VAR_SWAPS = pd.read_csv('VAR_SWAP_RET.csv',skiprows=5)\n",
    "\n",
    "VAR_SWAPS = VAR_SWAPS.rename({'Date':'DATE','r_1^{var. swap}':'1 month','r_2^{var. swap}':'2 month','r_3^{var. swap}':'3 month',\n",
    "                         'r_6^{var. swap}':'6 month','r_9^{var. swap}':'9 month','r_12^{var. swap}':'12 month'},axis=1)\n",
    "def DATE_STR(num):\n",
    "    num_str = str(num)\n",
    "    date_str = num_str[-2:]+'/'+num_str[4:-2]+'/'+num_str[0:4]\n",
    "    \n",
    "    return date_str \n",
    "\n",
    "VAR_SWAPS['DATE'] = VAR_SWAPS['DATE'].apply(DATE_STR)\n",
    "VAR_SWAPS['DATE'] = pd.to_datetime(VAR_SWAPS['DATE'],format = '%d/%m/%Y')"
   ]
  },
  {
   "cell_type": "code",
   "execution_count": 169,
   "id": "d4b733a2-1378-47dd-9364-8872546419af",
   "metadata": {},
   "outputs": [
    {
     "data": {
      "text/plain": [
       "[<matplotlib.lines.Line2D at 0x2b3a70831ed0>]"
      ]
     },
     "execution_count": 169,
     "metadata": {},
     "output_type": "execute_result"
    },
    {
     "data": {
      "image/png": "[encoded data removed]",
      "text/plain": [
       "<Figure size 640x480 with 1 Axes>"
      ]
     },
     "metadata": {},
     "output_type": "display_data"
    }
   ],
   "source": [
    "df1 = VAR_SWAPS[['DATE','1 month']]\n",
    "df2 = VX_swap[['date','RET']].dropna()\n",
    "df_check = pd.merge(df2,df1,left_on='date',right_on='DATE',how='left')\n",
    "plt.plot(df_check['RET'],df_check['1 month'],'.r')"
   ]
  },
  {
   "cell_type": "code",
   "execution_count": 183,
   "id": "842d86bf-ad83-4b99-ad65-3b50155e2c68",
   "metadata": {},
   "outputs": [
    {
     "data": {
      "text/html": [
       "<div>\n",
       "<style scoped>\n",
       "    .dataframe tbody tr th:only-of-type {\n",
       "        vertical-align: middle;\n",
       "    }\n",
       "\n",
       "    .dataframe tbody tr th {\n",
       "        vertical-align: top;\n",
       "    }\n",
       "\n",
       "    .dataframe thead th {\n",
       "        text-align: right;\n",
       "    }\n",
       "</style>\n",
       "<table border=\"1\" class=\"dataframe\">\n",
       "  <thead>\n",
       "    <tr style=\"text-align: right;\">\n",
       "      <th></th>\n",
       "      <th>date</th>\n",
       "      <th>RET</th>\n",
       "      <th>DATE</th>\n",
       "      <th>1 month</th>\n",
       "    </tr>\n",
       "  </thead>\n",
       "  <tbody>\n",
       "    <tr>\n",
       "      <th>date</th>\n",
       "      <td>1.000000</td>\n",
       "      <td>-0.008044</td>\n",
       "      <td>1.000000</td>\n",
       "      <td>-0.009190</td>\n",
       "    </tr>\n",
       "    <tr>\n",
       "      <th>RET</th>\n",
       "      <td>-0.008044</td>\n",
       "      <td>1.000000</td>\n",
       "      <td>-0.008044</td>\n",
       "      <td>0.643916</td>\n",
       "    </tr>\n",
       "    <tr>\n",
       "      <th>DATE</th>\n",
       "      <td>1.000000</td>\n",
       "      <td>-0.008044</td>\n",
       "      <td>1.000000</td>\n",
       "      <td>-0.009190</td>\n",
       "    </tr>\n",
       "    <tr>\n",
       "      <th>1 month</th>\n",
       "      <td>-0.009190</td>\n",
       "      <td>0.643916</td>\n",
       "      <td>-0.009190</td>\n",
       "      <td>1.000000</td>\n",
       "    </tr>\n",
       "  </tbody>\n",
       "</table>\n",
       "</div>"
      ],
      "text/plain": [
       "             date       RET      DATE   1 month\n",
       "date     1.000000 -0.008044  1.000000 -0.009190\n",
       "RET     -0.008044  1.000000 -0.008044  0.643916\n",
       "DATE     1.000000 -0.008044  1.000000 -0.009190\n",
       "1 month -0.009190  0.643916 -0.009190  1.000000"
      ]
     },
     "execution_count": 183,
     "metadata": {},
     "output_type": "execute_result"
    }
   ],
   "source": [
    "df_check.corr()"
   ]
  },
  {
   "cell_type": "markdown",
   "id": "ff3a1600-494e-4302-9788-7431e250ea94",
   "metadata": {},
   "source": [
    "Other method, getting just a portfolio value each day."
   ]
  },
  {
   "cell_type": "code",
   "execution_count": 178,
   "id": "7ebd7f58-e05c-4ccb-8f16-c65a2ac555dd",
   "metadata": {},
   "outputs": [],
   "source": [
    "DATES = option_df.date.unique()\n",
    "term = 30\n",
    "\n",
    "VX_swap = pd.DataFrame({'date':DATES,'near':None,'next':None,'PORT_VAL':None,'RET':None})\n",
    "\n",
    "for date in DATES:\n",
    "    temp_df = option_df[option_df.date == date]\n",
    "    \n",
    "    near_days, next_days = GET_NEAR_NEXT(temp_df.days,term)\n",
    "    VX_swap.loc[VX_swap.date == date, 'near'] = near_days\n",
    "    VX_swap.loc[VX_swap.date == date, 'next'] = next_days\n",
    "\n",
    "    \n",
    "    \n",
    "for idx in range(0,N):\n",
    "    date = DATES[idx]\n",
    "    \n",
    "    [near_term,next_term] = VX_swap.iloc[idx,1:3].values\n",
    "    \n",
    "    P_next = GET_PORT_VAL(date,next_term,option_df)\n",
    "    P_near = GET_PORT_VAL(date,near_term,option_df)\n",
    "    \n",
    "    w1 = (term - near_term)/(next_term - near_term)\n",
    "    w2 = 1 - w1\n",
    "        \n",
    "    VX_swap.iloc[idx,3] = (w1 * P_next + w2 * P_near)\n",
    "    \n"
   ]
  },
  {
   "cell_type": "code",
   "execution_count": 180,
   "id": "e79a3420-28e3-4f36-b2fa-83af7b46e2e0",
   "metadata": {},
   "outputs": [],
   "source": [
    "VX_swap['RET'] = (VX_swap['PORT_VAL'] / VX_swap['PORT_VAL'].shift(1) - 1)*100"
   ]
  },
  {
   "cell_type": "code",
   "execution_count": 182,
   "id": "67246787-8e1e-45a6-9036-94fc5b048bdd",
   "metadata": {},
   "outputs": [
    {
     "data": {
      "text/plain": [
       "[<matplotlib.lines.Line2D at 0x2b3a708251d0>]"
      ]
     },
     "execution_count": 182,
     "metadata": {},
     "output_type": "execute_result"
    },
    {
     "data": {
      "image/png": "[encoded data removed]",
      "text/plain": [
       "<Figure size 640x480 with 1 Axes>"
      ]
     },
     "metadata": {},
     "output_type": "display_data"
    }
   ],
   "source": [
    "df1 = VAR_SWAPS[['DATE','1 month']]\n",
    "df2 = VX_swap[['date','RET']].dropna()\n",
    "df_check = pd.merge(df2,df1,left_on='date',right_on='DATE',how='left')\n",
    "plt.plot(df_check['RET'],df_check['1 month'],'.r')"
   ]
  }
 ],
 "metadata": {
  "kernelspec": {
   "display_name": "Python 3 (ipykernel)",
   "language": "python",
   "name": "python3"
  },
  "language_info": {
   "codemirror_mode": {
    "name": "ipython",
    "version": 3
   },
   "file_extension": ".py",
   "mimetype": "text/x-python",
   "name": "python",
   "nbconvert_exporter": "python",
   "pygments_lexer": "ipython3",
   "version": "3.11.4"
  }
 },
 "nbformat": 4,
 "nbformat_minor": 5
}
